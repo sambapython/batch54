{
 "cells": [
  {
   "cell_type": "code",
   "execution_count": 1,
   "metadata": {},
   "outputs": [],
   "source": [
    "import os"
   ]
  },
  {
   "cell_type": "code",
   "execution_count": 2,
   "metadata": {},
   "outputs": [
    {
     "data": {
      "text/plain": [
       "0"
      ]
     },
     "execution_count": 2,
     "metadata": {},
     "output_type": "execute_result"
    }
   ],
   "source": [
    "os.system(\"mkdir folder1\")"
   ]
  },
  {
   "cell_type": "code",
   "execution_count": 3,
   "metadata": {},
   "outputs": [
    {
     "data": {
      "text/plain": [
       "256"
      ]
     },
     "execution_count": 3,
     "metadata": {},
     "output_type": "execute_result"
    }
   ],
   "source": [
    "os.system(\"mkdir folder1\")"
   ]
  },
  {
   "cell_type": "code",
   "execution_count": 4,
   "metadata": {},
   "outputs": [
    {
     "data": {
      "text/plain": [
       "0"
      ]
     },
     "execution_count": 4,
     "metadata": {},
     "output_type": "execute_result"
    }
   ],
   "source": [
    "os.system(\"rm -r folder1\")"
   ]
  },
  {
   "cell_type": "code",
   "execution_count": 5,
   "metadata": {},
   "outputs": [],
   "source": [
    "os.mkdir(\"f1\")"
   ]
  },
  {
   "cell_type": "code",
   "execution_count": 6,
   "metadata": {},
   "outputs": [],
   "source": [
    "os.rmdir(\"f1\")"
   ]
  },
  {
   "cell_type": "code",
   "execution_count": 7,
   "metadata": {},
   "outputs": [],
   "source": [
    "f=open(\"application/config.json\")\n",
    "data=f.read()"
   ]
  },
  {
   "cell_type": "code",
   "execution_count": 8,
   "metadata": {},
   "outputs": [
    {
     "name": "stdout",
     "output_type": "stream",
     "text": [
      "{\n",
      "\t\"database\":{\"host\":\"localhost\",\n",
      "\t\t\t\t\"user\":\"postgres\",\n",
      "\t\t\t\t\"password\":\"root\",\n",
      "\t\t\t\t\"database\":\"app2\",\n",
      "\t\t\t\t\"port\":5432}\n",
      "}\n"
     ]
    }
   ],
   "source": [
    "print(data)"
   ]
  },
  {
   "cell_type": "code",
   "execution_count": 10,
   "metadata": {},
   "outputs": [],
   "source": [
    "f=open(os.path.join(\"application\",\"config.json\"))\n",
    "data=f.read()"
   ]
  },
  {
   "cell_type": "code",
   "execution_count": 11,
   "metadata": {},
   "outputs": [
    {
     "data": {
      "text/plain": [
       "'application/config.json'"
      ]
     },
     "execution_count": 11,
     "metadata": {},
     "output_type": "execute_result"
    }
   ],
   "source": [
    "os.path.join(\"application\",\"config.json\")"
   ]
  },
  {
   "cell_type": "code",
   "execution_count": 12,
   "metadata": {},
   "outputs": [
    {
     "data": {
      "text/plain": [
       "True"
      ]
     },
     "execution_count": 12,
     "metadata": {},
     "output_type": "execute_result"
    }
   ],
   "source": [
    "os.path.isfile(\"a.py\")"
   ]
  },
  {
   "cell_type": "code",
   "execution_count": 13,
   "metadata": {},
   "outputs": [
    {
     "data": {
      "text/plain": [
       "False"
      ]
     },
     "execution_count": 13,
     "metadata": {},
     "output_type": "execute_result"
    }
   ],
   "source": [
    "os.path.isfile(\"a123.py\")"
   ]
  },
  {
   "cell_type": "code",
   "execution_count": 14,
   "metadata": {},
   "outputs": [
    {
     "data": {
      "text/plain": [
       "False"
      ]
     },
     "execution_count": 14,
     "metadata": {},
     "output_type": "execute_result"
    }
   ],
   "source": [
    "os.path.isfile(\"application\")"
   ]
  },
  {
   "cell_type": "code",
   "execution_count": 15,
   "metadata": {},
   "outputs": [
    {
     "data": {
      "text/plain": [
       "True"
      ]
     },
     "execution_count": 15,
     "metadata": {},
     "output_type": "execute_result"
    }
   ],
   "source": [
    "os.path.isdir(\"application\")"
   ]
  },
  {
   "cell_type": "code",
   "execution_count": 16,
   "metadata": {},
   "outputs": [
    {
     "name": "stdout",
     "output_type": "stream",
     "text": [
      "('application', ['__pycache__'], ['operations.py', 'main.py', 'requirements.txt', 'db.py', 'READ ME.MD', 'config.json', 'setup.py'])\n",
      "('application/__pycache__', [], ['db.cpython-37.pyc', 'operations.cpython-37.pyc'])\n"
     ]
    }
   ],
   "source": [
    "for i in os.walk(\"application\"):\n",
    "    print(i)"
   ]
  },
  {
   "cell_type": "code",
   "execution_count": 17,
   "metadata": {},
   "outputs": [
    {
     "data": {
      "text/plain": [
       "0"
      ]
     },
     "execution_count": 17,
     "metadata": {},
     "output_type": "execute_result"
    }
   ],
   "source": [
    "os.system(\"ls -l\")"
   ]
  },
  {
   "cell_type": "code",
   "execution_count": 19,
   "metadata": {},
   "outputs": [],
   "source": [
    "from subprocess import check_output\n",
    "data = check_output([\"ls\",\"-l\"])"
   ]
  },
  {
   "cell_type": "code",
   "execution_count": 20,
   "metadata": {},
   "outputs": [
    {
     "name": "stdout",
     "output_type": "stream",
     "text": [
      "b'total 10224\\ndrwxr-xr-x 3 khyaathipython khyaathipython    4096 Feb 17 08:48 application\\n-rw-r--r-- 1 khyaathipython khyaathipython     100 Jan 31 07:38 a.py\\n-rw-r--r-- 1 khyaathipython khyaathipython   27185 Feb 23 09:44 Assignments.odt\\n-rw-r--r-- 1 khyaathipython khyaathipython   41979 Jan 31 08:50 conditional statements.ipynb\\n-rw-r--r-- 1 khyaathipython khyaathipython     164 Feb 13 07:41 data1.csv\\n-rw-r--r-- 1 khyaathipython khyaathipython     140 Feb 13 07:47 data2.csv\\n-rw-r--r-- 1 khyaathipython khyaathipython   23371 Feb 17 07:40 database operations.ipynb\\n-rw-r--r-- 1 khyaathipython khyaathipython   19564 Feb 13 09:47 data.csv\\n-rw-r--r-- 1 khyaathipython khyaathipython     204 Feb 13 09:36 data.json\\n-rw-r--r-- 1 khyaathipython khyaathipython   99435 Jan 31 07:23 datatypes.ipynb\\n-rw-r--r-- 1 khyaathipython khyaathipython     165 Feb 13 07:58 data.yaml\\n-rw-r--r-- 1 khyaathipython khyaathipython   24576 Feb 16 08:00 db1.sqlite3\\n-rw-r--r-- 1 khyaathipython khyaathipython    4896 Feb 26 07:33 device interactions.ipynb\\n-rw-r--r-- 1 khyaathipython khyaathipython   36839 Feb  7 09:24 dictionaries.ipynb\\n-rw-r--r-- 1 khyaathipython khyaathipython   57406 Feb 19 07:28 exceptions.ipynb\\n-rw-rw-r-- 1 khyaathipython khyaathipython     201 Feb 19 07:21 except.py\\n-rw-r--r-- 1 khyaathipython khyaathipython   65752 Jan 31 07:23 exection process.jpg\\n-rw-r--r-- 1 khyaathipython khyaathipython     148 Jan 31 07:23 features\\n-rw-r--r-- 1 khyaathipython khyaathipython  495480 Feb 14 08:02 files.ipynb\\n-rw-r--r-- 1 khyaathipython khyaathipython   50304 Feb  2 09:17 functions.ipynb\\n-rw-rw-r-- 1 khyaathipython khyaathipython   20300 Feb  2 09:17 fun_mem1.jpg\\n-rw-rw-r-- 1 khyaathipython khyaathipython   74043 Feb  2 08:34 fun_mem.jpg\\n-rw-r--r-- 1 khyaathipython khyaathipython     116 Jan 31 07:23 inte.py\\n-rw-r--r-- 1 khyaathipython khyaathipython   34053 Jan 31 07:23 int_mem1.jpg\\n-rw-r--r-- 1 khyaathipython khyaathipython   23482 Feb 13 08:06 int_meme1.jpg\\n-rw-r--r-- 1 khyaathipython khyaathipython   23482 Jan 31 07:23 int_mem.jpg\\n-rw-r--r-- 1 khyaathipython khyaathipython    8743 Feb  6 09:58 issues.ipynb\\n-rw-rw-r-- 1 khyaathipython khyaathipython   33560 Feb  6 08:05 list_mem.jpg\\n-rw-r--r-- 1 khyaathipython khyaathipython   49188 Feb  6 07:49 lists.ipynb\\n-rw-r--r-- 1 khyaathipython khyaathipython   31962 Feb  1 09:02 looping statements.ipynb\\n-rw-r--r-- 1 khyaathipython khyaathipython     110 Jan 31 07:23 map_fun.py\\ndrwxr-xr-x 4 khyaathipython khyaathipython    4096 Feb 12 07:45 modules\\n-rw-r--r-- 1 khyaathipython khyaathipython   25261 Jan 31 07:23 modules count.jpg\\n-rw-rw-r-- 1 khyaathipython khyaathipython   28554 Feb 22 08:18 oops2.jpg\\n-rw-r--r-- 1 khyaathipython khyaathipython  106915 Feb 26 07:25 oops.ipynb\\n-rw-rw-r-- 1 khyaathipython khyaathipython   34209 Feb 21 09:00 oops.jpg\\n-rw-rw-r-- 1 khyaathipython khyaathipython     174 Feb 20 07:52 oops.py\\n-rw-r--r-- 1 khyaathipython khyaathipython 8716904 Feb 13 08:09 Practical Python and OpenCV.pdf\\ndrwxr-xr-x 2 khyaathipython khyaathipython    4096 Jan 31 07:23 __pycache__\\n-rw-r--r-- 1 khyaathipython khyaathipython   31590 Feb 19 08:06 regular expressions.ipynb\\n-rw-r--r-- 1 khyaathipython khyaathipython      91 Feb 18 07:57 res.csv\\n-rw-r--r-- 1 khyaathipython khyaathipython      71 Jan 31 07:23 sample.py\\n-rw-r--r-- 1 khyaathipython khyaathipython   10789 Feb  6 08:03 sets.ipynb\\n-rw-r--r-- 1 khyaathipython khyaathipython   39007 Jan 31 07:23 string_mem.jpg\\n-rw-r--r-- 1 khyaathipython khyaathipython   99928 Feb  5 08:42 strings.ipynb\\n-rw-r--r-- 1 khyaathipython khyaathipython     874 Feb  8 07:27 Untitled.ipynb\\n'\n"
     ]
    }
   ],
   "source": [
    "print(data)"
   ]
  },
  {
   "cell_type": "code",
   "execution_count": 21,
   "metadata": {},
   "outputs": [],
   "source": [
    "all_processes = check_output([\"ps\",\"-aux\"])"
   ]
  },
  {
   "cell_type": "code",
   "execution_count": 23,
   "metadata": {},
   "outputs": [
    {
     "name": "stdout",
     "output_type": "stream",
     "text": [
      "b'khyaath+  9689  0.0  1.1 907724 58800 ?        Ssl  04:21   0:01 /snap/sublime-text/44/opt/sublime_text/sublime_text'\n",
      "b'khyaath+  9701  0.0  0.3 128936 20100 ?        Sl   04:21   0:00 /snap/sublime-text/44/opt/sublime_text/plugin_host 9689 --auto-shell-env'\n"
     ]
    }
   ],
   "source": [
    "for process in all_processes.splitlines():\n",
    "    if b\"sublime\" in process:\n",
    "        print(process)"
   ]
  },
  {
   "cell_type": "code",
   "execution_count": 24,
   "metadata": {},
   "outputs": [
    {
     "name": "stdout",
     "output_type": "stream",
     "text": [
      "[b'khyaath+', b'9689', b'0.0', b'1.1', b'907724', b'58800', b'?', b'Ssl', b'04:21', b'0:01', b'/snap/sublime-text/44/opt/sublime_text/sublime_text']\n",
      "[b'khyaath+', b'9701', b'0.0', b'0.3', b'128936', b'20100', b'?', b'Sl', b'04:21', b'0:00', b'/snap/sublime-text/44/opt/sublime_text/plugin_host', b'9689', b'--auto-shell-env']\n"
     ]
    }
   ],
   "source": [
    "for process in all_processes.splitlines():\n",
    "    if b\"sublime\" in process:\n",
    "        print(process.split())"
   ]
  },
  {
   "cell_type": "code",
   "execution_count": 25,
   "metadata": {},
   "outputs": [
    {
     "name": "stdout",
     "output_type": "stream",
     "text": [
      "b'9689'\n"
     ]
    }
   ],
   "source": [
    "for process in all_processes.splitlines():\n",
    "    if b\"sublime\" in process:\n",
    "        sublime_process_id = process.split()[1]\n",
    "        break\n",
    "print(sublime_process_id)"
   ]
  },
  {
   "cell_type": "code",
   "execution_count": 28,
   "metadata": {},
   "outputs": [
    {
     "data": {
      "text/plain": [
       "512"
      ]
     },
     "execution_count": 28,
     "metadata": {},
     "output_type": "execute_result"
    }
   ],
   "source": [
    "for process in all_processes.splitlines():\n",
    "    if b\"sublime\" in process:\n",
    "        sublime_process_id = process.split()[1]\n",
    "        break\n",
    "os.system(\"kill -9 %s\"%sublime_process_id)"
   ]
  },
  {
   "cell_type": "code",
   "execution_count": 29,
   "metadata": {},
   "outputs": [
    {
     "data": {
      "text/plain": [
       "b'9689'"
      ]
     },
     "execution_count": 29,
     "metadata": {},
     "output_type": "execute_result"
    }
   ],
   "source": [
    "sublime_process_id"
   ]
  },
  {
   "cell_type": "code",
   "execution_count": 43,
   "metadata": {},
   "outputs": [
    {
     "name": "stdout",
     "output_type": "stream",
     "text": [
      "kill -9 11261\n"
     ]
    }
   ],
   "source": [
    "all_processes = check_output([\"ps\",\"-aux\"])\n",
    "for process in all_processes.splitlines():\n",
    "    if b\"sublime\" in process:\n",
    "        sublime_process_id = process.split()[1]\n",
    "        break\n",
    "sublime_process_id_s = str(sublime_process_id)\n",
    "pid = sublime_process_id_s[1:].strip(\"'\")\n",
    "cmd= \"kill -9 %s\"%pid\n",
    "print(cmd)"
   ]
  },
  {
   "cell_type": "code",
   "execution_count": 44,
   "metadata": {},
   "outputs": [
    {
     "data": {
      "text/plain": [
       "0"
      ]
     },
     "execution_count": 44,
     "metadata": {},
     "output_type": "execute_result"
    }
   ],
   "source": []
  },
  {
   "cell_type": "code",
   "execution_count": 45,
   "metadata": {},
   "outputs": [
    {
     "data": {
      "text/plain": [
       "0"
      ]
     },
     "execution_count": 45,
     "metadata": {},
     "output_type": "execute_result"
    }
   ],
   "source": [
    "all_processes = check_output([\"ps\",\"-aux\"])\n",
    "for process in all_processes.splitlines():\n",
    "    if b\"sublime\" in process:\n",
    "        sublime_process_id = process.split()[1]\n",
    "        break\n",
    "sublime_process_id_s = str(sublime_process_id)\n",
    "pid = sublime_process_id_s[1:].strip(\"'\")\n",
    "cmd= \"kill -9 %s\"%pid\n",
    "os.system(cmd)"
   ]
  },
  {
   "cell_type": "code",
   "execution_count": null,
   "metadata": {},
   "outputs": [],
   "source": []
  }
 ],
 "metadata": {
  "kernelspec": {
   "display_name": "Python 3",
   "language": "python",
   "name": "python3"
  },
  "language_info": {
   "codemirror_mode": {
    "name": "ipython",
    "version": 3
   },
   "file_extension": ".py",
   "mimetype": "text/x-python",
   "name": "python",
   "nbconvert_exporter": "python",
   "pygments_lexer": "ipython3",
   "version": "3.7.0"
  }
 },
 "nbformat": 4,
 "nbformat_minor": 2
}
