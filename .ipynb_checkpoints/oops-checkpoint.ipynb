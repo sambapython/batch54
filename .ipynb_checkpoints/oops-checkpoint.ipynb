{
 "cells": [
  {
   "cell_type": "code",
   "execution_count": 1,
   "metadata": {},
   "outputs": [
    {
     "name": "stdout",
     "output_type": "stream",
     "text": [
      "this is class\n"
     ]
    }
   ],
   "source": [
    "def fun():\n",
    "    print(\"this is fun\")\n",
    "class cls:\n",
    "    print(\"this is class\")"
   ]
  },
  {
   "cell_type": "code",
   "execution_count": 2,
   "metadata": {},
   "outputs": [
    {
     "name": "stdout",
     "output_type": "stream",
     "text": [
      "10 20\n",
      "this is op1: 10\n",
      "None\n"
     ]
    }
   ],
   "source": [
    "class cls:\n",
    "    a=10\n",
    "    b=20\n",
    "    def op1(c):\n",
    "        print(\"this is op1:\",c)\n",
    "    print(a,b)\n",
    "    print(op1(10))"
   ]
  },
  {
   "cell_type": "code",
   "execution_count": 3,
   "metadata": {},
   "outputs": [
    {
     "ename": "NameError",
     "evalue": "name 'a' is not defined",
     "output_type": "error",
     "traceback": [
      "\u001b[0;31m---------------------------------------------------------------------------\u001b[0m",
      "\u001b[0;31mNameError\u001b[0m                                 Traceback (most recent call last)",
      "\u001b[0;32m<ipython-input-3-551661ba6efc>\u001b[0m in \u001b[0;36m<module>\u001b[0;34m()\u001b[0m\n\u001b[1;32m      4\u001b[0m     \u001b[0;32mdef\u001b[0m \u001b[0mop1\u001b[0m\u001b[0;34m(\u001b[0m\u001b[0mc\u001b[0m\u001b[0;34m)\u001b[0m\u001b[0;34m:\u001b[0m\u001b[0;34m\u001b[0m\u001b[0m\n\u001b[1;32m      5\u001b[0m         \u001b[0mprint\u001b[0m\u001b[0;34m(\u001b[0m\u001b[0;34m\"this is op1:\"\u001b[0m\u001b[0;34m,\u001b[0m\u001b[0mc\u001b[0m\u001b[0;34m)\u001b[0m\u001b[0;34m\u001b[0m\u001b[0m\n\u001b[0;32m----> 6\u001b[0;31m \u001b[0mprint\u001b[0m\u001b[0;34m(\u001b[0m\u001b[0ma\u001b[0m\u001b[0;34m,\u001b[0m\u001b[0mb\u001b[0m\u001b[0;34m)\u001b[0m\u001b[0;34m\u001b[0m\u001b[0m\n\u001b[0m\u001b[1;32m      7\u001b[0m \u001b[0mprint\u001b[0m\u001b[0;34m(\u001b[0m\u001b[0mop1\u001b[0m\u001b[0;34m(\u001b[0m\u001b[0;36m10\u001b[0m\u001b[0;34m)\u001b[0m\u001b[0;34m)\u001b[0m\u001b[0;34m\u001b[0m\u001b[0m\n",
      "\u001b[0;31mNameError\u001b[0m: name 'a' is not defined"
     ]
    }
   ],
   "source": [
    "class cls:\n",
    "    a=10\n",
    "    b=20\n",
    "    def op1(c):\n",
    "        print(\"this is op1:\",c)\n",
    "print(a,b)\n",
    "print(op1(10))"
   ]
  },
  {
   "cell_type": "code",
   "execution_count": 4,
   "metadata": {},
   "outputs": [
    {
     "name": "stdout",
     "output_type": "stream",
     "text": [
      "10 20\n",
      "this is op1: 10\n",
      "None\n"
     ]
    }
   ],
   "source": [
    "class cls:\n",
    "    a=10\n",
    "    b=20\n",
    "    def op1(c):\n",
    "        print(\"this is op1:\",c)\n",
    "print(cls.a,cls.b)\n",
    "print(cls.op1(10))"
   ]
  },
  {
   "cell_type": "code",
   "execution_count": 5,
   "metadata": {},
   "outputs": [],
   "source": [
    "a=10"
   ]
  },
  {
   "cell_type": "code",
   "execution_count": 6,
   "metadata": {},
   "outputs": [],
   "source": [
    "b=1.2"
   ]
  },
  {
   "cell_type": "code",
   "execution_count": 7,
   "metadata": {},
   "outputs": [],
   "source": [
    "c=\"sdsfsd\""
   ]
  },
  {
   "cell_type": "code",
   "execution_count": 8,
   "metadata": {},
   "outputs": [],
   "source": [
    "l=[1,2,3,4]"
   ]
  },
  {
   "cell_type": "code",
   "execution_count": 9,
   "metadata": {},
   "outputs": [
    {
     "name": "stdout",
     "output_type": "stream",
     "text": [
      "10 20\n",
      "this is op1: 10\n",
      "None\n"
     ]
    }
   ],
   "source": [
    "class Emp:\n",
    "    a=10\n",
    "    b=20\n",
    "    def op1(c,d):\n",
    "        print(\"this is op1:\",c)\n",
    "ref=Emp()\n",
    "print(Emp.a,Emp.b)\n",
    "print(Emp.op1(10,20))"
   ]
  },
  {
   "cell_type": "code",
   "execution_count": 13,
   "metadata": {},
   "outputs": [
    {
     "name": "stdout",
     "output_type": "stream",
     "text": [
      "10 20\n",
      "this is op1:\n",
      "c= <__main__.Emp object at 0x7f528c5574e0> d= 20\n",
      "None\n"
     ]
    }
   ],
   "source": [
    "class Emp:\n",
    "    a=10\n",
    "    b=20\n",
    "    def op1(c,d):\n",
    "        print(\"this is op1:\")\n",
    "        print(\"c=\",ref,\"d=\",d)\n",
    "print(Emp.a,Emp.b)\n",
    "ref=Emp()\n",
    "print(Emp.op1(ref,20))"
   ]
  },
  {
   "cell_type": "code",
   "execution_count": 14,
   "metadata": {},
   "outputs": [
    {
     "name": "stdout",
     "output_type": "stream",
     "text": [
      "10 20\n",
      "this is op1:\n",
      "c= <__main__.Emp object at 0x7f528c557860> d= 20\n",
      "None\n",
      "10 20\n",
      "this is op1:\n",
      "c= <__main__.Emp object at 0x7f528c557860> d= 2000\n"
     ]
    }
   ],
   "source": [
    "class Emp: \n",
    "    a=10\n",
    "    b=20\n",
    "    def op1(c,d):\n",
    "        print(\"this is op1:\")\n",
    "        print(\"c=\",ref,\"d=\",d)\n",
    "print(Emp.a,Emp.b)\n",
    "ref=Emp()\n",
    "print(Emp.op1(ref,20))\n",
    "print(ref.a,ref.b)\n",
    "ref.op1(2000)"
   ]
  },
  {
   "cell_type": "code",
   "execution_count": 15,
   "metadata": {},
   "outputs": [
    {
     "name": "stdout",
     "output_type": "stream",
     "text": [
      "10 20\n"
     ]
    },
    {
     "ename": "TypeError",
     "evalue": "fun1() missing 1 required positional argument: 'b'",
     "output_type": "error",
     "traceback": [
      "\u001b[0;31m---------------------------------------------------------------------------\u001b[0m",
      "\u001b[0;31mTypeError\u001b[0m                                 Traceback (most recent call last)",
      "\u001b[0;32m<ipython-input-15-200c5aa3d476>\u001b[0m in \u001b[0;36m<module>\u001b[0;34m()\u001b[0m\n\u001b[1;32m      2\u001b[0m     \u001b[0mprint\u001b[0m\u001b[0;34m(\u001b[0m\u001b[0ma\u001b[0m\u001b[0;34m,\u001b[0m\u001b[0mb\u001b[0m\u001b[0;34m)\u001b[0m\u001b[0;34m\u001b[0m\u001b[0m\n\u001b[1;32m      3\u001b[0m \u001b[0mfun1\u001b[0m\u001b[0;34m(\u001b[0m\u001b[0;36m10\u001b[0m\u001b[0;34m,\u001b[0m\u001b[0;36m20\u001b[0m\u001b[0;34m)\u001b[0m\u001b[0;34m\u001b[0m\u001b[0m\n\u001b[0;32m----> 4\u001b[0;31m \u001b[0mfun1\u001b[0m\u001b[0;34m(\u001b[0m\u001b[0;36m100\u001b[0m\u001b[0;34m)\u001b[0m\u001b[0;34m\u001b[0m\u001b[0m\n\u001b[0m",
      "\u001b[0;31mTypeError\u001b[0m: fun1() missing 1 required positional argument: 'b'"
     ]
    }
   ],
   "source": [
    "def fun1(a,b):\n",
    "    print(a,b)\n",
    "fun1(10,20)\n",
    "fun1(100)"
   ]
  },
  {
   "cell_type": "code",
   "execution_count": 16,
   "metadata": {},
   "outputs": [
    {
     "name": "stdout",
     "output_type": "stream",
     "text": [
      "10 20\n",
      "this is op1:\n",
      "c= <__main__.Emp object at 0x7f528c530160> d= 20\n",
      "None\n",
      "10 20\n"
     ]
    },
    {
     "ename": "TypeError",
     "evalue": "op1() takes 2 positional arguments but 3 were given",
     "output_type": "error",
     "traceback": [
      "\u001b[0;31m---------------------------------------------------------------------------\u001b[0m",
      "\u001b[0;31mTypeError\u001b[0m                                 Traceback (most recent call last)",
      "\u001b[0;32m<ipython-input-16-f69ae01e99e2>\u001b[0m in \u001b[0;36m<module>\u001b[0;34m()\u001b[0m\n\u001b[1;32m      9\u001b[0m \u001b[0mprint\u001b[0m\u001b[0;34m(\u001b[0m\u001b[0mEmp\u001b[0m\u001b[0;34m.\u001b[0m\u001b[0mop1\u001b[0m\u001b[0;34m(\u001b[0m\u001b[0mref\u001b[0m\u001b[0;34m,\u001b[0m\u001b[0;36m20\u001b[0m\u001b[0;34m)\u001b[0m\u001b[0;34m)\u001b[0m\u001b[0;34m\u001b[0m\u001b[0m\n\u001b[1;32m     10\u001b[0m \u001b[0mprint\u001b[0m\u001b[0;34m(\u001b[0m\u001b[0mref\u001b[0m\u001b[0;34m.\u001b[0m\u001b[0ma\u001b[0m\u001b[0;34m,\u001b[0m\u001b[0mref\u001b[0m\u001b[0;34m.\u001b[0m\u001b[0mb\u001b[0m\u001b[0;34m)\u001b[0m\u001b[0;34m\u001b[0m\u001b[0m\n\u001b[0;32m---> 11\u001b[0;31m \u001b[0mref\u001b[0m\u001b[0;34m.\u001b[0m\u001b[0mop1\u001b[0m\u001b[0;34m(\u001b[0m\u001b[0;36m1000\u001b[0m\u001b[0;34m,\u001b[0m\u001b[0;36m2000\u001b[0m\u001b[0;34m)\u001b[0m\u001b[0;34m\u001b[0m\u001b[0m\n\u001b[0m",
      "\u001b[0;31mTypeError\u001b[0m: op1() takes 2 positional arguments but 3 were given"
     ]
    }
   ],
   "source": [
    "class Emp: \n",
    "    a=10\n",
    "    b=20\n",
    "    def op1(c,d):\n",
    "        print(\"this is op1:\")\n",
    "        print(\"c=\",ref,\"d=\",d)\n",
    "print(Emp.a,Emp.b)\n",
    "ref=Emp()\n",
    "print(Emp.op1(ref,20))\n",
    "print(ref.a,ref.b)\n",
    "ref.op1(1000,2000)"
   ]
  },
  {
   "cell_type": "code",
   "execution_count": 17,
   "metadata": {},
   "outputs": [
    {
     "name": "stdout",
     "output_type": "stream",
     "text": [
      "sdfsd\n"
     ]
    }
   ],
   "source": [
    "class Emp:\n",
    "    print(\"sdfsd\")"
   ]
  },
  {
   "cell_type": "code",
   "execution_count": 18,
   "metadata": {},
   "outputs": [
    {
     "name": "stdout",
     "output_type": "stream",
     "text": [
      "hello\n"
     ]
    }
   ],
   "source": [
    "class Emp:\n",
    "    print(\"hello\")\n",
    "a=Emp()\n",
    "b=Emp()\n",
    "c=Emp()\n"
   ]
  },
  {
   "cell_type": "code",
   "execution_count": 19,
   "metadata": {},
   "outputs": [
    {
     "name": "stdout",
     "output_type": "stream",
     "text": [
      "Sailaxmi\n",
      "JAYARAM\n"
     ]
    },
    {
     "ename": "AttributeError",
     "evalue": "'Emp' object has no attribute 'doj'",
     "output_type": "error",
     "traceback": [
      "\u001b[0;31m---------------------------------------------------------------------------\u001b[0m",
      "\u001b[0;31mAttributeError\u001b[0m                            Traceback (most recent call last)",
      "\u001b[0;32m<ipython-input-19-8b7373dff3c7>\u001b[0m in \u001b[0;36m<module>\u001b[0;34m()\u001b[0m\n\u001b[1;32m     14\u001b[0m \u001b[0mprint\u001b[0m\u001b[0;34m(\u001b[0m\u001b[0msai\u001b[0m\u001b[0;34m.\u001b[0m\u001b[0mname\u001b[0m\u001b[0;34m)\u001b[0m\u001b[0;34m\u001b[0m\u001b[0m\n\u001b[1;32m     15\u001b[0m \u001b[0mprint\u001b[0m\u001b[0;34m(\u001b[0m\u001b[0mjay\u001b[0m\u001b[0;34m.\u001b[0m\u001b[0mname\u001b[0m\u001b[0;34m)\u001b[0m\u001b[0;34m\u001b[0m\u001b[0m\n\u001b[0;32m---> 16\u001b[0;31m \u001b[0mprint\u001b[0m\u001b[0;34m(\u001b[0m\u001b[0mjay\u001b[0m\u001b[0;34m.\u001b[0m\u001b[0mdoj\u001b[0m\u001b[0;34m)\u001b[0m\u001b[0;34m\u001b[0m\u001b[0m\n\u001b[0m",
      "\u001b[0;31mAttributeError\u001b[0m: 'Emp' object has no attribute 'doj'"
     ]
    }
   ],
   "source": [
    "class Emp:\n",
    "    company_name=\"Khyaathi\"\n",
    "    company_address=\"maithrivanam\"\n",
    "    \n",
    "    def get(x):\n",
    "        print(x)\n",
    "sai=Emp()\n",
    "sai.name=\"Sailaxmi\"\n",
    "sai.id=1\n",
    "sai.doj=\"2018-06-01\"\n",
    "jay=Emp()\n",
    "jay.name=\"JAYARAM\"\n",
    "jay.id=2\n",
    "print(sai.name)\n",
    "print(jay.name)\n",
    "print(jay.doj)"
   ]
  },
  {
   "cell_type": "code",
   "execution_count": 21,
   "metadata": {},
   "outputs": [
    {
     "name": "stdout",
     "output_type": "stream",
     "text": [
      "Sailaxmi\n",
      "JAYARAM\n",
      "COMP\n",
      "Sailaxmi\n"
     ]
    }
   ],
   "source": [
    "class Emp:\n",
    "    company_name=\"Khyaathi\"\n",
    "    company_address=\"maithrivanam\"\n",
    "    name=\"COMP\"\n",
    "    def get(x):\n",
    "        print(x)\n",
    "sai=Emp()\n",
    "sai.name=\"Sailaxmi\"\n",
    "sai.id=1\n",
    "sai.doj=\"2018-06-01\"\n",
    "jay=Emp()\n",
    "jay.name=\"JAYARAM\"\n",
    "jay.id=2\n",
    "print(sai.name)\n",
    "print(jay.name)\n",
    "#print(jay.doj)\n",
    "vedha=Emp()\n",
    "print(vedha.name)\n",
    "print(sai.name)"
   ]
  },
  {
   "cell_type": "code",
   "execution_count": 22,
   "metadata": {},
   "outputs": [
    {
     "name": "stdout",
     "output_type": "stream",
     "text": [
      "Sailaxmi\n",
      "JAYARAM\n",
      "COMP\n",
      "Sailaxmi\n",
      "maithrivanam\n",
      "Khyaathi\n",
      "maithrivanam\n"
     ]
    }
   ],
   "source": [
    "class Emp:\n",
    "    company_name=\"Khyaathi\"\n",
    "    company_address=\"maithrivanam\"\n",
    "    name=\"COMP\"\n",
    "    def get(x):\n",
    "        print(x)\n",
    "sai=Emp()\n",
    "sai.name=\"Sailaxmi\"\n",
    "sai.id=1\n",
    "sai.doj=\"2018-06-01\"\n",
    "jay=Emp()\n",
    "jay.name=\"JAYARAM\"\n",
    "jay.id=2\n",
    "print(sai.name)\n",
    "print(jay.name)\n",
    "#print(jay.doj)\n",
    "vedha=Emp()\n",
    "print(vedha.name)\n",
    "print(sai.name)\n",
    "print(sai.company_address)\n",
    "print(sai.company_name)\n",
    "print(vedha.company_address)"
   ]
  },
  {
   "cell_type": "code",
   "execution_count": 23,
   "metadata": {},
   "outputs": [
    {
     "name": "stdout",
     "output_type": "stream",
     "text": [
      "('JAYARAM', 2, '2018-07-02')\n",
      "('Sailaxmi', 1, '2018-06-01')\n"
     ]
    }
   ],
   "source": [
    "class Emp:\n",
    "    company_name=\"Khyaathi\"\n",
    "    company_address=\"maithrivanam\"\n",
    "    name=\"COMP\"\n",
    "    def get(x):\n",
    "        return x.name,x.id,x.doj\n",
    "sai=Emp()\n",
    "sai.name=\"Sailaxmi\"\n",
    "sai.id=1\n",
    "sai.doj=\"2018-06-01\"\n",
    "jay=Emp()\n",
    "jay.name=\"JAYARAM\"\n",
    "jay.id=2\n",
    "jay.doj=\"2018-07-02\"\n",
    "print(Emp.get(jay))\n",
    "print(Emp.get(sai))\n"
   ]
  },
  {
   "cell_type": "code",
   "execution_count": null,
   "metadata": {},
   "outputs": [],
   "source": [
    "class Emp:\n",
    "    company_name=\"Khyaathi\"\n",
    "    company_address=\"maithrivanam\"\n",
    "    name=\"COMP\"\n",
    "    def get(x):\n",
    "        return x.name,x.id,x.doj\n",
    "sai=Emp()\n",
    "sai.name=\"Sailaxmi\"\n",
    "sai.id=1\n",
    "sai.doj=\"2018-06-01\"\n",
    "jay=Emp()\n",
    "jay.name=\"JAYARAM\"\n",
    "jay.id=2\n",
    "#jay.doj=\"2018-07-02\"\n",
    "print(Emp.get(jay))\n",
    "print(Emp.get(sai))\n"
   ]
  },
  {
   "cell_type": "code",
   "execution_count": 24,
   "metadata": {},
   "outputs": [
    {
     "name": "stdout",
     "output_type": "stream",
     "text": [
      "100\n"
     ]
    }
   ],
   "source": [
    "def fun(x):\n",
    "    print(x)\n",
    "y=100\n",
    "fun(y)"
   ]
  },
  {
   "cell_type": "code",
   "execution_count": 25,
   "metadata": {},
   "outputs": [
    {
     "name": "stdout",
     "output_type": "stream",
     "text": [
      "('JAYARAM', 2, '2018-07-02')\n",
      "('Sailaxmi', 1, '2018-06-01')\n"
     ]
    }
   ],
   "source": [
    "class Emp:\n",
    "    company_name=\"Khyaathi\"\n",
    "    company_address=\"maithrivanam\"\n",
    "    name=\"COMP\"\n",
    "    def get(x):\n",
    "        return x.name,x.id,x.doj\n",
    "sai=Emp()\n",
    "sai.name=\"Sailaxmi\"\n",
    "sai.id=1\n",
    "sai.doj=\"2018-06-01\"\n",
    "jay=Emp()\n",
    "jay.name=\"JAYARAM\"\n",
    "jay.id=2\n",
    "jay.doj=\"2018-07-02\"\n",
    "print(Emp.get(jay))\n",
    "print(Emp.get(sai))\n"
   ]
  },
  {
   "cell_type": "code",
   "execution_count": 26,
   "metadata": {},
   "outputs": [
    {
     "name": "stdout",
     "output_type": "stream",
     "text": [
      "('JAYARAM', 2, '2018-07-02')\n",
      "('Sailaxmi', 1, '2018-06-01')\n"
     ]
    }
   ],
   "source": [
    "class Emp:\n",
    "    company_name=\"Khyaathi\"\n",
    "    company_address=\"maithrivanam\"\n",
    "    name=\"COMP\"\n",
    "    def get(x):\n",
    "        return x.name,x.id,x.doj\n",
    "sai=Emp()\n",
    "sai.name=\"Sailaxmi\"\n",
    "sai.id=1\n",
    "sai.doj=\"2018-06-01\"\n",
    "jay=Emp()\n",
    "jay.name=\"JAYARAM\"\n",
    "jay.id=2\n",
    "jay.doj=\"2018-07-02\"\n",
    "print(jay.get())\n",
    "print(sai.get())\n"
   ]
  },
  {
   "cell_type": "code",
   "execution_count": 28,
   "metadata": {},
   "outputs": [
    {
     "name": "stdout",
     "output_type": "stream",
     "text": [
      "('JAYARAM', 2, '2018-07-02')\n",
      "('sailaxmi', 1, '2018-06-02')\n"
     ]
    }
   ],
   "source": [
    "class Emp:\n",
    "    company_name=\"Khyaathi\"\n",
    "    company_address=\"maithrivanam\"\n",
    "    name=\"COMP\"\n",
    "    def set_data(x,name,e_id,doj):\n",
    "        x.name=name\n",
    "        x.id=e_id\n",
    "        x.doj=doj\n",
    "    def get(x):\n",
    "        return x.name,x.id,x.doj\n",
    "sai=Emp()\n",
    "sai.set_data(\"sailaxmi\",1,\"2018-06-02\")\n",
    "#sai.name=\"Sailaxmi\"\n",
    "#sai.id=1\n",
    "#sai.doj=\"2018-06-01\"\n",
    "jay=Emp()\n",
    "jay.set_data(\"JAYARAM\",2,\"2018-07-02\")\n",
    "#jay.name=\"JAYARAM\"\n",
    "#jay.id=2\n",
    "#jay.doj=\"2018-07-02\"\n",
    "print(jay.get())\n",
    "print(sai.get())\n"
   ]
  },
  {
   "cell_type": "code",
   "execution_count": 29,
   "metadata": {},
   "outputs": [
    {
     "name": "stdout",
     "output_type": "stream",
     "text": [
      "('JAYARAM', 2, '2018-07-02')\n",
      "('sailaxmi', 1, '2018-06-02')\n"
     ]
    }
   ],
   "source": [
    "class Emp:\n",
    "    company_name=\"Khyaathi\"\n",
    "    company_address=\"maithrivanam\"\n",
    "    name=\"COMP\"\n",
    "    def set_data(x,name,e_id,doj):\n",
    "        x.name=name\n",
    "        x.id=e_id\n",
    "        x.doj=doj\n",
    "    def get(x):\n",
    "        return x.name,x.id,x.doj\n",
    "sai=Emp()\n",
    "sai.set_data(\"sailaxmi\",1,\"2018-06-02\")\n",
    "jay=Emp()\n",
    "jay.set_data(\"JAYARAM\",2,\"2018-07-02\")\n",
    "print(jay.get())\n",
    "print(sai.get())"
   ]
  },
  {
   "cell_type": "code",
   "execution_count": 30,
   "metadata": {},
   "outputs": [
    {
     "name": "stdout",
     "output_type": "stream",
     "text": [
      "('JAYARAM', 2, '2018-07-02')\n",
      "('sailaxmi', 1, '2018-06-02')\n"
     ]
    },
    {
     "ename": "AttributeError",
     "evalue": "'Emp' object has no attribute 'name'",
     "output_type": "error",
     "traceback": [
      "\u001b[0;31m---------------------------------------------------------------------------\u001b[0m",
      "\u001b[0;31mAttributeError\u001b[0m                            Traceback (most recent call last)",
      "\u001b[0;32m<ipython-input-30-05c6f000d762>\u001b[0m in \u001b[0;36m<module>\u001b[0;34m()\u001b[0m\n\u001b[1;32m     15\u001b[0m \u001b[0mprint\u001b[0m\u001b[0;34m(\u001b[0m\u001b[0msai\u001b[0m\u001b[0;34m.\u001b[0m\u001b[0mget\u001b[0m\u001b[0;34m(\u001b[0m\u001b[0;34m)\u001b[0m\u001b[0;34m)\u001b[0m\u001b[0;34m\u001b[0m\u001b[0m\n\u001b[1;32m     16\u001b[0m \u001b[0mvedha\u001b[0m\u001b[0;34m=\u001b[0m\u001b[0mEmp\u001b[0m\u001b[0;34m(\u001b[0m\u001b[0;34m)\u001b[0m\u001b[0;34m\u001b[0m\u001b[0m\n\u001b[0;32m---> 17\u001b[0;31m \u001b[0mvedha\u001b[0m\u001b[0;34m.\u001b[0m\u001b[0mget\u001b[0m\u001b[0;34m(\u001b[0m\u001b[0;34m)\u001b[0m\u001b[0;34m\u001b[0m\u001b[0m\n\u001b[0m",
      "\u001b[0;32m<ipython-input-30-05c6f000d762>\u001b[0m in \u001b[0;36mget\u001b[0;34m(x)\u001b[0m\n\u001b[1;32m      7\u001b[0m         \u001b[0mx\u001b[0m\u001b[0;34m.\u001b[0m\u001b[0mdoj\u001b[0m\u001b[0;34m=\u001b[0m\u001b[0mdoj\u001b[0m\u001b[0;34m\u001b[0m\u001b[0m\n\u001b[1;32m      8\u001b[0m     \u001b[0;32mdef\u001b[0m \u001b[0mget\u001b[0m\u001b[0;34m(\u001b[0m\u001b[0mx\u001b[0m\u001b[0;34m)\u001b[0m\u001b[0;34m:\u001b[0m\u001b[0;34m\u001b[0m\u001b[0m\n\u001b[0;32m----> 9\u001b[0;31m         \u001b[0;32mreturn\u001b[0m \u001b[0mx\u001b[0m\u001b[0;34m.\u001b[0m\u001b[0mname\u001b[0m\u001b[0;34m,\u001b[0m\u001b[0mx\u001b[0m\u001b[0;34m.\u001b[0m\u001b[0mid\u001b[0m\u001b[0;34m,\u001b[0m\u001b[0mx\u001b[0m\u001b[0;34m.\u001b[0m\u001b[0mdoj\u001b[0m\u001b[0;34m\u001b[0m\u001b[0m\n\u001b[0m\u001b[1;32m     10\u001b[0m \u001b[0msai\u001b[0m\u001b[0;34m=\u001b[0m\u001b[0mEmp\u001b[0m\u001b[0;34m(\u001b[0m\u001b[0;34m)\u001b[0m\u001b[0;34m\u001b[0m\u001b[0m\n\u001b[1;32m     11\u001b[0m \u001b[0msai\u001b[0m\u001b[0;34m.\u001b[0m\u001b[0mset_data\u001b[0m\u001b[0;34m(\u001b[0m\u001b[0;34m\"sailaxmi\"\u001b[0m\u001b[0;34m,\u001b[0m\u001b[0;36m1\u001b[0m\u001b[0;34m,\u001b[0m\u001b[0;34m\"2018-06-02\"\u001b[0m\u001b[0;34m)\u001b[0m\u001b[0;34m\u001b[0m\u001b[0m\n",
      "\u001b[0;31mAttributeError\u001b[0m: 'Emp' object has no attribute 'name'"
     ]
    }
   ],
   "source": [
    "class Emp:\n",
    "    company_name=\"Khyaathi\"\n",
    "    company_address=\"maithrivanam\"\n",
    "    def set_data(x,name,e_id,doj):\n",
    "        x.name=name\n",
    "        x.id=e_id\n",
    "        x.doj=doj\n",
    "    def get(x):\n",
    "        return x.name,x.id,x.doj\n",
    "sai=Emp()\n",
    "sai.set_data(\"sailaxmi\",1,\"2018-06-02\")\n",
    "jay=Emp()\n",
    "jay.set_data(\"JAYARAM\",2,\"2018-07-02\")\n",
    "print(jay.get())\n",
    "print(sai.get())\n",
    "vedha=Emp()\n",
    "vedha.get()"
   ]
  },
  {
   "cell_type": "code",
   "execution_count": 31,
   "metadata": {},
   "outputs": [
    {
     "name": "stdout",
     "output_type": "stream",
     "text": [
      "this is class\n"
     ]
    }
   ],
   "source": [
    "class Emp:\n",
    "    print(\"this is class\")\n",
    "    def get(x):\n",
    "        print (\"this is get\")\n",
    "    def __init__(x):\n",
    "        print(\"this is init\")"
   ]
  },
  {
   "cell_type": "code",
   "execution_count": 32,
   "metadata": {},
   "outputs": [
    {
     "name": "stdout",
     "output_type": "stream",
     "text": [
      "this is class\n",
      "this is init\n"
     ]
    }
   ],
   "source": [
    "class Emp:\n",
    "    print(\"this is class\")\n",
    "    def get(x):\n",
    "        print (\"this is get\")\n",
    "    def __init__(x):\n",
    "        print(\"this is init\")\n",
    "sai=Emp()"
   ]
  },
  {
   "cell_type": "code",
   "execution_count": 34,
   "metadata": {},
   "outputs": [
    {
     "name": "stdout",
     "output_type": "stream",
     "text": [
      "this is class\n",
      "<__main__.Emp object at 0x7f528c5410b8> 139992518365368\n",
      "this is init\n",
      "<__main__.Emp object at 0x7f528c5410b8> 139992518365368\n"
     ]
    }
   ],
   "source": [
    "class Emp:\n",
    "    print(\"this is class\")\n",
    "    def get(x):\n",
    "        print (\"this is get\")\n",
    "    def __init__(x):\n",
    "        print(x,id(x))\n",
    "        print(\"this is init\")\n",
    "sai=Emp()\n",
    "print(sai,id(sai))"
   ]
  },
  {
   "cell_type": "code",
   "execution_count": 35,
   "metadata": {},
   "outputs": [
    {
     "name": "stdout",
     "output_type": "stream",
     "text": [
      "this is class\n",
      "<__main__.Emp object at 0x7f528c541f98> 139992518369176\n",
      "this is init\n"
     ]
    },
    {
     "data": {
      "text/plain": [
       "<__main__.Emp at 0x7f528c541f98>"
      ]
     },
     "execution_count": 35,
     "metadata": {},
     "output_type": "execute_result"
    }
   ],
   "source": [
    "class Emp:\n",
    "    print(\"this is class\")\n",
    "    def get(x):\n",
    "        print (\"this is get\")\n",
    "    def __init__(x):\n",
    "        print(x,id(x))\n",
    "        print(\"this is init\")\n",
    "Emp()"
   ]
  },
  {
   "cell_type": "code",
   "execution_count": 36,
   "metadata": {},
   "outputs": [
    {
     "name": "stdout",
     "output_type": "stream",
     "text": [
      "this is class\n",
      "this is init\n",
      "this is init\n",
      "this is init\n"
     ]
    }
   ],
   "source": [
    "class Emp:\n",
    "    print(\"this is class\")\n",
    "    def get(x):\n",
    "        print (\"this is get\")\n",
    "    def __init__(x):\n",
    "        print(\"this is init\")\n",
    "sai=Emp()\n",
    "jay=Emp()\n",
    "vedha=Emp()"
   ]
  },
  {
   "cell_type": "code",
   "execution_count": 37,
   "metadata": {},
   "outputs": [
    {
     "name": "stdout",
     "output_type": "stream",
     "text": [
      "this is class\n",
      "this is init\n",
      "this is init\n",
      "this is init\n",
      "this is get\n",
      "this is init\n"
     ]
    }
   ],
   "source": [
    "class Emp:\n",
    "    print(\"this is class\")\n",
    "    def get(x):\n",
    "        print (\"this is get\")\n",
    "    def __init__(x):\n",
    "        #constructor\n",
    "        print(\"this is init\")\n",
    "sai=Emp()\n",
    "jay=Emp()\n",
    "vedha=Emp()\n",
    "vedha.get()\n",
    "vedha.__init__()"
   ]
  },
  {
   "cell_type": "code",
   "execution_count": 38,
   "metadata": {},
   "outputs": [
    {
     "name": "stdout",
     "output_type": "stream",
     "text": [
      "this is class\n",
      "this is init\n",
      "this is init\n",
      "this is init\n",
      "this is get\n"
     ]
    },
    {
     "data": {
      "text/plain": [
       "10"
      ]
     },
     "execution_count": 38,
     "metadata": {},
     "output_type": "execute_result"
    }
   ],
   "source": [
    "class Emp:\n",
    "    print(\"this is class\")\n",
    "    def get(x):\n",
    "        print (\"this is get\")\n",
    "        return 10\n",
    "    def __init__(x):\n",
    "        #constructor\n",
    "        print(\"this is init\")\n",
    "        return None\n",
    "sai=Emp()\n",
    "jay=Emp()\n",
    "vedha=Emp()\n",
    "vedha.get()"
   ]
  },
  {
   "cell_type": "code",
   "execution_count": 39,
   "metadata": {},
   "outputs": [
    {
     "name": "stdout",
     "output_type": "stream",
     "text": [
      "this is class\n",
      "this is init\n"
     ]
    },
    {
     "ename": "TypeError",
     "evalue": "__init__() should return None, not 'str'",
     "output_type": "error",
     "traceback": [
      "\u001b[0;31m---------------------------------------------------------------------------\u001b[0m",
      "\u001b[0;31mTypeError\u001b[0m                                 Traceback (most recent call last)",
      "\u001b[0;32m<ipython-input-39-c8ea581e22ef>\u001b[0m in \u001b[0;36m<module>\u001b[0;34m()\u001b[0m\n\u001b[1;32m      8\u001b[0m         \u001b[0mprint\u001b[0m\u001b[0;34m(\u001b[0m\u001b[0;34m\"this is init\"\u001b[0m\u001b[0;34m)\u001b[0m\u001b[0;34m\u001b[0m\u001b[0m\n\u001b[1;32m      9\u001b[0m         \u001b[0;32mreturn\u001b[0m \u001b[0;34m\"dfdsafd\"\u001b[0m\u001b[0;34m\u001b[0m\u001b[0m\n\u001b[0;32m---> 10\u001b[0;31m \u001b[0msai\u001b[0m\u001b[0;34m=\u001b[0m\u001b[0mEmp\u001b[0m\u001b[0;34m(\u001b[0m\u001b[0;34m)\u001b[0m\u001b[0;34m\u001b[0m\u001b[0m\n\u001b[0m\u001b[1;32m     11\u001b[0m \u001b[0mjay\u001b[0m\u001b[0;34m=\u001b[0m\u001b[0mEmp\u001b[0m\u001b[0;34m(\u001b[0m\u001b[0;34m)\u001b[0m\u001b[0;34m\u001b[0m\u001b[0m\n\u001b[1;32m     12\u001b[0m \u001b[0mvedha\u001b[0m\u001b[0;34m=\u001b[0m\u001b[0mEmp\u001b[0m\u001b[0;34m(\u001b[0m\u001b[0;34m)\u001b[0m\u001b[0;34m\u001b[0m\u001b[0m\n",
      "\u001b[0;31mTypeError\u001b[0m: __init__() should return None, not 'str'"
     ]
    }
   ],
   "source": [
    "class Emp:\n",
    "    print(\"this is class\")\n",
    "    def get(x):\n",
    "        print (\"this is get\")\n",
    "        return 10\n",
    "    def __init__(x):\n",
    "        #constructor\n",
    "        print(\"this is init\")\n",
    "        return \"dfdsafd\"\n",
    "sai=Emp()\n",
    "jay=Emp()\n",
    "vedha=Emp()\n",
    "vedha.get()"
   ]
  },
  {
   "cell_type": "code",
   "execution_count": 41,
   "metadata": {},
   "outputs": [
    {
     "name": "stdout",
     "output_type": "stream",
     "text": [
      "('JAYARAM', 2, '2018-07-02', 'Khyaathi', 'maithrivanam')\n",
      "('sailaxmi', 1, '2018-06-02', 'Khyaathi', 'maithrivanam')\n"
     ]
    }
   ],
   "source": [
    "class Emp:\n",
    "    company_name=\"Khyaathi\"\n",
    "    company_address=\"maithrivanam\"\n",
    "    def get(x):\n",
    "        return x.name,x.id,x.doj, x.company_name,x.company_address\n",
    "    def __init__(x,name,e_id,doj):\n",
    "        x.name=name\n",
    "        x.id=e_id\n",
    "        x.doj=doj\n",
    "sai=Emp(\"sailaxmi\",1,\"2018-06-02\")\n",
    "jay=Emp(\"JAYARAM\",2,\"2018-07-02\")\n",
    "print(jay.get())\n",
    "print(sai.get())"
   ]
  },
  {
   "cell_type": "code",
   "execution_count": 42,
   "metadata": {},
   "outputs": [
    {
     "name": "stdout",
     "output_type": "stream",
     "text": [
      "('JAYARAM', 2, '2018-07-02', 'Khyaathi', 'maithrivanam')\n",
      "('sailaxmi', 1, '2018-06-02', 'Khyaathi', 'maithrivanam')\n"
     ]
    },
    {
     "ename": "AttributeError",
     "evalue": "type object 'Emp' has no attribute 'name'",
     "output_type": "error",
     "traceback": [
      "\u001b[0;31m---------------------------------------------------------------------------\u001b[0m",
      "\u001b[0;31mAttributeError\u001b[0m                            Traceback (most recent call last)",
      "\u001b[0;32m<ipython-input-42-7eb85f530cf5>\u001b[0m in \u001b[0;36m<module>\u001b[0;34m()\u001b[0m\n\u001b[1;32m     12\u001b[0m \u001b[0mprint\u001b[0m\u001b[0;34m(\u001b[0m\u001b[0mjay\u001b[0m\u001b[0;34m.\u001b[0m\u001b[0mget\u001b[0m\u001b[0;34m(\u001b[0m\u001b[0;34m)\u001b[0m\u001b[0;34m)\u001b[0m\u001b[0;34m\u001b[0m\u001b[0m\n\u001b[1;32m     13\u001b[0m \u001b[0mprint\u001b[0m\u001b[0;34m(\u001b[0m\u001b[0msai\u001b[0m\u001b[0;34m.\u001b[0m\u001b[0mget\u001b[0m\u001b[0;34m(\u001b[0m\u001b[0;34m)\u001b[0m\u001b[0;34m)\u001b[0m\u001b[0;34m\u001b[0m\u001b[0m\n\u001b[0;32m---> 14\u001b[0;31m \u001b[0mprint\u001b[0m\u001b[0;34m(\u001b[0m\u001b[0mEmp\u001b[0m\u001b[0;34m.\u001b[0m\u001b[0mname\u001b[0m\u001b[0;34m)\u001b[0m\u001b[0;34m\u001b[0m\u001b[0m\n\u001b[0m",
      "\u001b[0;31mAttributeError\u001b[0m: type object 'Emp' has no attribute 'name'"
     ]
    }
   ],
   "source": [
    "class Emp:\n",
    "    company_name=\"Khyaathi\"\n",
    "    company_address=\"maithrivanam\"\n",
    "    def get(x):\n",
    "        return x.name,x.id,x.doj, x.company_name,x.company_address\n",
    "    def __init__(x,name,e_id,doj):\n",
    "        x.name=name\n",
    "        x.id=e_id\n",
    "        x.doj=doj\n",
    "sai=Emp(\"sailaxmi\",1,\"2018-06-02\")\n",
    "jay=Emp(\"JAYARAM\",2,\"2018-07-02\")\n",
    "print(jay.get())\n",
    "print(sai.get())\n",
    "print(Emp.name)"
   ]
  },
  {
   "cell_type": "code",
   "execution_count": null,
   "metadata": {},
   "outputs": [],
   "source": [
    "#define a class for product, write get, get_sales price, get_costprice, get_discount.\n",
    "#define a ware house class with create, update, delete, browse\n"
   ]
  }
 ],
 "metadata": {
  "kernelspec": {
   "display_name": "Python 3",
   "language": "python",
   "name": "python3"
  },
  "language_info": {
   "codemirror_mode": {
    "name": "ipython",
    "version": 3
   },
   "file_extension": ".py",
   "mimetype": "text/x-python",
   "name": "python",
   "nbconvert_exporter": "python",
   "pygments_lexer": "ipython3",
   "version": "3.7.0"
  }
 },
 "nbformat": 4,
 "nbformat_minor": 2
}
