{
 "cells": [
  {
   "cell_type": "code",
   "execution_count": 3,
   "metadata": {},
   "outputs": [
    {
     "data": {
      "text/plain": [
       "('Khayahi', 'maithrivganam')"
      ]
     },
     "execution_count": 3,
     "metadata": {},
     "output_type": "execute_result"
    }
   ],
   "source": [
    "class Emp:\n",
    "    company_name=\"Khayahi\"\n",
    "    company_address=\"maithrivganam\"\n",
    "    def __init__(self, e_id,e_name):\n",
    "        self.name=e_name\n",
    "        self.id=e_id\n",
    "    def get_company(self):\n",
    "        return self.company_name, self.company_address\n",
    "sai=Emp(2,\"sailaxmi\")\n",
    "sai.get_company()"
   ]
  },
  {
   "cell_type": "code",
   "execution_count": 4,
   "metadata": {},
   "outputs": [
    {
     "data": {
      "text/plain": [
       "('Khayahi', 'maithrivganam')"
      ]
     },
     "execution_count": 4,
     "metadata": {},
     "output_type": "execute_result"
    }
   ],
   "source": [
    "class Emp:\n",
    "    company_name=\"Khayahi\"\n",
    "    company_address=\"maithrivganam\"\n",
    "    def __init__(self, e_id,e_name):\n",
    "        self.name=e_name\n",
    "        self.id=e_id\n",
    "    @classmethod\n",
    "    def get_company(self):\n",
    "        return self.company_name, self.company_address\n",
    "sai=Emp(2,\"sailaxmi\")\n",
    "sai.get_company()"
   ]
  },
  {
   "cell_type": "code",
   "execution_count": 5,
   "metadata": {},
   "outputs": [
    {
     "name": "stdout",
     "output_type": "stream",
     "text": [
      "('Khayahi', 'maithrivganam')\n",
      "('Khayahi', 'maithrivganam')\n"
     ]
    }
   ],
   "source": [
    "class Emp:\n",
    "    company_name=\"Khayahi\"\n",
    "    company_address=\"maithrivganam\"\n",
    "    def __init__(self, e_id,e_name):\n",
    "        self.name=e_name\n",
    "        self.id=e_id\n",
    "    @classmethod\n",
    "    def get_company(self):\n",
    "        return self.company_name, self.company_address\n",
    "sai=Emp(2,\"sailaxmi\")\n",
    "print(sai.get_company())\n",
    "print(Emp.get_company())"
   ]
  },
  {
   "cell_type": "code",
   "execution_count": 6,
   "metadata": {},
   "outputs": [
    {
     "name": "stdout",
     "output_type": "stream",
     "text": [
      "('Khayahi', 'maithrivganam')\n",
      "('Khayahi', 'maithrivganam')\n"
     ]
    }
   ],
   "source": [
    "class Emp:\n",
    "    company_name=\"Khayahi\"\n",
    "    company_address=\"maithrivganam\"\n",
    "    def __init__(self, e_id,e_name):\n",
    "        self.name=e_name\n",
    "        self.id=e_id\n",
    "    def get(self): #instance method\n",
    "        return self.name,self.id,self.company_name,self.company_address\n",
    "    @classmethod\n",
    "    def get_company(cls): # class method\n",
    "        return cls.company_name, cls.company_address\n",
    "sai=Emp(2,\"sailaxmi\")\n",
    "print(sai.get_company())\n",
    "print(Emp.get_company())"
   ]
  },
  {
   "cell_type": "code",
   "execution_count": 7,
   "metadata": {},
   "outputs": [
    {
     "name": "stdout",
     "output_type": "stream",
     "text": [
      "('Khayahi', 'maithrivganam')\n",
      "('Khayahi', 'maithrivganam')\n",
      "('sailaxmi', 2, 'Khayahi', 'maithrivganam')\n",
      "30\n",
      "300\n"
     ]
    }
   ],
   "source": [
    "class Emp:\n",
    "    company_name=\"Khayahi\"\n",
    "    company_address=\"maithrivganam\"\n",
    "    def __init__(self, e_id,e_name):\n",
    "        self.name=e_name\n",
    "        self.id=e_id\n",
    "    def get(self): #instance method\n",
    "        return self.name,self.id,self.company_name,self.company_address\n",
    "    @classmethod\n",
    "    def get_company(cls): # class method\n",
    "        return cls.company_name, cls.company_address\n",
    "    @staticmethod\n",
    "    def sta(a,b):\n",
    "        return a+b\n",
    "sai=Emp(2,\"sailaxmi\")\n",
    "print(sai.get_company())\n",
    "print(Emp.get_company())\n",
    "print(sai.get())\n",
    "print(Emp.sta(10,20))\n",
    "print(sai.sta(100,200))"
   ]
  },
  {
   "cell_type": "code",
   "execution_count": 8,
   "metadata": {},
   "outputs": [
    {
     "name": "stdout",
     "output_type": "stream",
     "text": [
      "('Khayahi', 'maithrivganam')\n",
      "('Khayahi', 'maithrivganam')\n",
      "('sailaxmi', 2, 'Khayahi', 'maithrivganam')\n",
      "('sailaxmi', 2, 'Khayahi', 'maithrivganam')\n",
      "30\n",
      "300\n"
     ]
    }
   ],
   "source": [
    "class Emp:\n",
    "    company_name=\"Khayahi\"\n",
    "    company_address=\"maithrivganam\"\n",
    "    def __init__(self, e_id,e_name):\n",
    "        self.name=e_name\n",
    "        self.id=e_id\n",
    "    def get(self): #instance method\n",
    "        return self.name,self.id,self.company_name,self.company_address\n",
    "    @classmethod\n",
    "    def get_company(cls): # class method\n",
    "        return cls.company_name, cls.company_address\n",
    "    @staticmethod\n",
    "    def sta(a,b):\n",
    "        return a+b\n",
    "sai=Emp(2,\"sailaxmi\")\n",
    "print(sai.get_company())\n",
    "print(Emp.get_company())\n",
    "print(sai.get())\n",
    "print(Emp.get(sai))\n",
    "print(Emp.sta(10,20))\n",
    "print(sai.sta(100,200))"
   ]
  },
  {
   "cell_type": "code",
   "execution_count": 10,
   "metadata": {},
   "outputs": [
    {
     "data": {
      "text/plain": [
       "'sailaxmi,2,Khayahi,maithrivganam'"
      ]
     },
     "execution_count": 10,
     "metadata": {},
     "output_type": "execute_result"
    }
   ],
   "source": [
    "class Emp:\n",
    "    company_name=\"Khayahi\"\n",
    "    company_address=\"maithrivganam\"\n",
    "    def __init__(self, e_id,e_name):\n",
    "        self.name=e_name\n",
    "        self.id=e_id\n",
    "        self.details = \"%s,%s,%s,%s\"%(self.name,self.id,self.company_name,self.company_address)\n",
    "sai=Emp(2,\"sailaxmi\")\n",
    "sai.details"
   ]
  },
  {
   "cell_type": "code",
   "execution_count": 11,
   "metadata": {},
   "outputs": [
    {
     "data": {
      "text/plain": [
       "'sailaxmi,2,Khayahi,maithrivganam'"
      ]
     },
     "execution_count": 11,
     "metadata": {},
     "output_type": "execute_result"
    }
   ],
   "source": [
    "class Emp:\n",
    "    company_name=\"Khayahi\"\n",
    "    company_address=\"maithrivganam\"\n",
    "    def __init__(self, e_id,e_name):\n",
    "        self.name=e_name\n",
    "        self.id=e_id\n",
    "        self.details = \"%s,%s,%s,%s\"%(self.name,self.id,self.company_name,self.company_address)\n",
    "sai=Emp(2,\"sailaxmi\")\n",
    "sai.details\n",
    "sai.name=\"sai lakshmi\"\n",
    "sai.details"
   ]
  },
  {
   "cell_type": "code",
   "execution_count": 12,
   "metadata": {},
   "outputs": [
    {
     "name": "stdout",
     "output_type": "stream",
     "text": [
      "sailaxmi,2,Khayahi,maithrivganam\n",
      "sai lakshmi,2,Khayahi,maithrivganam\n"
     ]
    }
   ],
   "source": [
    "class Emp:\n",
    "    company_name=\"Khayahi\"\n",
    "    company_address=\"maithrivganam\"\n",
    "    def __init__(self, e_id,e_name):\n",
    "        self.name=e_name\n",
    "        self.id=e_id\n",
    "    @property\n",
    "    def details(self):\n",
    "        return \"%s,%s,%s,%s\"%(self.name,self.id,self.company_name,self.company_address)\n",
    "sai=Emp(2,\"sailaxmi\")\n",
    "print(sai.details)\n",
    "sai.name=\"sai lakshmi\"\n",
    "print(sai.details)"
   ]
  },
  {
   "cell_type": "code",
   "execution_count": null,
   "metadata": {},
   "outputs": [],
   "source": []
  }
 ],
 "metadata": {
  "kernelspec": {
   "display_name": "Python 3",
   "language": "python",
   "name": "python3"
  },
  "language_info": {
   "codemirror_mode": {
    "name": "ipython",
    "version": 3
   },
   "file_extension": ".py",
   "mimetype": "text/x-python",
   "name": "python",
   "nbconvert_exporter": "python",
   "pygments_lexer": "ipython3",
   "version": "3.7.0"
  }
 },
 "nbformat": 4,
 "nbformat_minor": 2
}
