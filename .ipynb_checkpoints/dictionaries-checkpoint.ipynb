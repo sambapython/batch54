{
 "cells": [
  {
   "cell_type": "code",
   "execution_count": 1,
   "metadata": {},
   "outputs": [],
   "source": [
    "person={\"name\":\"vedha\",\"age\":0.8,\"weight\":9,\"height\":100}\n",
    "address={\"street\":\"Anjaneya nagar\",\"city\":\"hyderabad\",\"pin\":50018,\"state\":\"TS\"}\n"
   ]
  },
  {
   "cell_type": "code",
   "execution_count": 2,
   "metadata": {},
   "outputs": [
    {
     "name": "stdout",
     "output_type": "stream",
     "text": [
      "{'name': 'vedha', 'age': 0.8, 'weight': 9, 'height': 100}\n"
     ]
    }
   ],
   "source": [
    "print(person)"
   ]
  },
  {
   "cell_type": "code",
   "execution_count": 3,
   "metadata": {},
   "outputs": [
    {
     "name": "stdout",
     "output_type": "stream",
     "text": [
      "{'street': 'Anjaneya nagar', 'city': 'hyderabad', 'pin': 50018, 'state': 'TS'}\n"
     ]
    }
   ],
   "source": [
    "print(address)"
   ]
  },
  {
   "cell_type": "code",
   "execution_count": 4,
   "metadata": {},
   "outputs": [
    {
     "data": {
      "text/plain": [
       "4"
      ]
     },
     "execution_count": 4,
     "metadata": {},
     "output_type": "execute_result"
    }
   ],
   "source": [
    "len(person)"
   ]
  },
  {
   "cell_type": "code",
   "execution_count": 5,
   "metadata": {},
   "outputs": [
    {
     "data": {
      "text/plain": [
       "4"
      ]
     },
     "execution_count": 5,
     "metadata": {},
     "output_type": "execute_result"
    }
   ],
   "source": [
    "len(address)"
   ]
  },
  {
   "cell_type": "code",
   "execution_count": 6,
   "metadata": {},
   "outputs": [
    {
     "ename": "KeyError",
     "evalue": "0",
     "output_type": "error",
     "traceback": [
      "\u001b[0;31m---------------------------------------------------------------------------\u001b[0m",
      "\u001b[0;31mKeyError\u001b[0m                                  Traceback (most recent call last)",
      "\u001b[0;32m<ipython-input-6-6c069e3fef1a>\u001b[0m in \u001b[0;36m<module>\u001b[0;34m()\u001b[0m\n\u001b[1;32m      1\u001b[0m \u001b[0mperson\u001b[0m\u001b[0;34m=\u001b[0m\u001b[0;34m{\u001b[0m\u001b[0;34m\"name\"\u001b[0m\u001b[0;34m:\u001b[0m\u001b[0;34m\"vedha\"\u001b[0m\u001b[0;34m,\u001b[0m\u001b[0;34m\"age\"\u001b[0m\u001b[0;34m:\u001b[0m\u001b[0;36m0.8\u001b[0m\u001b[0;34m,\u001b[0m\u001b[0;34m\"weight\"\u001b[0m\u001b[0;34m:\u001b[0m\u001b[0;36m9\u001b[0m\u001b[0;34m,\u001b[0m\u001b[0;34m\"height\"\u001b[0m\u001b[0;34m:\u001b[0m\u001b[0;36m100\u001b[0m\u001b[0;34m}\u001b[0m\u001b[0;34m\u001b[0m\u001b[0m\n\u001b[1;32m      2\u001b[0m \u001b[0maddress\u001b[0m\u001b[0;34m=\u001b[0m\u001b[0;34m{\u001b[0m\u001b[0;34m\"street\"\u001b[0m\u001b[0;34m:\u001b[0m\u001b[0;34m\"Anjaneya nagar\"\u001b[0m\u001b[0;34m,\u001b[0m\u001b[0;34m\"city\"\u001b[0m\u001b[0;34m:\u001b[0m\u001b[0;34m\"hyderabad\"\u001b[0m\u001b[0;34m,\u001b[0m\u001b[0;34m\"pin\"\u001b[0m\u001b[0;34m:\u001b[0m\u001b[0;36m50018\u001b[0m\u001b[0;34m,\u001b[0m\u001b[0;34m\"state\"\u001b[0m\u001b[0;34m:\u001b[0m\u001b[0;34m\"TS\"\u001b[0m\u001b[0;34m}\u001b[0m\u001b[0;34m\u001b[0m\u001b[0m\n\u001b[0;32m----> 3\u001b[0;31m \u001b[0mprint\u001b[0m\u001b[0;34m(\u001b[0m\u001b[0mperson\u001b[0m\u001b[0;34m[\u001b[0m\u001b[0;36m0\u001b[0m\u001b[0;34m]\u001b[0m\u001b[0;34m)\u001b[0m\u001b[0;34m\u001b[0m\u001b[0m\n\u001b[0m",
      "\u001b[0;31mKeyError\u001b[0m: 0"
     ]
    }
   ],
   "source": [
    "person={\"name\":\"vedha\",\"age\":0.8,\"weight\":9,\"height\":100}\n",
    "address={\"street\":\"Anjaneya nagar\",\"city\":\"hyderabad\",\"pin\":50018,\"state\":\"TS\"}\n",
    "print(person[0])"
   ]
  },
  {
   "cell_type": "code",
   "execution_count": 7,
   "metadata": {},
   "outputs": [
    {
     "name": "stdout",
     "output_type": "stream",
     "text": [
      "name\n",
      "age\n",
      "weight\n",
      "height\n"
     ]
    }
   ],
   "source": [
    "for i in person:\n",
    "    print(i)"
   ]
  },
  {
   "cell_type": "code",
   "execution_count": 8,
   "metadata": {},
   "outputs": [
    {
     "ename": "KeyError",
     "evalue": "0",
     "output_type": "error",
     "traceback": [
      "\u001b[0;31m---------------------------------------------------------------------------\u001b[0m",
      "\u001b[0;31mKeyError\u001b[0m                                  Traceback (most recent call last)",
      "\u001b[0;32m<ipython-input-8-6c069e3fef1a>\u001b[0m in \u001b[0;36m<module>\u001b[0;34m()\u001b[0m\n\u001b[1;32m      1\u001b[0m \u001b[0mperson\u001b[0m\u001b[0;34m=\u001b[0m\u001b[0;34m{\u001b[0m\u001b[0;34m\"name\"\u001b[0m\u001b[0;34m:\u001b[0m\u001b[0;34m\"vedha\"\u001b[0m\u001b[0;34m,\u001b[0m\u001b[0;34m\"age\"\u001b[0m\u001b[0;34m:\u001b[0m\u001b[0;36m0.8\u001b[0m\u001b[0;34m,\u001b[0m\u001b[0;34m\"weight\"\u001b[0m\u001b[0;34m:\u001b[0m\u001b[0;36m9\u001b[0m\u001b[0;34m,\u001b[0m\u001b[0;34m\"height\"\u001b[0m\u001b[0;34m:\u001b[0m\u001b[0;36m100\u001b[0m\u001b[0;34m}\u001b[0m\u001b[0;34m\u001b[0m\u001b[0m\n\u001b[1;32m      2\u001b[0m \u001b[0maddress\u001b[0m\u001b[0;34m=\u001b[0m\u001b[0;34m{\u001b[0m\u001b[0;34m\"street\"\u001b[0m\u001b[0;34m:\u001b[0m\u001b[0;34m\"Anjaneya nagar\"\u001b[0m\u001b[0;34m,\u001b[0m\u001b[0;34m\"city\"\u001b[0m\u001b[0;34m:\u001b[0m\u001b[0;34m\"hyderabad\"\u001b[0m\u001b[0;34m,\u001b[0m\u001b[0;34m\"pin\"\u001b[0m\u001b[0;34m:\u001b[0m\u001b[0;36m50018\u001b[0m\u001b[0;34m,\u001b[0m\u001b[0;34m\"state\"\u001b[0m\u001b[0;34m:\u001b[0m\u001b[0;34m\"TS\"\u001b[0m\u001b[0;34m}\u001b[0m\u001b[0;34m\u001b[0m\u001b[0m\n\u001b[0;32m----> 3\u001b[0;31m \u001b[0mprint\u001b[0m\u001b[0;34m(\u001b[0m\u001b[0mperson\u001b[0m\u001b[0;34m[\u001b[0m\u001b[0;36m0\u001b[0m\u001b[0;34m]\u001b[0m\u001b[0;34m)\u001b[0m\u001b[0;34m\u001b[0m\u001b[0m\n\u001b[0m",
      "\u001b[0;31mKeyError\u001b[0m: 0"
     ]
    }
   ],
   "source": [
    "person={\"name\":\"vedha\",\"age\":0.8,\"weight\":9,\"height\":100}\n",
    "address={\"street\":\"Anjaneya nagar\",\"city\":\"hyderabad\",\"pin\":50018,\"state\":\"TS\"}\n",
    "print(person[0])"
   ]
  },
  {
   "cell_type": "code",
   "execution_count": 9,
   "metadata": {},
   "outputs": [
    {
     "name": "stdout",
     "output_type": "stream",
     "text": [
      "vedha\n"
     ]
    }
   ],
   "source": [
    "person={\"name\":\"vedha\",\"age\":0.8,\"weight\":9,\"height\":100}\n",
    "address={\"street\":\"Anjaneya nagar\",\"city\":\"hyderabad\",\"pin\":50018,\"state\":\"TS\"}\n",
    "print(person[\"name\"])"
   ]
  },
  {
   "cell_type": "code",
   "execution_count": 10,
   "metadata": {},
   "outputs": [
    {
     "name": "stdout",
     "output_type": "stream",
     "text": [
      "vedha\n",
      "vedha\n"
     ]
    }
   ],
   "source": [
    "person={\"name\":\"vedha\",\"age\":0.8,\"weight\":9,\"height\":100}\n",
    "address={\"street\":\"Anjaneya nagar\",\"city\":\"hyderabad\",\"pin\":50018,\"state\":\"TS\"}\n",
    "print(person[\"name\"])\n",
    "print(person.get(\"name\"))"
   ]
  },
  {
   "cell_type": "code",
   "execution_count": 11,
   "metadata": {},
   "outputs": [
    {
     "ename": "KeyError",
     "evalue": "'pan'",
     "output_type": "error",
     "traceback": [
      "\u001b[0;31m---------------------------------------------------------------------------\u001b[0m",
      "\u001b[0;31mKeyError\u001b[0m                                  Traceback (most recent call last)",
      "\u001b[0;32m<ipython-input-11-3cd69273bb2d>\u001b[0m in \u001b[0;36m<module>\u001b[0;34m()\u001b[0m\n\u001b[1;32m      1\u001b[0m \u001b[0mperson\u001b[0m\u001b[0;34m=\u001b[0m\u001b[0;34m{\u001b[0m\u001b[0;34m\"name\"\u001b[0m\u001b[0;34m:\u001b[0m\u001b[0;34m\"vedha\"\u001b[0m\u001b[0;34m,\u001b[0m\u001b[0;34m\"age\"\u001b[0m\u001b[0;34m:\u001b[0m\u001b[0;36m0.8\u001b[0m\u001b[0;34m,\u001b[0m\u001b[0;34m\"weight\"\u001b[0m\u001b[0;34m:\u001b[0m\u001b[0;36m9\u001b[0m\u001b[0;34m,\u001b[0m\u001b[0;34m\"height\"\u001b[0m\u001b[0;34m:\u001b[0m\u001b[0;36m100\u001b[0m\u001b[0;34m}\u001b[0m\u001b[0;34m\u001b[0m\u001b[0m\n\u001b[1;32m      2\u001b[0m \u001b[0maddress\u001b[0m\u001b[0;34m=\u001b[0m\u001b[0;34m{\u001b[0m\u001b[0;34m\"street\"\u001b[0m\u001b[0;34m:\u001b[0m\u001b[0;34m\"Anjaneya nagar\"\u001b[0m\u001b[0;34m,\u001b[0m\u001b[0;34m\"city\"\u001b[0m\u001b[0;34m:\u001b[0m\u001b[0;34m\"hyderabad\"\u001b[0m\u001b[0;34m,\u001b[0m\u001b[0;34m\"pin\"\u001b[0m\u001b[0;34m:\u001b[0m\u001b[0;36m50018\u001b[0m\u001b[0;34m,\u001b[0m\u001b[0;34m\"state\"\u001b[0m\u001b[0;34m:\u001b[0m\u001b[0;34m\"TS\"\u001b[0m\u001b[0;34m}\u001b[0m\u001b[0;34m\u001b[0m\u001b[0m\n\u001b[0;32m----> 3\u001b[0;31m \u001b[0mprint\u001b[0m\u001b[0;34m(\u001b[0m\u001b[0mperson\u001b[0m\u001b[0;34m[\u001b[0m\u001b[0;34m\"pan\"\u001b[0m\u001b[0;34m]\u001b[0m\u001b[0;34m)\u001b[0m\u001b[0;34m\u001b[0m\u001b[0m\n\u001b[0m",
      "\u001b[0;31mKeyError\u001b[0m: 'pan'"
     ]
    }
   ],
   "source": [
    "person={\"name\":\"vedha\",\"age\":0.8,\"weight\":9,\"height\":100}\n",
    "address={\"street\":\"Anjaneya nagar\",\"city\":\"hyderabad\",\"pin\":50018,\"state\":\"TS\"}\n",
    "print(person[\"pan\"])\n"
   ]
  },
  {
   "cell_type": "code",
   "execution_count": 12,
   "metadata": {},
   "outputs": [
    {
     "name": "stdout",
     "output_type": "stream",
     "text": [
      "None\n"
     ]
    }
   ],
   "source": [
    "person={\"name\":\"vedha\",\"age\":0.8,\"weight\":9,\"height\":100}\n",
    "address={\"street\":\"Anjaneya nagar\",\"city\":\"hyderabad\",\"pin\":50018,\"state\":\"TS\"}\n",
    "\n",
    "print(person.get(\"pan\"))"
   ]
  },
  {
   "cell_type": "code",
   "execution_count": 13,
   "metadata": {},
   "outputs": [
    {
     "name": "stdout",
     "output_type": "stream",
     "text": [
      "default value\n"
     ]
    }
   ],
   "source": [
    "person={\"name\":\"vedha\",\"age\":0.8,\"weight\":9,\"height\":100}\n",
    "address={\"street\":\"Anjaneya nagar\",\"city\":\"hyderabad\",\"pin\":50018,\"state\":\"TS\"}\n",
    "print(person.get(\"pan\",\"default value\"))"
   ]
  },
  {
   "cell_type": "code",
   "execution_count": 14,
   "metadata": {},
   "outputs": [
    {
     "name": "stdout",
     "output_type": "stream",
     "text": [
      "{'name': 'samba', 'age': 0.8, 'weight': 9, 'height': 100}\n"
     ]
    }
   ],
   "source": [
    "person={\"name\":\"vedha\",\"age\":0.8,\"weight\":9,\"height\":100}\n",
    "address={\"street\":\"Anjaneya nagar\",\"city\":\"hyderabad\",\"pin\":50018,\"state\":\"TS\"}\n",
    "person[\"name\"]=\"samba\"\n",
    "print(person)"
   ]
  },
  {
   "cell_type": "code",
   "execution_count": 15,
   "metadata": {},
   "outputs": [
    {
     "name": "stdout",
     "output_type": "stream",
     "text": [
      "{'name': 'vedha', 'age': 0.8, 'weight': 9, 'height': 100, 'pan': 'BRCPR324'}\n"
     ]
    }
   ],
   "source": [
    "person={\"name\":\"vedha\",\"age\":0.8,\"weight\":9,\"height\":100}\n",
    "address={\"street\":\"Anjaneya nagar\",\"city\":\"hyderabad\",\"pin\":50018,\"state\":\"TS\"}\n",
    "person[\"pan\"]=\"BRCPR324\"\n",
    "print(person)"
   ]
  },
  {
   "cell_type": "code",
   "execution_count": 16,
   "metadata": {},
   "outputs": [
    {
     "name": "stdout",
     "output_type": "stream",
     "text": [
      "{'name': 'vedha', 'age': 0.8, 'weight': 9, 'height': 100, 'pan': 'BRCPR2345', 'adhar': '2354ewt243', 'passport': 'wert254234'}\n"
     ]
    }
   ],
   "source": [
    "person={\"name\":\"vedha\",\"age\":0.8,\"weight\":9,\"height\":100}\n",
    "address={\"street\":\"Anjaneya nagar\",\"city\":\"hyderabad\",\"pin\":50018,\"state\":\"TS\"}\n",
    "person.update({\"pan\":\"BRCPR2345\",\"adhar\":\"2354ewt243\",\"passport\":\"wert254234\"})\n",
    "print(person)"
   ]
  },
  {
   "cell_type": "code",
   "execution_count": 17,
   "metadata": {},
   "outputs": [
    {
     "name": "stdout",
     "output_type": "stream",
     "text": [
      "{'name': 'Samba', 'age': 0.8, 'weight': 9, 'height': 100, 'pan': 'BRCPR2345', 'adhar': '2354ewt243', 'passport': 'wert254234'}\n"
     ]
    }
   ],
   "source": [
    "person={\"name\":\"vedha\",\"age\":0.8,\"weight\":9,\"height\":100}\n",
    "address={\"street\":\"Anjaneya nagar\",\"city\":\"hyderabad\",\"pin\":50018,\"state\":\"TS\"}\n",
    "person.update({\"pan\":\"BRCPR2345\",\"adhar\":\"2354ewt243\",\"passport\":\"wert254234\",\"name\":\"Samba\"})\n",
    "print(person)"
   ]
  },
  {
   "cell_type": "code",
   "execution_count": 18,
   "metadata": {},
   "outputs": [
    {
     "name": "stdout",
     "output_type": "stream",
     "text": [
      "{'name': 'vedha', 'age': 0.8, 'weight': 9, 'height': 100, 'pan': 'BRCPR3r52345'}\n"
     ]
    }
   ],
   "source": [
    "person={\"name\":\"vedha\",\"age\":0.8,\"weight\":9,\"height\":100}\n",
    "address={\"street\":\"Anjaneya nagar\",\"city\":\"hyderabad\",\"pin\":50018,\"state\":\"TS\"}\n",
    "person.setdefault(\"pan\",\"BRCPR3r52345\")\n",
    "print(person)"
   ]
  },
  {
   "cell_type": "code",
   "execution_count": 19,
   "metadata": {},
   "outputs": [
    {
     "name": "stdout",
     "output_type": "stream",
     "text": [
      "{'name': 'vedha', 'age': 0.8, 'weight': 9, 'height': 100}\n"
     ]
    }
   ],
   "source": [
    "person={\"name\":\"vedha\",\"age\":0.8,\"weight\":9,\"height\":100}\n",
    "address={\"street\":\"Anjaneya nagar\",\"city\":\"hyderabad\",\"pin\":50018,\"state\":\"TS\"}\n",
    "person.setdefault(\"name\",\"Samba\")\n",
    "print(person)"
   ]
  },
  {
   "cell_type": "code",
   "execution_count": 20,
   "metadata": {},
   "outputs": [
    {
     "ename": "TypeError",
     "evalue": "pop expected at least 1 arguments, got 0",
     "output_type": "error",
     "traceback": [
      "\u001b[0;31m---------------------------------------------------------------------------\u001b[0m",
      "\u001b[0;31mTypeError\u001b[0m                                 Traceback (most recent call last)",
      "\u001b[0;32m<ipython-input-20-b07cb44c1b5c>\u001b[0m in \u001b[0;36m<module>\u001b[0;34m()\u001b[0m\n\u001b[1;32m      1\u001b[0m \u001b[0mperson\u001b[0m\u001b[0;34m=\u001b[0m\u001b[0;34m{\u001b[0m\u001b[0;34m\"name\"\u001b[0m\u001b[0;34m:\u001b[0m\u001b[0;34m\"vedha\"\u001b[0m\u001b[0;34m,\u001b[0m\u001b[0;34m\"age\"\u001b[0m\u001b[0;34m:\u001b[0m\u001b[0;36m0.8\u001b[0m\u001b[0;34m,\u001b[0m\u001b[0;34m\"weight\"\u001b[0m\u001b[0;34m:\u001b[0m\u001b[0;36m9\u001b[0m\u001b[0;34m,\u001b[0m\u001b[0;34m\"height\"\u001b[0m\u001b[0;34m:\u001b[0m\u001b[0;36m100\u001b[0m\u001b[0;34m}\u001b[0m\u001b[0;34m\u001b[0m\u001b[0m\n\u001b[1;32m      2\u001b[0m \u001b[0maddress\u001b[0m\u001b[0;34m=\u001b[0m\u001b[0;34m{\u001b[0m\u001b[0;34m\"street\"\u001b[0m\u001b[0;34m:\u001b[0m\u001b[0;34m\"Anjaneya nagar\"\u001b[0m\u001b[0;34m,\u001b[0m\u001b[0;34m\"city\"\u001b[0m\u001b[0;34m:\u001b[0m\u001b[0;34m\"hyderabad\"\u001b[0m\u001b[0;34m,\u001b[0m\u001b[0;34m\"pin\"\u001b[0m\u001b[0;34m:\u001b[0m\u001b[0;36m50018\u001b[0m\u001b[0;34m,\u001b[0m\u001b[0;34m\"state\"\u001b[0m\u001b[0;34m:\u001b[0m\u001b[0;34m\"TS\"\u001b[0m\u001b[0;34m}\u001b[0m\u001b[0;34m\u001b[0m\u001b[0m\n\u001b[0;32m----> 3\u001b[0;31m \u001b[0mperson\u001b[0m\u001b[0;34m.\u001b[0m\u001b[0mpop\u001b[0m\u001b[0;34m(\u001b[0m\u001b[0;34m)\u001b[0m\u001b[0;34m\u001b[0m\u001b[0m\n\u001b[0m\u001b[1;32m      4\u001b[0m \u001b[0mprint\u001b[0m\u001b[0;34m(\u001b[0m\u001b[0mperson\u001b[0m\u001b[0;34m)\u001b[0m\u001b[0;34m\u001b[0m\u001b[0m\n",
      "\u001b[0;31mTypeError\u001b[0m: pop expected at least 1 arguments, got 0"
     ]
    }
   ],
   "source": [
    "person={\"name\":\"vedha\",\"age\":0.8,\"weight\":9,\"height\":100}\n",
    "address={\"street\":\"Anjaneya nagar\",\"city\":\"hyderabad\",\"pin\":50018,\"state\":\"TS\"}\n",
    "person.pop()\n",
    "print(person)"
   ]
  },
  {
   "cell_type": "code",
   "execution_count": 21,
   "metadata": {},
   "outputs": [
    {
     "name": "stdout",
     "output_type": "stream",
     "text": [
      "{'name': 'vedha', 'weight': 9, 'height': 100}\n"
     ]
    }
   ],
   "source": [
    "person={\"name\":\"vedha\",\"age\":0.8,\"weight\":9,\"height\":100}\n",
    "address={\"street\":\"Anjaneya nagar\",\"city\":\"hyderabad\",\"pin\":50018,\"state\":\"TS\"}\n",
    "person.pop(\"age\")\n",
    "print(person)"
   ]
  },
  {
   "cell_type": "code",
   "execution_count": 22,
   "metadata": {},
   "outputs": [
    {
     "ename": "KeyError",
     "evalue": "'pan'",
     "output_type": "error",
     "traceback": [
      "\u001b[0;31m---------------------------------------------------------------------------\u001b[0m",
      "\u001b[0;31mKeyError\u001b[0m                                  Traceback (most recent call last)",
      "\u001b[0;32m<ipython-input-22-489dc9da5341>\u001b[0m in \u001b[0;36m<module>\u001b[0;34m()\u001b[0m\n\u001b[1;32m      1\u001b[0m \u001b[0mperson\u001b[0m\u001b[0;34m=\u001b[0m\u001b[0;34m{\u001b[0m\u001b[0;34m\"name\"\u001b[0m\u001b[0;34m:\u001b[0m\u001b[0;34m\"vedha\"\u001b[0m\u001b[0;34m,\u001b[0m\u001b[0;34m\"age\"\u001b[0m\u001b[0;34m:\u001b[0m\u001b[0;36m0.8\u001b[0m\u001b[0;34m,\u001b[0m\u001b[0;34m\"weight\"\u001b[0m\u001b[0;34m:\u001b[0m\u001b[0;36m9\u001b[0m\u001b[0;34m,\u001b[0m\u001b[0;34m\"height\"\u001b[0m\u001b[0;34m:\u001b[0m\u001b[0;36m100\u001b[0m\u001b[0;34m}\u001b[0m\u001b[0;34m\u001b[0m\u001b[0m\n\u001b[1;32m      2\u001b[0m \u001b[0maddress\u001b[0m\u001b[0;34m=\u001b[0m\u001b[0;34m{\u001b[0m\u001b[0;34m\"street\"\u001b[0m\u001b[0;34m:\u001b[0m\u001b[0;34m\"Anjaneya nagar\"\u001b[0m\u001b[0;34m,\u001b[0m\u001b[0;34m\"city\"\u001b[0m\u001b[0;34m:\u001b[0m\u001b[0;34m\"hyderabad\"\u001b[0m\u001b[0;34m,\u001b[0m\u001b[0;34m\"pin\"\u001b[0m\u001b[0;34m:\u001b[0m\u001b[0;36m50018\u001b[0m\u001b[0;34m,\u001b[0m\u001b[0;34m\"state\"\u001b[0m\u001b[0;34m:\u001b[0m\u001b[0;34m\"TS\"\u001b[0m\u001b[0;34m}\u001b[0m\u001b[0;34m\u001b[0m\u001b[0m\n\u001b[0;32m----> 3\u001b[0;31m \u001b[0mperson\u001b[0m\u001b[0;34m.\u001b[0m\u001b[0mpop\u001b[0m\u001b[0;34m(\u001b[0m\u001b[0;34m\"pan\"\u001b[0m\u001b[0;34m)\u001b[0m\u001b[0;34m\u001b[0m\u001b[0m\n\u001b[0m\u001b[1;32m      4\u001b[0m \u001b[0mprint\u001b[0m\u001b[0;34m(\u001b[0m\u001b[0mperson\u001b[0m\u001b[0;34m)\u001b[0m\u001b[0;34m\u001b[0m\u001b[0m\n",
      "\u001b[0;31mKeyError\u001b[0m: 'pan'"
     ]
    }
   ],
   "source": [
    "person={\"name\":\"vedha\",\"age\":0.8,\"weight\":9,\"height\":100}\n",
    "address={\"street\":\"Anjaneya nagar\",\"city\":\"hyderabad\",\"pin\":50018,\"state\":\"TS\"}\n",
    "person.pop(\"pan\")\n",
    "print(person)"
   ]
  },
  {
   "cell_type": "code",
   "execution_count": 23,
   "metadata": {},
   "outputs": [
    {
     "name": "stdout",
     "output_type": "stream",
     "text": [
      "{'name': 'vedha', 'age': 0.8, 'weight': 9, 'height': 100}\n"
     ]
    }
   ],
   "source": [
    "person={\"name\":\"vedha\",\"age\":0.8,\"weight\":9,\"height\":100}\n",
    "address={\"street\":\"Anjaneya nagar\",\"city\":\"hyderabad\",\"pin\":50018,\"state\":\"TS\"}\n",
    "person.pop(\"pan\",\"SDFSD\")\n",
    "print(person)"
   ]
  },
  {
   "cell_type": "code",
   "execution_count": 24,
   "metadata": {},
   "outputs": [
    {
     "name": "stdout",
     "output_type": "stream",
     "text": [
      "{'age': 0.8, 'weight': 9, 'height': 100}\n"
     ]
    }
   ],
   "source": [
    "person={\"name\":\"vedha\",\"age\":0.8,\"weight\":9,\"height\":100}\n",
    "address={\"street\":\"Anjaneya nagar\",\"city\":\"hyderabad\",\"pin\":50018,\"state\":\"TS\"}\n",
    "person.pop(\"name\",\"SDFSD\")\n",
    "print(person)"
   ]
  },
  {
   "cell_type": "code",
   "execution_count": 25,
   "metadata": {},
   "outputs": [
    {
     "name": "stdout",
     "output_type": "stream",
     "text": [
      "SDFSD\n"
     ]
    }
   ],
   "source": [
    "person={\"name\":\"vedha\",\"age\":0.8,\"weight\":9,\"height\":100}\n",
    "address={\"street\":\"Anjaneya nagar\",\"city\":\"hyderabad\",\"pin\":50018,\"state\":\"TS\"}\n",
    "res=person.pop(\"pan\",\"SDFSD\")\n",
    "print(res)"
   ]
  },
  {
   "cell_type": "code",
   "execution_count": 26,
   "metadata": {},
   "outputs": [
    {
     "name": "stdout",
     "output_type": "stream",
     "text": [
      "vedha\n"
     ]
    }
   ],
   "source": [
    "person={\"name\":\"vedha\",\"age\":0.8,\"weight\":9,\"height\":100}\n",
    "address={\"street\":\"Anjaneya nagar\",\"city\":\"hyderabad\",\"pin\":50018,\"state\":\"TS\"}\n",
    "res=person.pop(\"name\",\"SDFSD\")\n",
    "print(res)"
   ]
  },
  {
   "cell_type": "code",
   "execution_count": 27,
   "metadata": {},
   "outputs": [
    {
     "name": "stdout",
     "output_type": "stream",
     "text": [
      "('height', 100)\n"
     ]
    }
   ],
   "source": [
    "person={\"name\":\"vedha\",\"age\":0.8,\"weight\":9,\"height\":100}\n",
    "address={\"street\":\"Anjaneya nagar\",\"city\":\"hyderabad\",\"pin\":50018,\"state\":\"TS\"}\n",
    "res=person.popitem()\n",
    "print(res)"
   ]
  },
  {
   "cell_type": "code",
   "execution_count": 28,
   "metadata": {},
   "outputs": [],
   "source": [
    "person.popitem?"
   ]
  },
  {
   "cell_type": "code",
   "execution_count": 29,
   "metadata": {},
   "outputs": [
    {
     "name": "stdout",
     "output_type": "stream",
     "text": [
      "('height', 100)\n",
      "('weight', 9)\n",
      "('age', 0.8)\n",
      "('name', 'vedha')\n"
     ]
    },
    {
     "ename": "KeyError",
     "evalue": "'popitem(): dictionary is empty'",
     "output_type": "error",
     "traceback": [
      "\u001b[0;31m---------------------------------------------------------------------------\u001b[0m",
      "\u001b[0;31mKeyError\u001b[0m                                  Traceback (most recent call last)",
      "\u001b[0;32m<ipython-input-29-82b141c7a87c>\u001b[0m in \u001b[0;36m<module>\u001b[0;34m()\u001b[0m\n\u001b[1;32m      2\u001b[0m \u001b[0maddress\u001b[0m\u001b[0;34m=\u001b[0m\u001b[0;34m{\u001b[0m\u001b[0;34m\"street\"\u001b[0m\u001b[0;34m:\u001b[0m\u001b[0;34m\"Anjaneya nagar\"\u001b[0m\u001b[0;34m,\u001b[0m\u001b[0;34m\"city\"\u001b[0m\u001b[0;34m:\u001b[0m\u001b[0;34m\"hyderabad\"\u001b[0m\u001b[0;34m,\u001b[0m\u001b[0;34m\"pin\"\u001b[0m\u001b[0;34m:\u001b[0m\u001b[0;36m50018\u001b[0m\u001b[0;34m,\u001b[0m\u001b[0;34m\"state\"\u001b[0m\u001b[0;34m:\u001b[0m\u001b[0;34m\"TS\"\u001b[0m\u001b[0;34m}\u001b[0m\u001b[0;34m\u001b[0m\u001b[0m\n\u001b[1;32m      3\u001b[0m \u001b[0;32mfor\u001b[0m \u001b[0mi\u001b[0m \u001b[0;32min\u001b[0m \u001b[0mrange\u001b[0m\u001b[0;34m(\u001b[0m\u001b[0;36m10\u001b[0m\u001b[0;34m)\u001b[0m\u001b[0;34m:\u001b[0m\u001b[0;34m\u001b[0m\u001b[0m\n\u001b[0;32m----> 4\u001b[0;31m     \u001b[0mprint\u001b[0m\u001b[0;34m(\u001b[0m\u001b[0mperson\u001b[0m\u001b[0;34m.\u001b[0m\u001b[0mpopitem\u001b[0m\u001b[0;34m(\u001b[0m\u001b[0;34m)\u001b[0m\u001b[0;34m)\u001b[0m\u001b[0;34m\u001b[0m\u001b[0m\n\u001b[0m",
      "\u001b[0;31mKeyError\u001b[0m: 'popitem(): dictionary is empty'"
     ]
    }
   ],
   "source": [
    "person={\"name\":\"vedha\",\"age\":0.8,\"weight\":9,\"height\":100}\n",
    "address={\"street\":\"Anjaneya nagar\",\"city\":\"hyderabad\",\"pin\":50018,\"state\":\"TS\"}\n",
    "for i in range(10):\n",
    "    print(person.popitem())"
   ]
  },
  {
   "cell_type": "code",
   "execution_count": 30,
   "metadata": {},
   "outputs": [
    {
     "name": "stdout",
     "output_type": "stream",
     "text": [
      "name\n",
      "age\n",
      "weight\n",
      "height\n"
     ]
    }
   ],
   "source": [
    "person={\"name\":\"vedha\",\"age\":0.8,\"weight\":9,\"height\":100}\n",
    "for i in person:\n",
    "    print(i)"
   ]
  },
  {
   "cell_type": "code",
   "execution_count": 31,
   "metadata": {},
   "outputs": [
    {
     "name": "stdout",
     "output_type": "stream",
     "text": [
      "name vedha\n",
      "age 0.8\n",
      "weight 9\n",
      "height 100\n"
     ]
    }
   ],
   "source": [
    "person={\"name\":\"vedha\",\"age\":0.8,\"weight\":9,\"height\":100}\n",
    "for i in person:\n",
    "    print(i,person.get(i))"
   ]
  },
  {
   "cell_type": "code",
   "execution_count": 32,
   "metadata": {},
   "outputs": [
    {
     "name": "stdout",
     "output_type": "stream",
     "text": [
      "('name', 'vedha')\n",
      "('age', 0.8)\n",
      "('weight', 9)\n",
      "('height', 100)\n"
     ]
    }
   ],
   "source": [
    "person={\"name\":\"vedha\",\"age\":0.8,\"weight\":9,\"height\":100}\n",
    "for i in person.items():\n",
    "    print(i)"
   ]
  },
  {
   "cell_type": "code",
   "execution_count": 33,
   "metadata": {},
   "outputs": [
    {
     "name": "stdout",
     "output_type": "stream",
     "text": [
      "name\n",
      "age\n",
      "weight\n",
      "height\n"
     ]
    }
   ],
   "source": [
    "person={\"name\":\"vedha\",\"age\":0.8,\"weight\":9,\"height\":100}\n",
    "for i in person.keys():\n",
    "    print(i)"
   ]
  },
  {
   "cell_type": "code",
   "execution_count": 34,
   "metadata": {},
   "outputs": [
    {
     "name": "stdout",
     "output_type": "stream",
     "text": [
      "vedha\n",
      "0.8\n",
      "9\n",
      "100\n"
     ]
    }
   ],
   "source": [
    "person={\"name\":\"vedha\",\"age\":0.8,\"weight\":9,\"height\":100}\n",
    "for i in person.values():\n",
    "    print(i)"
   ]
  },
  {
   "cell_type": "code",
   "execution_count": 35,
   "metadata": {},
   "outputs": [
    {
     "name": "stdout",
     "output_type": "stream",
     "text": [
      "('name', 'vedha')\n",
      "('age', 0.8)\n",
      "('weight', 9)\n",
      "('height', 100)\n"
     ]
    }
   ],
   "source": [
    "person={\"name\":\"vedha\",\"age\":0.8,\"weight\":9,\"height\":100}\n",
    "for i in person.items():\n",
    "    print(i)"
   ]
  },
  {
   "cell_type": "code",
   "execution_count": 36,
   "metadata": {},
   "outputs": [
    {
     "name": "stdout",
     "output_type": "stream",
     "text": [
      "name vedha\n",
      "age 0.8\n",
      "weight 9\n",
      "height 100\n"
     ]
    }
   ],
   "source": [
    "person={\"name\":\"vedha\",\"age\":0.8,\"weight\":9,\"height\":100}\n",
    "for k,v in person.items():\n",
    "    print(k,v)"
   ]
  },
  {
   "cell_type": "code",
   "execution_count": 38,
   "metadata": {},
   "outputs": [
    {
     "name": "stdout",
     "output_type": "stream",
     "text": [
      "True\n"
     ]
    }
   ],
   "source": [
    "person={\"name\":\"vedha\",\"age\":0.8,\"weight\":9,\"height\":100}\n",
    "print(\"name\" in person)"
   ]
  },
  {
   "cell_type": "code",
   "execution_count": 39,
   "metadata": {},
   "outputs": [
    {
     "name": "stdout",
     "output_type": "stream",
     "text": [
      "False\n"
     ]
    }
   ],
   "source": [
    "person={\"name\":\"vedha\",\"age\":0.8,\"weight\":9,\"height\":100}\n",
    "print(\"pan\" in person)"
   ]
  },
  {
   "cell_type": "code",
   "execution_count": 40,
   "metadata": {},
   "outputs": [
    {
     "name": "stdout",
     "output_type": "stream",
     "text": [
      "True\n"
     ]
    }
   ],
   "source": [
    "person={\"name\":\"vedha\",\"age\":0.8,\"weight\":9,\"height\":100}\n",
    "print(\"name\" in person.keys())"
   ]
  },
  {
   "cell_type": "code",
   "execution_count": 41,
   "metadata": {},
   "outputs": [
    {
     "name": "stdout",
     "output_type": "stream",
     "text": [
      "False\n"
     ]
    }
   ],
   "source": [
    "person={\"name\":\"vedha\",\"age\":0.8,\"weight\":9,\"height\":100}\n",
    "print(\"pan\" in person.keys())"
   ]
  },
  {
   "cell_type": "code",
   "execution_count": 42,
   "metadata": {},
   "outputs": [
    {
     "name": "stdout",
     "output_type": "stream",
     "text": [
      "False\n"
     ]
    }
   ],
   "source": [
    "person={\"name\":\"vedha\",\"age\":0.8,\"weight\":9,\"height\":100}\n",
    "print(0.8 in person)"
   ]
  },
  {
   "cell_type": "code",
   "execution_count": 43,
   "metadata": {},
   "outputs": [
    {
     "name": "stdout",
     "output_type": "stream",
     "text": [
      "True\n"
     ]
    }
   ],
   "source": [
    "person={\"name\":\"vedha\",\"age\":0.8,\"weight\":9,\"height\":100}\n",
    "print(0.8 in person.values())"
   ]
  },
  {
   "cell_type": "code",
   "execution_count": 44,
   "metadata": {},
   "outputs": [
    {
     "name": "stdout",
     "output_type": "stream",
     "text": [
      "{'name': 'samba', 'age': 0.8, 'weight': 9, 'height': 100}\n",
      "{'name': 'samba', 'age': 0.8, 'weight': 9, 'height': 100}\n",
      "{'name': 'vedha', 'age': 0.8, 'weight': 9, 'height': 100}\n"
     ]
    }
   ],
   "source": [
    "person={\"name\":\"vedha\",\"age\":0.8,\"weight\":9,\"height\":100}\n",
    "p1=person\n",
    "p2=person.copy()\n",
    "person[\"name\"]=\"samba\"\n",
    "print(person)\n",
    "print(p1)\n",
    "print(p2)"
   ]
  },
  {
   "cell_type": "code",
   "execution_count": 45,
   "metadata": {},
   "outputs": [
    {
     "name": "stdout",
     "output_type": "stream",
     "text": [
      "{}\n"
     ]
    }
   ],
   "source": [
    "person={\"name\":\"vedha\",\"age\":0.8,\"weight\":9,\"height\":100}\n",
    "person.clear()\n",
    "print(person)"
   ]
  },
  {
   "cell_type": "code",
   "execution_count": null,
   "metadata": {},
   "outputs": [],
   "source": []
  }
 ],
 "metadata": {
  "kernelspec": {
   "display_name": "Python 3",
   "language": "python",
   "name": "python3"
  },
  "language_info": {
   "codemirror_mode": {
    "name": "ipython",
    "version": 3
   },
   "file_extension": ".py",
   "mimetype": "text/x-python",
   "name": "python",
   "nbconvert_exporter": "python",
   "pygments_lexer": "ipython3",
   "version": "3.7.0"
  }
 },
 "nbformat": 4,
 "nbformat_minor": 2
}
