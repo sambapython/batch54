{
 "cells": [
  {
   "cell_type": "code",
   "execution_count": 1,
   "metadata": {},
   "outputs": [
    {
     "name": "stdout",
     "output_type": "stream",
     "text": [
      "st1\n",
      "st2\n",
      "st3\n",
      "st4\n",
      "st5\n"
     ]
    }
   ],
   "source": [
    "# for while,\n",
    "# break, continue\n",
    "print(\"st1\")\n",
    "print(\"st2\")\n",
    "print(\"st3\")\n",
    "print(\"st4\")\n",
    "print(\"st5\")"
   ]
  },
  {
   "cell_type": "code",
   "execution_count": 2,
   "metadata": {},
   "outputs": [
    {
     "name": "stdout",
     "output_type": "stream",
     "text": [
      "st1\n",
      "st2\n",
      "st3\n",
      "st4\n",
      "st5\n"
     ]
    }
   ],
   "source": [
    "for i in range(1,6):\n",
    "    print(\"st%s\"%i)"
   ]
  },
  {
   "cell_type": "code",
   "execution_count": 4,
   "metadata": {},
   "outputs": [
    {
     "name": "stdout",
     "output_type": "stream",
     "text": [
      "i=1,j=10\n",
      "11\n",
      "i=2,j=11\n",
      "13\n",
      "i=3,j=12\n",
      "15\n",
      "i=4,j=13\n",
      "17\n",
      "i=5,j=14\n",
      "19\n",
      "i=6,j=15\n",
      "21\n",
      "i=7,j=16\n",
      "23\n",
      "i=8,j=17\n",
      "25\n",
      "i=9,j=18\n",
      "27\n"
     ]
    }
   ],
   "source": [
    "for i,j in zip(range(1,10),range(10,20)):\n",
    "    print(\"i=%s,j=%s\"%(i,j))\n",
    "    print(i+j)"
   ]
  },
  {
   "cell_type": "code",
   "execution_count": 5,
   "metadata": {},
   "outputs": [
    {
     "name": "stdout",
     "output_type": "stream",
     "text": [
      "welcome\n",
      "0\n",
      "thank you\n"
     ]
    }
   ],
   "source": [
    "print(\"welcome\")\n",
    "c=0\n",
    "if c<10:\n",
    "    print(c)\n",
    "    c=c+1\n",
    "print(\"thank you\")"
   ]
  },
  {
   "cell_type": "code",
   "execution_count": 6,
   "metadata": {},
   "outputs": [
    {
     "name": "stdout",
     "output_type": "stream",
     "text": [
      "welcome\n",
      "0\n",
      "1\n",
      "2\n",
      "thank you\n"
     ]
    }
   ],
   "source": [
    "print(\"welcome\")\n",
    "c=0\n",
    "while c<3:\n",
    "    print(c)\n",
    "    c=c+1\n",
    "print(\"thank you\")"
   ]
  },
  {
   "cell_type": "code",
   "execution_count": 7,
   "metadata": {},
   "outputs": [
    {
     "name": "stdout",
     "output_type": "stream",
     "text": [
      "welcome\n",
      "thank you\n"
     ]
    }
   ],
   "source": [
    "print(\"welcome\")\n",
    "c=10\n",
    "while c<3:\n",
    "    print(c)\n",
    "    c=c+1\n",
    "print(\"thank you\")"
   ]
  },
  {
   "cell_type": "code",
   "execution_count": null,
   "metadata": {},
   "outputs": [],
   "source": [
    "print(\"welcome\")\n",
    "c=0\n",
    "while c<3:\n",
    "    print(c)\n",
    "    c=c-1\n",
    "print(\"thank you\")"
   ]
  },
  {
   "cell_type": "code",
   "execution_count": 8,
   "metadata": {},
   "outputs": [
    {
     "data": {
      "text/plain": [
       "'p'"
      ]
     },
     "execution_count": 8,
     "metadata": {},
     "output_type": "execute_result"
    }
   ],
   "source": [
    "s=\"python\"\n",
    "s[0]"
   ]
  },
  {
   "cell_type": "code",
   "execution_count": 10,
   "metadata": {},
   "outputs": [
    {
     "name": "stdout",
     "output_type": "stream",
     "text": [
      "p\n",
      "y\n",
      "t\n",
      "h\n",
      "o\n",
      "n\n"
     ]
    }
   ],
   "source": [
    "s=\"python\"\n",
    "print(s[0])\n",
    "print(s[1])\n",
    "print(s[2])\n",
    "print(s[3])\n",
    "print(s[4])\n",
    "print(s[5])"
   ]
  },
  {
   "cell_type": "code",
   "execution_count": 11,
   "metadata": {},
   "outputs": [
    {
     "name": "stdout",
     "output_type": "stream",
     "text": [
      "0\n",
      "1\n",
      "2\n",
      "3\n",
      "4\n",
      "5\n",
      "p\n",
      "y\n",
      "t\n",
      "h\n",
      "o\n",
      "n\n"
     ]
    }
   ],
   "source": [
    "s=\"python\"\n",
    "i=0\n",
    "while i<6:\n",
    "    print(i)\n",
    "    i=i+1\n",
    "print(s[0])\n",
    "print(s[1])\n",
    "print(s[2])\n",
    "print(s[3])\n",
    "print(s[4])\n",
    "print(s[5])"
   ]
  },
  {
   "cell_type": "code",
   "execution_count": 13,
   "metadata": {},
   "outputs": [
    {
     "name": "stdout",
     "output_type": "stream",
     "text": [
      "welcome\n",
      "p\n",
      "y\n",
      "t\n",
      "h\n",
      "o\n",
      "n\n",
      "thank you.\n"
     ]
    }
   ],
   "source": [
    "print(\"welcome\")\n",
    "s=\"python\"\n",
    "i=0\n",
    "len_s=len(s)\n",
    "while i<len_s:\n",
    "    print(s[i])\n",
    "    i=i+1\n",
    "print(\"thank you.\")\n"
   ]
  },
  {
   "cell_type": "code",
   "execution_count": 14,
   "metadata": {},
   "outputs": [
    {
     "name": "stdout",
     "output_type": "stream",
     "text": [
      "welcome\n",
      "p\n",
      "y\n",
      "t\n",
      "h\n",
      "o\n",
      "n\n",
      "thank you\n"
     ]
    }
   ],
   "source": [
    "print(\"welcome\")\n",
    "for i in \"python\":\n",
    "    print(i)\n",
    "print(\"thank you\")"
   ]
  },
  {
   "cell_type": "code",
   "execution_count": 15,
   "metadata": {},
   "outputs": [
    {
     "name": "stdout",
     "output_type": "stream",
     "text": [
      "welcome\n",
      "apple\n",
      "banana\n",
      "orange\n",
      "grape\n",
      "thank you\n"
     ]
    }
   ],
   "source": [
    "print(\"welcome\")\n",
    "fruits=[\"apple\",\"banana\",\"orange\",\"grape\"]\n",
    "for fruit in fruits:\n",
    "    print(fruit)\n",
    "print(\"thank you\")"
   ]
  },
  {
   "cell_type": "code",
   "execution_count": 16,
   "metadata": {},
   "outputs": [
    {
     "name": "stdout",
     "output_type": "stream",
     "text": [
      "name\n",
      "age\n",
      "height\n"
     ]
    }
   ],
   "source": [
    "p={\"name\":\"Sai\",\"age\":29,\"height\":5.4}\n",
    "for i in p:\n",
    "    print(i)"
   ]
  },
  {
   "cell_type": "code",
   "execution_count": 18,
   "metadata": {},
   "outputs": [
    {
     "name": "stdout",
     "output_type": "stream",
     "text": [
      "jan\n",
      "feb\n",
      "mar\n",
      "apr\n",
      "may\n",
      "june\n",
      "july\n",
      "aug\n",
      "sep\n"
     ]
    }
   ],
   "source": [
    "months=(\"jan\",\"feb\",\"mar\",\"apr\",\"may\",\"june\",\"july\",\"aug\",\"sep\",)\n",
    "for month in months:\n",
    "    print(month)"
   ]
  },
  {
   "cell_type": "code",
   "execution_count": 19,
   "metadata": {},
   "outputs": [
    {
     "name": "stdout",
     "output_type": "stream",
     "text": [
      "Enter string:python\n",
      "p\n",
      "y\n",
      "t\n",
      "h\n",
      "o\n",
      "n\n"
     ]
    }
   ],
   "source": [
    "s=input(\"Enter string:\")\n",
    "for i in s:\n",
    "    print(i)"
   ]
  },
  {
   "cell_type": "code",
   "execution_count": 20,
   "metadata": {},
   "outputs": [
    {
     "name": "stdout",
     "output_type": "stream",
     "text": [
      "Enter string:\n"
     ]
    }
   ],
   "source": [
    "s=input(\"Enter string:\")\n",
    "for i in s:\n",
    "    print(i)"
   ]
  },
  {
   "cell_type": "code",
   "execution_count": 21,
   "metadata": {},
   "outputs": [
    {
     "name": "stdout",
     "output_type": "stream",
     "text": [
      "Sai\n",
      "29\n",
      "5.4\n"
     ]
    }
   ],
   "source": [
    "# for i=0;i<len(s),i=i+1\n",
    "p={\"name\":\"Sai\",\"age\":29,\"height\":5.4}\n",
    "for i in p.values():\n",
    "    print(i)"
   ]
  },
  {
   "cell_type": "code",
   "execution_count": 22,
   "metadata": {},
   "outputs": [
    {
     "data": {
      "text/plain": [
       "True"
      ]
     },
     "execution_count": 22,
     "metadata": {},
     "output_type": "execute_result"
    }
   ],
   "source": [
    "l=[10,4,2,25,54,67,34]\n",
    "10 in l"
   ]
  },
  {
   "cell_type": "code",
   "execution_count": 23,
   "metadata": {},
   "outputs": [
    {
     "data": {
      "text/plain": [
       "True"
      ]
     },
     "execution_count": 23,
     "metadata": {},
     "output_type": "execute_result"
    }
   ],
   "source": [
    "25 in l"
   ]
  },
  {
   "cell_type": "code",
   "execution_count": 24,
   "metadata": {},
   "outputs": [
    {
     "name": "stdout",
     "output_type": "stream",
     "text": [
      "enter an element to search:1\n",
      "found\n",
      "not found\n",
      "not found\n",
      "found\n",
      "not found\n",
      "not found\n",
      "found\n",
      "not found\n",
      "not found\n"
     ]
    }
   ],
   "source": [
    "search_element=int(input(\"enter an element to search:\"))\n",
    "l=[1,2,3,1,2,3,1,2,3]\n",
    "for i in l:\n",
    "    if i==search_element:\n",
    "        print(\"found\")\n",
    "    else:\n",
    "        print(\"not found\")\n"
   ]
  },
  {
   "cell_type": "code",
   "execution_count": 25,
   "metadata": {},
   "outputs": [
    {
     "name": "stdout",
     "output_type": "stream",
     "text": [
      "enter an element to search:1\n",
      "found\n",
      "found\n",
      "found\n"
     ]
    }
   ],
   "source": [
    "search_element=int(input(\"enter an element to search:\"))\n",
    "l=[1,2,3,1,2,3,1,2,3]\n",
    "for i in l:\n",
    "    if i==search_element:\n",
    "        print(\"found\")\n",
    "    "
   ]
  },
  {
   "cell_type": "code",
   "execution_count": 26,
   "metadata": {},
   "outputs": [
    {
     "name": "stdout",
     "output_type": "stream",
     "text": [
      "enter an element to search:5\n"
     ]
    }
   ],
   "source": [
    "search_element=int(input(\"enter an element to search:\"))\n",
    "l=[1,2,3,1,2,3,1,2,3]\n",
    "for i in l:\n",
    "    if i==search_element:\n",
    "        print(\"found\")\n",
    "        "
   ]
  },
  {
   "cell_type": "code",
   "execution_count": 27,
   "metadata": {},
   "outputs": [
    {
     "name": "stdout",
     "output_type": "stream",
     "text": [
      "enter an element to search:2\n",
      "not found\n",
      "found\n"
     ]
    }
   ],
   "source": [
    "search_element=int(input(\"enter an element to search:\"))\n",
    "l=[1,2,3,1,2,3,1,2,3]\n",
    "for i in l:\n",
    "    if i==search_element:\n",
    "        print(\"found\")\n",
    "        break\n",
    "    else:\n",
    "        print(\"not found\")\n"
   ]
  },
  {
   "cell_type": "code",
   "execution_count": 28,
   "metadata": {},
   "outputs": [
    {
     "ename": "IndentationError",
     "evalue": "expected an indented block (<ipython-input-28-68ac34a6cfdc>, line 3)",
     "output_type": "error",
     "traceback": [
      "\u001b[0;36m  File \u001b[0;32m\"<ipython-input-28-68ac34a6cfdc>\"\u001b[0;36m, line \u001b[0;32m3\u001b[0m\n\u001b[0;31m    print(\"i ouside the loop:\",i)\u001b[0m\n\u001b[0m        ^\u001b[0m\n\u001b[0;31mIndentationError\u001b[0m\u001b[0;31m:\u001b[0m expected an indented block\n"
     ]
    }
   ],
   "source": [
    "s=\"python\"\n",
    "for i in s:\n",
    "print(\"i ouside the loop:\",i)"
   ]
  },
  {
   "cell_type": "code",
   "execution_count": 29,
   "metadata": {},
   "outputs": [
    {
     "name": "stdout",
     "output_type": "stream",
     "text": [
      "p\n",
      "y\n",
      "t\n",
      "h\n",
      "o\n",
      "n\n",
      "i ouside the loop: n\n"
     ]
    }
   ],
   "source": [
    "s=\"python\"\n",
    "for i in s:\n",
    "    print(i)\n",
    "print(\"i ouside the loop:\",i)"
   ]
  },
  {
   "cell_type": "code",
   "execution_count": 30,
   "metadata": {},
   "outputs": [
    {
     "name": "stdout",
     "output_type": "stream",
     "text": [
      "p\n",
      "i ouside the loop: p\n"
     ]
    }
   ],
   "source": [
    "s=\"python\"\n",
    "for i in s:\n",
    "    print(i)\n",
    "    break\n",
    "print(\"i ouside the loop:\",i)"
   ]
  },
  {
   "cell_type": "code",
   "execution_count": 31,
   "metadata": {},
   "outputs": [
    {
     "name": "stdout",
     "output_type": "stream",
     "text": [
      "p\n",
      "y\n",
      "t\n",
      "i ouside the loop: t\n"
     ]
    }
   ],
   "source": [
    "s=\"python\"\n",
    "for i in s:\n",
    "    print(i)\n",
    "    if i==\"t\":\n",
    "        break\n",
    "print(\"i ouside the loop:\",i)"
   ]
  },
  {
   "cell_type": "code",
   "execution_count": 32,
   "metadata": {},
   "outputs": [
    {
     "name": "stdout",
     "output_type": "stream",
     "text": [
      "i ouside the loop: p\n"
     ]
    }
   ],
   "source": [
    "s=\"python\"\n",
    "for i in s:\n",
    "    break\n",
    "    print(\"after break\")\n",
    "    print(i)\n",
    "print(\"i ouside the loop:\",i)"
   ]
  },
  {
   "cell_type": "code",
   "execution_count": 34,
   "metadata": {},
   "outputs": [],
   "source": [
    "del i"
   ]
  },
  {
   "cell_type": "code",
   "execution_count": 35,
   "metadata": {},
   "outputs": [
    {
     "ename": "NameError",
     "evalue": "name 'i' is not defined",
     "output_type": "error",
     "traceback": [
      "\u001b[0;31m---------------------------------------------------------------------------\u001b[0m",
      "\u001b[0;31mNameError\u001b[0m                                 Traceback (most recent call last)",
      "\u001b[0;32m<ipython-input-35-1603dba3503c>\u001b[0m in \u001b[0;36m<module>\u001b[0;34m()\u001b[0m\n\u001b[1;32m      4\u001b[0m     \u001b[0mprint\u001b[0m\u001b[0;34m(\u001b[0m\u001b[0;34m\"after break\"\u001b[0m\u001b[0;34m)\u001b[0m\u001b[0;34m\u001b[0m\u001b[0m\n\u001b[1;32m      5\u001b[0m     \u001b[0mprint\u001b[0m\u001b[0;34m(\u001b[0m\u001b[0mi\u001b[0m\u001b[0;34m)\u001b[0m\u001b[0;34m\u001b[0m\u001b[0m\n\u001b[0;32m----> 6\u001b[0;31m \u001b[0mprint\u001b[0m\u001b[0;34m(\u001b[0m\u001b[0;34m\"i ouside the loop:\"\u001b[0m\u001b[0;34m,\u001b[0m\u001b[0mi\u001b[0m\u001b[0;34m)\u001b[0m\u001b[0;34m\u001b[0m\u001b[0m\n\u001b[0m",
      "\u001b[0;31mNameError\u001b[0m: name 'i' is not defined"
     ]
    }
   ],
   "source": [
    "s=\"\"\n",
    "for i in s:\n",
    "    break\n",
    "    print(\"after break\")\n",
    "    print(i)\n",
    "print(\"i ouside the loop:\",i)"
   ]
  },
  {
   "cell_type": "code",
   "execution_count": 36,
   "metadata": {},
   "outputs": [
    {
     "ename": "NameError",
     "evalue": "name 'i' is not defined",
     "output_type": "error",
     "traceback": [
      "\u001b[0;31m---------------------------------------------------------------------------\u001b[0m",
      "\u001b[0;31mNameError\u001b[0m                                 Traceback (most recent call last)",
      "\u001b[0;32m<ipython-input-36-046a5f422a47>\u001b[0m in \u001b[0;36m<module>\u001b[0;34m()\u001b[0m\n\u001b[1;32m      4\u001b[0m     \u001b[0mprint\u001b[0m\u001b[0;34m(\u001b[0m\u001b[0;34m\"after break\"\u001b[0m\u001b[0;34m)\u001b[0m\u001b[0;34m\u001b[0m\u001b[0m\n\u001b[1;32m      5\u001b[0m     \u001b[0mprint\u001b[0m\u001b[0;34m(\u001b[0m\u001b[0mi\u001b[0m\u001b[0;34m)\u001b[0m\u001b[0;34m\u001b[0m\u001b[0m\n\u001b[0;32m----> 6\u001b[0;31m \u001b[0mprint\u001b[0m\u001b[0;34m(\u001b[0m\u001b[0;34m\"i ouside the loop:\"\u001b[0m\u001b[0;34m,\u001b[0m\u001b[0mi\u001b[0m\u001b[0;34m)\u001b[0m\u001b[0;34m\u001b[0m\u001b[0m\n\u001b[0m",
      "\u001b[0;31mNameError\u001b[0m: name 'i' is not defined"
     ]
    }
   ],
   "source": [
    "s=[]\n",
    "for i in s:\n",
    "    break\n",
    "    print(\"after break\")\n",
    "    print(i)\n",
    "print(\"i ouside the loop:\",i)"
   ]
  },
  {
   "cell_type": "code",
   "execution_count": 37,
   "metadata": {},
   "outputs": [],
   "source": [
    "s=[]\n",
    "for i in s:\n",
    "    break\n",
    "    print(\"after break\")\n",
    "    print(i)\n"
   ]
  },
  {
   "cell_type": "code",
   "execution_count": 39,
   "metadata": {},
   "outputs": [
    {
     "name": "stdout",
     "output_type": "stream",
     "text": [
      "f out side the loop: 0\n"
     ]
    }
   ],
   "source": [
    "f=0\n",
    "for i in []:\n",
    "    f=1\n",
    "print(\"f out side the loop:\",f)"
   ]
  },
  {
   "cell_type": "code",
   "execution_count": 40,
   "metadata": {},
   "outputs": [
    {
     "name": "stdout",
     "output_type": "stream",
     "text": [
      "f out side the loop: 0\n"
     ]
    }
   ],
   "source": [
    "f=0\n",
    "for i in [10,20,30,40]:\n",
    "    if i==5:\n",
    "        f=1\n",
    "print(\"f out side the loop:\",f)"
   ]
  },
  {
   "cell_type": "code",
   "execution_count": 41,
   "metadata": {},
   "outputs": [
    {
     "name": "stdout",
     "output_type": "stream",
     "text": [
      "f out side the loop: 2\n"
     ]
    }
   ],
   "source": [
    "f=0\n",
    "for i in [10,20,30,40]:\n",
    "    if i==5:\n",
    "        f=1\n",
    "    else:\n",
    "        f=2\n",
    "print(\"f out side the loop:\",f)"
   ]
  },
  {
   "cell_type": "code",
   "execution_count": 42,
   "metadata": {},
   "outputs": [
    {
     "name": "stdout",
     "output_type": "stream",
     "text": [
      "f out side the loop: 2\n"
     ]
    }
   ],
   "source": [
    "f=0\n",
    "for i in [10,20,30,40]:\n",
    "    if i==30:\n",
    "        f=1\n",
    "    else:\n",
    "        f=2\n",
    "print(\"f out side the loop:\",f)"
   ]
  },
  {
   "cell_type": "code",
   "execution_count": 43,
   "metadata": {},
   "outputs": [
    {
     "ename": "SyntaxError",
     "evalue": "invalid syntax (<ipython-input-43-22ce6d6d220d>, line 2)",
     "output_type": "error",
     "traceback": [
      "\u001b[0;36m  File \u001b[0;32m\"<ipython-input-43-22ce6d6d220d>\"\u001b[0;36m, line \u001b[0;32m2\u001b[0m\n\u001b[0;31m    i++\u001b[0m\n\u001b[0m       ^\u001b[0m\n\u001b[0;31mSyntaxError\u001b[0m\u001b[0;31m:\u001b[0m invalid syntax\n"
     ]
    }
   ],
   "source": [
    "i=0\n",
    "i++\n"
   ]
  },
  {
   "cell_type": "code",
   "execution_count": 44,
   "metadata": {},
   "outputs": [
    {
     "name": "stdout",
     "output_type": "stream",
     "text": [
      "enter an element to search:3\n",
      "found\n",
      "thank you!!\n"
     ]
    }
   ],
   "source": [
    "search_element=int(input(\"enter an element to search:\"))\n",
    "l=[1,2,3,1,2,3,1,2,3]\n",
    "flag=0\n",
    "for i in l:\n",
    "    if i==search_element:\n",
    "        flag=1\n",
    "if flag==0:\n",
    "    print(\"not found\")\n",
    "else:\n",
    "    print(\"found\")\n",
    "print(\"thank you!!\")"
   ]
  },
  {
   "cell_type": "code",
   "execution_count": 45,
   "metadata": {},
   "outputs": [
    {
     "name": "stdout",
     "output_type": "stream",
     "text": [
      "enter an element to search:12\n",
      "not found\n",
      "thank you!!\n"
     ]
    }
   ],
   "source": [
    "search_element=int(input(\"enter an element to search:\"))\n",
    "l=[1,2,3,1,2,3,1,2,3]\n",
    "flag=0\n",
    "for i in l:\n",
    "    if i==search_element:\n",
    "        flag=1\n",
    "if flag==0:\n",
    "    print(\"not found\")\n",
    "else:\n",
    "    print(\"found\")\n",
    "print(\"thank you!!\")"
   ]
  },
  {
   "cell_type": "code",
   "execution_count": 46,
   "metadata": {},
   "outputs": [
    {
     "name": "stdout",
     "output_type": "stream",
     "text": [
      "enter an element to search:1\n",
      "found\n",
      "thank you!!\n"
     ]
    }
   ],
   "source": [
    "search_element=int(input(\"enter an element to search:\"))\n",
    "l=[1,2,3,1,2,3,1,2,3]\n",
    "flag=0\n",
    "for i in l:\n",
    "    if i==search_element:\n",
    "        flag=1\n",
    "if flag==0:\n",
    "    print(\"not found\")\n",
    "else:\n",
    "    print(\"found\")\n",
    "print(\"thank you!!\")"
   ]
  },
  {
   "cell_type": "code",
   "execution_count": 47,
   "metadata": {},
   "outputs": [
    {
     "name": "stdout",
     "output_type": "stream",
     "text": [
      "enter an element to search:1\n",
      "1\n",
      "2\n",
      "3\n",
      "1\n",
      "2\n",
      "3\n",
      "1\n",
      "2\n",
      "3\n",
      "found\n",
      "thank you!!\n"
     ]
    }
   ],
   "source": [
    "search_element=int(input(\"enter an element to search:\"))\n",
    "l=[1,2,3,1,2,3,1,2,3]\n",
    "flag=0\n",
    "for i in l:\n",
    "    print(i)\n",
    "    if i==search_element:\n",
    "        flag=1\n",
    "if flag==0:\n",
    "    print(\"not found\")\n",
    "else:\n",
    "    print(\"found\")\n",
    "print(\"thank you!!\")"
   ]
  },
  {
   "cell_type": "code",
   "execution_count": 48,
   "metadata": {},
   "outputs": [
    {
     "name": "stdout",
     "output_type": "stream",
     "text": [
      "enter an element to search:2\n",
      "1\n",
      "2\n",
      "3\n",
      "1\n",
      "2\n",
      "3\n",
      "1\n",
      "2\n",
      "3\n",
      "found\n",
      "thank you!!\n"
     ]
    }
   ],
   "source": [
    "search_element=int(input(\"enter an element to search:\"))\n",
    "l=[1,2,3,1,2,3,1,2,3]\n",
    "flag=0\n",
    "for i in l:\n",
    "    print(i)\n",
    "    if i==search_element:\n",
    "        flag=1\n",
    "if flag==0:\n",
    "    print(\"not found\")\n",
    "else:\n",
    "    print(\"found\")\n",
    "print(\"thank you!!\")"
   ]
  },
  {
   "cell_type": "code",
   "execution_count": 49,
   "metadata": {},
   "outputs": [
    {
     "name": "stdout",
     "output_type": "stream",
     "text": [
      "enter an element to search:1\n",
      "1\n",
      "found\n",
      "thank you!!\n"
     ]
    }
   ],
   "source": [
    "search_element=int(input(\"enter an element to search:\"))\n",
    "l=[1,2,3,1,2,3,1,2,3]\n",
    "flag=0\n",
    "for i in l:\n",
    "    print(i)\n",
    "    if i==search_element:\n",
    "        flag=1\n",
    "        break\n",
    "if flag==0:\n",
    "    print(\"not found\")\n",
    "else:\n",
    "    print(\"found\")\n",
    "print(\"thank you!!\")"
   ]
  },
  {
   "cell_type": "code",
   "execution_count": 50,
   "metadata": {},
   "outputs": [
    {
     "name": "stdout",
     "output_type": "stream",
     "text": [
      "enter an element to search:30\n",
      "10\n",
      "20\n",
      "30\n",
      "found\n",
      "thank you!!\n"
     ]
    }
   ],
   "source": [
    "search_element=int(input(\"enter an element to search:\"))\n",
    "l=[10,20,30,10,20,30,10,20,30]\n",
    "flag=0\n",
    "for i in l:\n",
    "    print(i)\n",
    "    if i==search_element:\n",
    "        flag=1\n",
    "        break\n",
    "if flag==0:\n",
    "    print(\"not found\")\n",
    "else:\n",
    "    print(\"found\")\n",
    "print(\"thank you!!\")"
   ]
  },
  {
   "cell_type": "code",
   "execution_count": 51,
   "metadata": {},
   "outputs": [
    {
     "name": "stdout",
     "output_type": "stream",
     "text": [
      "enter an element to search:40\n",
      "10\n",
      "20\n",
      "30\n",
      "10\n",
      "20\n",
      "30\n",
      "10\n",
      "20\n",
      "30\n",
      "40\n",
      "found\n",
      "thank you!!\n"
     ]
    }
   ],
   "source": [
    "search_element=int(input(\"enter an element to search:\"))\n",
    "l=[10,20,30,10,20,30,10,20,30,40]\n",
    "flag=0\n",
    "for i in l:\n",
    "    print(i)\n",
    "    if i==search_element:\n",
    "        flag=1\n",
    "        break\n",
    "if flag==0:\n",
    "    print(\"not found\")\n",
    "else:\n",
    "    print(\"found\")\n",
    "print(\"thank you!!\")"
   ]
  },
  {
   "cell_type": "code",
   "execution_count": 52,
   "metadata": {},
   "outputs": [
    {
     "name": "stdout",
     "output_type": "stream",
     "text": [
      "enter an element to search:56\n",
      "not found\n",
      "thank you!!\n"
     ]
    }
   ],
   "source": [
    "search_element=int(input(\"enter an element to search:\"))\n",
    "l=[10,20,30,10,20,30,10,20,30,40]\n",
    "flag=0\n",
    "for i in l:\n",
    "    if i==search_element:\n",
    "        flag=1\n",
    "        break\n",
    "if flag==0:\n",
    "    print(\"not found\")\n",
    "else:\n",
    "    print(\"found\")\n",
    "print(\"thank you!!\")"
   ]
  },
  {
   "cell_type": "code",
   "execution_count": 53,
   "metadata": {},
   "outputs": [
    {
     "name": "stdout",
     "output_type": "stream",
     "text": [
      "p\n",
      "y\n",
      "t\n",
      "h\n",
      "o\n",
      "n\n",
      "else block\n"
     ]
    }
   ],
   "source": [
    "for i in \"python\":\n",
    "    print(i)\n",
    "else:\n",
    "    print(\"else block\")"
   ]
  },
  {
   "cell_type": "code",
   "execution_count": 54,
   "metadata": {},
   "outputs": [
    {
     "name": "stdout",
     "output_type": "stream",
     "text": [
      "p\n"
     ]
    }
   ],
   "source": [
    "for i in \"python\":\n",
    "    print(i)\n",
    "    break\n",
    "else:\n",
    "    print(\"else block\")"
   ]
  },
  {
   "cell_type": "code",
   "execution_count": 55,
   "metadata": {},
   "outputs": [
    {
     "name": "stdout",
     "output_type": "stream",
     "text": [
      "p\n",
      "y\n",
      "t\n",
      "h\n",
      "o\n",
      "n\n",
      "else block\n"
     ]
    }
   ],
   "source": [
    "for i in \"python\":\n",
    "    print(i)\n",
    "    if i==\"Z\":\n",
    "        break\n",
    "else:\n",
    "    print(\"else block\")"
   ]
  },
  {
   "cell_type": "code",
   "execution_count": 57,
   "metadata": {},
   "outputs": [
    {
     "name": "stdout",
     "output_type": "stream",
     "text": [
      "enter an element to search:10\n",
      "found\n",
      "thank you\n"
     ]
    }
   ],
   "source": [
    "search_element=int(input(\"enter an element to search:\"))\n",
    "l=[10,20,30,10,20,30,10,20,30,40]\n",
    "for i in l:\n",
    "    if i==search_element:\n",
    "        print(\"found\")\n",
    "        break\n",
    "else:\n",
    "    print(\"not found\")\n",
    "print(\"thank you\")"
   ]
  },
  {
   "cell_type": "code",
   "execution_count": 58,
   "metadata": {},
   "outputs": [
    {
     "name": "stdout",
     "output_type": "stream",
     "text": [
      "enter an element to search:40\n",
      "found\n",
      "thank you\n"
     ]
    }
   ],
   "source": [
    "search_element=int(input(\"enter an element to search:\"))\n",
    "l=[10,20,30,10,20,30,10,20,30,40]\n",
    "for i in l:\n",
    "    if i==search_element:\n",
    "        print(\"found\")\n",
    "        break\n",
    "else:\n",
    "    print(\"not found\")\n",
    "print(\"thank you\")"
   ]
  },
  {
   "cell_type": "code",
   "execution_count": 59,
   "metadata": {},
   "outputs": [
    {
     "name": "stdout",
     "output_type": "stream",
     "text": [
      "enter an element to search:50\n",
      "not found\n",
      "thank you\n"
     ]
    }
   ],
   "source": [
    "search_element=int(input(\"enter an element to search:\"))\n",
    "l=[10,20,30,10,20,30,10,20,30,40]\n",
    "for i in l:\n",
    "    if i==search_element:\n",
    "        print(\"found\")\n",
    "        break\n",
    "else:\n",
    "    print(\"not found\")\n",
    "print(\"thank you\")"
   ]
  },
  {
   "cell_type": "code",
   "execution_count": 60,
   "metadata": {},
   "outputs": [
    {
     "name": "stdout",
     "output_type": "stream",
     "text": [
      "welcome\n",
      "p\n",
      "y\n",
      "thank you\n"
     ]
    }
   ],
   "source": [
    "print(\"welcome\")\n",
    "for i in \"python\":\n",
    "    if i==\"t\":\n",
    "        break\n",
    "    print(i)\n",
    "print(\"thank you\")"
   ]
  },
  {
   "cell_type": "code",
   "execution_count": 61,
   "metadata": {},
   "outputs": [
    {
     "name": "stdout",
     "output_type": "stream",
     "text": [
      "welcome\n",
      "p\n",
      "y\n",
      "h\n",
      "o\n",
      "n\n",
      "thank you\n"
     ]
    }
   ],
   "source": [
    "print(\"welcome\")\n",
    "for i in \"python\":\n",
    "    if i==\"t\":\n",
    "        continue\n",
    "    print(i)\n",
    "print(\"thank you\")"
   ]
  },
  {
   "cell_type": "code",
   "execution_count": 62,
   "metadata": {},
   "outputs": [
    {
     "name": "stdout",
     "output_type": "stream",
     "text": [
      "welcome\n",
      "b\n",
      "c\n",
      "b\n",
      "c\n",
      "b\n",
      "c\n",
      "b\n",
      "c\n",
      "b\n",
      "c\n",
      "thank you\n"
     ]
    }
   ],
   "source": [
    "print(\"welcome\")\n",
    "for i in \"abcabcabcabcabc\":\n",
    "    if i==\"a\":\n",
    "        continue\n",
    "    print(i)\n",
    "print(\"thank you\")"
   ]
  },
  {
   "cell_type": "code",
   "execution_count": 63,
   "metadata": {},
   "outputs": [
    {
     "name": "stdout",
     "output_type": "stream",
     "text": [
      "welcome\n",
      "i out side the loop: n\n",
      "thank you\n"
     ]
    }
   ],
   "source": [
    "print(\"welcome\")\n",
    "for i in \"python\":\n",
    "    continue\n",
    "    print(i)\n",
    "print(\"i out side the loop:\",i)\n",
    "print(\"thank you\")"
   ]
  },
  {
   "cell_type": "code",
   "execution_count": 64,
   "metadata": {},
   "outputs": [
    {
     "name": "stdout",
     "output_type": "stream",
     "text": [
      "welcome\n",
      "i out side the loop: p\n",
      "thank you\n"
     ]
    }
   ],
   "source": [
    "print(\"welcome\")\n",
    "for i in \"python\":\n",
    "    break\n",
    "    print(i)\n",
    "print(\"i out side the loop:\",i)\n",
    "print(\"thank you\")"
   ]
  },
  {
   "cell_type": "code",
   "execution_count": 65,
   "metadata": {},
   "outputs": [
    {
     "name": "stdout",
     "output_type": "stream",
     "text": [
      "i outside the loop: 0\n"
     ]
    }
   ],
   "source": [
    "i=0\n",
    "while i<10:\n",
    "    break\n",
    "    print(i)\n",
    "    i=i+1\n",
    "print(\"i outside the loop:\",i)"
   ]
  },
  {
   "cell_type": "code",
   "execution_count": 66,
   "metadata": {},
   "outputs": [
    {
     "name": "stdout",
     "output_type": "stream",
     "text": [
      "i outside the loop: 1\n"
     ]
    }
   ],
   "source": [
    "i=0\n",
    "while i<10:\n",
    "    i=i+1\n",
    "    break\n",
    "    print(i)\n",
    "print(\"i outside the loop:\",i)"
   ]
  },
  {
   "cell_type": "code",
   "execution_count": 67,
   "metadata": {},
   "outputs": [
    {
     "name": "stdout",
     "output_type": "stream",
     "text": [
      "i outside the loop: 10\n"
     ]
    }
   ],
   "source": [
    "i=0\n",
    "while i<10:\n",
    "    i=i+1\n",
    "    continue\n",
    "    print(i)\n",
    "print(\"i outside the loop:\",i)"
   ]
  },
  {
   "cell_type": "code",
   "execution_count": null,
   "metadata": {},
   "outputs": [],
   "source": [
    "i=0\n",
    "while i<10:\n",
    "    print(i)"
   ]
  },
  {
   "cell_type": "code",
   "execution_count": null,
   "metadata": {},
   "outputs": [],
   "source": [
    "i=0\n",
    "while i<10:\n",
    "    continue\n",
    "    i=i+1\n",
    "    print(i)\n",
    "print(\"i outside the loop:\",i)"
   ]
  },
  {
   "cell_type": "code",
   "execution_count": null,
   "metadata": {},
   "outputs": [],
   "source": [
    "i=0\n",
    "while i<3:\n",
    "    if i==2:\n",
    "        continue\n",
    "    i=i+1\n",
    "    print(i)\n",
    "print(\"i outside the loop:\",i)"
   ]
  },
  {
   "cell_type": "code",
   "execution_count": 68,
   "metadata": {},
   "outputs": [
    {
     "name": "stdout",
     "output_type": "stream",
     "text": [
      "i outside the loop: 10\n"
     ]
    }
   ],
   "source": [
    "i=10\n",
    "while i<3:\n",
    "    if i==2:\n",
    "        continue\n",
    "    i=i+1\n",
    "    print(i)\n",
    "print(\"i outside the loop:\",i)"
   ]
  },
  {
   "cell_type": "code",
   "execution_count": null,
   "metadata": {},
   "outputs": [],
   "source": []
  }
 ],
 "metadata": {
  "kernelspec": {
   "display_name": "Python 3",
   "language": "python",
   "name": "python3"
  },
  "language_info": {
   "codemirror_mode": {
    "name": "ipython",
    "version": 3
   },
   "file_extension": ".py",
   "mimetype": "text/x-python",
   "name": "python",
   "nbconvert_exporter": "python",
   "pygments_lexer": "ipython3",
   "version": "3.7.0"
  }
 },
 "nbformat": 4,
 "nbformat_minor": 2
}
