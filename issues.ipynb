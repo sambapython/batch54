{
 "cells": [
  {
   "cell_type": "code",
   "execution_count": 2,
   "metadata": {},
   "outputs": [
    {
     "name": "stdout",
     "output_type": "stream",
     "text": [
      "the fields id is mandatory\n"
     ]
    }
   ],
   "source": [
    "all_fields=[\"id\",\"name\",\"age\",\"height\",\"weight\",\"adhar\",\"pan\"]\n",
    "req_fields=[\"id\",\"name\",\"age\"]\n",
    "given_fields=[]\n",
    "for req in req_fields:\n",
    "    if req not in given_fields:\n",
    "        print(\"the fields %s is mandatory\"%req)\n",
    "        break\n",
    "else:\n",
    "    print(\"all mandatory fields are given\")"
   ]
  },
  {
   "cell_type": "code",
   "execution_count": 6,
   "metadata": {},
   "outputs": [
    {
     "name": "stdout",
     "output_type": "stream",
     "text": [
      "the fields name is mandatory\n"
     ]
    }
   ],
   "source": [
    "all_fields=[\"id\",\"name\",\"age\",\"height\",\"weight\",\"adhar\",\"pan\"]\n",
    "req_fields=[\"id\",\"name\",\"age\"]\n",
    "given_fields=[\"id\",\"height\",\"weight\"]\n",
    "for req in req_fields:\n",
    "    if req not in given_fields:\n",
    "        print(\"the fields %s is mandatory\"%req)\n",
    "        break\n",
    "else:\n",
    "    print(\"all mandatory fields are given\")"
   ]
  },
  {
   "cell_type": "code",
   "execution_count": 4,
   "metadata": {},
   "outputs": [
    {
     "name": "stdout",
     "output_type": "stream",
     "text": [
      "the fields age is mandatory\n"
     ]
    }
   ],
   "source": [
    "all_fields=[\"id\",\"name\",\"age\",\"height\",\"weight\",\"adhar\",\"pan\"]\n",
    "req_fields=[\"id\",\"name\",\"age\"]\n",
    "given_fields=[\"id\",\"name\"]\n",
    "for req in req_fields:\n",
    "    if req not in given_fields:\n",
    "        print(\"the fields %s is mandatory\"%req)\n",
    "        break\n",
    "else:\n",
    "    print(\"all mandatory fields are given\")"
   ]
  },
  {
   "cell_type": "code",
   "execution_count": 5,
   "metadata": {},
   "outputs": [
    {
     "name": "stdout",
     "output_type": "stream",
     "text": [
      "all mandatory fields are given\n"
     ]
    }
   ],
   "source": [
    "all_fields=[\"id\",\"name\",\"age\",\"height\",\"weight\",\"adhar\",\"pan\"]\n",
    "req_fields=[\"id\",\"name\",\"age\"]\n",
    "given_fields=[\"id\",\"name\",\"age\"]\n",
    "for req in req_fields:\n",
    "    if req not in given_fields:\n",
    "        print(\"the fields %s is mandatory\"%req)\n",
    "        break\n",
    "else:\n",
    "    print(\"all mandatory fields are given\")"
   ]
  },
  {
   "cell_type": "code",
   "execution_count": 8,
   "metadata": {},
   "outputs": [
    {
     "data": {
      "text/plain": [
       "{'age', 'name'}"
      ]
     },
     "execution_count": 8,
     "metadata": {},
     "output_type": "execute_result"
    }
   ],
   "source": [
    "all_fields=[\"id\",\"name\",\"age\",\"height\",\"weight\",\"adhar\",\"pan\"]\n",
    "req_fields=[\"id\",\"name\",\"age\"]\n",
    "given_fields=[\"id\",\"height\",\"weight\"]\n",
    "req_fields_set=set(req_fields)\n",
    "given_fields_set=set(given_fields)\n",
    "req_fields_set.difference(given_fields_set)"
   ]
  },
  {
   "cell_type": "code",
   "execution_count": 9,
   "metadata": {},
   "outputs": [
    {
     "data": {
      "text/plain": [
       "{'age', 'id', 'name'}"
      ]
     },
     "execution_count": 9,
     "metadata": {},
     "output_type": "execute_result"
    }
   ],
   "source": [
    "all_fields=[\"id\",\"name\",\"age\",\"height\",\"weight\",\"adhar\",\"pan\"]\n",
    "req_fields=[\"id\",\"name\",\"age\"]\n",
    "given_fields=[\"height\",\"weight\"]\n",
    "req_fields_set=set(req_fields)\n",
    "given_fields_set=set(given_fields)\n",
    "req_fields_set.difference(given_fields_set)"
   ]
  },
  {
   "cell_type": "code",
   "execution_count": 10,
   "metadata": {},
   "outputs": [
    {
     "data": {
      "text/plain": [
       "{'age'}"
      ]
     },
     "execution_count": 10,
     "metadata": {},
     "output_type": "execute_result"
    }
   ],
   "source": [
    "all_fields=[\"id\",\"name\",\"age\",\"height\",\"weight\",\"adhar\",\"pan\"]\n",
    "req_fields=[\"id\",\"name\",\"age\"]\n",
    "given_fields=[\"height\",\"weight\",\"id\",\"name\"]\n",
    "req_fields_set=set(req_fields)\n",
    "given_fields_set=set(given_fields)\n",
    "req_fields_set.difference(given_fields_set)"
   ]
  },
  {
   "cell_type": "code",
   "execution_count": 11,
   "metadata": {},
   "outputs": [
    {
     "data": {
      "text/plain": [
       "set()"
      ]
     },
     "execution_count": 11,
     "metadata": {},
     "output_type": "execute_result"
    }
   ],
   "source": [
    "all_fields=[\"id\",\"name\",\"age\",\"height\",\"weight\",\"adhar\",\"pan\"]\n",
    "req_fields=[\"id\",\"name\",\"age\"]\n",
    "given_fields=[\"height\",\"weight\",\"id\",\"name\",\"age\"]\n",
    "req_fields_set=set(req_fields)\n",
    "given_fields_set=set(given_fields)\n",
    "req_fields_set.difference(given_fields_set)"
   ]
  },
  {
   "cell_type": "code",
   "execution_count": 12,
   "metadata": {},
   "outputs": [
    {
     "name": "stdout",
     "output_type": "stream",
     "text": [
      "all mandatory fields given\n"
     ]
    }
   ],
   "source": [
    "all_fields=[\"id\",\"name\",\"age\",\"height\",\"weight\",\"adhar\",\"pan\"]\n",
    "req_fields=[\"id\",\"name\",\"age\"]\n",
    "given_fields=[\"height\",\"weight\",\"id\",\"name\",\"age\"]\n",
    "req_fields_set=set(req_fields)\n",
    "given_fields_set=set(given_fields)\n",
    "filtered_fields = req_fields_set.difference(given_fields_set)\n",
    "if filtered_fields:\n",
    "    print(\"%s are mandatory\"%filtered_fields)\n",
    "else:\n",
    "    print(\"all mandatory fields given\")"
   ]
  },
  {
   "cell_type": "code",
   "execution_count": 13,
   "metadata": {},
   "outputs": [
    {
     "name": "stdout",
     "output_type": "stream",
     "text": [
      "{'name'} are mandatory\n"
     ]
    }
   ],
   "source": [
    "all_fields=[\"id\",\"name\",\"age\",\"height\",\"weight\",\"adhar\",\"pan\"]\n",
    "req_fields=[\"id\",\"name\",\"age\"]\n",
    "given_fields=[\"height\",\"weight\",\"id\",\"age\"]\n",
    "req_fields_set=set(req_fields)\n",
    "given_fields_set=set(given_fields)\n",
    "filtered_fields = req_fields_set.difference(given_fields_set)\n",
    "if filtered_fields:\n",
    "    print(\"%s are mandatory\"%filtered_fields)\n",
    "else:\n",
    "    print(\"all mandatory fields given\")"
   ]
  },
  {
   "cell_type": "code",
   "execution_count": 14,
   "metadata": {},
   "outputs": [
    {
     "name": "stdout",
     "output_type": "stream",
     "text": [
      "[' ', ' ', ' ', ' ', ' ', 'a', 'a', 'c', 'c', 'h', 'h', 'h', 'j', 'l', 'm', 'n', 'o', 'p', 'p', 'p', 'p', 'p', 't', 't', 'v', 'y']\n"
     ]
    }
   ],
   "source": [
    "s=\"c cpp python php java html\"\n",
    "l=list(s)\n",
    "l.sort()\n",
    "print(l)\n"
   ]
  },
  {
   "cell_type": "code",
   "execution_count": 15,
   "metadata": {},
   "outputs": [
    {
     "name": "stdout",
     "output_type": "stream",
     "text": [
      "[' ', ' ', ' ', ' ', ' ', 'a', 'a', 'c', 'c', 'h', 'h', 'h', 'j', 'l', 'm', 'n', 'o', 'p', 'p', 'p', 'p', 'p', 't', 't', 'v', 'y']\n",
      "     aacchhhjlmnopppppttvy\n"
     ]
    }
   ],
   "source": [
    "s=\"c cpp python php java html\"\n",
    "l=list(s)\n",
    "l.sort()\n",
    "print(l)\n",
    "print(\"\".join(l))"
   ]
  },
  {
   "cell_type": "code",
   "execution_count": 17,
   "metadata": {},
   "outputs": [
    {
     "name": "stdout",
     "output_type": "stream",
     "text": [
      "['c', 'cpp', 'html', 'java', 'php', 'python']\n",
      "c cpp html java php python\n"
     ]
    }
   ],
   "source": [
    "s=\"c cpp python php java html\"\n",
    "l=s.split()\n",
    "l.sort()\n",
    "print(l)\n",
    "print(\" \".join(l))"
   ]
  },
  {
   "cell_type": "code",
   "execution_count": 19,
   "metadata": {},
   "outputs": [],
   "source": [
    "l=[(1,\"sai\",1234),(2,\"jay\",34556),(3,\"vedha\",2674)]\n",
    "# sort the above list by id\n",
    "#sort the above list by name\n",
    "#sort the above list by salary\n"
   ]
  },
  {
   "cell_type": "code",
   "execution_count": null,
   "metadata": {},
   "outputs": [],
   "source": []
  }
 ],
 "metadata": {
  "kernelspec": {
   "display_name": "Python 3",
   "language": "python",
   "name": "python3"
  },
  "language_info": {
   "codemirror_mode": {
    "name": "ipython",
    "version": 3
   },
   "file_extension": ".py",
   "mimetype": "text/x-python",
   "name": "python",
   "nbconvert_exporter": "python",
   "pygments_lexer": "ipython3",
   "version": "3.7.0"
  }
 },
 "nbformat": 4,
 "nbformat_minor": 2
}
