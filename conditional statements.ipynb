{
 "cells": [
  {
   "cell_type": "code",
   "execution_count": 3,
   "metadata": {},
   "outputs": [
    {
     "name": "stdout",
     "output_type": "stream",
     "text": [
      "st1\n",
      "st2\n",
      "st3\n"
     ]
    }
   ],
   "source": [
    "print(\"st1\")\n",
    "print(\"st2\")\n",
    "print(\"st3\")"
   ]
  },
  {
   "cell_type": "code",
   "execution_count": 4,
   "metadata": {},
   "outputs": [],
   "source": [
    "f=2.34"
   ]
  },
  {
   "cell_type": "code",
   "execution_count": 8,
   "metadata": {},
   "outputs": [
    {
     "name": "stdout",
     "output_type": "stream",
     "text": [
      "34.0\n"
     ]
    }
   ],
   "source": [
    "f1=int(f)\n",
    "print(round(f-f1,2)*100)"
   ]
  },
  {
   "cell_type": "code",
   "execution_count": 9,
   "metadata": {},
   "outputs": [
    {
     "data": {
      "text/plain": [
       "0.0"
      ]
     },
     "execution_count": 9,
     "metadata": {},
     "output_type": "execute_result"
    }
   ],
   "source": [
    "f.imag\n"
   ]
  },
  {
   "cell_type": "code",
   "execution_count": 10,
   "metadata": {},
   "outputs": [],
   "source": [
    "a=1+2j"
   ]
  },
  {
   "cell_type": "code",
   "execution_count": 11,
   "metadata": {},
   "outputs": [
    {
     "data": {
      "text/plain": [
       "1.0"
      ]
     },
     "execution_count": 11,
     "metadata": {},
     "output_type": "execute_result"
    }
   ],
   "source": [
    "a.real"
   ]
  },
  {
   "cell_type": "code",
   "execution_count": 12,
   "metadata": {},
   "outputs": [
    {
     "data": {
      "text/plain": [
       "2.0"
      ]
     },
     "execution_count": 12,
     "metadata": {},
     "output_type": "execute_result"
    }
   ],
   "source": [
    "a.imag"
   ]
  },
  {
   "cell_type": "code",
   "execution_count": 13,
   "metadata": {},
   "outputs": [],
   "source": [
    "f=12.34\n"
   ]
  },
  {
   "cell_type": "code",
   "execution_count": 14,
   "metadata": {},
   "outputs": [
    {
     "name": "stdout",
     "output_type": "stream",
     "text": [
      "st1\n",
      "st2\n",
      "st3\n"
     ]
    }
   ],
   "source": [
    "print(\"st1\")\n",
    "print(\"st2\")\n",
    "print(\"st3\")\n"
   ]
  },
  {
   "cell_type": "code",
   "execution_count": 16,
   "metadata": {},
   "outputs": [
    {
     "name": "stdout",
     "output_type": "stream",
     "text": [
      "a is big\n",
      "b is big\n",
      "thanks you..\n"
     ]
    }
   ],
   "source": [
    "a=10\n",
    "b=20\n",
    "print(\"a is big\")\n",
    "print(\"b is big\")\n",
    "print(\"thanks you..\")"
   ]
  },
  {
   "cell_type": "code",
   "execution_count": 17,
   "metadata": {},
   "outputs": [
    {
     "data": {
      "text/plain": [
       "False"
      ]
     },
     "execution_count": 17,
     "metadata": {},
     "output_type": "execute_result"
    }
   ],
   "source": [
    "a>b"
   ]
  },
  {
   "cell_type": "code",
   "execution_count": 18,
   "metadata": {},
   "outputs": [
    {
     "data": {
      "text/plain": [
       "True"
      ]
     },
     "execution_count": 18,
     "metadata": {},
     "output_type": "execute_result"
    }
   ],
   "source": [
    "a=100\n",
    "b=20\n",
    "a>b"
   ]
  },
  {
   "cell_type": "code",
   "execution_count": 19,
   "metadata": {},
   "outputs": [
    {
     "name": "stdout",
     "output_type": "stream",
     "text": [
      "False\n",
      "b is big\n",
      "thanks you..\n"
     ]
    }
   ],
   "source": [
    "a=10\n",
    "b=20\n",
    "print(a>b)\n",
    "if a>b:\n",
    "    print(\"a is big\")\n",
    "else:\n",
    "    print(\"b is big\")\n",
    "print(\"thanks you..\")"
   ]
  },
  {
   "cell_type": "code",
   "execution_count": 20,
   "metadata": {},
   "outputs": [
    {
     "name": "stdout",
     "output_type": "stream",
     "text": [
      "True\n",
      "a is big\n",
      "thanks you..\n"
     ]
    }
   ],
   "source": [
    "a=100\n",
    "b=20\n",
    "print(a>b)\n",
    "if a>b:\n",
    "    print(\"a is big\")\n",
    "else:\n",
    "    print(\"b is big\")\n",
    "print(\"thanks you..\")"
   ]
  },
  {
   "cell_type": "code",
   "execution_count": 21,
   "metadata": {},
   "outputs": [
    {
     "name": "stdout",
     "output_type": "stream",
     "text": [
      "True\n",
      "if block started\n",
      "a is big\n",
      "if block ended\n",
      "thanks you..\n"
     ]
    }
   ],
   "source": [
    "a=100\n",
    "b=20\n",
    "print(a>b)\n",
    "if a>b:\n",
    " print(\"if block started\")\n",
    " print(\"a is big\")\n",
    " print(\"if block ended\")\n",
    "else:\n",
    "    print(\"else block started\")\n",
    "    print(\"b is big\")\n",
    "    print(\"else block ended\")\n",
    "print(\"thanks you..\")"
   ]
  },
  {
   "cell_type": "code",
   "execution_count": 22,
   "metadata": {},
   "outputs": [
    {
     "name": "stdout",
     "output_type": "stream",
     "text": [
      "True\n",
      "if block started\n",
      "a is big\n",
      "if block ended\n",
      "thanks you..\n"
     ]
    }
   ],
   "source": [
    "a=100\n",
    "b=20\n",
    "print(a>b)\n",
    "if a>b:\n",
    "    print(\"if block started\")\n",
    "    print(\"a is big\")\n",
    "    print(\"if block ended\")\n",
    "else:\n",
    "    print(\"else block started\")\n",
    "    print(\"b is big\")\n",
    "    print(\"else block ended\")\n",
    "print(\"thanks you..\")"
   ]
  },
  {
   "cell_type": "code",
   "execution_count": 23,
   "metadata": {},
   "outputs": [
    {
     "ename": "IndentationError",
     "evalue": "unexpected indent (<ipython-input-23-fe0871192509>, line 4)",
     "output_type": "error",
     "traceback": [
      "\u001b[0;36m  File \u001b[0;32m\"<ipython-input-23-fe0871192509>\"\u001b[0;36m, line \u001b[0;32m4\u001b[0m\n\u001b[0;31m    if a>b:\u001b[0m\n\u001b[0m    ^\u001b[0m\n\u001b[0;31mIndentationError\u001b[0m\u001b[0;31m:\u001b[0m unexpected indent\n"
     ]
    }
   ],
   "source": [
    "a=100\n",
    "b=20\n",
    "print(a>b)\n",
    "    if a>b:\n",
    "        print(\"if block started\")\n",
    "        print(\"a is big\")\n",
    "        print(\"if block ended\")\n",
    "    else:\n",
    "        print(\"else block started\")\n",
    "        print(\"b is big\")\n",
    "        print(\"else block ended\")\n",
    "print(\"thanks you..\")"
   ]
  },
  {
   "cell_type": "code",
   "execution_count": 24,
   "metadata": {},
   "outputs": [
    {
     "ename": "IndentationError",
     "evalue": "unexpected indent (<ipython-input-24-64911b7c1f5d>, line 6)",
     "output_type": "error",
     "traceback": [
      "\u001b[0;36m  File \u001b[0;32m\"<ipython-input-24-64911b7c1f5d>\"\u001b[0;36m, line \u001b[0;32m6\u001b[0m\n\u001b[0;31m    print(\"a is big\")\u001b[0m\n\u001b[0m    ^\u001b[0m\n\u001b[0;31mIndentationError\u001b[0m\u001b[0;31m:\u001b[0m unexpected indent\n"
     ]
    }
   ],
   "source": [
    "a=100\n",
    "b=20\n",
    "print(a>b)\n",
    "if a>b:\n",
    " print(\"if block started\")\n",
    "    print(\"a is big\")\n",
    "    print(\"if block ended\")\n",
    "else:\n",
    "    print(\"else block started\")\n",
    "    print(\"b is big\")\n",
    "    print(\"else block ended\")\n",
    "print(\"thanks you..\")"
   ]
  },
  {
   "cell_type": "code",
   "execution_count": 25,
   "metadata": {},
   "outputs": [
    {
     "name": "stdout",
     "output_type": "stream",
     "text": [
      "True\n",
      "if block started\n",
      "a is big\n",
      "if block ended\n",
      "thanks you..\n"
     ]
    }
   ],
   "source": [
    "a=100\n",
    "b=20\n",
    "print(a>b)\n",
    "if a>b:\n",
    "    print(\"if block started\")\n",
    "    print(\"a is big\")\n",
    "    print(\"if block ended\")\n",
    "\n",
    "print(\"thanks you..\")"
   ]
  },
  {
   "cell_type": "code",
   "execution_count": 26,
   "metadata": {},
   "outputs": [
    {
     "name": "stdout",
     "output_type": "stream",
     "text": [
      "False\n",
      "thanks you..\n"
     ]
    }
   ],
   "source": [
    "a=100\n",
    "b=200\n",
    "print(a>b)\n",
    "if a>b:\n",
    "    print(\"if block started\")\n",
    "    print(\"a is big\")\n",
    "    print(\"if block ended\")\n",
    "\n",
    "print(\"thanks you..\")"
   ]
  },
  {
   "cell_type": "code",
   "execution_count": 27,
   "metadata": {},
   "outputs": [
    {
     "ename": "SyntaxError",
     "evalue": "invalid syntax (<ipython-input-27-3ab07ba0d898>, line 8)",
     "output_type": "error",
     "traceback": [
      "\u001b[0;36m  File \u001b[0;32m\"<ipython-input-27-3ab07ba0d898>\"\u001b[0;36m, line \u001b[0;32m8\u001b[0m\n\u001b[0;31m    else:\u001b[0m\n\u001b[0m       ^\u001b[0m\n\u001b[0;31mSyntaxError\u001b[0m\u001b[0;31m:\u001b[0m invalid syntax\n"
     ]
    }
   ],
   "source": [
    "a=100\n",
    "b=20\n",
    "print(a>b)\n",
    "if a>b:\n",
    "    print(\"if block started\")\n",
    "    print(\"a is big\")\n",
    "print(\"if block ended\")\n",
    "else:\n",
    "    print(\"else block started\")\n",
    "    print(\"b is big\")\n",
    "    print(\"else block ended\")\n",
    "print(\"thanks you..\")"
   ]
  },
  {
   "cell_type": "code",
   "execution_count": 28,
   "metadata": {},
   "outputs": [
    {
     "ename": "IndentationError",
     "evalue": "unindent does not match any outer indentation level (<ipython-input-28-46c5a0ae8182>, line 7)",
     "output_type": "error",
     "traceback": [
      "\u001b[0;36m  File \u001b[0;32m\"<ipython-input-28-46c5a0ae8182>\"\u001b[0;36m, line \u001b[0;32m7\u001b[0m\n\u001b[0;31m    print(\"if block ended\")\u001b[0m\n\u001b[0m                           ^\u001b[0m\n\u001b[0;31mIndentationError\u001b[0m\u001b[0;31m:\u001b[0m unindent does not match any outer indentation level\n"
     ]
    }
   ],
   "source": [
    "a=100\n",
    "b=20\n",
    "print(a>b)\n",
    "if a>b:\n",
    "    print(\"if block started\")\n",
    "    print(\"a is big\")\n",
    " print(\"if block ended\")\n",
    "else:\n",
    " print(\"else block started\")\n",
    " print(\"b is big\")\n",
    " print(\"else block ended\")\n",
    "print(\"thanks you..\")"
   ]
  },
  {
   "cell_type": "code",
   "execution_count": 30,
   "metadata": {},
   "outputs": [
    {
     "name": "stdout",
     "output_type": "stream",
     "text": [
      "Enter s:python\n",
      "python\n"
     ]
    }
   ],
   "source": [
    "# wap to check given string contains atleat one character or not\n",
    "s=input(\"Enter s:\")\n",
    "print(s)"
   ]
  },
  {
   "cell_type": "code",
   "execution_count": 31,
   "metadata": {},
   "outputs": [
    {
     "name": "stdout",
     "output_type": "stream",
     "text": [
      "Enter s:\n",
      "\n"
     ]
    }
   ],
   "source": [
    "# wap to check given string contains atleat one character or not\n",
    "s=input(\"Enter s:\")\n",
    "print(s)"
   ]
  },
  {
   "cell_type": "code",
   "execution_count": 32,
   "metadata": {},
   "outputs": [
    {
     "data": {
      "text/plain": [
       "65"
      ]
     },
     "execution_count": 32,
     "metadata": {},
     "output_type": "execute_result"
    }
   ],
   "source": [
    "ord(\"A\")"
   ]
  },
  {
   "cell_type": "code",
   "execution_count": 33,
   "metadata": {},
   "outputs": [
    {
     "data": {
      "text/plain": [
       "'A'"
      ]
     },
     "execution_count": 33,
     "metadata": {},
     "output_type": "execute_result"
    }
   ],
   "source": [
    "chr(65)"
   ]
  },
  {
   "cell_type": "code",
   "execution_count": 34,
   "metadata": {},
   "outputs": [
    {
     "name": "stdout",
     "output_type": "stream",
     "text": [
      "Enter s:python\n",
      "6\n"
     ]
    }
   ],
   "source": [
    "# wap to check given string contains atleat one character or not\n",
    "s=input(\"Enter s:\")\n",
    "print(len(s))"
   ]
  },
  {
   "cell_type": "code",
   "execution_count": 35,
   "metadata": {},
   "outputs": [
    {
     "name": "stdout",
     "output_type": "stream",
     "text": [
      "Enter s:\n",
      "0\n"
     ]
    }
   ],
   "source": [
    "# wap to check given string contains atleat one character or not\n",
    "s=input(\"Enter s:\")\n",
    "print(len(s))"
   ]
  },
  {
   "cell_type": "code",
   "execution_count": 36,
   "metadata": {},
   "outputs": [
    {
     "data": {
      "text/plain": [
       "14"
      ]
     },
     "execution_count": 36,
     "metadata": {},
     "output_type": "execute_result"
    }
   ],
   "source": [
    "name=\"python program\"\n",
    "len(name)"
   ]
  },
  {
   "cell_type": "code",
   "execution_count": 37,
   "metadata": {},
   "outputs": [
    {
     "data": {
      "text/plain": [
       "0"
      ]
     },
     "execution_count": 37,
     "metadata": {},
     "output_type": "execute_result"
    }
   ],
   "source": [
    "name=''\n",
    "len(name)"
   ]
  },
  {
   "cell_type": "code",
   "execution_count": 39,
   "metadata": {},
   "outputs": [
    {
     "name": "stdout",
     "output_type": "stream",
     "text": [
      "enter name:python\n",
      "6\n",
      "thank you\n"
     ]
    }
   ],
   "source": [
    "name=input(\"enter name:\")\n",
    "if len(name)==0:\n",
    "    print(\"enter atleast one char\")\n",
    "else:\n",
    "    print(len(name))\n",
    "print(\"thank you\")"
   ]
  },
  {
   "cell_type": "code",
   "execution_count": 40,
   "metadata": {},
   "outputs": [
    {
     "name": "stdout",
     "output_type": "stream",
     "text": [
      "enter name:\n",
      "enter atleast one char\n",
      "thank you\n"
     ]
    }
   ],
   "source": [
    "name=input(\"enter name:\")\n",
    "if len(name)==0:\n",
    "    print(\"enter atleast one char\")\n",
    "else:\n",
    "    print(len(name))\n",
    "print(\"thank you\")"
   ]
  },
  {
   "cell_type": "code",
   "execution_count": 41,
   "metadata": {},
   "outputs": [
    {
     "name": "stdout",
     "output_type": "stream",
     "text": [
      "enter name:sdsdg.\n",
      "6\n",
      "thank you\n"
     ]
    }
   ],
   "source": [
    "name=input(\"enter name:\")\n",
    "name_len=len(name)\n",
    "if name_len==0:\n",
    "    print(\"enter atleast one char\")\n",
    "else:\n",
    "    print(name_len)\n",
    "print(\"thank you\")"
   ]
  },
  {
   "cell_type": "code",
   "execution_count": 42,
   "metadata": {},
   "outputs": [
    {
     "name": "stdout",
     "output_type": "stream",
     "text": [
      "enter name:\n",
      "enter atleast one char\n",
      "thank you\n"
     ]
    }
   ],
   "source": [
    "name=input(\"enter name:\")\n",
    "name_len=len(name)\n",
    "if name_len==0:\n",
    "    print(\"enter atleast one char\")\n",
    "else:\n",
    "    print(name_len)\n",
    "print(\"thank you\")"
   ]
  },
  {
   "cell_type": "code",
   "execution_count": 43,
   "metadata": {},
   "outputs": [
    {
     "name": "stdout",
     "output_type": "stream",
     "text": [
      "welcome to the program\n",
      "hello\n",
      "thank yoiu\n"
     ]
    }
   ],
   "source": [
    "print(\"welcome to the program\")\n",
    "if 0: #bool(0)\n",
    "    print(\"hi\")\n",
    "else:\n",
    "    print(\"hello\")\n",
    "print(\"thank yoiu\")"
   ]
  },
  {
   "cell_type": "code",
   "execution_count": 44,
   "metadata": {},
   "outputs": [
    {
     "name": "stdout",
     "output_type": "stream",
     "text": [
      "welcome to the program\n",
      "hi\n",
      "thank yoiu\n"
     ]
    }
   ],
   "source": [
    "print(\"welcome to the program\")\n",
    "if 1: #bool(1)\n",
    "    print(\"hi\")\n",
    "else:\n",
    "    print(\"hello\")\n",
    "print(\"thank yoiu\")"
   ]
  },
  {
   "cell_type": "code",
   "execution_count": 45,
   "metadata": {},
   "outputs": [
    {
     "name": "stdout",
     "output_type": "stream",
     "text": [
      "welcome to the program\n",
      "hi\n",
      "thank yoiu\n"
     ]
    }
   ],
   "source": [
    "print(\"welcome to the program\")\n",
    "if \"python\": #bool(\"python\")\n",
    "    print(\"hi\")\n",
    "else:\n",
    "    print(\"hello\")\n",
    "print(\"thank yoiu\")"
   ]
  },
  {
   "cell_type": "code",
   "execution_count": 46,
   "metadata": {},
   "outputs": [
    {
     "name": "stdout",
     "output_type": "stream",
     "text": [
      "welcome to the program\n",
      "hello\n",
      "thank yoiu\n"
     ]
    }
   ],
   "source": [
    "print(\"welcome to the program\")\n",
    "if '': #bool('')\n",
    "    print(\"hi\")\n",
    "else:\n",
    "    print(\"hello\")\n",
    "print(\"thank yoiu\")"
   ]
  },
  {
   "cell_type": "code",
   "execution_count": 47,
   "metadata": {},
   "outputs": [
    {
     "name": "stdout",
     "output_type": "stream",
     "text": [
      "enter name:python\n",
      "6\n",
      "enter atleast one char\n",
      "thank you\n"
     ]
    }
   ],
   "source": [
    "name=input(\"enter name:\")\n",
    "name_len=len(name)\n",
    "print(name_len)\n",
    "if name_len:\n",
    "    print(\"enter atleast one char\")\n",
    "else:\n",
    "    print(name_len)\n",
    "print(\"thank you\")"
   ]
  },
  {
   "cell_type": "code",
   "execution_count": 48,
   "metadata": {},
   "outputs": [
    {
     "name": "stdout",
     "output_type": "stream",
     "text": [
      "enter name:python\n",
      "6\n",
      "6\n",
      "thank you\n"
     ]
    }
   ],
   "source": [
    "name=input(\"enter name:\")\n",
    "name_len=len(name)\n",
    "print(name_len)\n",
    "if name_len:\n",
    "    print(name_len)\n",
    "else:\n",
    "    print(\"enter atleast one char\")\n",
    "    \n",
    "print(\"thank you\")"
   ]
  },
  {
   "cell_type": "code",
   "execution_count": 49,
   "metadata": {},
   "outputs": [
    {
     "name": "stdout",
     "output_type": "stream",
     "text": [
      "enter name:\n",
      "0\n",
      "enter atleast one char\n",
      "thank you\n"
     ]
    }
   ],
   "source": [
    "name=input(\"enter name:\")\n",
    "name_len=len(name)\n",
    "print(name_len)\n",
    "if name_len:\n",
    "    print(name_len)\n",
    "else:\n",
    "    print(\"enter atleast one char\")\n",
    "    \n",
    "print(\"thank you\")"
   ]
  },
  {
   "cell_type": "code",
   "execution_count": 50,
   "metadata": {},
   "outputs": [
    {
     "name": "stdout",
     "output_type": "stream",
     "text": [
      "enter name:python\n",
      "6\n",
      "thank you\n"
     ]
    }
   ],
   "source": [
    "name=input(\"enter name:\")\n",
    "if name:\n",
    "    print(len(name))\n",
    "else:\n",
    "    print(\"enter atleast one char\")\n",
    "    \n",
    "print(\"thank you\")"
   ]
  },
  {
   "cell_type": "code",
   "execution_count": 51,
   "metadata": {},
   "outputs": [
    {
     "name": "stdout",
     "output_type": "stream",
     "text": [
      "enter name:\n",
      "enter atleast one char\n",
      "thank you\n"
     ]
    }
   ],
   "source": [
    "name=input(\"enter name:\")\n",
    "if name:\n",
    "    print(len(name))\n",
    "else:\n",
    "    print(\"enter atleast one char\")\n",
    "    \n",
    "print(\"thank you\")"
   ]
  },
  {
   "cell_type": "code",
   "execution_count": 52,
   "metadata": {},
   "outputs": [
    {
     "name": "stdout",
     "output_type": "stream",
     "text": [
      "enter name:python\n",
      "6\n",
      "thank you\n"
     ]
    }
   ],
   "source": [
    "name=input(\"enter name:\")\n",
    "print (len(name) if name else \"enter atleast one charater\")\n",
    "print(\"thank you\")"
   ]
  },
  {
   "cell_type": "code",
   "execution_count": 53,
   "metadata": {},
   "outputs": [
    {
     "name": "stdout",
     "output_type": "stream",
     "text": [
      "enter name:\n",
      "enter atleast one charater\n",
      "thank you\n"
     ]
    }
   ],
   "source": [
    "name=input(\"enter name:\")\n",
    "print (len(name) if name else \"enter atleast one charater\")\n",
    "print(\"thank you\")"
   ]
  },
  {
   "cell_type": "code",
   "execution_count": 54,
   "metadata": {},
   "outputs": [
    {
     "data": {
      "text/plain": [
       "0"
      ]
     },
     "execution_count": 54,
     "metadata": {},
     "output_type": "execute_result"
    }
   ],
   "source": [
    "24%2"
   ]
  },
  {
   "cell_type": "code",
   "execution_count": 55,
   "metadata": {},
   "outputs": [
    {
     "data": {
      "text/plain": [
       "1"
      ]
     },
     "execution_count": 55,
     "metadata": {},
     "output_type": "execute_result"
    }
   ],
   "source": [
    "23%2"
   ]
  },
  {
   "cell_type": "code",
   "execution_count": 56,
   "metadata": {},
   "outputs": [
    {
     "data": {
      "text/plain": [
       "0"
      ]
     },
     "execution_count": 56,
     "metadata": {},
     "output_type": "execute_result"
    }
   ],
   "source": [
    "24%6"
   ]
  },
  {
   "cell_type": "code",
   "execution_count": 57,
   "metadata": {},
   "outputs": [
    {
     "data": {
      "text/plain": [
       "4"
      ]
     },
     "execution_count": 57,
     "metadata": {},
     "output_type": "execute_result"
    }
   ],
   "source": [
    "24%5"
   ]
  },
  {
   "cell_type": "code",
   "execution_count": 58,
   "metadata": {},
   "outputs": [
    {
     "name": "stdout",
     "output_type": "stream",
     "text": [
      "enter name:python\n",
      "6\n",
      "thank you\n"
     ]
    }
   ],
   "source": [
    "name=input(\"enter name:\")\n",
    "res = len(name) if name else \"enter atleast one charater\"\n",
    "print(res)\n",
    "print(\"thank you\")"
   ]
  },
  {
   "cell_type": "code",
   "execution_count": 59,
   "metadata": {},
   "outputs": [
    {
     "name": "stdout",
     "output_type": "stream",
     "text": [
      "enter number10\n"
     ]
    },
    {
     "ename": "TypeError",
     "evalue": "not all arguments converted during string formatting",
     "output_type": "error",
     "traceback": [
      "\u001b[0;31m---------------------------------------------------------------------------\u001b[0m",
      "\u001b[0;31mTypeError\u001b[0m                                 Traceback (most recent call last)",
      "\u001b[0;32m<ipython-input-59-a3a308ba5d6f>\u001b[0m in \u001b[0;36m<module>\u001b[0;34m()\u001b[0m\n\u001b[1;32m      1\u001b[0m \u001b[0mnumber\u001b[0m \u001b[0;34m=\u001b[0m \u001b[0minput\u001b[0m\u001b[0;34m(\u001b[0m\u001b[0;34m\"enter number\"\u001b[0m\u001b[0;34m)\u001b[0m\u001b[0;34m\u001b[0m\u001b[0m\n\u001b[0;32m----> 2\u001b[0;31m \u001b[0mprint\u001b[0m\u001b[0;34m(\u001b[0m\u001b[0mnumber\u001b[0m\u001b[0;34m%\u001b[0m\u001b[0;36m2\u001b[0m\u001b[0;34m)\u001b[0m\u001b[0;34m\u001b[0m\u001b[0m\n\u001b[0m",
      "\u001b[0;31mTypeError\u001b[0m: not all arguments converted during string formatting"
     ]
    }
   ],
   "source": [
    "number = input(\"enter number\")\n",
    "print(number%2)"
   ]
  },
  {
   "cell_type": "code",
   "execution_count": 60,
   "metadata": {},
   "outputs": [
    {
     "name": "stdout",
     "output_type": "stream",
     "text": [
      "enter number10\n",
      "0\n"
     ]
    }
   ],
   "source": [
    "number = input(\"enter number\")\n",
    "number=int(number)\n",
    "print(number%2)"
   ]
  },
  {
   "cell_type": "code",
   "execution_count": 61,
   "metadata": {},
   "outputs": [
    {
     "name": "stdout",
     "output_type": "stream",
     "text": [
      "enter number12\n",
      "EVEN\n",
      "Thank you..\n"
     ]
    }
   ],
   "source": [
    "number = input(\"enter number\")\n",
    "number=int(number)\n",
    "if number%2==0:\n",
    "    print(\"EVEN\")\n",
    "else:\n",
    "    print(\"ODD\")\n",
    "print(\"Thank you..\")"
   ]
  },
  {
   "cell_type": "code",
   "execution_count": 62,
   "metadata": {},
   "outputs": [
    {
     "name": "stdout",
     "output_type": "stream",
     "text": [
      "enter number23\n",
      "ODD\n",
      "Thank you..\n"
     ]
    }
   ],
   "source": [
    "number = input(\"enter number\")\n",
    "number=int(number)\n",
    "if number%2==0:\n",
    "    print(\"EVEN\")\n",
    "else:\n",
    "    print(\"ODD\")\n",
    "print(\"Thank you..\")"
   ]
  },
  {
   "cell_type": "code",
   "execution_count": 63,
   "metadata": {},
   "outputs": [
    {
     "name": "stdout",
     "output_type": "stream",
     "text": [
      "enter number12\n",
      "EVEN\n",
      "Thank you..\n"
     ]
    }
   ],
   "source": [
    "number = input(\"enter number\")\n",
    "number=int(number)\n",
    "res= \"EVEN\" if number%2==0 else \"ODD\"\n",
    "print(res)\n",
    "print(\"Thank you..\")"
   ]
  },
  {
   "cell_type": "code",
   "execution_count": 64,
   "metadata": {},
   "outputs": [
    {
     "name": "stdout",
     "output_type": "stream",
     "text": [
      "enter number23\n",
      "ODD\n",
      "Thank you..\n"
     ]
    }
   ],
   "source": [
    "number = input(\"enter number\")\n",
    "number=int(number)\n",
    "res= \"EVEN\" if number%2==0 else \"ODD\"\n",
    "print(res)\n",
    "print(\"Thank you..\")"
   ]
  },
  {
   "cell_type": "code",
   "execution_count": 65,
   "metadata": {},
   "outputs": [
    {
     "name": "stdout",
     "output_type": "stream",
     "text": [
      "enter number12\n",
      "True\n",
      "Thank you..\n"
     ]
    }
   ],
   "source": [
    "# take a number from the user: if its an even then print True, else False\n",
    "number = input(\"enter number\")\n",
    "number=int(number)\n",
    "res= True if number%2==0 else False\n",
    "print(res)\n",
    "print(\"Thank you..\")"
   ]
  },
  {
   "cell_type": "code",
   "execution_count": 66,
   "metadata": {},
   "outputs": [
    {
     "name": "stdout",
     "output_type": "stream",
     "text": [
      "enter number23\n",
      "False\n",
      "Thank you..\n"
     ]
    }
   ],
   "source": [
    "# take a number from the user: if its an even then print True, else False\n",
    "number = input(\"enter number\")\n",
    "number=int(number)\n",
    "res= number%2==0\n",
    "print(res)\n",
    "print(\"Thank you..\")"
   ]
  },
  {
   "cell_type": "code",
   "execution_count": 67,
   "metadata": {},
   "outputs": [
    {
     "name": "stdout",
     "output_type": "stream",
     "text": [
      "enter number12\n",
      "True\n",
      "Thank you..\n"
     ]
    }
   ],
   "source": [
    "# take a number from the user: if its an even then print True, else False\n",
    "number = input(\"enter number\")\n",
    "number=int(number)\n",
    "res= number%2==0\n",
    "print(res)\n",
    "print(\"Thank you..\")"
   ]
  },
  {
   "cell_type": "code",
   "execution_count": 68,
   "metadata": {},
   "outputs": [
    {
     "name": "stdout",
     "output_type": "stream",
     "text": [
      "enter number23\n",
      "False\n",
      "Thank you..\n"
     ]
    }
   ],
   "source": [
    "# take a number from the user: if its an even then print True, else False\n",
    "number = input(\"enter number\")\n",
    "number=int(number)\n",
    "res= number%2==0\n",
    "print(res)\n",
    "print(\"Thank you..\")"
   ]
  },
  {
   "cell_type": "code",
   "execution_count": 69,
   "metadata": {},
   "outputs": [
    {
     "name": "stdout",
     "output_type": "stream",
     "text": [
      "Fruits menu:\n",
      "1.Apple\n",
      "2.banana\n",
      "3.grapes\n"
     ]
    }
   ],
   "source": [
    "print(\"Fruits menu:\\n1.Apple\\n2.banana\\n3.grapes\")"
   ]
  },
  {
   "cell_type": "code",
   "execution_count": 70,
   "metadata": {},
   "outputs": [
    {
     "name": "stdout",
     "output_type": "stream",
     "text": [
      "Fruits menu:\n",
      "1.Apple\n",
      "2.banana\n",
      "3.grapes\n",
      "enter an option:1\n"
     ]
    }
   ],
   "source": [
    "print(\"Fruits menu:\\n1.Apple\\n2.banana\\n3.grapes\")\n",
    "opt=input(\"enter an option:\")"
   ]
  },
  {
   "cell_type": "code",
   "execution_count": 71,
   "metadata": {},
   "outputs": [
    {
     "name": "stdout",
     "output_type": "stream",
     "text": [
      "Fruits menu:\n",
      "1.Apple\n",
      "2.banana\n",
      "3.grapes\n",
      "enter an option:2\n",
      "thank you!!\n"
     ]
    }
   ],
   "source": [
    "print(\"Fruits menu:\\n1.Apple\\n2.banana\\n3.grapes\")\n",
    "opt=input(\"enter an option:\")\n",
    "if opt==1:\n",
    "    print(\"Aplle: OK: 23.45\")\n",
    "if opt==2:\n",
    "    print(\"Banana: average: 34\")\n",
    "if opt==3:\n",
    "    print(\"grape: good: 45\")\n",
    "print(\"thank you!!\")    "
   ]
  },
  {
   "cell_type": "code",
   "execution_count": 72,
   "metadata": {},
   "outputs": [
    {
     "name": "stdout",
     "output_type": "stream",
     "text": [
      "Fruits menu:\n",
      "1.Apple\n",
      "2.banana\n",
      "3.grapes\n",
      "enter an option:2\n",
      "Banana: average: 34\n",
      "thank you!!\n"
     ]
    }
   ],
   "source": [
    "print(\"Fruits menu:\\n1.Apple\\n2.banana\\n3.grapes\")\n",
    "opt=input(\"enter an option:\")\n",
    "if opt=='1':\n",
    "    print(\"Aplle: OK: 23.45\")\n",
    "if opt=='2':\n",
    "    print(\"Banana: average: 34\")\n",
    "if opt=='3':\n",
    "    print(\"grape: good: 45\")\n",
    "print(\"thank you!!\")    "
   ]
  },
  {
   "cell_type": "code",
   "execution_count": 73,
   "metadata": {},
   "outputs": [
    {
     "name": "stdout",
     "output_type": "stream",
     "text": [
      "Fruits menu:\n",
      "1.Apple\n",
      "2.banana\n",
      "3.grapes\n",
      "enter an option:1\n",
      "Aplle: OK: 23.45\n",
      "thank you!!\n"
     ]
    }
   ],
   "source": [
    "print(\"Fruits menu:\\n1.Apple\\n2.banana\\n3.grapes\")\n",
    "opt=input(\"enter an option:\")\n",
    "if opt=='1':\n",
    "    print(\"Aplle: OK: 23.45\")\n",
    "if opt=='2':\n",
    "    print(\"Banana: average: 34\")\n",
    "if opt=='3':\n",
    "    print(\"grape: good: 45\")\n",
    "print(\"thank you!!\")    "
   ]
  },
  {
   "cell_type": "code",
   "execution_count": 74,
   "metadata": {},
   "outputs": [
    {
     "name": "stdout",
     "output_type": "stream",
     "text": [
      "Fruits menu:\n",
      "1.Apple\n",
      "2.banana\n",
      "3.grapes\n",
      "enter an option:2\n",
      "Banana: average: 34\n",
      "thank you!!\n"
     ]
    }
   ],
   "source": [
    "print(\"Fruits menu:\\n1.Apple\\n2.banana\\n3.grapes\")\n",
    "opt=input(\"enter an option:\")\n",
    "if opt=='1':\n",
    "    print(\"Aplle: OK: 23.45\")\n",
    "if opt=='2':\n",
    "    print(\"Banana: average: 34\")\n",
    "if opt=='3':\n",
    "    print(\"grape: good: 45\")\n",
    "print(\"thank you!!\")    "
   ]
  },
  {
   "cell_type": "code",
   "execution_count": 75,
   "metadata": {},
   "outputs": [
    {
     "name": "stdout",
     "output_type": "stream",
     "text": [
      "Fruits menu:\n",
      "1.Apple\n",
      "2.banana\n",
      "3.grapes\n",
      "enter an option:3\n",
      "grape: good: 45\n",
      "thank you!!\n"
     ]
    }
   ],
   "source": [
    "print(\"Fruits menu:\\n1.Apple\\n2.banana\\n3.grapes\")\n",
    "opt=input(\"enter an option:\")\n",
    "if opt=='1':\n",
    "    print(\"Aplle: OK: 23.45\")\n",
    "if opt=='2':\n",
    "    print(\"Banana: average: 34\")\n",
    "if opt=='3':\n",
    "    print(\"grape: good: 45\")\n",
    "print(\"thank you!!\")    "
   ]
  },
  {
   "cell_type": "code",
   "execution_count": 76,
   "metadata": {},
   "outputs": [
    {
     "name": "stdout",
     "output_type": "stream",
     "text": [
      "Fruits menu:\n",
      "1.Apple\n",
      "2.banana\n",
      "3.grapes\n",
      "enter an option:4\n",
      "thank you!!\n"
     ]
    }
   ],
   "source": [
    "print(\"Fruits menu:\\n1.Apple\\n2.banana\\n3.grapes\")\n",
    "opt=input(\"enter an option:\")\n",
    "if opt=='1':\n",
    "    print(\"Aplle: OK: 23.45\")\n",
    "if opt=='2':\n",
    "    print(\"Banana: average: 34\")\n",
    "if opt=='3':\n",
    "    print(\"grape: good: 45\")\n",
    "print(\"thank you!!\")    "
   ]
  },
  {
   "cell_type": "code",
   "execution_count": 77,
   "metadata": {},
   "outputs": [
    {
     "name": "stdout",
     "output_type": "stream",
     "text": [
      "Fruits menu:\n",
      "1.Apple\n",
      "2.banana\n",
      "3.grapes\n",
      "enter an option:3\n",
      "grape: good: 45\n",
      "wrong option\n",
      "thank you!!\n"
     ]
    }
   ],
   "source": [
    "print(\"Fruits menu:\\n1.Apple\\n2.banana\\n3.grapes\")\n",
    "opt=input(\"enter an option:\")\n",
    "if opt=='1':\n",
    "    print(\"Aplle: OK: 23.45\")\n",
    "if opt=='2':\n",
    "    print(\"Banana: average: 34\")\n",
    "if opt=='3':\n",
    "    print(\"grape: good: 45\")\n",
    "if opt!=\"1\" or opt!=\"2\" or opt!=\"3\":\n",
    "    print(\"wrong option\")\n",
    "print(\"thank you!!\")    "
   ]
  },
  {
   "cell_type": "code",
   "execution_count": 78,
   "metadata": {},
   "outputs": [
    {
     "name": "stdout",
     "output_type": "stream",
     "text": [
      "Fruits menu:\n",
      "1.Apple\n",
      "2.banana\n",
      "3.grapes\n",
      "enter an option:1\n",
      "Aplle: OK: 23.45\n",
      "thank you!!\n"
     ]
    }
   ],
   "source": [
    "print(\"Fruits menu:\\n1.Apple\\n2.banana\\n3.grapes\")\n",
    "opt=input(\"enter an option:\")\n",
    "if opt=='1':\n",
    "    print(\"Aplle: OK: 23.45\")\n",
    "if opt=='2':\n",
    "    print(\"Banana: average: 34\")\n",
    "if opt=='3':\n",
    "    print(\"grape: good: 45\")\n",
    "if opt!=\"1\" and opt!=\"2\" and opt!=\"3\":\n",
    "    print(\"wrong option\")\n",
    "print(\"thank you!!\")    "
   ]
  },
  {
   "cell_type": "code",
   "execution_count": 79,
   "metadata": {},
   "outputs": [
    {
     "name": "stdout",
     "output_type": "stream",
     "text": [
      "Fruits menu:\n",
      "1.Apple\n",
      "2.banana\n",
      "3.grapes\n",
      "enter an option:2\n",
      "Banana: average: 34\n",
      "thank you!!\n"
     ]
    }
   ],
   "source": [
    "print(\"Fruits menu:\\n1.Apple\\n2.banana\\n3.grapes\")\n",
    "opt=input(\"enter an option:\")\n",
    "if opt=='1':\n",
    "    print(\"Aplle: OK: 23.45\")\n",
    "if opt=='2':\n",
    "    print(\"Banana: average: 34\")\n",
    "if opt=='3':\n",
    "    print(\"grape: good: 45\")\n",
    "if opt!=\"1\" and opt!=\"2\" and opt!=\"3\":\n",
    "    print(\"wrong option\")\n",
    "print(\"thank you!!\")    "
   ]
  },
  {
   "cell_type": "code",
   "execution_count": 80,
   "metadata": {},
   "outputs": [
    {
     "name": "stdout",
     "output_type": "stream",
     "text": [
      "Fruits menu:\n",
      "1.Apple\n",
      "2.banana\n",
      "3.grapes\n",
      "enter an option:3\n",
      "grape: good: 45\n",
      "thank you!!\n"
     ]
    }
   ],
   "source": [
    "print(\"Fruits menu:\\n1.Apple\\n2.banana\\n3.grapes\")\n",
    "opt=input(\"enter an option:\")\n",
    "if opt=='1':\n",
    "    print(\"Aplle: OK: 23.45\")\n",
    "if opt=='2':\n",
    "    print(\"Banana: average: 34\")\n",
    "if opt=='3':\n",
    "    print(\"grape: good: 45\")\n",
    "if opt!=\"1\" and opt!=\"2\" and opt!=\"3\":\n",
    "    print(\"wrong option\")\n",
    "print(\"thank you!!\")    "
   ]
  },
  {
   "cell_type": "code",
   "execution_count": 81,
   "metadata": {},
   "outputs": [
    {
     "name": "stdout",
     "output_type": "stream",
     "text": [
      "Fruits menu:\n",
      "1.Apple\n",
      "2.banana\n",
      "3.grapes\n",
      "enter an option:4\n",
      "wrong option\n",
      "thank you!!\n"
     ]
    }
   ],
   "source": [
    "print(\"Fruits menu:\\n1.Apple\\n2.banana\\n3.grapes\")\n",
    "opt=input(\"enter an option:\")\n",
    "if opt=='1':\n",
    "    print(\"Aplle: OK: 23.45\")\n",
    "if opt=='2':\n",
    "    print(\"Banana: average: 34\")\n",
    "if opt=='3':\n",
    "    print(\"grape: good: 45\")\n",
    "if opt!=\"1\" and opt!=\"2\" and opt!=\"3\":\n",
    "    print(\"wrong option\")\n",
    "print(\"thank you!!\")    "
   ]
  },
  {
   "cell_type": "code",
   "execution_count": 82,
   "metadata": {},
   "outputs": [
    {
     "name": "stdout",
     "output_type": "stream",
     "text": [
      "Fruits menu:\n",
      "1.Apple\n",
      "2.banana\n",
      "3.grapes\n",
      "enter an option:2\n",
      "Banana: average: 34\n",
      "thank you!!\n"
     ]
    }
   ],
   "source": [
    "print(\"Fruits menu:\\n1.Apple\\n2.banana\\n3.grapes\")\n",
    "opt=input(\"enter an option:\")\n",
    "if opt=='1':\n",
    "    print(\"Aplle: OK: 23.45\")\n",
    "if opt=='2':\n",
    "    print(\"Banana: average: 34\")\n",
    "if opt=='3':\n",
    "    print(\"grape: good: 45\")\n",
    "if opt!=\"1\" and opt!=\"2\" and opt!=\"3\":\n",
    "    print(\"wrong option\")\n",
    "print(\"thank you!!\")    "
   ]
  },
  {
   "cell_type": "code",
   "execution_count": 83,
   "metadata": {},
   "outputs": [
    {
     "name": "stdout",
     "output_type": "stream",
     "text": [
      "Fruits menu:\n",
      "1.Apple\n",
      "2.banana\n",
      "3.grapes\n",
      "enter an option:2\n",
      "Banana: average: 34\n",
      "thank you!!\n"
     ]
    }
   ],
   "source": [
    "print(\"Fruits menu:\\n1.Apple\\n2.banana\\n3.grapes\")\n",
    "opt=input(\"enter an option:\")\n",
    "if opt=='1':\n",
    "    print(\"Aplle: OK: 23.45\")\n",
    "elif opt=='2':\n",
    "    print(\"Banana: average: 34\")\n",
    "elif opt=='3':\n",
    "    print(\"grape: good: 45\")\n",
    "else:\n",
    "    print(\"wrong option\")\n",
    "print(\"thank you!!\")    "
   ]
  },
  {
   "cell_type": "code",
   "execution_count": 84,
   "metadata": {},
   "outputs": [
    {
     "name": "stdout",
     "output_type": "stream",
     "text": [
      "Fruits menu:\n",
      "1.Apple\n",
      "2.banana\n",
      "3.grapes\n",
      "enter an option:4\n",
      "wrong option\n",
      "thank you!!\n"
     ]
    }
   ],
   "source": [
    "print(\"Fruits menu:\\n1.Apple\\n2.banana\\n3.grapes\")\n",
    "opt=input(\"enter an option:\")\n",
    "if opt=='1':\n",
    "    print(\"Aplle: OK: 23.45\")\n",
    "elif opt=='2':\n",
    "    print(\"Banana: average: 34\")\n",
    "elif opt=='3':\n",
    "    print(\"grape: good: 45\")\n",
    "else:\n",
    "    print(\"wrong option\")\n",
    "print(\"thank you!!\")    "
   ]
  },
  {
   "cell_type": "code",
   "execution_count": 85,
   "metadata": {},
   "outputs": [
    {
     "name": "stdout",
     "output_type": "stream",
     "text": [
      "Fruits menu:\n",
      "1.Apple\n",
      "2.banana\n",
      "3.grapes\n",
      "enter an option:\n",
      "wrong option\n",
      "thank you!!\n"
     ]
    }
   ],
   "source": [
    "print(\"Fruits menu:\\n1.Apple\\n2.banana\\n3.grapes\")\n",
    "opt=input(\"enter an option:\")\n",
    "if opt=='1':\n",
    "    print(\"Aplle: OK: 23.45\")\n",
    "elif opt=='2':\n",
    "    print(\"Banana: average: 34\")\n",
    "elif opt=='3':\n",
    "    print(\"grape: good: 45\")\n",
    "else:\n",
    "    print(\"wrong option\")\n",
    "print(\"thank you!!\")    "
   ]
  },
  {
   "cell_type": "code",
   "execution_count": 86,
   "metadata": {},
   "outputs": [
    {
     "name": "stdout",
     "output_type": "stream",
     "text": [
      "Fruits menu:\n",
      "1.Apple\n",
      "2.banana\n",
      "3.grapes\n",
      "enter an option:4\n",
      "wrong option\n",
      "thank you!!\n"
     ]
    }
   ],
   "source": [
    "print(\"Fruits menu:\\n1.Apple\\n2.banana\\n3.grapes\")\n",
    "opt=input(\"enter an option:\")\n",
    "if opt:\n",
    "    if opt=='1':\n",
    "        print(\"Aplle: OK: 23.45\")\n",
    "    elif opt=='2':\n",
    "        print(\"Banana: average: 34\")\n",
    "    elif opt=='3':\n",
    "        print(\"grape: good: 45\")\n",
    "    else:\n",
    "        print(\"wrong option\")\n",
    "else:\n",
    "    print(\"Select an option\")\n",
    "print(\"thank you!!\")    "
   ]
  },
  {
   "cell_type": "code",
   "execution_count": 87,
   "metadata": {},
   "outputs": [
    {
     "name": "stdout",
     "output_type": "stream",
     "text": [
      "Fruits menu:\n",
      "1.Apple\n",
      "2.banana\n",
      "3.grapes\n",
      "enter an option:3\n",
      "grape: good: 45\n",
      "thank you!!\n"
     ]
    }
   ],
   "source": [
    "print(\"Fruits menu:\\n1.Apple\\n2.banana\\n3.grapes\")\n",
    "opt=input(\"enter an option:\")\n",
    "if opt:\n",
    "    if opt=='1':\n",
    "        print(\"Aplle: OK: 23.45\")\n",
    "    elif opt=='2':\n",
    "        print(\"Banana: average: 34\")\n",
    "    elif opt=='3':\n",
    "        print(\"grape: good: 45\")\n",
    "    else:\n",
    "        print(\"wrong option\")\n",
    "else:\n",
    "    print(\"Select an option\")\n",
    "print(\"thank you!!\")    "
   ]
  },
  {
   "cell_type": "code",
   "execution_count": 89,
   "metadata": {},
   "outputs": [
    {
     "name": "stdout",
     "output_type": "stream",
     "text": [
      "Fruits menu:\n",
      "1.Apple\n",
      "2.banana\n",
      "3.grapes\n",
      "enter an option:1\n",
      "Aplle: OK: 23.45\n",
      "thank you!!\n"
     ]
    }
   ],
   "source": [
    "print(\"Fruits menu:\\n1.Apple\\n2.banana\\n3.grapes\")\n",
    "opt=input(\"enter an option:\")\n",
    "if opt:\n",
    "    if opt=='1':\n",
    "        print(\"Aplle: OK: 23.45\")\n",
    "    elif opt=='2':\n",
    "        print(\"Banana: average: 34\")\n",
    "    elif opt=='3':\n",
    "        print(\"grape: good: 45\")\n",
    "    else:\n",
    "        print(\"wrong option\")\n",
    "else:\n",
    "    print(\"Select an option\")\n",
    "print(\"thank you!!\")    "
   ]
  },
  {
   "cell_type": "code",
   "execution_count": null,
   "metadata": {},
   "outputs": [],
   "source": []
  }
 ],
 "metadata": {
  "kernelspec": {
   "display_name": "Python 3",
   "language": "python",
   "name": "python3"
  },
  "language_info": {
   "codemirror_mode": {
    "name": "ipython",
    "version": 3
   },
   "file_extension": ".py",
   "mimetype": "text/x-python",
   "name": "python",
   "nbconvert_exporter": "python",
   "pygments_lexer": "ipython3",
   "version": "3.7.0"
  }
 },
 "nbformat": 4,
 "nbformat_minor": 2
}
