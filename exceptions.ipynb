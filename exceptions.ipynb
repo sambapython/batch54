{
 "cells": [
  {
   "cell_type": "code",
   "execution_count": 1,
   "metadata": {},
   "outputs": [
    {
     "ename": "SyntaxError",
     "evalue": "invalid syntax (<ipython-input-1-e6e7484b157f>, line 5)",
     "output_type": "error",
     "traceback": [
      "\u001b[0;36m  File \u001b[0;32m\"<ipython-input-1-e6e7484b157f>\"\u001b[0;36m, line \u001b[0;32m5\u001b[0m\n\u001b[0;31m    c=30\u001b[0m\n\u001b[0m    ^\u001b[0m\n\u001b[0;31mSyntaxError\u001b[0m\u001b[0;31m:\u001b[0m invalid syntax\n"
     ]
    }
   ],
   "source": [
    "a=10\n",
    "print(a)\n",
    "b=20\n",
    "print(b\n",
    "c=30\n",
    "print(c)"
   ]
  },
  {
   "cell_type": "code",
   "execution_count": 2,
   "metadata": {},
   "outputs": [
    {
     "name": "stdout",
     "output_type": "stream",
     "text": [
      "10\n",
      "20\n"
     ]
    },
    {
     "ename": "ZeroDivisionError",
     "evalue": "division by zero",
     "output_type": "error",
     "traceback": [
      "\u001b[0;31m---------------------------------------------------------------------------\u001b[0m",
      "\u001b[0;31mZeroDivisionError\u001b[0m                         Traceback (most recent call last)",
      "\u001b[0;32m<ipython-input-2-96409a0d52dd>\u001b[0m in \u001b[0;36m<module>\u001b[0;34m()\u001b[0m\n\u001b[1;32m      3\u001b[0m \u001b[0mb\u001b[0m\u001b[0;34m=\u001b[0m\u001b[0;36m20\u001b[0m\u001b[0;34m\u001b[0m\u001b[0m\n\u001b[1;32m      4\u001b[0m \u001b[0mprint\u001b[0m\u001b[0;34m(\u001b[0m\u001b[0mb\u001b[0m\u001b[0;34m)\u001b[0m\u001b[0;34m\u001b[0m\u001b[0m\n\u001b[0;32m----> 5\u001b[0;31m \u001b[0mprint\u001b[0m\u001b[0;34m(\u001b[0m\u001b[0;36m1\u001b[0m\u001b[0;34m/\u001b[0m\u001b[0;36m0\u001b[0m\u001b[0;34m)\u001b[0m\u001b[0;34m\u001b[0m\u001b[0m\n\u001b[0m\u001b[1;32m      6\u001b[0m \u001b[0mc\u001b[0m\u001b[0;34m=\u001b[0m\u001b[0;36m30\u001b[0m\u001b[0;34m\u001b[0m\u001b[0m\n\u001b[1;32m      7\u001b[0m \u001b[0mprint\u001b[0m\u001b[0;34m(\u001b[0m\u001b[0mc\u001b[0m\u001b[0;34m)\u001b[0m\u001b[0;34m\u001b[0m\u001b[0m\n",
      "\u001b[0;31mZeroDivisionError\u001b[0m: division by zero"
     ]
    }
   ],
   "source": [
    "a=10\n",
    "print(a)\n",
    "b=20\n",
    "print(b)\n",
    "print(1/0)\n",
    "c=30\n",
    "print(c)"
   ]
  },
  {
   "cell_type": "code",
   "execution_count": 3,
   "metadata": {},
   "outputs": [
    {
     "ename": "ValueError",
     "evalue": "invalid literal for int() with base 10: 'sdfsdf'",
     "output_type": "error",
     "traceback": [
      "\u001b[0;31m---------------------------------------------------------------------------\u001b[0m",
      "\u001b[0;31mValueError\u001b[0m                                Traceback (most recent call last)",
      "\u001b[0;32m<ipython-input-3-d152148fe398>\u001b[0m in \u001b[0;36m<module>\u001b[0;34m()\u001b[0m\n\u001b[0;32m----> 1\u001b[0;31m \u001b[0mint\u001b[0m\u001b[0;34m(\u001b[0m\u001b[0;34m\"sdfsdf\"\u001b[0m\u001b[0;34m)\u001b[0m\u001b[0;34m\u001b[0m\u001b[0m\n\u001b[0m",
      "\u001b[0;31mValueError\u001b[0m: invalid literal for int() with base 10: 'sdfsdf'"
     ]
    }
   ],
   "source": [
    "int(\"sdfsdf\")"
   ]
  },
  {
   "cell_type": "code",
   "execution_count": 4,
   "metadata": {},
   "outputs": [
    {
     "name": "stdout",
     "output_type": "stream",
     "text": [
      "welcome\n",
      "enter a value:12\n",
      "Enter b value:6\n",
      "before conversion a=12,b=6\n",
      "after conversion a=12,b=6\n",
      "RESULT:2.0\n",
      "Thank you!!\n"
     ]
    }
   ],
   "source": [
    "print(\"welcome\")\n",
    "a=input(\"enter a value:\")\n",
    "b=input(\"Enter b value:\")\n",
    "print(\"before conversion a=%s,b=%s\"%(a,b))\n",
    "a=int(a)\n",
    "b=int(b)\n",
    "print(\"after conversion a=%s,b=%s\"%(a,b))\n",
    "res=a/b\n",
    "print(\"RESULT:%s\"%res)\n",
    "print(\"Thank you!!\")"
   ]
  },
  {
   "cell_type": "code",
   "execution_count": 5,
   "metadata": {},
   "outputs": [
    {
     "name": "stdout",
     "output_type": "stream",
     "text": [
      "welcome\n",
      "enter a value:1.2\n",
      "Enter b value:0.6\n",
      "before conversion a=1.2,b=0.6\n"
     ]
    },
    {
     "ename": "ValueError",
     "evalue": "invalid literal for int() with base 10: '1.2'",
     "output_type": "error",
     "traceback": [
      "\u001b[0;31m---------------------------------------------------------------------------\u001b[0m",
      "\u001b[0;31mValueError\u001b[0m                                Traceback (most recent call last)",
      "\u001b[0;32m<ipython-input-5-016fda6d661a>\u001b[0m in \u001b[0;36m<module>\u001b[0;34m()\u001b[0m\n\u001b[1;32m      3\u001b[0m \u001b[0mb\u001b[0m\u001b[0;34m=\u001b[0m\u001b[0minput\u001b[0m\u001b[0;34m(\u001b[0m\u001b[0;34m\"Enter b value:\"\u001b[0m\u001b[0;34m)\u001b[0m\u001b[0;34m\u001b[0m\u001b[0m\n\u001b[1;32m      4\u001b[0m \u001b[0mprint\u001b[0m\u001b[0;34m(\u001b[0m\u001b[0;34m\"before conversion a=%s,b=%s\"\u001b[0m\u001b[0;34m%\u001b[0m\u001b[0;34m(\u001b[0m\u001b[0ma\u001b[0m\u001b[0;34m,\u001b[0m\u001b[0mb\u001b[0m\u001b[0;34m)\u001b[0m\u001b[0;34m)\u001b[0m\u001b[0;34m\u001b[0m\u001b[0m\n\u001b[0;32m----> 5\u001b[0;31m \u001b[0ma\u001b[0m\u001b[0;34m=\u001b[0m\u001b[0mint\u001b[0m\u001b[0;34m(\u001b[0m\u001b[0ma\u001b[0m\u001b[0;34m)\u001b[0m\u001b[0;34m\u001b[0m\u001b[0m\n\u001b[0m\u001b[1;32m      6\u001b[0m \u001b[0mb\u001b[0m\u001b[0;34m=\u001b[0m\u001b[0mint\u001b[0m\u001b[0;34m(\u001b[0m\u001b[0mb\u001b[0m\u001b[0;34m)\u001b[0m\u001b[0;34m\u001b[0m\u001b[0m\n\u001b[1;32m      7\u001b[0m \u001b[0mprint\u001b[0m\u001b[0;34m(\u001b[0m\u001b[0;34m\"after conversion a=%s,b=%s\"\u001b[0m\u001b[0;34m%\u001b[0m\u001b[0;34m(\u001b[0m\u001b[0ma\u001b[0m\u001b[0;34m,\u001b[0m\u001b[0mb\u001b[0m\u001b[0;34m)\u001b[0m\u001b[0;34m)\u001b[0m\u001b[0;34m\u001b[0m\u001b[0m\n",
      "\u001b[0;31mValueError\u001b[0m: invalid literal for int() with base 10: '1.2'"
     ]
    }
   ],
   "source": [
    "print(\"welcome\")\n",
    "a=input(\"enter a value:\")\n",
    "b=input(\"Enter b value:\")\n",
    "print(\"before conversion a=%s,b=%s\"%(a,b))\n",
    "a=int(a)\n",
    "b=int(b)\n",
    "print(\"after conversion a=%s,b=%s\"%(a,b))\n",
    "res=a/b\n",
    "print(\"RESULT:%s\"%res)\n",
    "print(\"Thank you!!\")"
   ]
  },
  {
   "cell_type": "code",
   "execution_count": 6,
   "metadata": {},
   "outputs": [
    {
     "name": "stdout",
     "output_type": "stream",
     "text": [
      "welcome\n",
      "enter a value:12\n",
      "Enter b value:0\n",
      "before conversion a=12,b=0\n",
      "after conversion a=12,b=0\n"
     ]
    },
    {
     "ename": "ZeroDivisionError",
     "evalue": "division by zero",
     "output_type": "error",
     "traceback": [
      "\u001b[0;31m---------------------------------------------------------------------------\u001b[0m",
      "\u001b[0;31mZeroDivisionError\u001b[0m                         Traceback (most recent call last)",
      "\u001b[0;32m<ipython-input-6-016fda6d661a>\u001b[0m in \u001b[0;36m<module>\u001b[0;34m()\u001b[0m\n\u001b[1;32m      6\u001b[0m \u001b[0mb\u001b[0m\u001b[0;34m=\u001b[0m\u001b[0mint\u001b[0m\u001b[0;34m(\u001b[0m\u001b[0mb\u001b[0m\u001b[0;34m)\u001b[0m\u001b[0;34m\u001b[0m\u001b[0m\n\u001b[1;32m      7\u001b[0m \u001b[0mprint\u001b[0m\u001b[0;34m(\u001b[0m\u001b[0;34m\"after conversion a=%s,b=%s\"\u001b[0m\u001b[0;34m%\u001b[0m\u001b[0;34m(\u001b[0m\u001b[0ma\u001b[0m\u001b[0;34m,\u001b[0m\u001b[0mb\u001b[0m\u001b[0;34m)\u001b[0m\u001b[0;34m)\u001b[0m\u001b[0;34m\u001b[0m\u001b[0m\n\u001b[0;32m----> 8\u001b[0;31m \u001b[0mres\u001b[0m\u001b[0;34m=\u001b[0m\u001b[0ma\u001b[0m\u001b[0;34m/\u001b[0m\u001b[0mb\u001b[0m\u001b[0;34m\u001b[0m\u001b[0m\n\u001b[0m\u001b[1;32m      9\u001b[0m \u001b[0mprint\u001b[0m\u001b[0;34m(\u001b[0m\u001b[0;34m\"RESULT:%s\"\u001b[0m\u001b[0;34m%\u001b[0m\u001b[0mres\u001b[0m\u001b[0;34m)\u001b[0m\u001b[0;34m\u001b[0m\u001b[0m\n\u001b[1;32m     10\u001b[0m \u001b[0mprint\u001b[0m\u001b[0;34m(\u001b[0m\u001b[0;34m\"Thank you!!\"\u001b[0m\u001b[0;34m)\u001b[0m\u001b[0;34m\u001b[0m\u001b[0m\n",
      "\u001b[0;31mZeroDivisionError\u001b[0m: division by zero"
     ]
    }
   ],
   "source": [
    "print(\"welcome\")\n",
    "a=input(\"enter a value:\")\n",
    "b=input(\"Enter b value:\")\n",
    "print(\"before conversion a=%s,b=%s\"%(a,b))\n",
    "a=int(a)\n",
    "b=int(b)\n",
    "print(\"after conversion a=%s,b=%s\"%(a,b))\n",
    "res=a/b\n",
    "print(\"RESULT:%s\"%res)\n",
    "print(\"Thank you!!\")"
   ]
  },
  {
   "cell_type": "code",
   "execution_count": 7,
   "metadata": {},
   "outputs": [
    {
     "name": "stdout",
     "output_type": "stream",
     "text": [
      "welcome\n",
      "enter a value:sdfs\n",
      "Enter b value:sdfsdf\n",
      "before conversion a=sdfs,b=sdfsdf\n"
     ]
    },
    {
     "ename": "ValueError",
     "evalue": "invalid literal for int() with base 10: 'sdfs'",
     "output_type": "error",
     "traceback": [
      "\u001b[0;31m---------------------------------------------------------------------------\u001b[0m",
      "\u001b[0;31mValueError\u001b[0m                                Traceback (most recent call last)",
      "\u001b[0;32m<ipython-input-7-016fda6d661a>\u001b[0m in \u001b[0;36m<module>\u001b[0;34m()\u001b[0m\n\u001b[1;32m      3\u001b[0m \u001b[0mb\u001b[0m\u001b[0;34m=\u001b[0m\u001b[0minput\u001b[0m\u001b[0;34m(\u001b[0m\u001b[0;34m\"Enter b value:\"\u001b[0m\u001b[0;34m)\u001b[0m\u001b[0;34m\u001b[0m\u001b[0m\n\u001b[1;32m      4\u001b[0m \u001b[0mprint\u001b[0m\u001b[0;34m(\u001b[0m\u001b[0;34m\"before conversion a=%s,b=%s\"\u001b[0m\u001b[0;34m%\u001b[0m\u001b[0;34m(\u001b[0m\u001b[0ma\u001b[0m\u001b[0;34m,\u001b[0m\u001b[0mb\u001b[0m\u001b[0;34m)\u001b[0m\u001b[0;34m)\u001b[0m\u001b[0;34m\u001b[0m\u001b[0m\n\u001b[0;32m----> 5\u001b[0;31m \u001b[0ma\u001b[0m\u001b[0;34m=\u001b[0m\u001b[0mint\u001b[0m\u001b[0;34m(\u001b[0m\u001b[0ma\u001b[0m\u001b[0;34m)\u001b[0m\u001b[0;34m\u001b[0m\u001b[0m\n\u001b[0m\u001b[1;32m      6\u001b[0m \u001b[0mb\u001b[0m\u001b[0;34m=\u001b[0m\u001b[0mint\u001b[0m\u001b[0;34m(\u001b[0m\u001b[0mb\u001b[0m\u001b[0;34m)\u001b[0m\u001b[0;34m\u001b[0m\u001b[0m\n\u001b[1;32m      7\u001b[0m \u001b[0mprint\u001b[0m\u001b[0;34m(\u001b[0m\u001b[0;34m\"after conversion a=%s,b=%s\"\u001b[0m\u001b[0;34m%\u001b[0m\u001b[0;34m(\u001b[0m\u001b[0ma\u001b[0m\u001b[0;34m,\u001b[0m\u001b[0mb\u001b[0m\u001b[0;34m)\u001b[0m\u001b[0;34m)\u001b[0m\u001b[0;34m\u001b[0m\u001b[0m\n",
      "\u001b[0;31mValueError\u001b[0m: invalid literal for int() with base 10: 'sdfs'"
     ]
    }
   ],
   "source": [
    "print(\"welcome\")\n",
    "a=input(\"enter a value:\")\n",
    "b=input(\"Enter b value:\")\n",
    "print(\"before conversion a=%s,b=%s\"%(a,b))\n",
    "a=int(a)\n",
    "b=int(b)\n",
    "print(\"after conversion a=%s,b=%s\"%(a,b))\n",
    "res=a/b\n",
    "print(\"RESULT:%s\"%res)\n",
    "print(\"Thank you!!\")"
   ]
  },
  {
   "cell_type": "code",
   "execution_count": 8,
   "metadata": {},
   "outputs": [
    {
     "name": "stdout",
     "output_type": "stream",
     "text": [
      "welcome\n",
      "enter a value:12\n",
      "Enter b value:6\n",
      "before conversion a=12,b=6\n",
      "after conversion a=12.0,b=6.0\n",
      "RESULT:2.0\n",
      "Thank you!!\n"
     ]
    }
   ],
   "source": [
    "print(\"welcome\")\n",
    "a=input(\"enter a value:\")\n",
    "b=input(\"Enter b value:\")\n",
    "print(\"before conversion a=%s,b=%s\"%(a,b))\n",
    "a=float(a)\n",
    "b=float(b)\n",
    "print(\"after conversion a=%s,b=%s\"%(a,b))\n",
    "res=a/b\n",
    "print(\"RESULT:%s\"%res)\n",
    "print(\"Thank you!!\")"
   ]
  },
  {
   "cell_type": "code",
   "execution_count": 9,
   "metadata": {},
   "outputs": [
    {
     "name": "stdout",
     "output_type": "stream",
     "text": [
      "welcome\n",
      "enter a value:1.2\n",
      "Enter b value:0.6\n",
      "before conversion a=1.2,b=0.6\n",
      "after conversion a=1.2,b=0.6\n",
      "RESULT:2.0\n",
      "Thank you!!\n"
     ]
    }
   ],
   "source": [
    "print(\"welcome\")\n",
    "a=input(\"enter a value:\")\n",
    "b=input(\"Enter b value:\")\n",
    "print(\"before conversion a=%s,b=%s\"%(a,b))\n",
    "a=float(a)\n",
    "b=float(b)\n",
    "print(\"after conversion a=%s,b=%s\"%(a,b))\n",
    "res=a/b\n",
    "print(\"RESULT:%s\"%res)\n",
    "print(\"Thank you!!\")"
   ]
  },
  {
   "cell_type": "code",
   "execution_count": 10,
   "metadata": {},
   "outputs": [
    {
     "name": "stdout",
     "output_type": "stream",
     "text": [
      "welcome\n",
      "enter a value:12\n",
      "Enter b value:0\n",
      "before conversion a=12,b=0\n",
      "after conversion a=12.0,b=0.0\n"
     ]
    },
    {
     "ename": "ZeroDivisionError",
     "evalue": "float division by zero",
     "output_type": "error",
     "traceback": [
      "\u001b[0;31m---------------------------------------------------------------------------\u001b[0m",
      "\u001b[0;31mZeroDivisionError\u001b[0m                         Traceback (most recent call last)",
      "\u001b[0;32m<ipython-input-10-14ff519ea031>\u001b[0m in \u001b[0;36m<module>\u001b[0;34m()\u001b[0m\n\u001b[1;32m      6\u001b[0m \u001b[0mb\u001b[0m\u001b[0;34m=\u001b[0m\u001b[0mfloat\u001b[0m\u001b[0;34m(\u001b[0m\u001b[0mb\u001b[0m\u001b[0;34m)\u001b[0m\u001b[0;34m\u001b[0m\u001b[0m\n\u001b[1;32m      7\u001b[0m \u001b[0mprint\u001b[0m\u001b[0;34m(\u001b[0m\u001b[0;34m\"after conversion a=%s,b=%s\"\u001b[0m\u001b[0;34m%\u001b[0m\u001b[0;34m(\u001b[0m\u001b[0ma\u001b[0m\u001b[0;34m,\u001b[0m\u001b[0mb\u001b[0m\u001b[0;34m)\u001b[0m\u001b[0;34m)\u001b[0m\u001b[0;34m\u001b[0m\u001b[0m\n\u001b[0;32m----> 8\u001b[0;31m \u001b[0mres\u001b[0m\u001b[0;34m=\u001b[0m\u001b[0ma\u001b[0m\u001b[0;34m/\u001b[0m\u001b[0mb\u001b[0m\u001b[0;34m\u001b[0m\u001b[0m\n\u001b[0m\u001b[1;32m      9\u001b[0m \u001b[0mprint\u001b[0m\u001b[0;34m(\u001b[0m\u001b[0;34m\"RESULT:%s\"\u001b[0m\u001b[0;34m%\u001b[0m\u001b[0mres\u001b[0m\u001b[0;34m)\u001b[0m\u001b[0;34m\u001b[0m\u001b[0m\n\u001b[1;32m     10\u001b[0m \u001b[0mprint\u001b[0m\u001b[0;34m(\u001b[0m\u001b[0;34m\"Thank you!!\"\u001b[0m\u001b[0;34m)\u001b[0m\u001b[0;34m\u001b[0m\u001b[0m\n",
      "\u001b[0;31mZeroDivisionError\u001b[0m: float division by zero"
     ]
    }
   ],
   "source": [
    "print(\"welcome\")\n",
    "a=input(\"enter a value:\")\n",
    "b=input(\"Enter b value:\")\n",
    "print(\"before conversion a=%s,b=%s\"%(a,b))\n",
    "a=float(a)\n",
    "b=float(b)\n",
    "print(\"after conversion a=%s,b=%s\"%(a,b))\n",
    "res=a/b\n",
    "print(\"RESULT:%s\"%res)\n",
    "print(\"Thank you!!\")"
   ]
  },
  {
   "cell_type": "code",
   "execution_count": 11,
   "metadata": {},
   "outputs": [
    {
     "name": "stdout",
     "output_type": "stream",
     "text": [
      "welcome\n",
      "enter a value:werwe\n",
      "Enter b value:34\n",
      "before conversion a=werwe,b=34\n"
     ]
    },
    {
     "ename": "ValueError",
     "evalue": "could not convert string to float: 'werwe'",
     "output_type": "error",
     "traceback": [
      "\u001b[0;31m---------------------------------------------------------------------------\u001b[0m",
      "\u001b[0;31mValueError\u001b[0m                                Traceback (most recent call last)",
      "\u001b[0;32m<ipython-input-11-14ff519ea031>\u001b[0m in \u001b[0;36m<module>\u001b[0;34m()\u001b[0m\n\u001b[1;32m      3\u001b[0m \u001b[0mb\u001b[0m\u001b[0;34m=\u001b[0m\u001b[0minput\u001b[0m\u001b[0;34m(\u001b[0m\u001b[0;34m\"Enter b value:\"\u001b[0m\u001b[0;34m)\u001b[0m\u001b[0;34m\u001b[0m\u001b[0m\n\u001b[1;32m      4\u001b[0m \u001b[0mprint\u001b[0m\u001b[0;34m(\u001b[0m\u001b[0;34m\"before conversion a=%s,b=%s\"\u001b[0m\u001b[0;34m%\u001b[0m\u001b[0;34m(\u001b[0m\u001b[0ma\u001b[0m\u001b[0;34m,\u001b[0m\u001b[0mb\u001b[0m\u001b[0;34m)\u001b[0m\u001b[0;34m)\u001b[0m\u001b[0;34m\u001b[0m\u001b[0m\n\u001b[0;32m----> 5\u001b[0;31m \u001b[0ma\u001b[0m\u001b[0;34m=\u001b[0m\u001b[0mfloat\u001b[0m\u001b[0;34m(\u001b[0m\u001b[0ma\u001b[0m\u001b[0;34m)\u001b[0m\u001b[0;34m\u001b[0m\u001b[0m\n\u001b[0m\u001b[1;32m      6\u001b[0m \u001b[0mb\u001b[0m\u001b[0;34m=\u001b[0m\u001b[0mfloat\u001b[0m\u001b[0;34m(\u001b[0m\u001b[0mb\u001b[0m\u001b[0;34m)\u001b[0m\u001b[0;34m\u001b[0m\u001b[0m\n\u001b[1;32m      7\u001b[0m \u001b[0mprint\u001b[0m\u001b[0;34m(\u001b[0m\u001b[0;34m\"after conversion a=%s,b=%s\"\u001b[0m\u001b[0;34m%\u001b[0m\u001b[0;34m(\u001b[0m\u001b[0ma\u001b[0m\u001b[0;34m,\u001b[0m\u001b[0mb\u001b[0m\u001b[0;34m)\u001b[0m\u001b[0;34m)\u001b[0m\u001b[0;34m\u001b[0m\u001b[0m\n",
      "\u001b[0;31mValueError\u001b[0m: could not convert string to float: 'werwe'"
     ]
    }
   ],
   "source": [
    "print(\"welcome\")\n",
    "a=input(\"enter a value:\")\n",
    "b=input(\"Enter b value:\")\n",
    "print(\"before conversion a=%s,b=%s\"%(a,b))\n",
    "a=float(a)\n",
    "b=float(b)\n",
    "print(\"after conversion a=%s,b=%s\"%(a,b))\n",
    "res=a/b\n",
    "print(\"RESULT:%s\"%res)\n",
    "print(\"Thank you!!\")"
   ]
  },
  {
   "cell_type": "code",
   "execution_count": 12,
   "metadata": {},
   "outputs": [
    {
     "name": "stdout",
     "output_type": "stream",
     "text": [
      "welcome\n",
      "enter a value:12\n",
      "Enter b value:6\n",
      "before conversion a=12,b=6\n",
      "after conversion a=12.0,b=6.0\n",
      "RESULT:2.0\n",
      "Thank you!!\n"
     ]
    }
   ],
   "source": [
    "try:\n",
    "    print(\"welcome\")\n",
    "    a=input(\"enter a value:\")\n",
    "    b=input(\"Enter b value:\")\n",
    "    print(\"before conversion a=%s,b=%s\"%(a,b))\n",
    "    a=float(a)\n",
    "    b=float(b)\n",
    "    print(\"after conversion a=%s,b=%s\"%(a,b))\n",
    "    res=a/b\n",
    "    print(\"RESULT:%s\"%res)\n",
    "    print(\"Thank you!!\")\n",
    "except:\n",
    "    print(\"something went wrong\")"
   ]
  },
  {
   "cell_type": "code",
   "execution_count": 13,
   "metadata": {},
   "outputs": [
    {
     "name": "stdout",
     "output_type": "stream",
     "text": [
      "welcome\n",
      "enter a value:12\n",
      "Enter b value:0\n",
      "before conversion a=12,b=0\n",
      "after conversion a=12.0,b=0.0\n",
      "something went wrong\n"
     ]
    }
   ],
   "source": [
    "try:\n",
    "    print(\"welcome\")\n",
    "    a=input(\"enter a value:\")\n",
    "    b=input(\"Enter b value:\")\n",
    "    print(\"before conversion a=%s,b=%s\"%(a,b))\n",
    "    a=float(a)\n",
    "    b=float(b)\n",
    "    print(\"after conversion a=%s,b=%s\"%(a,b))\n",
    "    res=a/b\n",
    "    print(\"RESULT:%s\"%res)\n",
    "    print(\"Thank you!!\")\n",
    "except:\n",
    "    print(\"something went wrong\")"
   ]
  },
  {
   "cell_type": "code",
   "execution_count": 14,
   "metadata": {},
   "outputs": [
    {
     "name": "stdout",
     "output_type": "stream",
     "text": [
      "welcome\n",
      "enter a value:12\n",
      "Enter b value:0\n",
      "before conversion a=12,b=0\n",
      "after conversion a=12.0,b=0.0\n",
      "something went wrong\n",
      "some statements in main\n"
     ]
    }
   ],
   "source": [
    "try:\n",
    "    print(\"welcome\")\n",
    "    a=input(\"enter a value:\")\n",
    "    b=input(\"Enter b value:\")\n",
    "    print(\"before conversion a=%s,b=%s\"%(a,b))\n",
    "    a=float(a)\n",
    "    b=float(b)\n",
    "    print(\"after conversion a=%s,b=%s\"%(a,b))\n",
    "    res=a/b\n",
    "    print(\"RESULT:%s\"%res)\n",
    "    print(\"Thank you!!\")\n",
    "except:\n",
    "    print(\"something went wrong\")\n",
    "print(\"some statements in main\")"
   ]
  },
  {
   "cell_type": "code",
   "execution_count": 15,
   "metadata": {},
   "outputs": [
    {
     "name": "stdout",
     "output_type": "stream",
     "text": [
      "welcome\n",
      "enter a value:12\n",
      "Enter b value:wert\n",
      "before conversion a=12,b=wert\n",
      "something went wrong\n",
      "some statements in main\n"
     ]
    }
   ],
   "source": [
    "try:\n",
    "    print(\"welcome\")\n",
    "    a=input(\"enter a value:\")\n",
    "    b=input(\"Enter b value:\")\n",
    "    print(\"before conversion a=%s,b=%s\"%(a,b))\n",
    "    a=float(a)\n",
    "    b=float(b)\n",
    "    print(\"after conversion a=%s,b=%s\"%(a,b))\n",
    "    res=a/b\n",
    "    print(\"RESULT:%s\"%res)\n",
    "    print(\"Thank you!!\")\n",
    "except:\n",
    "    print(\"something went wrong\")\n",
    "print(\"some statements in main\")"
   ]
  },
  {
   "cell_type": "code",
   "execution_count": 16,
   "metadata": {},
   "outputs": [
    {
     "name": "stdout",
     "output_type": "stream",
     "text": [
      "welcome\n",
      "enter a value:12\n",
      "Enter b value:0\n",
      "before conversion a=12,b=0\n",
      "after conversion a=12.0,b=0.0\n",
      "something went wrong\n",
      "Thank you!!\n",
      "some statements in main\n"
     ]
    }
   ],
   "source": [
    "print(\"welcome\")\n",
    "a=input(\"enter a value:\")\n",
    "b=input(\"Enter b value:\")\n",
    "print(\"before conversion a=%s,b=%s\"%(a,b))\n",
    "try:\n",
    "    a=float(a)\n",
    "    b=float(b)\n",
    "    print(\"after conversion a=%s,b=%s\"%(a,b))\n",
    "    res=a/b\n",
    "    print(\"RESULT:%s\"%res)\n",
    "except:\n",
    "    print(\"something went wrong\")\n",
    "print(\"Thank you!!\")\n",
    "print(\"some statements in main\")"
   ]
  },
  {
   "cell_type": "code",
   "execution_count": 17,
   "metadata": {},
   "outputs": [
    {
     "name": "stdout",
     "output_type": "stream",
     "text": [
      "welcome\n",
      "enter a value:12\n",
      "Enter b value:6\n",
      "before conversion a=12,b=6\n",
      "after conversion a=12.0,b=6.0\n",
      "RESULT:2.0\n",
      "Thank you!!\n",
      "some statements in main\n"
     ]
    }
   ],
   "source": [
    "print(\"welcome\")\n",
    "a=input(\"enter a value:\")\n",
    "b=input(\"Enter b value:\")\n",
    "print(\"before conversion a=%s,b=%s\"%(a,b))\n",
    "try:\n",
    "    a=float(a)\n",
    "    b=float(b)\n",
    "    print(\"after conversion a=%s,b=%s\"%(a,b))\n",
    "    res=a/b\n",
    "    print(\"RESULT:%s\"%res)\n",
    "except:\n",
    "    print(\"something went wrong\")\n",
    "print(\"Thank you!!\")\n",
    "print(\"some statements in main\")"
   ]
  },
  {
   "cell_type": "code",
   "execution_count": 18,
   "metadata": {},
   "outputs": [
    {
     "name": "stdout",
     "output_type": "stream",
     "text": [
      "welcome\n",
      "enter a value:12\n",
      "Enter b value:fgg\n",
      "before conversion a=12,b=fgg\n",
      "something went wrong\n",
      "Thank you!!\n",
      "some statements in main\n"
     ]
    }
   ],
   "source": [
    "print(\"welcome\")\n",
    "a=input(\"enter a value:\")\n",
    "b=input(\"Enter b value:\")\n",
    "print(\"before conversion a=%s,b=%s\"%(a,b))\n",
    "try:\n",
    "    a=float(a)\n",
    "    b=float(b)\n",
    "    print(\"after conversion a=%s,b=%s\"%(a,b))\n",
    "    res=a/b\n",
    "    print(\"RESULT:%s\"%res)\n",
    "except:\n",
    "    print(\"something went wrong\")\n",
    "print(\"Thank you!!\")\n",
    "print(\"some statements in main\")"
   ]
  },
  {
   "cell_type": "code",
   "execution_count": 19,
   "metadata": {},
   "outputs": [
    {
     "name": "stdout",
     "output_type": "stream",
     "text": [
      "welcome\n",
      "enter a value:12\n",
      "Enter b value:0\n",
      "before conversion a=12,b=0\n",
      "after conversion a=12.0,b=0.0\n",
      "something went wrong\n",
      "Thank you!!\n",
      "some statements in main\n"
     ]
    }
   ],
   "source": [
    "print(\"welcome\")\n",
    "a=input(\"enter a value:\")\n",
    "b=input(\"Enter b value:\")\n",
    "print(\"before conversion a=%s,b=%s\"%(a,b))\n",
    "try:\n",
    "    a=float(a)\n",
    "    b=float(b)\n",
    "    print(\"after conversion a=%s,b=%s\"%(a,b))\n",
    "    res=a/b\n",
    "    print(\"RESULT:%s\"%res)\n",
    "except:\n",
    "    print(\"something went wrong\")\n",
    "print(\"Thank you!!\")\n",
    "print(\"some statements in main\")"
   ]
  },
  {
   "cell_type": "code",
   "execution_count": 20,
   "metadata": {},
   "outputs": [
    {
     "name": "stdout",
     "output_type": "stream",
     "text": [
      "welcome\n",
      "enter a value:12\n",
      "Enter b value:wertt\n",
      "before conversion a=12,b=wertt\n",
      "dont enter zero for b\n",
      "something went wrong\n",
      "Thank you!!\n",
      "some statements in main\n"
     ]
    }
   ],
   "source": [
    "print(\"welcome\")\n",
    "a=input(\"enter a value:\")\n",
    "b=input(\"Enter b value:\")\n",
    "print(\"before conversion a=%s,b=%s\"%(a,b))\n",
    "try:\n",
    "    a=float(a)\n",
    "    b=float(b)\n",
    "    print(\"after conversion a=%s,b=%s\"%(a,b))\n",
    "    res=a/b\n",
    "    print(\"RESULT:%s\"%res)\n",
    "except:\n",
    "    print(\"dont enter zero for b\")\n",
    "    print(\"something went wrong\")\n",
    "print(\"Thank you!!\")\n",
    "print(\"some statements in main\")"
   ]
  },
  {
   "cell_type": "code",
   "execution_count": 21,
   "metadata": {},
   "outputs": [
    {
     "name": "stdout",
     "output_type": "stream",
     "text": [
      "welcome\n",
      "enter a value:12\n",
      "Enter b value:6\n",
      "before conversion a=12,b=6\n",
      "after conversion a=12.0,b=6.0\n",
      "RESULT:2.0\n",
      "Thank you!!\n",
      "some statements in main\n"
     ]
    }
   ],
   "source": [
    "print(\"welcome\")\n",
    "a=input(\"enter a value:\")\n",
    "b=input(\"Enter b value:\")\n",
    "print(\"before conversion a=%s,b=%s\"%(a,b))\n",
    "try:\n",
    "    a=float(a)\n",
    "    b=float(b)\n",
    "    print(\"after conversion a=%s,b=%s\"%(a,b))\n",
    "    res=a/b\n",
    "    print(\"RESULT:%s\"%res)\n",
    "except:\n",
    "    print(\"dont enter zero for b\")\n",
    "    print(\"something went wrong\")\n",
    "    print(\"expecting only digits for a and b\")\n",
    "print(\"Thank you!!\")\n",
    "print(\"some statements in main\")"
   ]
  },
  {
   "cell_type": "code",
   "execution_count": 22,
   "metadata": {},
   "outputs": [
    {
     "name": "stdout",
     "output_type": "stream",
     "text": [
      "welcome\n",
      "enter a value:12\n",
      "Enter b value:0\n",
      "before conversion a=12,b=0\n",
      "after conversion a=12.0,b=0.0\n",
      "dont enter zero for b\n",
      "something went wrong\n",
      "expecting only digits for a and b\n",
      "Thank you!!\n",
      "some statements in main\n"
     ]
    }
   ],
   "source": [
    "print(\"welcome\")\n",
    "a=input(\"enter a value:\")\n",
    "b=input(\"Enter b value:\")\n",
    "print(\"before conversion a=%s,b=%s\"%(a,b))\n",
    "try:\n",
    "    a=float(a)\n",
    "    b=float(b)\n",
    "    print(\"after conversion a=%s,b=%s\"%(a,b))\n",
    "    res=a/b\n",
    "    print(\"RESULT:%s\"%res)\n",
    "except:\n",
    "    print(\"dont enter zero for b\")\n",
    "    print(\"something went wrong\")\n",
    "    print(\"expecting only digits for a and b\")\n",
    "print(\"Thank you!!\")\n",
    "print(\"some statements in main\")"
   ]
  },
  {
   "cell_type": "code",
   "execution_count": 23,
   "metadata": {},
   "outputs": [
    {
     "name": "stdout",
     "output_type": "stream",
     "text": [
      "welcome\n",
      "enter a value:12\n",
      "Enter b value:6\n",
      "before conversion a=12,b=6\n",
      "after conversion a=12.0,b=6.0\n",
      "RESULT:2.0\n",
      "Thank you!!\n",
      "some statements in main\n"
     ]
    }
   ],
   "source": [
    "print(\"welcome\")\n",
    "a=input(\"enter a value:\")\n",
    "b=input(\"Enter b value:\")\n",
    "print(\"before conversion a=%s,b=%s\"%(a,b))\n",
    "try:\n",
    "    a=float(a)\n",
    "    b=float(b)\n",
    "    print(\"after conversion a=%s,b=%s\"%(a,b))\n",
    "    res=a/b\n",
    "    print(\"RESULT:%s\"%res)\n",
    "except Exception as err:\n",
    "    print(err)\n",
    "    #print(\"dont enter zero for b\")\n",
    "    #print(\"something went wrong\")\n",
    "    #print(\"expecting only digits for a and b\")\n",
    "print(\"Thank you!!\")\n",
    "print(\"some statements in main\")"
   ]
  },
  {
   "cell_type": "code",
   "execution_count": 24,
   "metadata": {},
   "outputs": [
    {
     "name": "stdout",
     "output_type": "stream",
     "text": [
      "welcome\n",
      "enter a value:12\n",
      "Enter b value:0\n",
      "before conversion a=12,b=0\n",
      "after conversion a=12.0,b=0.0\n",
      "float division by zero\n",
      "Thank you!!\n",
      "some statements in main\n"
     ]
    }
   ],
   "source": [
    "print(\"welcome\")\n",
    "a=input(\"enter a value:\")\n",
    "b=input(\"Enter b value:\")\n",
    "print(\"before conversion a=%s,b=%s\"%(a,b))\n",
    "try:\n",
    "    a=float(a)\n",
    "    b=float(b)\n",
    "    print(\"after conversion a=%s,b=%s\"%(a,b))\n",
    "    res=a/b\n",
    "    print(\"RESULT:%s\"%res)\n",
    "except Exception as err:\n",
    "    print(err)\n",
    "    #print(\"dont enter zero for b\")\n",
    "    #print(\"something went wrong\")\n",
    "    #print(\"expecting only digits for a and b\")\n",
    "print(\"Thank you!!\")\n",
    "print(\"some statements in main\")"
   ]
  },
  {
   "cell_type": "code",
   "execution_count": 25,
   "metadata": {},
   "outputs": [
    {
     "name": "stdout",
     "output_type": "stream",
     "text": [
      "welcome\n",
      "enter a value:wer\n",
      "Enter b value:werwe\n",
      "before conversion a=wer,b=werwe\n",
      "could not convert string to float: 'wer'\n",
      "Thank you!!\n",
      "some statements in main\n"
     ]
    }
   ],
   "source": [
    "print(\"welcome\")\n",
    "a=input(\"enter a value:\")\n",
    "b=input(\"Enter b value:\")\n",
    "print(\"before conversion a=%s,b=%s\"%(a,b))\n",
    "try:\n",
    "    a=float(a)\n",
    "    b=float(b)\n",
    "    print(\"after conversion a=%s,b=%s\"%(a,b))\n",
    "    res=a/b\n",
    "    print(\"RESULT:%s\"%res)\n",
    "except Exception as err:\n",
    "    print(err)\n",
    "    #print(\"dont enter zero for b\")\n",
    "    #print(\"something went wrong\")\n",
    "    #print(\"expecting only digits for a and b\")\n",
    "print(\"Thank you!!\")\n",
    "print(\"some statements in main\")"
   ]
  },
  {
   "cell_type": "code",
   "execution_count": 26,
   "metadata": {},
   "outputs": [
    {
     "name": "stdout",
     "output_type": "stream",
     "text": [
      "welcome\n",
      "enter a value:12\n",
      "Enter b value:6\n",
      "before conversion a=12,b=6\n",
      "after conversion a=12.0,b=6.0\n",
      "RESULT:2.0\n",
      "Thank you!!\n",
      "some statements in main\n"
     ]
    }
   ],
   "source": [
    "print(\"welcome\")\n",
    "a=input(\"enter a value:\")\n",
    "b=input(\"Enter b value:\")\n",
    "print(\"before conversion a=%s,b=%s\"%(a,b))\n",
    "try:\n",
    "    a=float(a)\n",
    "    b=float(b)\n",
    "    print(\"after conversion a=%s,b=%s\"%(a,b))\n",
    "    res=a/b\n",
    "    print(\"RESULT:%s\"%res)\n",
    "except ZeroDivisionError as err:\n",
    "    print(\"dont enter zero for b\")\n",
    "except ValueError as err:\n",
    "    print(\"expecting only digits for a and b\")\n",
    "except Exception as err:\n",
    "    print(err)\n",
    "    #print(\"something went wrong\")\n",
    "print(\"Thank you!!\")\n",
    "print(\"some statements in main\")"
   ]
  },
  {
   "cell_type": "code",
   "execution_count": 27,
   "metadata": {},
   "outputs": [
    {
     "name": "stdout",
     "output_type": "stream",
     "text": [
      "welcome\n",
      "enter a value:12\n",
      "Enter b value:0\n",
      "before conversion a=12,b=0\n",
      "after conversion a=12.0,b=0.0\n",
      "dont enter zero for b\n",
      "Thank you!!\n",
      "some statements in main\n"
     ]
    }
   ],
   "source": [
    "print(\"welcome\")\n",
    "a=input(\"enter a value:\")\n",
    "b=input(\"Enter b value:\")\n",
    "print(\"before conversion a=%s,b=%s\"%(a,b))\n",
    "try:\n",
    "    a=float(a)\n",
    "    b=float(b)\n",
    "    print(\"after conversion a=%s,b=%s\"%(a,b))\n",
    "    res=a/b\n",
    "    print(\"RESULT:%s\"%res)\n",
    "except ZeroDivisionError as err:\n",
    "    print(\"dont enter zero for b\")\n",
    "except ValueError as err:\n",
    "    print(\"expecting only digits for a and b\")\n",
    "except Exception as err:\n",
    "    print(err)\n",
    "    #print(\"something went wrong\")\n",
    "print(\"Thank you!!\")\n",
    "print(\"some statements in main\")"
   ]
  },
  {
   "cell_type": "code",
   "execution_count": 28,
   "metadata": {},
   "outputs": [
    {
     "name": "stdout",
     "output_type": "stream",
     "text": [
      "welcome\n",
      "enter a value:wer\n",
      "Enter b value:34\n",
      "before conversion a=wer,b=34\n",
      "expecting only digits for a and b\n",
      "Thank you!!\n",
      "some statements in main\n"
     ]
    }
   ],
   "source": [
    "print(\"welcome\")\n",
    "a=input(\"enter a value:\")\n",
    "b=input(\"Enter b value:\")\n",
    "print(\"before conversion a=%s,b=%s\"%(a,b))\n",
    "try:\n",
    "    a=float(a)\n",
    "    b=float(b)\n",
    "    print(\"after conversion a=%s,b=%s\"%(a,b))\n",
    "    res=a/b\n",
    "    print(\"RESULT:%s\"%res)\n",
    "except ZeroDivisionError as err:\n",
    "    print(\"dont enter zero for b\")\n",
    "except ValueError as err:\n",
    "    print(\"expecting only digits for a and b\")\n",
    "except Exception as err:\n",
    "    print(err)\n",
    "    #print(\"something went wrong\")\n",
    "print(\"Thank you!!\")\n",
    "print(\"some statements in main\")"
   ]
  },
  {
   "cell_type": "code",
   "execution_count": 29,
   "metadata": {},
   "outputs": [
    {
     "name": "stdout",
     "output_type": "stream",
     "text": [
      "welcome\n",
      "enter a value:12\n",
      "Enter b value:34\n",
      "before conversion a=12,b=34\n",
      "inner exception\n",
      "after conversion a=12.0,b=34.0\n",
      "RESULT:0.35294117647058826\n",
      "Thank you!!\n",
      "some statements in main\n"
     ]
    }
   ],
   "source": [
    "print(\"welcome\")\n",
    "a=input(\"enter a value:\")\n",
    "b=input(\"Enter b value:\")\n",
    "print(\"before conversion a=%s,b=%s\"%(a,b))\n",
    "try:\n",
    "    a=float(a)\n",
    "    b=float(b)\n",
    "    try:\n",
    "        print(1/0)\n",
    "    except:\n",
    "        print(\"inner exception\")\n",
    "    print(\"after conversion a=%s,b=%s\"%(a,b))\n",
    "    res=a/b\n",
    "    print(\"RESULT:%s\"%res)\n",
    "except ZeroDivisionError as err:\n",
    "    print(\"dont enter zero for b\")\n",
    "except ValueError as err:\n",
    "    print(\"expecting only digits for a and b\")\n",
    "except Exception as err:\n",
    "    print(err)\n",
    "    #print(\"something went wrong\")\n",
    "print(\"Thank you!!\")\n",
    "print(\"some statements in main\")"
   ]
  },
  {
   "cell_type": "code",
   "execution_count": 30,
   "metadata": {},
   "outputs": [
    {
     "name": "stdout",
     "output_type": "stream",
     "text": [
      "welcome\n",
      "enter a value:12\n",
      "Enter b value:0\n",
      "before conversion a=12,b=0\n",
      "inner exception\n",
      "after conversion a=12.0,b=0.0\n",
      "dont enter zero for b\n"
     ]
    },
    {
     "ename": "ZeroDivisionError",
     "evalue": "division by zero",
     "output_type": "error",
     "traceback": [
      "\u001b[0;31m---------------------------------------------------------------------------\u001b[0m",
      "\u001b[0;31mZeroDivisionError\u001b[0m                         Traceback (most recent call last)",
      "\u001b[0;32m<ipython-input-30-21eca0978c29>\u001b[0m in \u001b[0;36m<module>\u001b[0;34m()\u001b[0m\n\u001b[1;32m     12\u001b[0m     \u001b[0mprint\u001b[0m\u001b[0;34m(\u001b[0m\u001b[0;34m\"after conversion a=%s,b=%s\"\u001b[0m\u001b[0;34m%\u001b[0m\u001b[0;34m(\u001b[0m\u001b[0ma\u001b[0m\u001b[0;34m,\u001b[0m\u001b[0mb\u001b[0m\u001b[0;34m)\u001b[0m\u001b[0;34m)\u001b[0m\u001b[0;34m\u001b[0m\u001b[0m\n\u001b[0;32m---> 13\u001b[0;31m     \u001b[0mres\u001b[0m\u001b[0;34m=\u001b[0m\u001b[0ma\u001b[0m\u001b[0;34m/\u001b[0m\u001b[0mb\u001b[0m\u001b[0;34m\u001b[0m\u001b[0m\n\u001b[0m\u001b[1;32m     14\u001b[0m     \u001b[0mprint\u001b[0m\u001b[0;34m(\u001b[0m\u001b[0;34m\"RESULT:%s\"\u001b[0m\u001b[0;34m%\u001b[0m\u001b[0mres\u001b[0m\u001b[0;34m)\u001b[0m\u001b[0;34m\u001b[0m\u001b[0m\n",
      "\u001b[0;31mZeroDivisionError\u001b[0m: float division by zero",
      "\nDuring handling of the above exception, another exception occurred:\n",
      "\u001b[0;31mZeroDivisionError\u001b[0m                         Traceback (most recent call last)",
      "\u001b[0;32m<ipython-input-30-21eca0978c29>\u001b[0m in \u001b[0;36m<module>\u001b[0;34m()\u001b[0m\n\u001b[1;32m     15\u001b[0m \u001b[0;32mexcept\u001b[0m \u001b[0mZeroDivisionError\u001b[0m \u001b[0;32mas\u001b[0m \u001b[0merr\u001b[0m\u001b[0;34m:\u001b[0m\u001b[0;34m\u001b[0m\u001b[0m\n\u001b[1;32m     16\u001b[0m     \u001b[0mprint\u001b[0m\u001b[0;34m(\u001b[0m\u001b[0;34m\"dont enter zero for b\"\u001b[0m\u001b[0;34m)\u001b[0m\u001b[0;34m\u001b[0m\u001b[0m\n\u001b[0;32m---> 17\u001b[0;31m     \u001b[0mprint\u001b[0m\u001b[0;34m(\u001b[0m\u001b[0;36m1\u001b[0m\u001b[0;34m/\u001b[0m\u001b[0;36m0\u001b[0m\u001b[0;34m)\u001b[0m\u001b[0;34m\u001b[0m\u001b[0m\n\u001b[0m\u001b[1;32m     18\u001b[0m \u001b[0;32mexcept\u001b[0m \u001b[0mValueError\u001b[0m \u001b[0;32mas\u001b[0m \u001b[0merr\u001b[0m\u001b[0;34m:\u001b[0m\u001b[0;34m\u001b[0m\u001b[0m\n\u001b[1;32m     19\u001b[0m     \u001b[0mprint\u001b[0m\u001b[0;34m(\u001b[0m\u001b[0;34m\"expecting only digits for a and b\"\u001b[0m\u001b[0;34m)\u001b[0m\u001b[0;34m\u001b[0m\u001b[0m\n",
      "\u001b[0;31mZeroDivisionError\u001b[0m: division by zero"
     ]
    }
   ],
   "source": [
    "print(\"welcome\")\n",
    "a=input(\"enter a value:\")\n",
    "b=input(\"Enter b value:\")\n",
    "print(\"before conversion a=%s,b=%s\"%(a,b))\n",
    "try:\n",
    "    a=float(a)\n",
    "    b=float(b)\n",
    "    try:\n",
    "        print(1/0)\n",
    "    except:\n",
    "        print(\"inner exception\")\n",
    "    print(\"after conversion a=%s,b=%s\"%(a,b))\n",
    "    res=a/b\n",
    "    print(\"RESULT:%s\"%res)\n",
    "except ZeroDivisionError as err:\n",
    "    print(\"dont enter zero for b\")\n",
    "    print(1/0)\n",
    "except ValueError as err:\n",
    "    print(\"expecting only digits for a and b\")\n",
    "except Exception as err:\n",
    "    print(err)\n",
    "    #print(\"something went wrong\")\n",
    "print(\"Thank you!!\")\n",
    "print(\"some statements in main\")"
   ]
  },
  {
   "cell_type": "code",
   "execution_count": 31,
   "metadata": {},
   "outputs": [
    {
     "name": "stdout",
     "output_type": "stream",
     "text": [
      "welcome\n",
      "enter a value:12\n",
      "Enter b value:6\n",
      "before conversion a=12,b=6\n",
      "after conversion a=12.0,b=6.0\n",
      "RESULT:2.0\n",
      "Thank you!!\n",
      "some statements in main\n"
     ]
    }
   ],
   "source": [
    "print(\"welcome\")\n",
    "a=input(\"enter a value:\")\n",
    "b=input(\"Enter b value:\")\n",
    "print(\"before conversion a=%s,b=%s\"%(a,b))\n",
    "f=open(\"res.csv\",\"a\")\n",
    "try:\n",
    "    a=float(a)\n",
    "    b=float(b)\n",
    "    s=\"after conversion a=%s,b=%s\"%(a,b)\n",
    "    print(s)\n",
    "    f.write(s)\n",
    "    res=a/b\n",
    "    print(\"RESULT:%s\"%res)\n",
    "    f.write(\"res=%s\"%res)\n",
    "except ZeroDivisionError as err:\n",
    "    print(\"dont enter zero for b\")\n",
    "except ValueError as err:\n",
    "    print(\"expecting only digits for a and b\")\n",
    "except Exception as err:\n",
    "    print(err)\n",
    "    #print(\"something went wrong\")\n",
    "finally:\n",
    "    f.close()\n",
    "print(\"Thank you!!\")\n",
    "print(\"some statements in main\")"
   ]
  },
  {
   "cell_type": "code",
   "execution_count": 33,
   "metadata": {},
   "outputs": [
    {
     "name": "stdout",
     "output_type": "stream",
     "text": [
      "welcome\n",
      "enter a value:12\n",
      "Enter b value:6\n",
      "before conversion a=12,b=6\n",
      "after conversion a=12.0,b=6.0\n",
      "RESULT:2.0\n",
      "Thank you!!\n",
      "some statements in main\n"
     ]
    }
   ],
   "source": [
    "print(\"welcome\")\n",
    "a=input(\"enter a value:\")\n",
    "b=input(\"Enter b value:\")\n",
    "print(\"before conversion a=%s,b=%s\"%(a,b))\n",
    "f=open(\"res.csv\",\"a\")\n",
    "try:\n",
    "    a=float(a)\n",
    "    b=float(b)\n",
    "    s=\"after conversion a=%s,b=%s\"%(a,b)\n",
    "    print(s)\n",
    "    f.write(s)\n",
    "    res=a/b\n",
    "    print(\"RESULT:%s\"%res)\n",
    "    f.write(\",res=%s\"%res)\n",
    "except ZeroDivisionError as err:\n",
    "    print(\"dont enter zero for b\")\n",
    "except ValueError as err:\n",
    "    print(\"expecting only digits for a and b\")\n",
    "except Exception as err:\n",
    "    print(err)\n",
    "    #print(\"something went wrong\")\n",
    "finally:\n",
    "    f.close()\n",
    "print(\"Thank you!!\")\n",
    "print(\"some statements in main\")"
   ]
  },
  {
   "cell_type": "code",
   "execution_count": 34,
   "metadata": {},
   "outputs": [
    {
     "name": "stdout",
     "output_type": "stream",
     "text": [
      "welcome\n",
      "enter a value:12\n",
      "Enter b value:0\n",
      "before conversion a=12,b=0\n",
      "\n",
      "after conversion a=12.0,b=0.0\n",
      "dont enter zero for b\n",
      "Thank you!!\n",
      "some statements in main\n"
     ]
    }
   ],
   "source": [
    "print(\"welcome\")\n",
    "a=input(\"enter a value:\")\n",
    "b=input(\"Enter b value:\")\n",
    "print(\"before conversion a=%s,b=%s\"%(a,b))\n",
    "f=open(\"res.csv\",\"a\")\n",
    "try:\n",
    "    a=float(a)\n",
    "    b=float(b)\n",
    "    s=\"\\nafter conversion a=%s,b=%s\"%(a,b)\n",
    "    print(s)\n",
    "    f.write(s)\n",
    "    res=a/b\n",
    "    print(\"RESULT:%s\"%res)\n",
    "    f.write(\",res=%s\"%res)\n",
    "except ZeroDivisionError as err:\n",
    "    print(\"dont enter zero for b\")\n",
    "except ValueError as err:\n",
    "    print(\"expecting only digits for a and b\")\n",
    "except Exception as err:\n",
    "    print(err)\n",
    "    #print(\"something went wrong\")\n",
    "finally:\n",
    "    f.close()\n",
    "print(\"Thank you!!\")\n",
    "print(\"some statements in main\")"
   ]
  },
  {
   "cell_type": "code",
   "execution_count": 35,
   "metadata": {},
   "outputs": [
    {
     "name": "stdout",
     "output_type": "stream",
     "text": [
      "welcome\n",
      "enter a value:12\n",
      "Enter b value:ert\n",
      "before conversion a=12,b=ert\n",
      "expecting only digits for a and b\n",
      "Thank you!!\n",
      "some statements in main\n"
     ]
    }
   ],
   "source": [
    "print(\"welcome\")\n",
    "a=input(\"enter a value:\")\n",
    "b=input(\"Enter b value:\")\n",
    "f=open(\"res.csv\",\"a\")\n",
    "s=\"\\nbefore conversion a=%s,b=%s\"%(a,b)\n",
    "print(s)\n",
    "f.write(s)\n",
    "try:\n",
    "    a=float(a)\n",
    "    b=float(b)\n",
    "    s=\"after conversion a=%s,b=%s\"%(a,b)\n",
    "    print(s)\n",
    "    res=a/b\n",
    "    print(\"RESULT:%s\"%res)\n",
    "    f.write(\",res=%s\"%res)\n",
    "except ZeroDivisionError as err:\n",
    "    print(\"dont enter zero for b\")\n",
    "except ValueError as err:\n",
    "    print(\"expecting only digits for a and b\")\n",
    "except Exception as err:\n",
    "    print(err)\n",
    "    #print(\"something went wrong\")\n",
    "f.close()\n",
    "print(\"Thank you!!\")\n",
    "print(\"some statements in main\")"
   ]
  },
  {
   "cell_type": "code",
   "execution_count": 36,
   "metadata": {},
   "outputs": [
    {
     "name": "stdout",
     "output_type": "stream",
     "text": [
      "welcome\n",
      "enter a value:12\n",
      "Enter b value:6\n",
      "\n",
      "before conversion a=12,b=6\n",
      "after conversion a=12.0,b=6.0\n",
      "RESULT:2.0\n",
      "Thank you!!\n",
      "some statements in main\n"
     ]
    }
   ],
   "source": [
    "print(\"welcome\")\n",
    "a=input(\"enter a value:\")\n",
    "b=input(\"Enter b value:\")\n",
    "f=open(\"res.csv\",\"a\")\n",
    "s=\"\\nbefore conversion a=%s,b=%s\"%(a,b)\n",
    "print(s)\n",
    "f.write(s)\n",
    "try:\n",
    "    a=float(a)\n",
    "    b=float(b)\n",
    "    s=\"after conversion a=%s,b=%s\"%(a,b)\n",
    "    print(s)\n",
    "    res=a/b\n",
    "    print(\"RESULT:%s\"%res)\n",
    "    f.write(\",res=%s\"%res)\n",
    "except ZeroDivisionError as err:\n",
    "    print(\"dont enter zero for b\")\n",
    "except ValueError as err:\n",
    "    print(\"expecting only digits for a and b\")\n",
    "except Exception as err:\n",
    "    print(err)\n",
    "    #print(\"something went wrong\")\n",
    "f.close()\n",
    "print(\"Thank you!!\")\n",
    "print(\"some statements in main\")"
   ]
  },
  {
   "cell_type": "code",
   "execution_count": 37,
   "metadata": {},
   "outputs": [
    {
     "name": "stdout",
     "output_type": "stream",
     "text": [
      "welcome\n",
      "enter a value:12\n",
      "Enter b value:0\n",
      "\n",
      "before conversion a=12,b=0\n",
      "after conversion a=12.0,b=0.0\n",
      "dont enter zero for b\n",
      "Thank you!!\n",
      "some statements in main\n"
     ]
    }
   ],
   "source": [
    "print(\"welcome\")\n",
    "a=input(\"enter a value:\")\n",
    "b=input(\"Enter b value:\")\n",
    "f=open(\"res.csv\",\"a\")\n",
    "s=\"\\nbefore conversion a=%s,b=%s\"%(a,b)\n",
    "print(s)\n",
    "f.write(s)\n",
    "try:\n",
    "    a=float(a)\n",
    "    b=float(b)\n",
    "    s=\"after conversion a=%s,b=%s\"%(a,b)\n",
    "    print(s)\n",
    "    res=a/b\n",
    "    print(\"RESULT:%s\"%res)\n",
    "    f.write(\",res=%s\"%res)\n",
    "except ZeroDivisionError as err:\n",
    "    print(\"dont enter zero for b\")\n",
    "except ValueError as err:\n",
    "    print(\"expecting only digits for a and b\")\n",
    "except Exception as err:\n",
    "    print(err)\n",
    "    #print(\"something went wrong\")\n",
    "f.close()\n",
    "print(\"Thank you!!\")\n",
    "print(\"some statements in main\")"
   ]
  },
  {
   "cell_type": "code",
   "execution_count": 38,
   "metadata": {},
   "outputs": [
    {
     "name": "stdout",
     "output_type": "stream",
     "text": [
      "welcome\n",
      "enter a value:wer\n",
      "Enter b value:ty\n",
      "\n",
      "before conversion a=wer,b=ty\n",
      "expecting only digits for a and b\n",
      "Thank you!!\n",
      "some statements in main\n"
     ]
    }
   ],
   "source": [
    "print(\"welcome\")\n",
    "a=input(\"enter a value:\")\n",
    "b=input(\"Enter b value:\")\n",
    "f=open(\"res.csv\",\"a\")\n",
    "s=\"\\nbefore conversion a=%s,b=%s\"%(a,b)\n",
    "print(s)\n",
    "f.write(s)\n",
    "try:\n",
    "    a=float(a)\n",
    "    b=float(b)\n",
    "    s=\"after conversion a=%s,b=%s\"%(a,b)\n",
    "    print(s)\n",
    "    res=a/b\n",
    "    print(\"RESULT:%s\"%res)\n",
    "    f.write(\",res=%s\"%res)\n",
    "except ZeroDivisionError as err:\n",
    "    print(\"dont enter zero for b\")\n",
    "except ValueError as err:\n",
    "    print(\"expecting only digits for a and b\")\n",
    "except Exception as err:\n",
    "    print(err)\n",
    "    #print(\"something went wrong\")\n",
    "f.close()\n",
    "print(\"Thank you!!\")\n",
    "print(\"some statements in main\")"
   ]
  },
  {
   "cell_type": "code",
   "execution_count": 39,
   "metadata": {},
   "outputs": [
    {
     "name": "stdout",
     "output_type": "stream",
     "text": [
      "try\n",
      "finally\n",
      "res= 20\n"
     ]
    }
   ],
   "source": [
    "def fun():\n",
    "    try:\n",
    "        print(\"try\")\n",
    "    except:\n",
    "        print(\"except\")\n",
    "    finally:\n",
    "        print(\"finally\")\n",
    "    return 20\n",
    "res=fun()\n",
    "print(\"res=\",res)"
   ]
  },
  {
   "cell_type": "code",
   "execution_count": 40,
   "metadata": {},
   "outputs": [
    {
     "name": "stdout",
     "output_type": "stream",
     "text": [
      "try\n",
      "finally\n",
      "some statements after try \n",
      "res= 20\n"
     ]
    }
   ],
   "source": [
    "def fun():\n",
    "    try:\n",
    "        print(\"try\")\n",
    "    except:\n",
    "        print(\"except\")\n",
    "    finally:\n",
    "        print(\"finally\")\n",
    "    print(\"some statements after try \")\n",
    "    return 20\n",
    "res=fun()\n",
    "print(\"res=\",res)"
   ]
  },
  {
   "cell_type": "code",
   "execution_count": 41,
   "metadata": {},
   "outputs": [
    {
     "name": "stdout",
     "output_type": "stream",
     "text": [
      "try\n",
      "finally\n",
      "res= 10\n"
     ]
    }
   ],
   "source": [
    "def fun():\n",
    "    try:\n",
    "        print(\"try\")\n",
    "        return 10\n",
    "    except:\n",
    "        print(\"except\")\n",
    "        return 30\n",
    "    finally:\n",
    "        print(\"finally\")\n",
    "    print(\"some statements after try \")\n",
    "    return 20\n",
    "res=fun()\n",
    "print(\"res=\",res)"
   ]
  },
  {
   "cell_type": "code",
   "execution_count": 42,
   "metadata": {},
   "outputs": [
    {
     "name": "stdout",
     "output_type": "stream",
     "text": [
      "try\n",
      "finally\n",
      "res= 40\n"
     ]
    }
   ],
   "source": [
    "def fun():\n",
    "    try:\n",
    "        print(\"try\")\n",
    "        return 10\n",
    "    except:\n",
    "        print(\"except\")\n",
    "        return 30\n",
    "    finally:\n",
    "        print(\"finally\")\n",
    "        return 40\n",
    "    print(\"some statements after try \")\n",
    "    return 20\n",
    "res=fun()\n",
    "print(\"res=\",res)"
   ]
  },
  {
   "cell_type": "code",
   "execution_count": 43,
   "metadata": {},
   "outputs": [
    {
     "name": "stdout",
     "output_type": "stream",
     "text": [
      "try\n",
      "finally\n",
      "some statements after try \n",
      "res= 20\n"
     ]
    }
   ],
   "source": [
    "def fun():\n",
    "    try:\n",
    "        print(\"try\")\n",
    "    except:\n",
    "        print(\"except\")\n",
    "    finally:\n",
    "        print(\"finally\")\n",
    "    print(\"some statements after try \")\n",
    "    return 20\n",
    "res=fun()\n",
    "print(\"res=\",res)"
   ]
  },
  {
   "cell_type": "code",
   "execution_count": 44,
   "metadata": {},
   "outputs": [
    {
     "name": "stdout",
     "output_type": "stream",
     "text": [
      "10.0\n",
      "finally for 1\n",
      "some for statements for 1\n",
      "5.0\n",
      "finally for 2\n",
      "some for statements for 2\n",
      "issue\n",
      "finally for 0\n"
     ]
    }
   ],
   "source": [
    "for i in [1,2,0,4,5,6]:\n",
    "    try:\n",
    "        print(10/i)\n",
    "    except:\n",
    "        print(\"issue\")\n",
    "        break\n",
    "    finally:\n",
    "        print(\"finally for %s\"%i)\n",
    "    print(\"some for statements for %s\"%i)"
   ]
  },
  {
   "cell_type": "code",
   "execution_count": null,
   "metadata": {},
   "outputs": [],
   "source": []
  }
 ],
 "metadata": {
  "kernelspec": {
   "display_name": "Python 3",
   "language": "python",
   "name": "python3"
  },
  "language_info": {
   "codemirror_mode": {
    "name": "ipython",
    "version": 3
   },
   "file_extension": ".py",
   "mimetype": "text/x-python",
   "name": "python",
   "nbconvert_exporter": "python",
   "pygments_lexer": "ipython3",
   "version": "3.7.0"
  }
 },
 "nbformat": 4,
 "nbformat_minor": 2
}
