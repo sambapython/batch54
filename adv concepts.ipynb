{
 "cells": [
  {
   "cell_type": "code",
   "execution_count": 1,
   "metadata": {},
   "outputs": [],
   "source": [
    "class Emp:\n",
    "    company_name=\"Khyaathi\"\n",
    "    def __init__(self,name,doj):\n",
    "        self.name=name\n",
    "        self.doj=doj\n",
    "sai=Emp(\"sailakshmi\",\"2017-03-26\")"
   ]
  },
  {
   "cell_type": "code",
   "execution_count": 4,
   "metadata": {},
   "outputs": [],
   "source": [
    "# __new__ method: data object creation definition. this new method returns the data object\n",
    "# by taking that data object, it will calls the constructor with the arguments you passed(sailakshmi\",\"2017-03-26)\n",
    "# it wil assign the data object to the reference(sai)\n",
    "\n",
    "#object is the parent class for any class the developer defined.\n",
    "class Emp:\n",
    "    company_name=\"Khyaathi\"\n",
    "    def __new__(cls,*args):\n",
    "        return None\n",
    "    def __init__(self,name,doj):\n",
    "        print(\"this is emp constructor\")\n",
    "        self.name=name\n",
    "        self.doj=doj\n",
    "sai=Emp(\"sailakshmi\",\"2017-03-26\")"
   ]
  },
  {
   "cell_type": "code",
   "execution_count": 7,
   "metadata": {},
   "outputs": [
    {
     "name": "stdout",
     "output_type": "stream",
     "text": [
      "this is emp constructor\n"
     ]
    }
   ],
   "source": [
    "# __new__ method: data object creation definition. this new method returns the data object\n",
    "# by taking that data object, it will calls the constructor with the arguments you passed(sailakshmi\",\"2017-03-26)\n",
    "# it wil assign the data object to the reference(sai)\n",
    "\n",
    "#object is the parent class for any class the developer defined.\n",
    "class Emp:\n",
    "    company_name=\"Khyaathi\"\n",
    "    def __new__(cls,*args):\n",
    "        dataobject = object.__new__(cls)\n",
    "        return dataobject\n",
    "    def __init__(self,name,doj):\n",
    "        print(\"this is emp constructor\")\n",
    "        self.name=name\n",
    "        self.doj=doj\n",
    "sai=Emp(\"sailakshmi\",\"2017-03-26\")"
   ]
  },
  {
   "cell_type": "code",
   "execution_count": 8,
   "metadata": {},
   "outputs": [
    {
     "name": "stdout",
     "output_type": "stream",
     "text": [
      "this is emp constructor\n",
      "this is emp constructor\n",
      "this is emp constructor\n",
      "this is emp constructor\n",
      "this is emp constructor\n"
     ]
    }
   ],
   "source": [
    "# __new__ method: data object creation definition. this new method returns the data object\n",
    "# by taking that data object, it will calls the constructor with the arguments you passed(sailakshmi\",\"2017-03-26)\n",
    "# it wil assign the data object to the reference(sai)\n",
    "\n",
    "#object is the parent class for any class the developer defined.\n",
    "class Emp:\n",
    "    company_name=\"Khyaathi\"\n",
    "    def __new__(cls,*args):\n",
    "        dataobject = object.__new__(cls)\n",
    "        return dataobject\n",
    "    def __init__(self,name,doj):\n",
    "        print(\"this is emp constructor\")\n",
    "        self.name=name\n",
    "        self.doj=doj\n",
    "sai=Emp(\"sailakshmi\",\"2017-03-26\")\n",
    "sai1=Emp(\"sailakshmi\",\"2017-03-26\")\n",
    "sai2=Emp(\"sailakshmi\",\"2017-03-26\")\n",
    "sai3=Emp(\"sailakshmi\",\"2017-03-26\")\n",
    "sai4=Emp(\"sailakshmi\",\"2017-03-26\")"
   ]
  },
  {
   "cell_type": "code",
   "execution_count": 9,
   "metadata": {},
   "outputs": [
    {
     "name": "stdout",
     "output_type": "stream",
     "text": [
      "this is class\n",
      "this is new\n",
      "this is emp constructor\n",
      "this is new\n",
      "this is emp constructor\n",
      "this is new\n",
      "this is emp constructor\n",
      "this is new\n",
      "this is emp constructor\n",
      "this is new\n",
      "this is emp constructor\n"
     ]
    }
   ],
   "source": [
    "# what if you want to put a restriction, the user can create only one object. If he trying to create the second object\n",
    "# will throw an errror\n",
    "class Emp:\n",
    "    print(\"this is class\")\n",
    "    company_name=\"Khyaathi\"\n",
    "    def __new__(cls,*args):\n",
    "        print(\"this is new\")\n",
    "        dataobject = object.__new__(cls)\n",
    "        return dataobject\n",
    "    def __init__(self,name,doj):\n",
    "        print(\"this is emp constructor\")\n",
    "        self.name=name\n",
    "        self.doj=doj\n",
    "sai=Emp(\"sailakshmi\",\"2017-03-26\")\n",
    "sai1=Emp(\"sailakshmi\",\"2017-03-26\")\n",
    "sai2=Emp(\"sailakshmi\",\"2017-03-26\")\n",
    "sai3=Emp(\"sailakshmi\",\"2017-03-26\")\n",
    "sai4=Emp(\"sailakshmi\",\"2017-03-26\")"
   ]
  },
  {
   "cell_type": "code",
   "execution_count": 10,
   "metadata": {},
   "outputs": [],
   "source": [
    "# what if you want to put a restriction, the user can create only one object. If he trying to create the second object\n",
    "# will throw an errror\n",
    "class Emp:\n",
    "    #print(\"this is class\")\n",
    "    obj_count=0\n",
    "    company_name=\"Khyaathi\"\n",
    "    def __new__(cls,*args):\n",
    "        #print(\"this is new\")\n",
    "        if cls.obj_count==0:\n",
    "            dataobject = object.__new__(cls)\n",
    "            cls.obj_count=cls.obj_count+1\n",
    "        else:\n",
    "            raise Exception(\"Can create only one object.\")\n",
    "        return dataobject\n",
    "    def __init__(self,name,doj):\n",
    "        #print(\"this is emp constructor\")\n",
    "        self.name=name\n",
    "        self.doj=doj\n",
    "sai=Emp(\"sailakshmi\",\"2017-03-26\")"
   ]
  },
  {
   "cell_type": "code",
   "execution_count": 11,
   "metadata": {},
   "outputs": [
    {
     "ename": "Exception",
     "evalue": "Can create only one object.",
     "output_type": "error",
     "traceback": [
      "\u001b[0;31m---------------------------------------------------------------------------\u001b[0m",
      "\u001b[0;31mException\u001b[0m                                 Traceback (most recent call last)",
      "\u001b[0;32m<ipython-input-11-b75c17f121cb>\u001b[0m in \u001b[0;36m<module>\u001b[0;34m()\u001b[0m\n\u001b[1;32m     18\u001b[0m         \u001b[0mself\u001b[0m\u001b[0;34m.\u001b[0m\u001b[0mdoj\u001b[0m\u001b[0;34m=\u001b[0m\u001b[0mdoj\u001b[0m\u001b[0;34m\u001b[0m\u001b[0m\n\u001b[1;32m     19\u001b[0m \u001b[0msai\u001b[0m\u001b[0;34m=\u001b[0m\u001b[0mEmp\u001b[0m\u001b[0;34m(\u001b[0m\u001b[0;34m\"sailakshmi\"\u001b[0m\u001b[0;34m,\u001b[0m\u001b[0;34m\"2017-03-26\"\u001b[0m\u001b[0;34m)\u001b[0m\u001b[0;34m\u001b[0m\u001b[0m\n\u001b[0;32m---> 20\u001b[0;31m \u001b[0mjay\u001b[0m\u001b[0;34m=\u001b[0m\u001b[0mEmp\u001b[0m\u001b[0;34m(\u001b[0m\u001b[0;34m\"JAYARAM\"\u001b[0m\u001b[0;34m,\u001b[0m\u001b[0;34m\"2018-2-28\"\u001b[0m\u001b[0;34m)\u001b[0m\u001b[0;34m\u001b[0m\u001b[0m\n\u001b[0m",
      "\u001b[0;32m<ipython-input-11-b75c17f121cb>\u001b[0m in \u001b[0;36m__new__\u001b[0;34m(cls, *args)\u001b[0m\n\u001b[1;32m     11\u001b[0m             \u001b[0mcls\u001b[0m\u001b[0;34m.\u001b[0m\u001b[0mobj_count\u001b[0m\u001b[0;34m=\u001b[0m\u001b[0mcls\u001b[0m\u001b[0;34m.\u001b[0m\u001b[0mobj_count\u001b[0m\u001b[0;34m+\u001b[0m\u001b[0;36m1\u001b[0m\u001b[0;34m\u001b[0m\u001b[0m\n\u001b[1;32m     12\u001b[0m         \u001b[0;32melse\u001b[0m\u001b[0;34m:\u001b[0m\u001b[0;34m\u001b[0m\u001b[0m\n\u001b[0;32m---> 13\u001b[0;31m             \u001b[0;32mraise\u001b[0m \u001b[0mException\u001b[0m\u001b[0;34m(\u001b[0m\u001b[0;34m\"Can create only one object.\"\u001b[0m\u001b[0;34m)\u001b[0m\u001b[0;34m\u001b[0m\u001b[0m\n\u001b[0m\u001b[1;32m     14\u001b[0m         \u001b[0;32mreturn\u001b[0m \u001b[0mdataobject\u001b[0m\u001b[0;34m\u001b[0m\u001b[0m\n\u001b[1;32m     15\u001b[0m     \u001b[0;32mdef\u001b[0m \u001b[0m__init__\u001b[0m\u001b[0;34m(\u001b[0m\u001b[0mself\u001b[0m\u001b[0;34m,\u001b[0m\u001b[0mname\u001b[0m\u001b[0;34m,\u001b[0m\u001b[0mdoj\u001b[0m\u001b[0;34m)\u001b[0m\u001b[0;34m:\u001b[0m\u001b[0;34m\u001b[0m\u001b[0m\n",
      "\u001b[0;31mException\u001b[0m: Can create only one object."
     ]
    }
   ],
   "source": [
    "# what if you want to put a restriction, the user can create only one object. If he trying to create the second object\n",
    "# will throw an errror\n",
    "class Emp:\n",
    "    #print(\"this is class\")\n",
    "    obj_count=0\n",
    "    company_name=\"Khyaathi\"\n",
    "    def __new__(cls,*args):\n",
    "        #print(\"this is new\")\n",
    "        if cls.obj_count==0:\n",
    "            dataobject = object.__new__(cls)\n",
    "            cls.obj_count=cls.obj_count+1\n",
    "        else:\n",
    "            raise Exception(\"Can create only one object.\")\n",
    "        return dataobject\n",
    "    def __init__(self,name,doj):\n",
    "        #print(\"this is emp constructor\")\n",
    "        self.name=name\n",
    "        self.doj=doj\n",
    "sai=Emp(\"sailakshmi\",\"2017-03-26\")\n",
    "jay=Emp(\"JAYARAM\",\"2018-2-28\")"
   ]
  },
  {
   "cell_type": "code",
   "execution_count": 12,
   "metadata": {},
   "outputs": [
    {
     "ename": "SingletonException",
     "evalue": "Can create only one object.",
     "output_type": "error",
     "traceback": [
      "\u001b[0;31m---------------------------------------------------------------------------\u001b[0m",
      "\u001b[0;31mSingletonException\u001b[0m                        Traceback (most recent call last)",
      "\u001b[0;32m<ipython-input-12-269653cdb8cd>\u001b[0m in \u001b[0;36m<module>\u001b[0;34m()\u001b[0m\n\u001b[1;32m     20\u001b[0m         \u001b[0mself\u001b[0m\u001b[0;34m.\u001b[0m\u001b[0mdoj\u001b[0m\u001b[0;34m=\u001b[0m\u001b[0mdoj\u001b[0m\u001b[0;34m\u001b[0m\u001b[0m\n\u001b[1;32m     21\u001b[0m \u001b[0msai\u001b[0m\u001b[0;34m=\u001b[0m\u001b[0mEmp\u001b[0m\u001b[0;34m(\u001b[0m\u001b[0;34m\"sailakshmi\"\u001b[0m\u001b[0;34m,\u001b[0m\u001b[0;34m\"2017-03-26\"\u001b[0m\u001b[0;34m)\u001b[0m\u001b[0;34m\u001b[0m\u001b[0m\n\u001b[0;32m---> 22\u001b[0;31m \u001b[0mjay\u001b[0m\u001b[0;34m=\u001b[0m\u001b[0mEmp\u001b[0m\u001b[0;34m(\u001b[0m\u001b[0;34m\"JAYARAM\"\u001b[0m\u001b[0;34m,\u001b[0m\u001b[0;34m\"2018-2-28\"\u001b[0m\u001b[0;34m)\u001b[0m\u001b[0;34m\u001b[0m\u001b[0m\n\u001b[0m",
      "\u001b[0;32m<ipython-input-12-269653cdb8cd>\u001b[0m in \u001b[0;36m__new__\u001b[0;34m(cls, *args)\u001b[0m\n\u001b[1;32m     13\u001b[0m             \u001b[0mcls\u001b[0m\u001b[0;34m.\u001b[0m\u001b[0mobj_count\u001b[0m\u001b[0;34m=\u001b[0m\u001b[0mcls\u001b[0m\u001b[0;34m.\u001b[0m\u001b[0mobj_count\u001b[0m\u001b[0;34m+\u001b[0m\u001b[0;36m1\u001b[0m\u001b[0;34m\u001b[0m\u001b[0m\n\u001b[1;32m     14\u001b[0m         \u001b[0;32melse\u001b[0m\u001b[0;34m:\u001b[0m\u001b[0;34m\u001b[0m\u001b[0m\n\u001b[0;32m---> 15\u001b[0;31m             \u001b[0;32mraise\u001b[0m \u001b[0mSingletonException\u001b[0m\u001b[0;34m(\u001b[0m\u001b[0;34m\"Can create only one object.\"\u001b[0m\u001b[0;34m)\u001b[0m\u001b[0;34m\u001b[0m\u001b[0m\n\u001b[0m\u001b[1;32m     16\u001b[0m         \u001b[0;32mreturn\u001b[0m \u001b[0mdataobject\u001b[0m\u001b[0;34m\u001b[0m\u001b[0m\n\u001b[1;32m     17\u001b[0m     \u001b[0;32mdef\u001b[0m \u001b[0m__init__\u001b[0m\u001b[0;34m(\u001b[0m\u001b[0mself\u001b[0m\u001b[0;34m,\u001b[0m\u001b[0mname\u001b[0m\u001b[0;34m,\u001b[0m\u001b[0mdoj\u001b[0m\u001b[0;34m)\u001b[0m\u001b[0;34m:\u001b[0m\u001b[0;34m\u001b[0m\u001b[0m\n",
      "\u001b[0;31mSingletonException\u001b[0m: Can create only one object."
     ]
    }
   ],
   "source": [
    "# what if you want to put a restriction, the user can create only one object. If he trying to create the second object\n",
    "# will throw an errror\n",
    "class SingletonException(Exception):\n",
    "    #user defined exception\n",
    "    pass\n",
    "class Emp:\n",
    "    #print(\"this is class\")\n",
    "    obj_count=0\n",
    "    company_name=\"Khyaathi\"\n",
    "    def __new__(cls,*args):\n",
    "        #print(\"this is new\")\n",
    "        if cls.obj_count==0:\n",
    "            dataobject = object.__new__(cls)\n",
    "            cls.obj_count=cls.obj_count+1\n",
    "        else:\n",
    "            raise SingletonException(\"Can create only one object.\")\n",
    "        return dataobject\n",
    "    def __init__(self,name,doj):\n",
    "        #print(\"this is emp constructor\")\n",
    "        self.name=name\n",
    "        self.doj=doj\n",
    "sai=Emp(\"sailakshmi\",\"2017-03-26\")\n",
    "jay=Emp(\"JAYARAM\",\"2018-2-28\")"
   ]
  },
  {
   "cell_type": "code",
   "execution_count": 13,
   "metadata": {},
   "outputs": [],
   "source": [
    "#closure and decorator"
   ]
  },
  {
   "cell_type": "code",
   "execution_count": 14,
   "metadata": {},
   "outputs": [
    {
     "name": "stdout",
     "output_type": "stream",
     "text": [
      "outer\n"
     ]
    },
    {
     "ename": "AttributeError",
     "evalue": "'NoneType' object has no attribute 'inner'",
     "output_type": "error",
     "traceback": [
      "\u001b[0;31m---------------------------------------------------------------------------\u001b[0m",
      "\u001b[0;31mAttributeError\u001b[0m                            Traceback (most recent call last)",
      "\u001b[0;32m<ipython-input-14-759bde1ec200>\u001b[0m in \u001b[0;36m<module>\u001b[0;34m()\u001b[0m\n\u001b[1;32m      4\u001b[0m         \u001b[0mprint\u001b[0m\u001b[0;34m(\u001b[0m\u001b[0;34m\"this is inner\"\u001b[0m\u001b[0;34m)\u001b[0m\u001b[0;34m\u001b[0m\u001b[0m\n\u001b[1;32m      5\u001b[0m \u001b[0mo\u001b[0m\u001b[0;34m=\u001b[0m\u001b[0mouter\u001b[0m\u001b[0;34m(\u001b[0m\u001b[0;34m)\u001b[0m\u001b[0;34m\u001b[0m\u001b[0m\n\u001b[0;32m----> 6\u001b[0;31m \u001b[0mo\u001b[0m\u001b[0;34m.\u001b[0m\u001b[0minner\u001b[0m\u001b[0;34m(\u001b[0m\u001b[0;34m)\u001b[0m\u001b[0;34m\u001b[0m\u001b[0m\n\u001b[0m",
      "\u001b[0;31mAttributeError\u001b[0m: 'NoneType' object has no attribute 'inner'"
     ]
    }
   ],
   "source": [
    "def outer():\n",
    "    print(\"outer\")\n",
    "    def inner():\n",
    "        print(\"this is inner\")\n",
    "o=outer()\n",
    "o.inner()"
   ]
  },
  {
   "cell_type": "code",
   "execution_count": 15,
   "metadata": {},
   "outputs": [
    {
     "name": "stdout",
     "output_type": "stream",
     "text": [
      "outer\n"
     ]
    }
   ],
   "source": [
    "def outer():\n",
    "    print(\"outer\")\n",
    "    def inner():\n",
    "        print(\"this is inner\")\n",
    "    return inner\n",
    "o=outer()"
   ]
  },
  {
   "cell_type": "code",
   "execution_count": 16,
   "metadata": {},
   "outputs": [
    {
     "data": {
      "text/plain": [
       "<function __main__.outer.<locals>.inner()>"
      ]
     },
     "execution_count": 16,
     "metadata": {},
     "output_type": "execute_result"
    }
   ],
   "source": [
    "o"
   ]
  },
  {
   "cell_type": "code",
   "execution_count": 17,
   "metadata": {},
   "outputs": [
    {
     "name": "stdout",
     "output_type": "stream",
     "text": [
      "this is inner\n"
     ]
    }
   ],
   "source": [
    "o()"
   ]
  },
  {
   "cell_type": "code",
   "execution_count": 19,
   "metadata": {},
   "outputs": [
    {
     "name": "stdout",
     "output_type": "stream",
     "text": [
      "outer\n",
      "this is inner\n"
     ]
    }
   ],
   "source": [
    "def outer():\n",
    "    print(\"outer\")\n",
    "    def inner():\n",
    "        print(\"this is inner\")\n",
    "    return inner\n",
    "inner_ref=outer()\n",
    "inner_ref()\n"
   ]
  },
  {
   "cell_type": "code",
   "execution_count": 20,
   "metadata": {},
   "outputs": [
    {
     "name": "stdout",
     "output_type": "stream",
     "text": [
      "outer\n"
     ]
    }
   ],
   "source": [
    "def outer():\n",
    "    print(\"outer\")\n",
    "    def inner():\n",
    "        print(\"this is inner\")\n",
    "    return inner\n",
    "inner_ref=outer()"
   ]
  },
  {
   "cell_type": "code",
   "execution_count": 21,
   "metadata": {},
   "outputs": [
    {
     "name": "stdout",
     "output_type": "stream",
     "text": [
      "this is inner\n"
     ]
    }
   ],
   "source": [
    "inner_ref()"
   ]
  },
  {
   "cell_type": "code",
   "execution_count": 22,
   "metadata": {},
   "outputs": [
    {
     "ename": "IndentationError",
     "evalue": "unexpected indent (<ipython-input-22-296eead44dcd>, line 4)",
     "output_type": "error",
     "traceback": [
      "\u001b[0;36m  File \u001b[0;32m\"<ipython-input-22-296eead44dcd>\"\u001b[0;36m, line \u001b[0;32m4\u001b[0m\n\u001b[0;31m    def inner():\u001b[0m\n\u001b[0m    ^\u001b[0m\n\u001b[0;31mIndentationError\u001b[0m\u001b[0;31m:\u001b[0m unexpected indent\n"
     ]
    }
   ],
   "source": [
    "def outer():\n",
    "    print(\"outer\")\n",
    "return 20\n",
    "    def inner():\n",
    "        print(\"this is inner\")\n",
    "        return 10\n",
    "    return inner\n",
    "inner_ref=outer()"
   ]
  },
  {
   "cell_type": "code",
   "execution_count": 24,
   "metadata": {},
   "outputs": [
    {
     "name": "stdout",
     "output_type": "stream",
     "text": [
      "outer\n",
      "this is inner\n",
      "10\n"
     ]
    }
   ],
   "source": [
    "def outer():\n",
    "    print(\"outer\")\n",
    "    def inner():\n",
    "        print(\"this is inner\")\n",
    "        return 10\n",
    "    return inner\n",
    "inner_ref=outer()\n",
    "ret_inner=inner_ref()\n",
    "print(ret_inner)"
   ]
  },
  {
   "cell_type": "code",
   "execution_count": 25,
   "metadata": {},
   "outputs": [
    {
     "name": "stdout",
     "output_type": "stream",
     "text": [
      "outer\n",
      "f= 10\n",
      "a=20,b=30\n",
      "this is inner\n",
      "10\n"
     ]
    }
   ],
   "source": [
    "def outer(f):\n",
    "    print(\"outer\")\n",
    "    print(\"f=\",f)\n",
    "    def inner(a,b):\n",
    "        print(\"a=%s,b=%s\"%(a,b))\n",
    "        print(\"this is inner\")\n",
    "        return 10\n",
    "    return inner\n",
    "inner_ref=outer(10)\n",
    "ret_inner=inner_ref(20,30)\n",
    "print(ret_inner)"
   ]
  },
  {
   "cell_type": "code",
   "execution_count": 27,
   "metadata": {},
   "outputs": [
    {
     "name": "stdout",
     "output_type": "stream",
     "text": [
      "outer\n",
      "f= <function add at 0x7f90745c9048>\n",
      "a=20,b=30\n",
      "result= 50\n",
      "this is inner\n",
      "50\n"
     ]
    }
   ],
   "source": [
    "def outer(f):\n",
    "    print(\"outer\")\n",
    "    print(\"f=\",f)\n",
    "    def inner(a,b):\n",
    "        print(\"a=%s,b=%s\"%(a,b))\n",
    "        ret=f(a,b)\n",
    "        print(\"result=\",ret)\n",
    "        print(\"this is inner\")\n",
    "        return ret\n",
    "    return inner\n",
    "def add(x,y):\n",
    "    return x+y\n",
    "inner_ref=outer(add)\n",
    "ret_inner=inner_ref(20,30)\n",
    "print(ret_inner)"
   ]
  },
  {
   "cell_type": "code",
   "execution_count": 26,
   "metadata": {},
   "outputs": [
    {
     "name": "stdout",
     "output_type": "stream",
     "text": [
      "30\n"
     ]
    }
   ],
   "source": [
    "def fun(x,y):\n",
    "    return x+y\n",
    "f=fun\n",
    "print(f(10,20))"
   ]
  },
  {
   "cell_type": "code",
   "execution_count": 28,
   "metadata": {},
   "outputs": [
    {
     "name": "stdout",
     "output_type": "stream",
     "text": [
      "50\n"
     ]
    }
   ],
   "source": [
    "def outer(f):\n",
    "    def inner(a,b):\n",
    "        ret=f(a,b)\n",
    "        return ret\n",
    "    return inner\n",
    "def add(x,y):\n",
    "    return x+y\n",
    "inner_ref=outer(add)\n",
    "ret_inner=inner_ref(20,30)\n",
    "print(ret_inner)"
   ]
  },
  {
   "cell_type": "code",
   "execution_count": 30,
   "metadata": {},
   "outputs": [
    {
     "name": "stdout",
     "output_type": "stream",
     "text": [
      "reslt:50\n"
     ]
    }
   ],
   "source": [
    "def outer(f):\n",
    "    def inner(a,b):\n",
    "        ret=f(a,b)\n",
    "        return \"reslt:\"+str(ret)\n",
    "    return inner\n",
    "def add(x,y):\n",
    "    return x+y\n",
    "inner_ref=outer(add)\n",
    "ret_inner=inner_ref(20,30)\n",
    "print(ret_inner)"
   ]
  },
  {
   "cell_type": "code",
   "execution_count": 31,
   "metadata": {},
   "outputs": [
    {
     "name": "stdout",
     "output_type": "stream",
     "text": [
      "30\n"
     ]
    }
   ],
   "source": [
    "def outer(f):\n",
    "    def inner(a,b):\n",
    "        ret=f(a,b)\n",
    "        return \"reslt:\"+str(ret)\n",
    "    return inner\n",
    "def add(x,y):\n",
    "    return x+y\n",
    "res=add(10,20)\n",
    "print(res)\n",
    "#inner_ref=outer(add)\n",
    "#ret_inner=inner_ref(20,30)\n",
    "#print(ret_inner)"
   ]
  },
  {
   "cell_type": "code",
   "execution_count": 32,
   "metadata": {},
   "outputs": [
    {
     "name": "stdout",
     "output_type": "stream",
     "text": [
      "reslt:30\n"
     ]
    }
   ],
   "source": [
    "def outer(f):\n",
    "    def inner(a,b):\n",
    "        ret=f(a,b)\n",
    "        return \"reslt:\"+str(ret)\n",
    "    return inner\n",
    "\n",
    "@outer\n",
    "def add(x,y):\n",
    "    return x+y\n",
    "res=add(10,20)\n",
    "print(res)\n",
    "#inner_ref=outer(add)\n",
    "#ret_inner=inner_ref(20,30)\n",
    "#print(ret_inner)"
   ]
  },
  {
   "cell_type": "code",
   "execution_count": 33,
   "metadata": {},
   "outputs": [
    {
     "name": "stdout",
     "output_type": "stream",
     "text": [
      "reslt:30\n"
     ]
    }
   ],
   "source": [
    "#closure\n",
    "def outer(f):\n",
    "    def inner(a,b):\n",
    "        ret=f(a,b)\n",
    "        return \"reslt:\"+str(ret)\n",
    "    return inner\n",
    "\n",
    "@outer # decorator\n",
    "def add(x,y):\n",
    "    return x+y\n",
    "res=add(10,20)\n",
    "print(res)"
   ]
  },
  {
   "cell_type": "code",
   "execution_count": 34,
   "metadata": {},
   "outputs": [
    {
     "name": "stdout",
     "output_type": "stream",
     "text": [
      "30\n"
     ]
    }
   ],
   "source": [
    "def outer(f):\n",
    "    def inner(a,b):\n",
    "        ret=f(a,b)\n",
    "        return \"reslt:\"+str(ret)\n",
    "    return inner\n",
    "\n",
    "def add(x,y):\n",
    "    return x+y\n",
    "res=add(10,20)\n",
    "print(res)"
   ]
  },
  {
   "cell_type": "code",
   "execution_count": null,
   "metadata": {},
   "outputs": [],
   "source": []
  }
 ],
 "metadata": {
  "kernelspec": {
   "display_name": "Python 3",
   "language": "python",
   "name": "python3"
  },
  "language_info": {
   "codemirror_mode": {
    "name": "ipython",
    "version": 3
   },
   "file_extension": ".py",
   "mimetype": "text/x-python",
   "name": "python",
   "nbconvert_exporter": "python",
   "pygments_lexer": "ipython3",
   "version": "3.7.0"
  }
 },
 "nbformat": 4,
 "nbformat_minor": 2
}
