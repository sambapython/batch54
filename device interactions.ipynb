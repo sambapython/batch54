{
 "cells": [
  {
   "cell_type": "code",
   "execution_count": 1,
   "metadata": {},
   "outputs": [],
   "source": [
    "import os"
   ]
  },
  {
   "cell_type": "code",
   "execution_count": 2,
   "metadata": {},
   "outputs": [
    {
     "data": {
      "text/plain": [
       "0"
      ]
     },
     "execution_count": 2,
     "metadata": {},
     "output_type": "execute_result"
    }
   ],
   "source": [
    "os.system(\"mkdir folder1\")"
   ]
  },
  {
   "cell_type": "code",
   "execution_count": 3,
   "metadata": {},
   "outputs": [
    {
     "data": {
      "text/plain": [
       "256"
      ]
     },
     "execution_count": 3,
     "metadata": {},
     "output_type": "execute_result"
    }
   ],
   "source": [
    "os.system(\"mkdir folder1\")"
   ]
  },
  {
   "cell_type": "code",
   "execution_count": 4,
   "metadata": {},
   "outputs": [
    {
     "data": {
      "text/plain": [
       "0"
      ]
     },
     "execution_count": 4,
     "metadata": {},
     "output_type": "execute_result"
    }
   ],
   "source": [
    "os.system(\"rm -r folder1\")"
   ]
  },
  {
   "cell_type": "code",
   "execution_count": 5,
   "metadata": {},
   "outputs": [],
   "source": [
    "os.mkdir(\"f1\")"
   ]
  },
  {
   "cell_type": "code",
   "execution_count": 6,
   "metadata": {},
   "outputs": [],
   "source": [
    "os.rmdir(\"f1\")"
   ]
  },
  {
   "cell_type": "code",
   "execution_count": 7,
   "metadata": {},
   "outputs": [],
   "source": [
    "f=open(\"application/config.json\")\n",
    "data=f.read()"
   ]
  },
  {
   "cell_type": "code",
   "execution_count": 8,
   "metadata": {},
   "outputs": [
    {
     "name": "stdout",
     "output_type": "stream",
     "text": [
      "{\n",
      "\t\"database\":{\"host\":\"localhost\",\n",
      "\t\t\t\t\"user\":\"postgres\",\n",
      "\t\t\t\t\"password\":\"root\",\n",
      "\t\t\t\t\"database\":\"app2\",\n",
      "\t\t\t\t\"port\":5432}\n",
      "}\n"
     ]
    }
   ],
   "source": [
    "print(data)"
   ]
  },
  {
   "cell_type": "code",
   "execution_count": 10,
   "metadata": {},
   "outputs": [],
   "source": [
    "f=open(os.path.join(\"application\",\"config.json\"))\n",
    "data=f.read()"
   ]
  },
  {
   "cell_type": "code",
   "execution_count": 11,
   "metadata": {},
   "outputs": [
    {
     "data": {
      "text/plain": [
       "'application/config.json'"
      ]
     },
     "execution_count": 11,
     "metadata": {},
     "output_type": "execute_result"
    }
   ],
   "source": [
    "os.path.join(\"application\",\"config.json\")"
   ]
  },
  {
   "cell_type": "code",
   "execution_count": 12,
   "metadata": {},
   "outputs": [
    {
     "data": {
      "text/plain": [
       "True"
      ]
     },
     "execution_count": 12,
     "metadata": {},
     "output_type": "execute_result"
    }
   ],
   "source": [
    "os.path.isfile(\"a.py\")"
   ]
  },
  {
   "cell_type": "code",
   "execution_count": 13,
   "metadata": {},
   "outputs": [
    {
     "data": {
      "text/plain": [
       "False"
      ]
     },
     "execution_count": 13,
     "metadata": {},
     "output_type": "execute_result"
    }
   ],
   "source": [
    "os.path.isfile(\"a123.py\")"
   ]
  },
  {
   "cell_type": "code",
   "execution_count": 14,
   "metadata": {},
   "outputs": [
    {
     "data": {
      "text/plain": [
       "False"
      ]
     },
     "execution_count": 14,
     "metadata": {},
     "output_type": "execute_result"
    }
   ],
   "source": [
    "os.path.isfile(\"application\")"
   ]
  },
  {
   "cell_type": "code",
   "execution_count": 15,
   "metadata": {},
   "outputs": [
    {
     "data": {
      "text/plain": [
       "True"
      ]
     },
     "execution_count": 15,
     "metadata": {},
     "output_type": "execute_result"
    }
   ],
   "source": [
    "os.path.isdir(\"application\")"
   ]
  },
  {
   "cell_type": "code",
   "execution_count": 16,
   "metadata": {},
   "outputs": [
    {
     "name": "stdout",
     "output_type": "stream",
     "text": [
      "('application', ['__pycache__'], ['operations.py', 'main.py', 'requirements.txt', 'db.py', 'READ ME.MD', 'config.json', 'setup.py'])\n",
      "('application/__pycache__', [], ['db.cpython-37.pyc', 'operations.cpython-37.pyc'])\n"
     ]
    }
   ],
   "source": [
    "for i in os.walk(\"application\"):\n",
    "    print(i)"
   ]
  },
  {
   "cell_type": "code",
   "execution_count": 17,
   "metadata": {},
   "outputs": [
    {
     "data": {
      "text/plain": [
       "0"
      ]
     },
     "execution_count": 17,
     "metadata": {},
     "output_type": "execute_result"
    }
   ],
   "source": [
    "os.system(\"ls -l\")"
   ]
  },
  {
   "cell_type": "code",
   "execution_count": 19,
   "metadata": {},
   "outputs": [],
   "source": [
    "from subprocess import check_output\n",
    "data = check_output([\"ls\",\"-l\"])"
   ]
  },
  {
   "cell_type": "code",
   "execution_count": 20,
   "metadata": {},
   "outputs": [
    {
     "name": "stdout",
     "output_type": "stream",
     "text": [
      "b'total 10224\\ndrwxr-xr-x 3 khyaathipython khyaathipython    4096 Feb 17 08:48 application\\n-rw-r--r-- 1 khyaathipython khyaathipython     100 Jan 31 07:38 a.py\\n-rw-r--r-- 1 khyaathipython khyaathipython   27185 Feb 23 09:44 Assignments.odt\\n-rw-r--r-- 1 khyaathipython khyaathipython   41979 Jan 31 08:50 conditional statements.ipynb\\n-rw-r--r-- 1 khyaathipython khyaathipython     164 Feb 13 07:41 data1.csv\\n-rw-r--r-- 1 khyaathipython khyaathipython     140 Feb 13 07:47 data2.csv\\n-rw-r--r-- 1 khyaathipython khyaathipython   23371 Feb 17 07:40 database operations.ipynb\\n-rw-r--r-- 1 khyaathipython khyaathipython   19564 Feb 13 09:47 data.csv\\n-rw-r--r-- 1 khyaathipython khyaathipython     204 Feb 13 09:36 data.json\\n-rw-r--r-- 1 khyaathipython khyaathipython   99435 Jan 31 07:23 datatypes.ipynb\\n-rw-r--r-- 1 khyaathipython khyaathipython     165 Feb 13 07:58 data.yaml\\n-rw-r--r-- 1 khyaathipython khyaathipython   24576 Feb 16 08:00 db1.sqlite3\\n-rw-r--r-- 1 khyaathipython khyaathipython    4896 Feb 26 07:33 device interactions.ipynb\\n-rw-r--r-- 1 khyaathipython khyaathipython   36839 Feb  7 09:24 dictionaries.ipynb\\n-rw-r--r-- 1 khyaathipython khyaathipython   57406 Feb 19 07:28 exceptions.ipynb\\n-rw-rw-r-- 1 khyaathipython khyaathipython     201 Feb 19 07:21 except.py\\n-rw-r--r-- 1 khyaathipython khyaathipython   65752 Jan 31 07:23 exection process.jpg\\n-rw-r--r-- 1 khyaathipython khyaathipython     148 Jan 31 07:23 features\\n-rw-r--r-- 1 khyaathipython khyaathipython  495480 Feb 14 08:02 files.ipynb\\n-rw-r--r-- 1 khyaathipython khyaathipython   50304 Feb  2 09:17 functions.ipynb\\n-rw-rw-r-- 1 khyaathipython khyaathipython   20300 Feb  2 09:17 fun_mem1.jpg\\n-rw-rw-r-- 1 khyaathipython khyaathipython   74043 Feb  2 08:34 fun_mem.jpg\\n-rw-r--r-- 1 khyaathipython khyaathipython     116 Jan 31 07:23 inte.py\\n-rw-r--r-- 1 khyaathipython khyaathipython   34053 Jan 31 07:23 int_mem1.jpg\\n-rw-r--r-- 1 khyaathipython khyaathipython   23482 Feb 13 08:06 int_meme1.jpg\\n-rw-r--r-- 1 khyaathipython khyaathipython   23482 Jan 31 07:23 int_mem.jpg\\n-rw-r--r-- 1 khyaathipython khyaathipython    8743 Feb  6 09:58 issues.ipynb\\n-rw-rw-r-- 1 khyaathipython khyaathipython   33560 Feb  6 08:05 list_mem.jpg\\n-rw-r--r-- 1 khyaathipython khyaathipython   49188 Feb  6 07:49 lists.ipynb\\n-rw-r--r-- 1 khyaathipython khyaathipython   31962 Feb  1 09:02 looping statements.ipynb\\n-rw-r--r-- 1 khyaathipython khyaathipython     110 Jan 31 07:23 map_fun.py\\ndrwxr-xr-x 4 khyaathipython khyaathipython    4096 Feb 12 07:45 modules\\n-rw-r--r-- 1 khyaathipython khyaathipython   25261 Jan 31 07:23 modules count.jpg\\n-rw-rw-r-- 1 khyaathipython khyaathipython   28554 Feb 22 08:18 oops2.jpg\\n-rw-r--r-- 1 khyaathipython khyaathipython  106915 Feb 26 07:25 oops.ipynb\\n-rw-rw-r-- 1 khyaathipython khyaathipython   34209 Feb 21 09:00 oops.jpg\\n-rw-rw-r-- 1 khyaathipython khyaathipython     174 Feb 20 07:52 oops.py\\n-rw-r--r-- 1 khyaathipython khyaathipython 8716904 Feb 13 08:09 Practical Python and OpenCV.pdf\\ndrwxr-xr-x 2 khyaathipython khyaathipython    4096 Jan 31 07:23 __pycache__\\n-rw-r--r-- 1 khyaathipython khyaathipython   31590 Feb 19 08:06 regular expressions.ipynb\\n-rw-r--r-- 1 khyaathipython khyaathipython      91 Feb 18 07:57 res.csv\\n-rw-r--r-- 1 khyaathipython khyaathipython      71 Jan 31 07:23 sample.py\\n-rw-r--r-- 1 khyaathipython khyaathipython   10789 Feb  6 08:03 sets.ipynb\\n-rw-r--r-- 1 khyaathipython khyaathipython   39007 Jan 31 07:23 string_mem.jpg\\n-rw-r--r-- 1 khyaathipython khyaathipython   99928 Feb  5 08:42 strings.ipynb\\n-rw-r--r-- 1 khyaathipython khyaathipython     874 Feb  8 07:27 Untitled.ipynb\\n'\n"
     ]
    }
   ],
   "source": [
    "print(data)"
   ]
  },
  {
   "cell_type": "code",
   "execution_count": 21,
   "metadata": {},
   "outputs": [],
   "source": [
    "all_processes = check_output([\"ps\",\"-aux\"])"
   ]
  },
  {
   "cell_type": "code",
   "execution_count": 23,
   "metadata": {},
   "outputs": [
    {
     "name": "stdout",
     "output_type": "stream",
     "text": [
      "b'khyaath+  9689  0.0  1.1 907724 58800 ?        Ssl  04:21   0:01 /snap/sublime-text/44/opt/sublime_text/sublime_text'\n",
      "b'khyaath+  9701  0.0  0.3 128936 20100 ?        Sl   04:21   0:00 /snap/sublime-text/44/opt/sublime_text/plugin_host 9689 --auto-shell-env'\n"
     ]
    }
   ],
   "source": [
    "for process in all_processes.splitlines():\n",
    "    if b\"sublime\" in process:\n",
    "        print(process)"
   ]
  },
  {
   "cell_type": "code",
   "execution_count": 24,
   "metadata": {},
   "outputs": [
    {
     "name": "stdout",
     "output_type": "stream",
     "text": [
      "[b'khyaath+', b'9689', b'0.0', b'1.1', b'907724', b'58800', b'?', b'Ssl', b'04:21', b'0:01', b'/snap/sublime-text/44/opt/sublime_text/sublime_text']\n",
      "[b'khyaath+', b'9701', b'0.0', b'0.3', b'128936', b'20100', b'?', b'Sl', b'04:21', b'0:00', b'/snap/sublime-text/44/opt/sublime_text/plugin_host', b'9689', b'--auto-shell-env']\n"
     ]
    }
   ],
   "source": [
    "for process in all_processes.splitlines():\n",
    "    if b\"sublime\" in process:\n",
    "        print(process.split())"
   ]
  },
  {
   "cell_type": "code",
   "execution_count": 25,
   "metadata": {},
   "outputs": [
    {
     "name": "stdout",
     "output_type": "stream",
     "text": [
      "b'9689'\n"
     ]
    }
   ],
   "source": [
    "for process in all_processes.splitlines():\n",
    "    if b\"sublime\" in process:\n",
    "        sublime_process_id = process.split()[1]\n",
    "        break\n",
    "print(sublime_process_id)"
   ]
  },
  {
   "cell_type": "code",
   "execution_count": 28,
   "metadata": {},
   "outputs": [
    {
     "data": {
      "text/plain": [
       "512"
      ]
     },
     "execution_count": 28,
     "metadata": {},
     "output_type": "execute_result"
    }
   ],
   "source": [
    "for process in all_processes.splitlines():\n",
    "    if b\"sublime\" in process:\n",
    "        sublime_process_id = process.split()[1]\n",
    "        break\n",
    "os.system(\"kill -9 %s\"%sublime_process_id)"
   ]
  },
  {
   "cell_type": "code",
   "execution_count": 29,
   "metadata": {},
   "outputs": [
    {
     "data": {
      "text/plain": [
       "b'9689'"
      ]
     },
     "execution_count": 29,
     "metadata": {},
     "output_type": "execute_result"
    }
   ],
   "source": [
    "sublime_process_id"
   ]
  },
  {
   "cell_type": "code",
   "execution_count": 43,
   "metadata": {},
   "outputs": [
    {
     "name": "stdout",
     "output_type": "stream",
     "text": [
      "kill -9 11261\n"
     ]
    }
   ],
   "source": [
    "all_processes = check_output([\"ps\",\"-aux\"])\n",
    "for process in all_processes.splitlines():\n",
    "    if b\"sublime\" in process:\n",
    "        sublime_process_id = process.split()[1]\n",
    "        break\n",
    "sublime_process_id_s = str(sublime_process_id)\n",
    "pid = sublime_process_id_s[1:].strip(\"'\")\n",
    "cmd= \"kill -9 %s\"%pid\n",
    "print(cmd)"
   ]
  },
  {
   "cell_type": "code",
   "execution_count": 44,
   "metadata": {},
   "outputs": [
    {
     "data": {
      "text/plain": [
       "0"
      ]
     },
     "execution_count": 44,
     "metadata": {},
     "output_type": "execute_result"
    }
   ],
   "source": []
  },
  {
   "cell_type": "code",
   "execution_count": 45,
   "metadata": {},
   "outputs": [
    {
     "data": {
      "text/plain": [
       "0"
      ]
     },
     "execution_count": 45,
     "metadata": {},
     "output_type": "execute_result"
    }
   ],
   "source": [
    "all_processes = check_output([\"ps\",\"-aux\"])\n",
    "for process in all_processes.splitlines():\n",
    "    if b\"sublime\" in process:\n",
    "        sublime_process_id = process.split()[1]\n",
    "        break\n",
    "sublime_process_id_s = str(sublime_process_id)\n",
    "pid = sublime_process_id_s[1:].strip(\"'\")\n",
    "cmd= \"kill -9 %s\"%pid\n",
    "os.system(cmd)"
   ]
  },
  {
   "cell_type": "code",
   "execution_count": 4,
   "metadata": {},
   "outputs": [],
   "source": [
    "username=\"gs9783@gmail.com\"\n",
    "password=\"samba1234\"\n",
    "from github import Github\n",
    "git = Github(username,password)"
   ]
  },
  {
   "cell_type": "code",
   "execution_count": 5,
   "metadata": {},
   "outputs": [
    {
     "data": {
      "text/plain": [
       "<github.MainClass.Github at 0x7f7351013898>"
      ]
     },
     "execution_count": 5,
     "metadata": {},
     "output_type": "execute_result"
    }
   ],
   "source": [
    "git"
   ]
  },
  {
   "cell_type": "code",
   "execution_count": 6,
   "metadata": {},
   "outputs": [
    {
     "name": "stdout",
     "output_type": "stream",
     "text": [
      "['FIX_REPO_GET_GIT_REF', '_Github__get_FIX_REPO_GET_GIT_REF', '_Github__get_per_page', '_Github__requester', '_Github__set_FIX_REPO_GET_GIT_REF', '_Github__set_per_page', '__class__', '__delattr__', '__dict__', '__dir__', '__doc__', '__eq__', '__format__', '__ge__', '__getattribute__', '__gt__', '__hash__', '__init__', '__init_subclass__', '__le__', '__lt__', '__module__', '__ne__', '__new__', '__reduce__', '__reduce_ex__', '__repr__', '__setattr__', '__sizeof__', '__str__', '__subclasshook__', '__weakref__', 'create_from_raw_data', 'dump', 'get_api_status', 'get_api_status_messages', 'get_emojis', 'get_gist', 'get_gists', 'get_gitignore_template', 'get_gitignore_templates', 'get_hook', 'get_hooks', 'get_installation', 'get_last_api_status_message', 'get_license', 'get_licenses', 'get_organization', 'get_organizations', 'get_project', 'get_rate_limit', 'get_repo', 'get_repos', 'get_user', 'get_users', 'load', 'oauth_scopes', 'per_page', 'rate_limiting', 'rate_limiting_resettime', 'render_markdown', 'search_code', 'search_commits', 'search_issues', 'search_repositories', 'search_topics', 'search_users']\n"
     ]
    }
   ],
   "source": [
    "print(dir(git))"
   ]
  },
  {
   "cell_type": "code",
   "execution_count": 7,
   "metadata": {},
   "outputs": [],
   "source": [
    "user=git.get_user()"
   ]
  },
  {
   "cell_type": "code",
   "execution_count": 8,
   "metadata": {},
   "outputs": [
    {
     "data": {
      "text/plain": [
       "AuthenticatedUser(login=None)"
      ]
     },
     "execution_count": 8,
     "metadata": {},
     "output_type": "execute_result"
    }
   ],
   "source": [
    "user"
   ]
  },
  {
   "cell_type": "code",
   "execution_count": 9,
   "metadata": {},
   "outputs": [
    {
     "name": "stdout",
     "output_type": "stream",
     "text": [
      "['CHECK_AFTER_INIT_FLAG', '_CompletableGithubObject__complete', '_CompletableGithubObject__completed', '_GithubObject__makeSimpleAttribute', '_GithubObject__makeSimpleListAttribute', '_GithubObject__makeTransformedAttribute', '__class__', '__delattr__', '__dict__', '__dir__', '__doc__', '__eq__', '__format__', '__ge__', '__getattribute__', '__gt__', '__hash__', '__init__', '__init_subclass__', '__le__', '__lt__', '__module__', '__ne__', '__new__', '__reduce__', '__reduce_ex__', '__repr__', '__setattr__', '__sizeof__', '__str__', '__subclasshook__', '__weakref__', '_avatar_url', '_bio', '_blog', '_collaborators', '_company', '_completeIfNeeded', '_completeIfNotSet', '_created_at', '_disk_usage', '_email', '_events_url', '_followers', '_followers_url', '_following', '_following_url', '_gists_url', '_gravatar_id', '_headers', '_hireable', '_html_url', '_id', '_initAttributes', '_location', '_login', '_makeBoolAttribute', '_makeClassAttribute', '_makeDatetimeAttribute', '_makeDictAttribute', '_makeDictOfStringsToClassesAttribute', '_makeIntAttribute', '_makeListOfClassesAttribute', '_makeListOfDictsAttribute', '_makeListOfIntsAttribute', '_makeListOfListOfStringsAttribute', '_makeListOfStringsAttribute', '_makeStringAttribute', '_makeTimestampAttribute', '_name', '_organizations_url', '_owned_private_repos', '_parentUrl', '_plan', '_private_gists', '_public_gists', '_public_repos', '_rawData', '_received_events_url', '_repos_url', '_requester', '_site_admin', '_starred_url', '_storeAndUseAttributes', '_subscriptions_url', '_total_private_repos', '_type', '_updated_at', '_url', '_useAttributes', 'accept_invitation', 'add_to_emails', 'add_to_following', 'add_to_starred', 'add_to_subscriptions', 'add_to_watched', 'avatar_url', 'bio', 'blog', 'collaborators', 'company', 'create_authorization', 'create_fork', 'create_gist', 'create_key', 'create_migration', 'create_repo', 'created_at', 'disk_usage', 'edit', 'email', 'etag', 'events_url', 'followers', 'followers_url', 'following', 'following_url', 'get__repr__', 'get_authorization', 'get_authorizations', 'get_emails', 'get_events', 'get_followers', 'get_following', 'get_gists', 'get_issues', 'get_key', 'get_keys', 'get_migrations', 'get_notification', 'get_notifications', 'get_organization_events', 'get_orgs', 'get_repo', 'get_repos', 'get_starred', 'get_starred_gists', 'get_subscriptions', 'get_teams', 'get_user_issues', 'get_watched', 'gists_url', 'gravatar_id', 'has_in_following', 'has_in_starred', 'has_in_subscriptions', 'has_in_watched', 'hireable', 'html_url', 'id', 'last_modified', 'location', 'login', 'mark_notifications_as_read', 'name', 'organizations_url', 'owned_private_repos', 'plan', 'private_gists', 'public_gists', 'public_repos', 'raw_data', 'raw_headers', 'received_events_url', 'remove_from_emails', 'remove_from_following', 'remove_from_starred', 'remove_from_subscriptions', 'remove_from_watched', 'repos_url', 'setCheckAfterInitFlag', 'site_admin', 'starred_url', 'subscriptions_url', 'total_private_repos', 'type', 'update', 'updated_at', 'url']\n"
     ]
    }
   ],
   "source": [
    "print(dir(user))"
   ]
  },
  {
   "cell_type": "code",
   "execution_count": 11,
   "metadata": {},
   "outputs": [
    {
     "data": {
      "text/plain": [
       "Repository(full_name=\"uday1834/repo1\")"
      ]
     },
     "execution_count": 11,
     "metadata": {},
     "output_type": "execute_result"
    }
   ],
   "source": [
    "user.create_repo(\"repo1\")"
   ]
  },
  {
   "cell_type": "code",
   "execution_count": 12,
   "metadata": {},
   "outputs": [
    {
     "name": "stdout",
     "output_type": "stream",
     "text": [
      "Repository(full_name=\"khyaathi/repo1\")\n",
      "Repository(full_name=\"khyaathi/repo2\")\n",
      "Repository(full_name=\"uday1834/repo1\")\n"
     ]
    }
   ],
   "source": [
    "for repo in user.get_repos():\n",
    "    print(repo)"
   ]
  },
  {
   "cell_type": "code",
   "execution_count": 13,
   "metadata": {},
   "outputs": [
    {
     "data": {
      "text/plain": [
       "Repository(full_name=\"uday1834/repo1\")"
      ]
     },
     "execution_count": 13,
     "metadata": {},
     "output_type": "execute_result"
    }
   ],
   "source": [
    "repo"
   ]
  },
  {
   "cell_type": "code",
   "execution_count": 16,
   "metadata": {},
   "outputs": [
    {
     "data": {
      "text/plain": [
       "{'content': ContentFile(path=\"readme.md\"),\n",
       " 'commit': Commit(sha=\"0ac49dc6354da65cb46e3f9184b7c3ee3ae81a28\")}"
      ]
     },
     "execution_count": 16,
     "metadata": {},
     "output_type": "execute_result"
    }
   ],
   "source": [
    "repo.create_file(\"readme.md\",\"added readme file\",\"this project is to explain how to automate git\")"
   ]
  },
  {
   "cell_type": "code",
   "execution_count": 19,
   "metadata": {},
   "outputs": [],
   "source": [
    "repo.delete()"
   ]
  },
  {
   "cell_type": "code",
   "execution_count": 20,
   "metadata": {},
   "outputs": [],
   "source": [
    "for repo in user.get_repos():\n",
    "    repo.delete()"
   ]
  },
  {
   "cell_type": "code",
   "execution_count": 31,
   "metadata": {},
   "outputs": [],
   "source": [
    "import requests\n",
    "resp = requests.get(\"https://api.github.com/user/repos\",auth=(username,password))"
   ]
  },
  {
   "cell_type": "code",
   "execution_count": 32,
   "metadata": {},
   "outputs": [
    {
     "data": {
      "text/plain": [
       "<Response [200]>"
      ]
     },
     "execution_count": 32,
     "metadata": {},
     "output_type": "execute_result"
    }
   ],
   "source": [
    "resp"
   ]
  },
  {
   "cell_type": "code",
   "execution_count": 33,
   "metadata": {},
   "outputs": [
    {
     "data": {
      "text/plain": [
       "[{'id': 172826453,\n",
       "  'node_id': 'MDEwOlJlcG9zaXRvcnkxNzI4MjY0NTM=',\n",
       "  'name': 'repo1',\n",
       "  'full_name': 'uday1834/repo1',\n",
       "  'private': False,\n",
       "  'owner': {'login': 'uday1834',\n",
       "   'id': 10896917,\n",
       "   'node_id': 'MDQ6VXNlcjEwODk2OTE3',\n",
       "   'avatar_url': 'https://avatars1.githubusercontent.com/u/10896917?v=4',\n",
       "   'gravatar_id': '',\n",
       "   'url': 'https://api.github.com/users/uday1834',\n",
       "   'html_url': 'https://github.com/uday1834',\n",
       "   'followers_url': 'https://api.github.com/users/uday1834/followers',\n",
       "   'following_url': 'https://api.github.com/users/uday1834/following{/other_user}',\n",
       "   'gists_url': 'https://api.github.com/users/uday1834/gists{/gist_id}',\n",
       "   'starred_url': 'https://api.github.com/users/uday1834/starred{/owner}{/repo}',\n",
       "   'subscriptions_url': 'https://api.github.com/users/uday1834/subscriptions',\n",
       "   'organizations_url': 'https://api.github.com/users/uday1834/orgs',\n",
       "   'repos_url': 'https://api.github.com/users/uday1834/repos',\n",
       "   'events_url': 'https://api.github.com/users/uday1834/events{/privacy}',\n",
       "   'received_events_url': 'https://api.github.com/users/uday1834/received_events',\n",
       "   'type': 'User',\n",
       "   'site_admin': False},\n",
       "  'html_url': 'https://github.com/uday1834/repo1',\n",
       "  'description': None,\n",
       "  'fork': False,\n",
       "  'url': 'https://api.github.com/repos/uday1834/repo1',\n",
       "  'forks_url': 'https://api.github.com/repos/uday1834/repo1/forks',\n",
       "  'keys_url': 'https://api.github.com/repos/uday1834/repo1/keys{/key_id}',\n",
       "  'collaborators_url': 'https://api.github.com/repos/uday1834/repo1/collaborators{/collaborator}',\n",
       "  'teams_url': 'https://api.github.com/repos/uday1834/repo1/teams',\n",
       "  'hooks_url': 'https://api.github.com/repos/uday1834/repo1/hooks',\n",
       "  'issue_events_url': 'https://api.github.com/repos/uday1834/repo1/issues/events{/number}',\n",
       "  'events_url': 'https://api.github.com/repos/uday1834/repo1/events',\n",
       "  'assignees_url': 'https://api.github.com/repos/uday1834/repo1/assignees{/user}',\n",
       "  'branches_url': 'https://api.github.com/repos/uday1834/repo1/branches{/branch}',\n",
       "  'tags_url': 'https://api.github.com/repos/uday1834/repo1/tags',\n",
       "  'blobs_url': 'https://api.github.com/repos/uday1834/repo1/git/blobs{/sha}',\n",
       "  'git_tags_url': 'https://api.github.com/repos/uday1834/repo1/git/tags{/sha}',\n",
       "  'git_refs_url': 'https://api.github.com/repos/uday1834/repo1/git/refs{/sha}',\n",
       "  'trees_url': 'https://api.github.com/repos/uday1834/repo1/git/trees{/sha}',\n",
       "  'statuses_url': 'https://api.github.com/repos/uday1834/repo1/statuses/{sha}',\n",
       "  'languages_url': 'https://api.github.com/repos/uday1834/repo1/languages',\n",
       "  'stargazers_url': 'https://api.github.com/repos/uday1834/repo1/stargazers',\n",
       "  'contributors_url': 'https://api.github.com/repos/uday1834/repo1/contributors',\n",
       "  'subscribers_url': 'https://api.github.com/repos/uday1834/repo1/subscribers',\n",
       "  'subscription_url': 'https://api.github.com/repos/uday1834/repo1/subscription',\n",
       "  'commits_url': 'https://api.github.com/repos/uday1834/repo1/commits{/sha}',\n",
       "  'git_commits_url': 'https://api.github.com/repos/uday1834/repo1/git/commits{/sha}',\n",
       "  'comments_url': 'https://api.github.com/repos/uday1834/repo1/comments{/number}',\n",
       "  'issue_comment_url': 'https://api.github.com/repos/uday1834/repo1/issues/comments{/number}',\n",
       "  'contents_url': 'https://api.github.com/repos/uday1834/repo1/contents/{+path}',\n",
       "  'compare_url': 'https://api.github.com/repos/uday1834/repo1/compare/{base}...{head}',\n",
       "  'merges_url': 'https://api.github.com/repos/uday1834/repo1/merges',\n",
       "  'archive_url': 'https://api.github.com/repos/uday1834/repo1/{archive_format}{/ref}',\n",
       "  'downloads_url': 'https://api.github.com/repos/uday1834/repo1/downloads',\n",
       "  'issues_url': 'https://api.github.com/repos/uday1834/repo1/issues{/number}',\n",
       "  'pulls_url': 'https://api.github.com/repos/uday1834/repo1/pulls{/number}',\n",
       "  'milestones_url': 'https://api.github.com/repos/uday1834/repo1/milestones{/number}',\n",
       "  'notifications_url': 'https://api.github.com/repos/uday1834/repo1/notifications{?since,all,participating}',\n",
       "  'labels_url': 'https://api.github.com/repos/uday1834/repo1/labels{/name}',\n",
       "  'releases_url': 'https://api.github.com/repos/uday1834/repo1/releases{/id}',\n",
       "  'deployments_url': 'https://api.github.com/repos/uday1834/repo1/deployments',\n",
       "  'created_at': '2019-02-27T02:19:45Z',\n",
       "  'updated_at': '2019-02-27T02:19:45Z',\n",
       "  'pushed_at': '2019-02-27T02:19:46Z',\n",
       "  'git_url': 'git://github.com/uday1834/repo1.git',\n",
       "  'ssh_url': 'git@github.com:uday1834/repo1.git',\n",
       "  'clone_url': 'https://github.com/uday1834/repo1.git',\n",
       "  'svn_url': 'https://github.com/uday1834/repo1',\n",
       "  'homepage': None,\n",
       "  'size': 0,\n",
       "  'stargazers_count': 0,\n",
       "  'watchers_count': 0,\n",
       "  'language': None,\n",
       "  'has_issues': True,\n",
       "  'has_projects': True,\n",
       "  'has_downloads': True,\n",
       "  'has_wiki': True,\n",
       "  'has_pages': False,\n",
       "  'forks_count': 0,\n",
       "  'mirror_url': None,\n",
       "  'archived': False,\n",
       "  'open_issues_count': 0,\n",
       "  'license': None,\n",
       "  'forks': 0,\n",
       "  'open_issues': 0,\n",
       "  'watchers': 0,\n",
       "  'default_branch': 'master',\n",
       "  'permissions': {'admin': True, 'push': True, 'pull': True}}]"
      ]
     },
     "execution_count": 33,
     "metadata": {},
     "output_type": "execute_result"
    }
   ],
   "source": [
    "resp.json()"
   ]
  },
  {
   "cell_type": "code",
   "execution_count": 34,
   "metadata": {},
   "outputs": [],
   "source": [
    "import requests\n",
    "resp = requests.post(\"https://api.github.com/user/repos\",json={\"name\":\"REPO2\"},auth=(username,password))"
   ]
  },
  {
   "cell_type": "code",
   "execution_count": 35,
   "metadata": {},
   "outputs": [
    {
     "data": {
      "text/plain": [
       "<Response [201]>"
      ]
     },
     "execution_count": 35,
     "metadata": {},
     "output_type": "execute_result"
    }
   ],
   "source": [
    "resp"
   ]
  },
  {
   "cell_type": "code",
   "execution_count": 37,
   "metadata": {},
   "outputs": [],
   "source": [
    "resp = requests.get(\"https://api.github.com/user/repos\",params={\"name\":\"REPO2\"},auth=(username,password))"
   ]
  },
  {
   "cell_type": "code",
   "execution_count": 38,
   "metadata": {},
   "outputs": [
    {
     "data": {
      "text/plain": [
       "<Response [200]>"
      ]
     },
     "execution_count": 38,
     "metadata": {},
     "output_type": "execute_result"
    }
   ],
   "source": [
    "resp"
   ]
  },
  {
   "cell_type": "code",
   "execution_count": 39,
   "metadata": {},
   "outputs": [
    {
     "data": {
      "text/plain": [
       "[{'id': 172826453,\n",
       "  'node_id': 'MDEwOlJlcG9zaXRvcnkxNzI4MjY0NTM=',\n",
       "  'name': 'repo1',\n",
       "  'full_name': 'uday1834/repo1',\n",
       "  'private': False,\n",
       "  'owner': {'login': 'uday1834',\n",
       "   'id': 10896917,\n",
       "   'node_id': 'MDQ6VXNlcjEwODk2OTE3',\n",
       "   'avatar_url': 'https://avatars1.githubusercontent.com/u/10896917?v=4',\n",
       "   'gravatar_id': '',\n",
       "   'url': 'https://api.github.com/users/uday1834',\n",
       "   'html_url': 'https://github.com/uday1834',\n",
       "   'followers_url': 'https://api.github.com/users/uday1834/followers',\n",
       "   'following_url': 'https://api.github.com/users/uday1834/following{/other_user}',\n",
       "   'gists_url': 'https://api.github.com/users/uday1834/gists{/gist_id}',\n",
       "   'starred_url': 'https://api.github.com/users/uday1834/starred{/owner}{/repo}',\n",
       "   'subscriptions_url': 'https://api.github.com/users/uday1834/subscriptions',\n",
       "   'organizations_url': 'https://api.github.com/users/uday1834/orgs',\n",
       "   'repos_url': 'https://api.github.com/users/uday1834/repos',\n",
       "   'events_url': 'https://api.github.com/users/uday1834/events{/privacy}',\n",
       "   'received_events_url': 'https://api.github.com/users/uday1834/received_events',\n",
       "   'type': 'User',\n",
       "   'site_admin': False},\n",
       "  'html_url': 'https://github.com/uday1834/repo1',\n",
       "  'description': None,\n",
       "  'fork': False,\n",
       "  'url': 'https://api.github.com/repos/uday1834/repo1',\n",
       "  'forks_url': 'https://api.github.com/repos/uday1834/repo1/forks',\n",
       "  'keys_url': 'https://api.github.com/repos/uday1834/repo1/keys{/key_id}',\n",
       "  'collaborators_url': 'https://api.github.com/repos/uday1834/repo1/collaborators{/collaborator}',\n",
       "  'teams_url': 'https://api.github.com/repos/uday1834/repo1/teams',\n",
       "  'hooks_url': 'https://api.github.com/repos/uday1834/repo1/hooks',\n",
       "  'issue_events_url': 'https://api.github.com/repos/uday1834/repo1/issues/events{/number}',\n",
       "  'events_url': 'https://api.github.com/repos/uday1834/repo1/events',\n",
       "  'assignees_url': 'https://api.github.com/repos/uday1834/repo1/assignees{/user}',\n",
       "  'branches_url': 'https://api.github.com/repos/uday1834/repo1/branches{/branch}',\n",
       "  'tags_url': 'https://api.github.com/repos/uday1834/repo1/tags',\n",
       "  'blobs_url': 'https://api.github.com/repos/uday1834/repo1/git/blobs{/sha}',\n",
       "  'git_tags_url': 'https://api.github.com/repos/uday1834/repo1/git/tags{/sha}',\n",
       "  'git_refs_url': 'https://api.github.com/repos/uday1834/repo1/git/refs{/sha}',\n",
       "  'trees_url': 'https://api.github.com/repos/uday1834/repo1/git/trees{/sha}',\n",
       "  'statuses_url': 'https://api.github.com/repos/uday1834/repo1/statuses/{sha}',\n",
       "  'languages_url': 'https://api.github.com/repos/uday1834/repo1/languages',\n",
       "  'stargazers_url': 'https://api.github.com/repos/uday1834/repo1/stargazers',\n",
       "  'contributors_url': 'https://api.github.com/repos/uday1834/repo1/contributors',\n",
       "  'subscribers_url': 'https://api.github.com/repos/uday1834/repo1/subscribers',\n",
       "  'subscription_url': 'https://api.github.com/repos/uday1834/repo1/subscription',\n",
       "  'commits_url': 'https://api.github.com/repos/uday1834/repo1/commits{/sha}',\n",
       "  'git_commits_url': 'https://api.github.com/repos/uday1834/repo1/git/commits{/sha}',\n",
       "  'comments_url': 'https://api.github.com/repos/uday1834/repo1/comments{/number}',\n",
       "  'issue_comment_url': 'https://api.github.com/repos/uday1834/repo1/issues/comments{/number}',\n",
       "  'contents_url': 'https://api.github.com/repos/uday1834/repo1/contents/{+path}',\n",
       "  'compare_url': 'https://api.github.com/repos/uday1834/repo1/compare/{base}...{head}',\n",
       "  'merges_url': 'https://api.github.com/repos/uday1834/repo1/merges',\n",
       "  'archive_url': 'https://api.github.com/repos/uday1834/repo1/{archive_format}{/ref}',\n",
       "  'downloads_url': 'https://api.github.com/repos/uday1834/repo1/downloads',\n",
       "  'issues_url': 'https://api.github.com/repos/uday1834/repo1/issues{/number}',\n",
       "  'pulls_url': 'https://api.github.com/repos/uday1834/repo1/pulls{/number}',\n",
       "  'milestones_url': 'https://api.github.com/repos/uday1834/repo1/milestones{/number}',\n",
       "  'notifications_url': 'https://api.github.com/repos/uday1834/repo1/notifications{?since,all,participating}',\n",
       "  'labels_url': 'https://api.github.com/repos/uday1834/repo1/labels{/name}',\n",
       "  'releases_url': 'https://api.github.com/repos/uday1834/repo1/releases{/id}',\n",
       "  'deployments_url': 'https://api.github.com/repos/uday1834/repo1/deployments',\n",
       "  'created_at': '2019-02-27T02:19:45Z',\n",
       "  'updated_at': '2019-02-27T02:19:45Z',\n",
       "  'pushed_at': '2019-02-27T02:19:46Z',\n",
       "  'git_url': 'git://github.com/uday1834/repo1.git',\n",
       "  'ssh_url': 'git@github.com:uday1834/repo1.git',\n",
       "  'clone_url': 'https://github.com/uday1834/repo1.git',\n",
       "  'svn_url': 'https://github.com/uday1834/repo1',\n",
       "  'homepage': None,\n",
       "  'size': 0,\n",
       "  'stargazers_count': 0,\n",
       "  'watchers_count': 0,\n",
       "  'language': None,\n",
       "  'has_issues': True,\n",
       "  'has_projects': True,\n",
       "  'has_downloads': True,\n",
       "  'has_wiki': True,\n",
       "  'has_pages': False,\n",
       "  'forks_count': 0,\n",
       "  'mirror_url': None,\n",
       "  'archived': False,\n",
       "  'open_issues_count': 0,\n",
       "  'license': None,\n",
       "  'forks': 0,\n",
       "  'open_issues': 0,\n",
       "  'watchers': 0,\n",
       "  'default_branch': 'master',\n",
       "  'permissions': {'admin': True, 'push': True, 'pull': True}},\n",
       " {'id': 172827005,\n",
       "  'node_id': 'MDEwOlJlcG9zaXRvcnkxNzI4MjcwMDU=',\n",
       "  'name': 'REPO2',\n",
       "  'full_name': 'uday1834/REPO2',\n",
       "  'private': False,\n",
       "  'owner': {'login': 'uday1834',\n",
       "   'id': 10896917,\n",
       "   'node_id': 'MDQ6VXNlcjEwODk2OTE3',\n",
       "   'avatar_url': 'https://avatars1.githubusercontent.com/u/10896917?v=4',\n",
       "   'gravatar_id': '',\n",
       "   'url': 'https://api.github.com/users/uday1834',\n",
       "   'html_url': 'https://github.com/uday1834',\n",
       "   'followers_url': 'https://api.github.com/users/uday1834/followers',\n",
       "   'following_url': 'https://api.github.com/users/uday1834/following{/other_user}',\n",
       "   'gists_url': 'https://api.github.com/users/uday1834/gists{/gist_id}',\n",
       "   'starred_url': 'https://api.github.com/users/uday1834/starred{/owner}{/repo}',\n",
       "   'subscriptions_url': 'https://api.github.com/users/uday1834/subscriptions',\n",
       "   'organizations_url': 'https://api.github.com/users/uday1834/orgs',\n",
       "   'repos_url': 'https://api.github.com/users/uday1834/repos',\n",
       "   'events_url': 'https://api.github.com/users/uday1834/events{/privacy}',\n",
       "   'received_events_url': 'https://api.github.com/users/uday1834/received_events',\n",
       "   'type': 'User',\n",
       "   'site_admin': False},\n",
       "  'html_url': 'https://github.com/uday1834/REPO2',\n",
       "  'description': None,\n",
       "  'fork': False,\n",
       "  'url': 'https://api.github.com/repos/uday1834/REPO2',\n",
       "  'forks_url': 'https://api.github.com/repos/uday1834/REPO2/forks',\n",
       "  'keys_url': 'https://api.github.com/repos/uday1834/REPO2/keys{/key_id}',\n",
       "  'collaborators_url': 'https://api.github.com/repos/uday1834/REPO2/collaborators{/collaborator}',\n",
       "  'teams_url': 'https://api.github.com/repos/uday1834/REPO2/teams',\n",
       "  'hooks_url': 'https://api.github.com/repos/uday1834/REPO2/hooks',\n",
       "  'issue_events_url': 'https://api.github.com/repos/uday1834/REPO2/issues/events{/number}',\n",
       "  'events_url': 'https://api.github.com/repos/uday1834/REPO2/events',\n",
       "  'assignees_url': 'https://api.github.com/repos/uday1834/REPO2/assignees{/user}',\n",
       "  'branches_url': 'https://api.github.com/repos/uday1834/REPO2/branches{/branch}',\n",
       "  'tags_url': 'https://api.github.com/repos/uday1834/REPO2/tags',\n",
       "  'blobs_url': 'https://api.github.com/repos/uday1834/REPO2/git/blobs{/sha}',\n",
       "  'git_tags_url': 'https://api.github.com/repos/uday1834/REPO2/git/tags{/sha}',\n",
       "  'git_refs_url': 'https://api.github.com/repos/uday1834/REPO2/git/refs{/sha}',\n",
       "  'trees_url': 'https://api.github.com/repos/uday1834/REPO2/git/trees{/sha}',\n",
       "  'statuses_url': 'https://api.github.com/repos/uday1834/REPO2/statuses/{sha}',\n",
       "  'languages_url': 'https://api.github.com/repos/uday1834/REPO2/languages',\n",
       "  'stargazers_url': 'https://api.github.com/repos/uday1834/REPO2/stargazers',\n",
       "  'contributors_url': 'https://api.github.com/repos/uday1834/REPO2/contributors',\n",
       "  'subscribers_url': 'https://api.github.com/repos/uday1834/REPO2/subscribers',\n",
       "  'subscription_url': 'https://api.github.com/repos/uday1834/REPO2/subscription',\n",
       "  'commits_url': 'https://api.github.com/repos/uday1834/REPO2/commits{/sha}',\n",
       "  'git_commits_url': 'https://api.github.com/repos/uday1834/REPO2/git/commits{/sha}',\n",
       "  'comments_url': 'https://api.github.com/repos/uday1834/REPO2/comments{/number}',\n",
       "  'issue_comment_url': 'https://api.github.com/repos/uday1834/REPO2/issues/comments{/number}',\n",
       "  'contents_url': 'https://api.github.com/repos/uday1834/REPO2/contents/{+path}',\n",
       "  'compare_url': 'https://api.github.com/repos/uday1834/REPO2/compare/{base}...{head}',\n",
       "  'merges_url': 'https://api.github.com/repos/uday1834/REPO2/merges',\n",
       "  'archive_url': 'https://api.github.com/repos/uday1834/REPO2/{archive_format}{/ref}',\n",
       "  'downloads_url': 'https://api.github.com/repos/uday1834/REPO2/downloads',\n",
       "  'issues_url': 'https://api.github.com/repos/uday1834/REPO2/issues{/number}',\n",
       "  'pulls_url': 'https://api.github.com/repos/uday1834/REPO2/pulls{/number}',\n",
       "  'milestones_url': 'https://api.github.com/repos/uday1834/REPO2/milestones{/number}',\n",
       "  'notifications_url': 'https://api.github.com/repos/uday1834/REPO2/notifications{?since,all,participating}',\n",
       "  'labels_url': 'https://api.github.com/repos/uday1834/REPO2/labels{/name}',\n",
       "  'releases_url': 'https://api.github.com/repos/uday1834/REPO2/releases{/id}',\n",
       "  'deployments_url': 'https://api.github.com/repos/uday1834/REPO2/deployments',\n",
       "  'created_at': '2019-02-27T02:23:43Z',\n",
       "  'updated_at': '2019-02-27T02:23:43Z',\n",
       "  'pushed_at': '2019-02-27T02:23:44Z',\n",
       "  'git_url': 'git://github.com/uday1834/REPO2.git',\n",
       "  'ssh_url': 'git@github.com:uday1834/REPO2.git',\n",
       "  'clone_url': 'https://github.com/uday1834/REPO2.git',\n",
       "  'svn_url': 'https://github.com/uday1834/REPO2',\n",
       "  'homepage': None,\n",
       "  'size': 0,\n",
       "  'stargazers_count': 0,\n",
       "  'watchers_count': 0,\n",
       "  'language': None,\n",
       "  'has_issues': True,\n",
       "  'has_projects': True,\n",
       "  'has_downloads': True,\n",
       "  'has_wiki': True,\n",
       "  'has_pages': False,\n",
       "  'forks_count': 0,\n",
       "  'mirror_url': None,\n",
       "  'archived': False,\n",
       "  'open_issues_count': 0,\n",
       "  'license': None,\n",
       "  'forks': 0,\n",
       "  'open_issues': 0,\n",
       "  'watchers': 0,\n",
       "  'default_branch': 'master',\n",
       "  'permissions': {'admin': True, 'push': True, 'pull': True}}]"
      ]
     },
     "execution_count": 39,
     "metadata": {},
     "output_type": "execute_result"
    }
   ],
   "source": [
    "resp.json()"
   ]
  },
  {
   "cell_type": "code",
   "execution_count": 40,
   "metadata": {},
   "outputs": [],
   "source": [
    "resp = requests.get(\"https://api.github.com/user/repos/172827005\",auth=(username,password))"
   ]
  },
  {
   "cell_type": "code",
   "execution_count": 41,
   "metadata": {},
   "outputs": [
    {
     "data": {
      "text/plain": [
       "<Response [404]>"
      ]
     },
     "execution_count": 41,
     "metadata": {},
     "output_type": "execute_result"
    }
   ],
   "source": [
    "resp"
   ]
  },
  {
   "cell_type": "code",
   "execution_count": 42,
   "metadata": {},
   "outputs": [],
   "source": [
    "resp = requests.delete(\"https://api.github.com/repos/172827005\",auth=(username,password))"
   ]
  },
  {
   "cell_type": "code",
   "execution_count": 43,
   "metadata": {},
   "outputs": [
    {
     "data": {
      "text/plain": [
       "<Response [404]>"
      ]
     },
     "execution_count": 43,
     "metadata": {},
     "output_type": "execute_result"
    }
   ],
   "source": [
    "resp"
   ]
  },
  {
   "cell_type": "code",
   "execution_count": 44,
   "metadata": {},
   "outputs": [],
   "source": [
    "#https://github.com/sambapython/batch53/blob/master/remote%20devices%20interaction.ipynb"
   ]
  },
  {
   "cell_type": "code",
   "execution_count": 45,
   "metadata": {},
   "outputs": [
    {
     "name": "stdout",
     "output_type": "stream",
     "text": [
      "<Response [200]>\n"
     ]
    }
   ],
   "source": [
    "resp = requests.get(\"https://www.wikipedia.org/\")\n",
    "print(resp)"
   ]
  },
  {
   "cell_type": "code",
   "execution_count": 47,
   "metadata": {},
   "outputs": [
    {
     "ename": "TypeError",
     "evalue": "__init__() got an unexpected keyword argument 'encode'",
     "output_type": "error",
     "traceback": [
      "\u001b[0;31m---------------------------------------------------------------------------\u001b[0m",
      "\u001b[0;31mTypeError\u001b[0m                                 Traceback (most recent call last)",
      "\u001b[0;32m<ipython-input-47-f7c659175492>\u001b[0m in \u001b[0;36m<module>\u001b[0;34m()\u001b[0m\n\u001b[0;32m----> 1\u001b[0;31m \u001b[0mresp\u001b[0m\u001b[0;34m.\u001b[0m\u001b[0mjson\u001b[0m\u001b[0;34m(\u001b[0m\u001b[0mencode\u001b[0m\u001b[0;34m=\u001b[0m\u001b[0;34m\"utf-8\"\u001b[0m\u001b[0;34m)\u001b[0m\u001b[0;34m\u001b[0m\u001b[0m\n\u001b[0m",
      "\u001b[0;32m~/anaconda3/lib/python3.7/site-packages/requests/models.py\u001b[0m in \u001b[0;36mjson\u001b[0;34m(self, **kwargs)\u001b[0m\n\u001b[1;32m    894\u001b[0m                     \u001b[0;31m# used.\u001b[0m\u001b[0;34m\u001b[0m\u001b[0;34m\u001b[0m\u001b[0m\n\u001b[1;32m    895\u001b[0m                     \u001b[0;32mpass\u001b[0m\u001b[0;34m\u001b[0m\u001b[0m\n\u001b[0;32m--> 896\u001b[0;31m         \u001b[0;32mreturn\u001b[0m \u001b[0mcomplexjson\u001b[0m\u001b[0;34m.\u001b[0m\u001b[0mloads\u001b[0m\u001b[0;34m(\u001b[0m\u001b[0mself\u001b[0m\u001b[0;34m.\u001b[0m\u001b[0mtext\u001b[0m\u001b[0;34m,\u001b[0m \u001b[0;34m**\u001b[0m\u001b[0mkwargs\u001b[0m\u001b[0;34m)\u001b[0m\u001b[0;34m\u001b[0m\u001b[0m\n\u001b[0m\u001b[1;32m    897\u001b[0m \u001b[0;34m\u001b[0m\u001b[0m\n\u001b[1;32m    898\u001b[0m     \u001b[0;34m@\u001b[0m\u001b[0mproperty\u001b[0m\u001b[0;34m\u001b[0m\u001b[0m\n",
      "\u001b[0;32m~/anaconda3/lib/python3.7/json/__init__.py\u001b[0m in \u001b[0;36mloads\u001b[0;34m(s, encoding, cls, object_hook, parse_float, parse_int, parse_constant, object_pairs_hook, **kw)\u001b[0m\n\u001b[1;32m    359\u001b[0m     \u001b[0;32mif\u001b[0m \u001b[0mparse_constant\u001b[0m \u001b[0;32mis\u001b[0m \u001b[0;32mnot\u001b[0m \u001b[0;32mNone\u001b[0m\u001b[0;34m:\u001b[0m\u001b[0;34m\u001b[0m\u001b[0m\n\u001b[1;32m    360\u001b[0m         \u001b[0mkw\u001b[0m\u001b[0;34m[\u001b[0m\u001b[0;34m'parse_constant'\u001b[0m\u001b[0;34m]\u001b[0m \u001b[0;34m=\u001b[0m \u001b[0mparse_constant\u001b[0m\u001b[0;34m\u001b[0m\u001b[0m\n\u001b[0;32m--> 361\u001b[0;31m     \u001b[0;32mreturn\u001b[0m \u001b[0mcls\u001b[0m\u001b[0;34m(\u001b[0m\u001b[0;34m**\u001b[0m\u001b[0mkw\u001b[0m\u001b[0;34m)\u001b[0m\u001b[0;34m.\u001b[0m\u001b[0mdecode\u001b[0m\u001b[0;34m(\u001b[0m\u001b[0ms\u001b[0m\u001b[0;34m)\u001b[0m\u001b[0;34m\u001b[0m\u001b[0m\n\u001b[0m",
      "\u001b[0;31mTypeError\u001b[0m: __init__() got an unexpected keyword argument 'encode'"
     ]
    }
   ],
   "source": [
    "resp.json()"
   ]
  },
  {
   "cell_type": "code",
   "execution_count": null,
   "metadata": {},
   "outputs": [],
   "source": []
  }
 ],
 "metadata": {
  "kernelspec": {
   "display_name": "Python 3",
   "language": "python",
   "name": "python3"
  },
  "language_info": {
   "codemirror_mode": {
    "name": "ipython",
    "version": 3
   },
   "file_extension": ".py",
   "mimetype": "text/x-python",
   "name": "python",
   "nbconvert_exporter": "python",
   "pygments_lexer": "ipython3",
   "version": "3.7.0"
  }
 },
 "nbformat": 4,
 "nbformat_minor": 2
}
