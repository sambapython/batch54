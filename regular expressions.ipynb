{
 "cells": [
  {
   "cell_type": "code",
   "execution_count": 1,
   "metadata": {},
   "outputs": [
    {
     "name": "stdout",
     "output_type": "stream",
     "text": [
      "name,email,phone\n",
      "jay,JAYARAM12@gmail.com,9676622023\n",
      "vedha,Vedhanvesh45@yahoo.co.in,9676622024\n",
      "sailaxmi,SaiLAkshmi@microsoft.org9676622025\n"
     ]
    }
   ],
   "source": [
    "data=\"\"\"name,email,phone\n",
    "jay,JAYARAM12@gmail.com,9676622023\n",
    "vedha,Vedhanvesh45@yahoo.co.in,9676622024\n",
    "sailaxmi,SaiLAkshmi@microsoft.org9676622025\n",
    "\"\"\"\n",
    "for row in data.splitlines():\n",
    "    print(row)"
   ]
  },
  {
   "cell_type": "code",
   "execution_count": 2,
   "metadata": {},
   "outputs": [
    {
     "name": "stdout",
     "output_type": "stream",
     "text": [
      "['name', 'email', 'phone']\n",
      "['jay', 'JAYARAM12@gmail.com', '9676622023']\n",
      "['vedha', 'Vedhanvesh45@yahoo.co.in', '9676622024']\n",
      "['sailaxmi', 'SaiLAkshmi@microsoft.org', '9676622025']\n"
     ]
    }
   ],
   "source": [
    "data=\"\"\"name,email,phone\n",
    "jay,JAYARAM12@gmail.com,9676622023\n",
    "vedha,Vedhanvesh45@yahoo.co.in,9676622024\n",
    "sailaxmi,SaiLAkshmi@microsoft.org,9676622025\n",
    "\"\"\"\n",
    "for row in data.splitlines():\n",
    "    print(row.split(\",\"))"
   ]
  },
  {
   "cell_type": "code",
   "execution_count": 3,
   "metadata": {},
   "outputs": [
    {
     "name": "stdout",
     "output_type": "stream",
     "text": [
      "phone\n",
      "9676622023\n",
      "9676622024\n",
      "9676622025\n"
     ]
    }
   ],
   "source": [
    "data=\"\"\"name,email,phone\n",
    "jay,JAYARAM12@gmail.com,9676622023\n",
    "vedha,Vedhanvesh45@yahoo.co.in,9676622024\n",
    "sailaxmi,SaiLAkshmi@microsoft.org,9676622025\n",
    "\"\"\"\n",
    "for row in data.splitlines():\n",
    "    print(row.split(\",\")[-1])"
   ]
  },
  {
   "cell_type": "code",
   "execution_count": 4,
   "metadata": {},
   "outputs": [
    {
     "name": "stdout",
     "output_type": "stream",
     "text": [
      "email\n",
      "JAYARAM12@gmail.com\n",
      "Vedhanvesh45@yahoo.co.in\n",
      "SaiLAkshmi@microsoft.org\n"
     ]
    }
   ],
   "source": [
    "data=\"\"\"name,email,phone\n",
    "jay,JAYARAM12@gmail.com,9676622023\n",
    "vedha,Vedhanvesh45@yahoo.co.in,9676622024\n",
    "sailaxmi,SaiLAkshmi@microsoft.org,9676622025\n",
    "\"\"\"\n",
    "for row in data.splitlines():\n",
    "    print(row.split(\",\")[-2])"
   ]
  },
  {
   "cell_type": "code",
   "execution_count": 6,
   "metadata": {},
   "outputs": [
    {
     "name": "stdout",
     "output_type": "stream",
     "text": [
      "name\n",
      "jay\n",
      "vedha\n",
      "sailaxmi\n"
     ]
    }
   ],
   "source": [
    "data=\"\"\"name,email,phone\n",
    "jay,JAYARAM12@gmail.com,9676622023\n",
    "vedha,Vedhanvesh45@yahoo.co.in,9676622024\n",
    "sailaxmi,SaiLAkshmi@microsoft.org,9676622025\n",
    "\"\"\"\n",
    "for row in data.splitlines():\n",
    "    print(row.split(\",\")[0])"
   ]
  },
  {
   "cell_type": "code",
   "execution_count": 7,
   "metadata": {},
   "outputs": [
    {
     "name": "stdout",
     "output_type": "stream",
     "text": [
      "jay\n",
      "Vedhanvesh45@yahoo.co.in\n",
      "9676622025\n"
     ]
    }
   ],
   "source": [
    "data=\"\"\"jay,JAYARAM12@gmail.com,9676622023\n",
    "Vedhanvesh45@yahoo.co.in,vedha,9676622024\n",
    "9676622025,sailaxmi,SaiLAkshmi@microsoft.org\"\"\"\n",
    "for row in data.splitlines():\n",
    "    print(row.split(\",\")[0])"
   ]
  },
  {
   "cell_type": "code",
   "execution_count": 8,
   "metadata": {},
   "outputs": [
    {
     "name": "stdout",
     "output_type": "stream",
     "text": [
      "9676622023\n",
      "9676622024\n",
      "SaiLAkshmi@microsoft.org\n"
     ]
    }
   ],
   "source": [
    "data=\"\"\"jay,JAYARAM12@gmail.com,9676622023\n",
    "Vedhanvesh45@yahoo.co.in,vedha,9676622024\n",
    "9676622025,sailaxmi,SaiLAkshmi@microsoft.org\"\"\"\n",
    "for row in data.splitlines():\n",
    "    print(row.split(\",\")[-1])"
   ]
  },
  {
   "cell_type": "code",
   "execution_count": 9,
   "metadata": {},
   "outputs": [
    {
     "name": "stdout",
     "output_type": "stream",
     "text": [
      "['9676622023', '9676622024', '9676622025']\n"
     ]
    }
   ],
   "source": [
    "import re\n",
    "data=\"\"\"jay,JAYARAM12@gmail.com,9676622023\n",
    "Vedhanvesh45@yahoo.co.in,vedha,9676622024\n",
    "9676622025,sailaxmi,SaiLAkshmi@microsoft.org\"\"\"\n",
    "print(re.findall(\"[0-9]{10}\",data))"
   ]
  },
  {
   "cell_type": "code",
   "execution_count": 10,
   "metadata": {},
   "outputs": [
    {
     "name": "stdout",
     "output_type": "stream",
     "text": [
      "['1', '2', '9', '6', '7', '6', '6', '2', '2', '0', '2', '3', '4', '5', '9', '6', '7', '6', '6', '2', '2', '0', '2', '4', '9', '6', '7', '6', '6', '2', '2', '0', '2', '5']\n"
     ]
    }
   ],
   "source": [
    "import re\n",
    "data=\"\"\"jay,JAYARAM12@gmail.com,9676622023\n",
    "Vedhanvesh45@yahoo.co.in,vedha,9676622024\n",
    "9676622025,sailaxmi,SaiLAkshmi@microsoft.org\"\"\"\n",
    "print(re.findall(\"[0-9]\",data))"
   ]
  },
  {
   "cell_type": "code",
   "execution_count": 11,
   "metadata": {},
   "outputs": [
    {
     "name": "stdout",
     "output_type": "stream",
     "text": [
      "['12', '96', '76', '62', '20', '23', '45', '96', '76', '62', '20', '24', '96', '76', '62', '20', '25']\n"
     ]
    }
   ],
   "source": [
    "import re\n",
    "data=\"\"\"jay,JAYARAM12@gmail.com,9676622023\n",
    "Vedhanvesh45@yahoo.co.in,vedha,9676622024\n",
    "9676622025,sailaxmi,SaiLAkshmi@microsoft.org\"\"\"\n",
    "print(re.findall(\"[0-9][0-9]\",data))"
   ]
  },
  {
   "cell_type": "code",
   "execution_count": 12,
   "metadata": {},
   "outputs": [
    {
     "name": "stdout",
     "output_type": "stream",
     "text": [
      "['967', '662', '202', '967', '662', '202', '967', '662', '202']\n"
     ]
    }
   ],
   "source": [
    "import re\n",
    "data=\"\"\"jay,JAYARAM12@gmail.com,9676622023\n",
    "Vedhanvesh45@yahoo.co.in,vedha,9676622024\n",
    "9676622025,sailaxmi,SaiLAkshmi@microsoft.org\"\"\"\n",
    "print(re.findall(\"[0-9][0-9][0-9]\",data))"
   ]
  },
  {
   "cell_type": "code",
   "execution_count": 13,
   "metadata": {},
   "outputs": [
    {
     "name": "stdout",
     "output_type": "stream",
     "text": [
      "['9676622023', '9676622024', '9676622025']\n"
     ]
    }
   ],
   "source": [
    "import re\n",
    "data=\"\"\"jay,JAYARAM12@gmail.com,9676622023\n",
    "Vedhanvesh45@yahoo.co.in,vedha,9676622024\n",
    "9676622025,sailaxmi,SaiLAkshmi@microsoft.org\"\"\"\n",
    "print(re.findall(\"[0-9][0-9][0-9][0-9][0-9][0-9][0-9][0-9][0-9][0-9]\",data))"
   ]
  },
  {
   "cell_type": "code",
   "execution_count": 14,
   "metadata": {},
   "outputs": [
    {
     "name": "stdout",
     "output_type": "stream",
     "text": [
      "['9676622023', '9676622024', '9676622025']\n"
     ]
    }
   ],
   "source": [
    "import re\n",
    "data=\"\"\"jay,JAYARAM12@gmail.com,9676622023\n",
    "Vedhanvesh45@yahoo.co.in,vedha,9676622024\n",
    "9676622025,sailaxmi,SaiLAkshmi@microsoft.org\"\"\"\n",
    "print(re.findall(\"[0-9]{10}\",data))"
   ]
  },
  {
   "cell_type": "code",
   "execution_count": 15,
   "metadata": {},
   "outputs": [
    {
     "name": "stdout",
     "output_type": "stream",
     "text": [
      "['12', '9676622023', '45', '9676622024', '9676622025']\n"
     ]
    }
   ],
   "source": [
    "import re\n",
    "data=\"\"\"jay,JAYARAM12@gmail.com,9676622023\n",
    "Vedhanvesh45@yahoo.co.in,vedha,9676622024\n",
    "9676622025,sailaxmi,SaiLAkshmi@microsoft.org\"\"\"\n",
    "print(re.findall(\"[0-9]{1,10}\",data))"
   ]
  },
  {
   "cell_type": "code",
   "execution_count": 16,
   "metadata": {},
   "outputs": [
    {
     "name": "stdout",
     "output_type": "stream",
     "text": [
      "['', '', '', '', '', '', '', '', '', '', '', '12', '', '', '', '', '', '', '', '', '', '', '', '9676622023', '', '', '', '', '', '', '', '', '', '', '', '45', '', '', '', '', '', '', '', '', '', '', '', '', '', '', '', '', '', '', '', '9676622024', '', '9676622025', '', '', '', '', '', '', '', '', '', '', '', '', '', '', '', '', '', '', '', '', '', '', '', '', '', '', '', '', '', '', '', '', '', '', '']\n"
     ]
    }
   ],
   "source": [
    "import re\n",
    "data=\"\"\"jay,JAYARAM12@gmail.com,9676622023\n",
    "Vedhanvesh45@yahoo.co.in,vedha,9676622024\n",
    "9676622025,sailaxmi,SaiLAkshmi@microsoft.org\"\"\"\n",
    "print(re.findall(\"[0-9]{0,10}\",data))"
   ]
  },
  {
   "cell_type": "code",
   "execution_count": 17,
   "metadata": {},
   "outputs": [
    {
     "name": "stdout",
     "output_type": "stream",
     "text": [
      "['12', '9676622023', '45', '9676622024', '9676622025', '32423424354352432423421543252435']\n"
     ]
    }
   ],
   "source": [
    "import re\n",
    "data=\"\"\"jay,JAYARAM12@gmail.com,9676622023\n",
    "Vedhanvesh45@yahoo.co.in,vedha,9676622024\n",
    "9676622025,sailaxmi,SaiLAkshmi@microsoft.org 32423424354352432423421543252435\"\"\"\n",
    "print(re.findall(\"[0-9]{1,}\",data))"
   ]
  },
  {
   "cell_type": "code",
   "execution_count": 18,
   "metadata": {},
   "outputs": [
    {
     "name": "stdout",
     "output_type": "stream",
     "text": [
      "['12', '9676622023', '45', '9676622024', '9676622025']\n"
     ]
    }
   ],
   "source": [
    "import re\n",
    "data=\"\"\"jay,JAYARAM12@gmail.com,9676622023\n",
    "Vedhanvesh45@yahoo.co.in,vedha,9676622024\n",
    "9676622025,sailaxmi,SaiLAkshmi@microsoft.org\"\"\"\n",
    "print(re.findall(\"[0-9]+\",data))"
   ]
  },
  {
   "cell_type": "code",
   "execution_count": 20,
   "metadata": {},
   "outputs": [
    {
     "name": "stdout",
     "output_type": "stream",
     "text": [
      "['', '', '', '', '', '', '', '', '', '', '', '12', '', '', '', '', '', '', '', '', '', '', '', '9676622023', '', '', '', '', '', '', '', '', '', '', '', '45', '', '', '', '', '', '', '', '', '', '', '', '', '', '', '', '', '', '', '', '9676622024', '', '9676622025', '', '', '', '', '', '', '', '', '', '', '', '', '', '', '', '', '', '', '', '', '', '', '', '', '', '', '', '', '', '', '', '', '', '', '']\n"
     ]
    }
   ],
   "source": [
    "import re\n",
    "data=\"\"\"jay,JAYARAM12@gmail.com,9676622023\n",
    "Vedhanvesh45@yahoo.co.in,vedha,9676622024\n",
    "9676622025,sailaxmi,SaiLAkshmi@microsoft.org\"\"\"\n",
    "print(re.findall(\"[0-9]{0,}\",data))"
   ]
  },
  {
   "cell_type": "code",
   "execution_count": 21,
   "metadata": {},
   "outputs": [
    {
     "name": "stdout",
     "output_type": "stream",
     "text": [
      "['', '', '', '', '', '', '', '', '', '', '', '12', '', '', '', '', '', '', '', '', '', '', '', '9676622023', '', '', '', '', '', '', '', '', '', '', '', '45', '', '', '', '', '', '', '', '', '', '', '', '', '', '', '', '', '', '', '', '9676622024', '', '9676622025', '', '', '', '', '', '', '', '', '', '', '', '', '', '', '', '', '', '', '', '', '', '', '', '', '', '', '', '', '', '', '', '', '', '', '']\n"
     ]
    }
   ],
   "source": [
    "import re\n",
    "data=\"\"\"jay,JAYARAM12@gmail.com,9676622023\n",
    "Vedhanvesh45@yahoo.co.in,vedha,9676622024\n",
    "9676622025,sailaxmi,SaiLAkshmi@microsoft.org\"\"\"\n",
    "print(re.findall(\"[0-9]*\",data))"
   ]
  },
  {
   "cell_type": "code",
   "execution_count": 22,
   "metadata": {},
   "outputs": [
    {
     "name": "stdout",
     "output_type": "stream",
     "text": [
      "['', '', '', '', '', '', '', '', '', '', '', '1', '2', '', '', '', '', '', '', '', '', '', '', '', '9', '6', '7', '6', '6', '2', '2', '0', '2', '3', '', '', '', '', '', '', '', '', '', '', '', '4', '5', '', '', '', '', '', '', '', '', '', '', '', '', '', '', '', '', '', '', '', '9', '6', '7', '6', '6', '2', '2', '0', '2', '4', '', '9', '6', '7', '6', '6', '2', '2', '0', '2', '5', '', '', '', '', '', '', '', '', '', '', '', '', '', '', '', '', '', '', '', '', '', '', '', '', '', '', '', '', '', '', '', '', '', '', '']\n"
     ]
    }
   ],
   "source": [
    "import re\n",
    "data=\"\"\"jay,JAYARAM12@gmail.com,9676622023\n",
    "Vedhanvesh45@yahoo.co.in,vedha,9676622024\n",
    "9676622025,sailaxmi,SaiLAkshmi@microsoft.org\"\"\"\n",
    "print(re.findall(\"[0-9]{0,1}\",data))"
   ]
  },
  {
   "cell_type": "code",
   "execution_count": 23,
   "metadata": {},
   "outputs": [
    {
     "name": "stdout",
     "output_type": "stream",
     "text": [
      "['', '', '', '', '', '', '', '', '', '', '', '1', '2', '', '', '', '', '', '', '', '', '', '', '', '9', '6', '7', '6', '6', '2', '2', '0', '2', '3', '', '', '', '', '', '', '', '', '', '', '', '4', '5', '', '', '', '', '', '', '', '', '', '', '', '', '', '', '', '', '', '', '', '9', '6', '7', '6', '6', '2', '2', '0', '2', '4', '', '9', '6', '7', '6', '6', '2', '2', '0', '2', '5', '', '', '', '', '', '', '', '', '', '', '', '', '', '', '', '', '', '', '', '', '', '', '', '', '', '', '', '', '', '', '', '', '', '', '']\n"
     ]
    }
   ],
   "source": [
    "import re\n",
    "data=\"\"\"jay,JAYARAM12@gmail.com,9676622023\n",
    "Vedhanvesh45@yahoo.co.in,vedha,9676622024\n",
    "9676622025,sailaxmi,SaiLAkshmi@microsoft.org\"\"\"\n",
    "print(re.findall(\"[0-9]?\",data))"
   ]
  },
  {
   "cell_type": "code",
   "execution_count": 24,
   "metadata": {},
   "outputs": [
    {
     "name": "stdout",
     "output_type": "stream",
     "text": [
      "['a', 'a', 'c', 'd', 'a', 'a', 'c', 'd', 'a', 'a', 'a', 'a', 'c']\n"
     ]
    }
   ],
   "source": [
    "import re\n",
    "data=\"\"\"jay,JAYARAM12@gmail.com,9676622023\n",
    "Vedhanvesh45@yahoo.co.in,vedha,9676622024\n",
    "9676622025,sailaxmi,SaiLAkshmi@microsoft.org\"\"\"\n",
    "print(re.findall(\"[abcd]\",data))"
   ]
  },
  {
   "cell_type": "code",
   "execution_count": 25,
   "metadata": {},
   "outputs": [
    {
     "name": "stdout",
     "output_type": "stream",
     "text": [
      "['a', 'A', 'A', 'A', 'a', 'c', 'd', 'a', 'a', 'c', 'd', 'a', 'a', 'a', 'a', 'A', 'c']\n"
     ]
    }
   ],
   "source": [
    "import re\n",
    "data=\"\"\"jay,JAYARAM12@gmail.com,9676622023\n",
    "Vedhanvesh45@yahoo.co.in,vedha,9676622024\n",
    "9676622025,sailaxmi,SaiLAkshmi@microsoft.org\"\"\"\n",
    "print(re.findall(\"[abcdABCD]\",data))"
   ]
  },
  {
   "cell_type": "code",
   "execution_count": 26,
   "metadata": {},
   "outputs": [
    {
     "name": "stdout",
     "output_type": "stream",
     "text": [
      "['a', 'A', 'A', 'A', 'a', 'c', 'd', 'a', 'a', 'c', 'd', 'a', 'a', 'a', 'a', 'A', 'c']\n"
     ]
    }
   ],
   "source": [
    "import re\n",
    "data=\"\"\"jay,JAYARAM12@gmail.com,9676622023\n",
    "Vedhanvesh45@yahoo.co.in,vedha,9676622024\n",
    "9676622025,sailaxmi,SaiLAkshmi@microsoft.org\"\"\"\n",
    "print(re.findall(\"[abcd]\",data,re.I))"
   ]
  },
  {
   "cell_type": "code",
   "execution_count": 27,
   "metadata": {},
   "outputs": [
    {
     "name": "stdout",
     "output_type": "stream",
     "text": [
      "['j', 'a', 'y', 'J', 'A', 'Y', 'A', 'R', 'A', 'M', 'g', 'm', 'a', 'i', 'l', 'c', 'o', 'm', 'V', 'e', 'd', 'h', 'a', 'n', 'v', 'e', 's', 'h', 'y', 'a', 'h', 'o', 'o', 'c', 'o', 'i', 'n', 'v', 'e', 'd', 'h', 'a', 's', 'a', 'i', 'l', 'a', 'x', 'm', 'i', 'S', 'a', 'i', 'L', 'A', 'k', 's', 'h', 'm', 'i', 'm', 'i', 'c', 'r', 'o', 's', 'o', 'f', 't', 'o', 'r', 'g']\n"
     ]
    }
   ],
   "source": [
    "import re\n",
    "data=\"\"\"jay,JAYARAM12@gmail.com,9676622023\n",
    "Vedhanvesh45@yahoo.co.in,vedha,9676622024\n",
    "9676622025,sailaxmi,SaiLAkshmi@microsoft.org\"\"\"\n",
    "print(re.findall(\"[a-z]\",data,re.I))"
   ]
  },
  {
   "cell_type": "code",
   "execution_count": 28,
   "metadata": {},
   "outputs": [
    {
     "name": "stdout",
     "output_type": "stream",
     "text": [
      "['M1', 'h4']\n"
     ]
    }
   ],
   "source": [
    "import re\n",
    "data=\"\"\"jay,JAYARAM12@gmail.com,9676622023\n",
    "Vedhanvesh45@yahoo.co.in,vedha,9676622024\n",
    "9676622025,sailaxmi,SaiLAkshmi@microsoft.org\"\"\"\n",
    "print(re.findall(\"[a-z][0-9]\",data,re.I))"
   ]
  },
  {
   "cell_type": "code",
   "execution_count": 29,
   "metadata": {},
   "outputs": [
    {
     "name": "stdout",
     "output_type": "stream",
     "text": [
      "[',', '1', '2', '@', '.', ',', '9', '6', '7', '6', '6', '2', '2', '0', '2', '3', '\\n', '4', '5', '@', '.', '.', ',', ',', '9', '6', '7', '6', '6', '2', '2', '0', '2', '4', '\\n', '9', '6', '7', '6', '6', '2', '2', '0', '2', '5', ',', ',', '@', '.']\n"
     ]
    }
   ],
   "source": [
    "import re\n",
    "data=\"\"\"jay,JAYARAM12@gmail.com,9676622023\n",
    "Vedhanvesh45@yahoo.co.in,vedha,9676622024\n",
    "9676622025,sailaxmi,SaiLAkshmi@microsoft.org\"\"\"\n",
    "print(re.findall(\"[^a-z]\",data,re.I))"
   ]
  },
  {
   "cell_type": "code",
   "execution_count": 30,
   "metadata": {},
   "outputs": [
    {
     "name": "stdout",
     "output_type": "stream",
     "text": [
      "['j']\n"
     ]
    }
   ],
   "source": [
    "import re\n",
    "data=\"\"\"jay,JAYARAM12@gmail.com,9676622023\n",
    "Vedhanvesh45@yahoo.co.in,vedha,9676622024\n",
    "9676622025,sailaxmi,SaiLAkshmi@microsoft.org\"\"\"\n",
    "print(re.findall(\"^[a-z]\",data,re.I))"
   ]
  },
  {
   "cell_type": "code",
   "execution_count": 31,
   "metadata": {},
   "outputs": [
    {
     "name": "stdout",
     "output_type": "stream",
     "text": [
      "['g']\n"
     ]
    }
   ],
   "source": [
    "import re\n",
    "data=\"\"\"jay,JAYARAM12@gmail.com,9676622023\n",
    "Vedhanvesh45@yahoo.co.in,vedha,9676622024\n",
    "9676622025,sailaxmi,SaiLAkshmi@microsoft.org\"\"\"\n",
    "print(re.findall(\"[a-z]$\",data,re.I))"
   ]
  },
  {
   "cell_type": "code",
   "execution_count": 32,
   "metadata": {},
   "outputs": [
    {
     "name": "stdout",
     "output_type": "stream",
     "text": [
      "[]\n"
     ]
    }
   ],
   "source": [
    "import re\n",
    "data=\"\"\"jay,JAYARAM12@gmail.com,9676622023\n",
    "Vedhanvesh45@yahoo.co.in,vedha,9676622024\n",
    "9676622025,sailaxmi,SaiLAkshmi@microsoft.org\"\"\"\n",
    "print(re.findall(\"[0-9]$\",data,re.I))"
   ]
  },
  {
   "cell_type": "code",
   "execution_count": 33,
   "metadata": {},
   "outputs": [
    {
     "name": "stdout",
     "output_type": "stream",
     "text": [
      "['j', 'a', 'y', ',', 'J', 'A', 'Y', 'A', 'R', 'A', 'M', '1', '2', '@', 'g', 'm', 'a', 'i', 'l', '.', 'c', 'o', 'm', ',', '9', '6', '7', '6', '6', '2', '2', '0', '2', '3', 'V', 'e', 'd', 'h', 'a', 'n', 'v', 'e', 's', 'h', '4', '5', '@', 'y', 'a', 'h', 'o', 'o', '.', 'c', 'o', '.', 'i', 'n', ',', 'v', 'e', 'd', 'h', 'a', ',', '9', '6', '7', '6', '6', '2', '2', '0', '2', '4', '9', '6', '7', '6', '6', '2', '2', '0', '2', '5', ',', 's', 'a', 'i', 'l', 'a', 'x', 'm', 'i', ',', 'S', 'a', 'i', 'L', 'A', 'k', 's', 'h', 'm', 'i', '@', 'm', 'i', 'c', 'r', 'o', 's', 'o', 'f', 't', '.', 'o', 'r', 'g']\n"
     ]
    }
   ],
   "source": [
    "import re\n",
    "data=\"\"\"jay,JAYARAM12@gmail.com,9676622023\n",
    "Vedhanvesh45@yahoo.co.in,vedha,9676622024\n",
    "9676622025,sailaxmi,SaiLAkshmi@microsoft.org\"\"\"\n",
    "print(re.findall(\".\",data,re.I))"
   ]
  },
  {
   "cell_type": "code",
   "execution_count": 34,
   "metadata": {},
   "outputs": [
    {
     "name": "stdout",
     "output_type": "stream",
     "text": [
      "['j', 'a', 'y', ',', 'J', 'A', 'Y', 'A', 'R', 'A', 'M', '1', '2', '@', 'g', 'm', 'a', 'i', 'l', '.', 'c', 'o', 'm', ',', '9', '6', '7', '6', '6', '2', '2', '0', '2', '3', '\\n', 'V', 'e', 'd', 'h', 'a', 'n', 'v', 'e', 's', 'h', '4', '5', '@', 'y', 'a', 'h', 'o', 'o', '.', 'c', 'o', '.', 'i', 'n', ',', 'v', 'e', 'd', 'h', 'a', ',', '9', '6', '7', '6', '6', '2', '2', '0', '2', '4', '\\n', '9', '6', '7', '6', '6', '2', '2', '0', '2', '5', ',', 's', 'a', 'i', 'l', 'a', 'x', 'm', 'i', ',', 'S', 'a', 'i', 'L', 'A', 'k', 's', 'h', 'm', 'i', '@', 'm', 'i', 'c', 'r', 'o', 's', 'o', 'f', 't', '.', 'o', 'r', 'g']\n"
     ]
    }
   ],
   "source": [
    "import re\n",
    "data=\"\"\"jay,JAYARAM12@gmail.com,9676622023\n",
    "Vedhanvesh45@yahoo.co.in,vedha,9676622024\n",
    "9676622025,sailaxmi,SaiLAkshmi@microsoft.org\"\"\"\n",
    "print(re.findall(\".\",data,re.I|re.DOTALL))"
   ]
  },
  {
   "cell_type": "code",
   "execution_count": 35,
   "metadata": {},
   "outputs": [
    {
     "name": "stdout",
     "output_type": "stream",
     "text": [
      "['j']\n"
     ]
    }
   ],
   "source": [
    "import re\n",
    "data=\"\"\"jay,JAYARAM12@gmail.com,9676622023\n",
    "Vedhanvesh45@yahoo.co.in,vedha,9676622024\n",
    "9676622025,sailaxmi,SaiLAkshmi@microsoft.org\"\"\"\n",
    "print(re.findall(\"^[a-z]\",data,re.I))"
   ]
  },
  {
   "cell_type": "code",
   "execution_count": 36,
   "metadata": {},
   "outputs": [
    {
     "name": "stdout",
     "output_type": "stream",
     "text": [
      "['j', 'V']\n"
     ]
    }
   ],
   "source": [
    "import re\n",
    "data=\"\"\"jay,JAYARAM12@gmail.com,9676622023\n",
    "Vedhanvesh45@yahoo.co.in,vedha,9676622024\n",
    "9676622025,sailaxmi,SaiLAkshmi@microsoft.org\"\"\"\n",
    "print(re.findall(\"^[a-z]\",data,re.I|re.M))"
   ]
  },
  {
   "cell_type": "code",
   "execution_count": 37,
   "metadata": {},
   "outputs": [
    {
     "name": "stdout",
     "output_type": "stream",
     "text": [
      "['g']\n"
     ]
    }
   ],
   "source": [
    "import re\n",
    "data=\"\"\"jay,JAYARAM12@gmail.com,9676622023\n",
    "Vedhanvesh45@yahoo.co.in,vedha,9676622024\n",
    "9676622025,sailaxmi,SaiLAkshmi@microsoft.org\"\"\"\n",
    "print(re.findall(\"[a-z]$\",data,re.I|re.M))"
   ]
  },
  {
   "cell_type": "code",
   "execution_count": 38,
   "metadata": {},
   "outputs": [
    {
     "name": "stdout",
     "output_type": "stream",
     "text": [
      "['3', '4']\n"
     ]
    }
   ],
   "source": [
    "import re\n",
    "data=\"\"\"jay,JAYARAM12@gmail.com,9676622023\n",
    "Vedhanvesh45@yahoo.co.in,vedha,9676622024\n",
    "9676622025,sailaxmi,SaiLAkshmi@microsoft.org\"\"\"\n",
    "print(re.findall(\"[0-9]$\",data,re.I|re.M))"
   ]
  },
  {
   "cell_type": "code",
   "execution_count": 39,
   "metadata": {},
   "outputs": [
    {
     "name": "stdout",
     "output_type": "stream",
     "text": [
      "[]\n"
     ]
    }
   ],
   "source": [
    "import re\n",
    "data=\"\"\"jay,JAYARAM12@gmail.com,9676622023\n",
    "Vedhanvesh45@yahoo.co.in,vedha,9676622024\n",
    "9676622025,sailaxmi,SaiLAkshmi@microsoft.org\"\"\"\n",
    "print(re.findall(\"[0-9]$\",data))"
   ]
  },
  {
   "cell_type": "code",
   "execution_count": 40,
   "metadata": {},
   "outputs": [
    {
     "name": "stdout",
     "output_type": "stream",
     "text": [
      "['JAYARAM12@gmail.com', 'Vedhanvesh45@yahoo.co.in', 'SaiLAkshmi@microsoft.org']\n"
     ]
    }
   ],
   "source": [
    "# expression for emailaddress\n",
    "#username: [a-z0-9_]+\n",
    "#@--@\n",
    "#hostname: [a-z]+\n",
    "#. -- \\.\n",
    "#extension: [a-z.]+\n",
    "import re\n",
    "data=\"\"\"jay,JAYARAM12@gmail.com,9676622023\n",
    "Vedhanvesh45@yahoo.co.in,vedha,9676622024\n",
    "9676622025,sailaxmi,SaiLAkshmi@microsoft.org\"\"\"\n",
    "print(re.findall(\"[a-z0-9_]+@[a-z]+\\.[a-z.]+\",data,re.I))"
   ]
  },
  {
   "cell_type": "code",
   "execution_count": 41,
   "metadata": {},
   "outputs": [
    {
     "name": "stdout",
     "output_type": "stream",
     "text": [
      "['JAYARAM12@gmail.com', 'Vedhanvesh45@yahoo.co.in', 'SaiLAkshmi@microsoft.org']\n"
     ]
    }
   ],
   "source": [
    "# expression for emailaddress\n",
    "#username: [a-z0-9_]+\n",
    "#@--@\n",
    "#hostname: [a-z]+\n",
    "#. -- \\.\n",
    "#extension: [a-z.]+\n",
    "import re\n",
    "data=\"\"\"jay,JAYARAM12@gmail.com,9676622023\n",
    "Vedhanvesh45@yahoo.co.in,vedha,9676622024\n",
    "9676622025,sailaxmi,SaiLAkshmi@microsoft.org\"\"\"\n",
    "print(re.findall(\"\\w+@[a-z]+\\.[a-z.]+\",data,re.I))"
   ]
  },
  {
   "cell_type": "code",
   "execution_count": 42,
   "metadata": {},
   "outputs": [
    {
     "name": "stdout",
     "output_type": "stream",
     "text": [
      "[]\n"
     ]
    }
   ],
   "source": [
    "# expression for emailaddress\n",
    "#username: [a-z0-9_]+\n",
    "#@--@\n",
    "#hostname: [a-z]+\n",
    "#. -- \\.\n",
    "#extension: [a-z.]+\n",
    "import re\n",
    "data=\"\"\"jay,JAYARAM12@gmail.com,9676622023\n",
    "Vedhanvesh45@yahoo.co.in,vedha,9676622024\n",
    "9676622025,sailaxmi,SaiLAkshmi@microsoft.org\"\"\"\n",
    "print(re.findall(\"(a-z)\",data,re.I))"
   ]
  },
  {
   "cell_type": "code",
   "execution_count": 46,
   "metadata": {},
   "outputs": [
    {
     "name": "stdout",
     "output_type": "stream",
     "text": [
      "['JAYARAM12@gmail.com', 'Vedhanvesh45@yahoo.co.in', 'SaiLAkshmi@microsoft.org']\n"
     ]
    }
   ],
   "source": [
    "# expression for emailaddress\n",
    "#username: [a-z0-9_]+\n",
    "#@--@\n",
    "#hostname: [a-z]+\n",
    "#. -- \\.\n",
    "#extension: [a-z.]+\n",
    "import re\n",
    "data=\"\"\"jay,JAYARAM12@gmail.com,9676622023\n",
    "Vedhanvesh45@yahoo.co.in,vedha,9676622024\n",
    "9676622025,sailaxmi,SaiLAkshmi@microsoft.org\"\"\"\n",
    "print(re.findall(\"\\w+@[a-z]+\\.[a-z.]+\",data,re.I))"
   ]
  },
  {
   "cell_type": "code",
   "execution_count": 47,
   "metadata": {},
   "outputs": [
    {
     "name": "stdout",
     "output_type": "stream",
     "text": [
      "<callable_iterator object at 0x7f1ba02346d8>\n"
     ]
    }
   ],
   "source": [
    "# expression for emailaddress\n",
    "#username: [a-z0-9_]+\n",
    "#@--@\n",
    "#hostname: [a-z]+\n",
    "#. -- \\.\n",
    "#extension: [a-z.]+\n",
    "import re\n",
    "data=\"\"\"jay,JAYARAM12@gmail.com,9676622023\n",
    "Vedhanvesh45@yahoo.co.in,vedha,9676622024\n",
    "9676622025,sailaxmi,SaiLAkshmi@microsoft.org\"\"\"\n",
    "print(re.finditer(\"\\w+@[a-z]+\\.[a-z.]+\",data,re.I))"
   ]
  },
  {
   "cell_type": "code",
   "execution_count": 48,
   "metadata": {},
   "outputs": [
    {
     "name": "stdout",
     "output_type": "stream",
     "text": [
      "<re.Match object; span=(4, 23), match='JAYARAM12@gmail.com'>\n",
      "<re.Match object; span=(35, 59), match='Vedhanvesh45@yahoo.co.in'>\n",
      "<re.Match object; span=(97, 121), match='SaiLAkshmi@microsoft.org'>\n"
     ]
    }
   ],
   "source": [
    "# expression for emailaddress\n",
    "#username: [a-z0-9_]+\n",
    "#@--@\n",
    "#hostname: [a-z]+\n",
    "#. -- \\.\n",
    "#extension: [a-z.]+\n",
    "import re\n",
    "data=\"\"\"jay,JAYARAM12@gmail.com,9676622023\n",
    "Vedhanvesh45@yahoo.co.in,vedha,9676622024\n",
    "9676622025,sailaxmi,SaiLAkshmi@microsoft.org\"\"\"\n",
    "email_instances = re.finditer(\"\\w+@[a-z]+\\.[a-z.]+\",data,re.I)\n",
    "for email in email_instances:\n",
    "    print(email)"
   ]
  },
  {
   "cell_type": "code",
   "execution_count": 53,
   "metadata": {},
   "outputs": [
    {
     "name": "stdout",
     "output_type": "stream",
     "text": [
      "JAYARAM12@gmail.com\n",
      "Vedhanvesh45@yahoo.co.in\n",
      "SaiLAkshmi@microsoft.org\n"
     ]
    }
   ],
   "source": [
    "# expression for emailaddress\n",
    "#username: [a-z0-9_]+\n",
    "#@--@\n",
    "#hostname: [a-z]+\n",
    "#. -- \\.\n",
    "#extension: [a-z.]+\n",
    "import re\n",
    "data=\"\"\"jay,JAYARAM12@gmail.com,9676622023\n",
    "Vedhanvesh45@yahoo.co.in,vedha,9676622024\n",
    "9676622025,sailaxmi,SaiLAkshmi@microsoft.org\"\"\"\n",
    "email_instances = re.finditer(\"\\w+@[a-z]+\\.[a-z.]+\",data,re.I)\n",
    "for email in email_instances:\n",
    "    print(email.group(0))"
   ]
  },
  {
   "cell_type": "code",
   "execution_count": 54,
   "metadata": {},
   "outputs": [
    {
     "name": "stdout",
     "output_type": "stream",
     "text": [
      "<re.Match object; span=(4, 23), match='JAYARAM12@gmail.com'>\n"
     ]
    }
   ],
   "source": [
    "# expression for emailaddress\n",
    "#username: [a-z0-9_]+\n",
    "#@--@\n",
    "#hostname: [a-z]+\n",
    "#. -- \\.\n",
    "#extension: [a-z.]+\n",
    "import re\n",
    "data=\"\"\"jay,JAYARAM12@gmail.com,9676622023\n",
    "Vedhanvesh45@yahoo.co.in,vedha,9676622024\n",
    "9676622025,sailaxmi,SaiLAkshmi@microsoft.org\"\"\"\n",
    "print(re.search(\"\\w+@[a-z]+\\.[a-z.]+\",data,re.I))\n"
   ]
  },
  {
   "cell_type": "code",
   "execution_count": 55,
   "metadata": {},
   "outputs": [
    {
     "name": "stdout",
     "output_type": "stream",
     "text": [
      "None\n"
     ]
    }
   ],
   "source": [
    "# expression for emailaddress\n",
    "#username: [a-z0-9_]+\n",
    "#@--@\n",
    "#hostname: [a-z]+\n",
    "#. -- \\.\n",
    "#extension: [a-z.]+\n",
    "import re\n",
    "data=\"\"\"jay,JAYARAM12@gmail.com,9676622023\n",
    "Vedhanvesh45@yahoo.co.in,vedha,9676622024\n",
    "9676622025,sailaxmi,SaiLAkshmi@microsoft.org\"\"\"\n",
    "print(re.search(\"\\w+@[a-z]+\\.[a-z.]+24\",data,re.I))\n"
   ]
  },
  {
   "cell_type": "code",
   "execution_count": 56,
   "metadata": {},
   "outputs": [
    {
     "name": "stdout",
     "output_type": "stream",
     "text": [
      "None\n"
     ]
    }
   ],
   "source": [
    "# expression for emailaddress\n",
    "#username: [a-z0-9_]+\n",
    "#@--@\n",
    "#hostname: [a-z]+\n",
    "#. -- \\.\n",
    "#extension: [a-z.]+\n",
    "import re\n",
    "data=\"\"\"jay,JAYARAM12@gmail.com,9676622023\n",
    "Vedhanvesh45@yahoo.co.in,vedha,9676622024\n",
    "9676622025,sailaxmi,SaiLAkshmi@microsoft.org\"\"\"\n",
    "print(re.match(\"\\w+@[a-z]+\\.[a-z.]+\",data,re.I))\n"
   ]
  },
  {
   "cell_type": "code",
   "execution_count": 57,
   "metadata": {},
   "outputs": [
    {
     "name": "stdout",
     "output_type": "stream",
     "text": [
      "None\n"
     ]
    }
   ],
   "source": [
    "# expression for emailaddress\n",
    "#username: [a-z0-9_]+\n",
    "#@--@\n",
    "#hostname: [a-z]+\n",
    "#. -- \\.\n",
    "#extension: [a-z.]+\n",
    "import re\n",
    "data=\"\"\"jay,JAYARAM12@gmail.com,9676622023\n",
    "Vedhanvesh45@yahoo.co.in,vedha,9676622024\n",
    "9676622025,sailaxmi,SaiLAkshmi@microsoft.org\"\"\"\n",
    "print(re.match(\"\\w+@[a-z]+\\.[a-z.]+\",data,re.I|re.M))\n"
   ]
  },
  {
   "cell_type": "code",
   "execution_count": 58,
   "metadata": {},
   "outputs": [
    {
     "name": "stdout",
     "output_type": "stream",
     "text": [
      "<re.Match object; span=(0, 1), match='j'>\n"
     ]
    }
   ],
   "source": [
    "# expression for emailaddress\n",
    "#username: [a-z0-9_]+\n",
    "#@--@\n",
    "#hostname: [a-z]+\n",
    "#. -- \\.\n",
    "#extension: [a-z.]+\n",
    "import re\n",
    "data=\"\"\"jay,JAYARAM12@gmail.com,9676622023\n",
    "Vedhanvesh45@yahoo.co.in,vedha,9676622024\n",
    "9676622025,sailaxmi,SaiLAkshmi@microsoft.org\"\"\"\n",
    "print(re.match(\"[a-z]\",data,re.I|re.M))\n"
   ]
  },
  {
   "cell_type": "code",
   "execution_count": null,
   "metadata": {},
   "outputs": [],
   "source": [
    "#oops concept"
   ]
  }
 ],
 "metadata": {
  "kernelspec": {
   "display_name": "Python 3",
   "language": "python",
   "name": "python3"
  },
  "language_info": {
   "codemirror_mode": {
    "name": "ipython",
    "version": 3
   },
   "file_extension": ".py",
   "mimetype": "text/x-python",
   "name": "python",
   "nbconvert_exporter": "python",
   "pygments_lexer": "ipython3",
   "version": "3.7.0"
  }
 },
 "nbformat": 4,
 "nbformat_minor": 2
}
