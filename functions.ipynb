{
 "cells": [
  {
   "cell_type": "code",
   "execution_count": 1,
   "metadata": {},
   "outputs": [
    {
     "name": "stdout",
     "output_type": "stream",
     "text": [
      "welcome\n",
      "thanks\n"
     ]
    }
   ],
   "source": [
    "print(\"welcome\")\n",
    "def fun():\n",
    "    print(\"this is fun\")\n",
    "print(\"thanks\")"
   ]
  },
  {
   "cell_type": "code",
   "execution_count": 2,
   "metadata": {},
   "outputs": [
    {
     "name": "stdout",
     "output_type": "stream",
     "text": [
      "welcome\n",
      "thanks\n",
      "this is fun\n"
     ]
    }
   ],
   "source": [
    "print(\"welcome\")\n",
    "def fun():\n",
    "    print(\"this is fun\")\n",
    "print(\"thanks\")\n",
    "fun()"
   ]
  },
  {
   "cell_type": "code",
   "execution_count": 3,
   "metadata": {},
   "outputs": [
    {
     "name": "stdout",
     "output_type": "stream",
     "text": [
      "welcome\n",
      "thanks\n",
      "this is fun\n",
      "this is fun\n",
      "this is fun\n"
     ]
    }
   ],
   "source": [
    "print(\"welcome\")\n",
    "def fun():\n",
    "    print(\"this is fun\")\n",
    "print(\"thanks\")\n",
    "fun()\n",
    "fun()\n",
    "fun()"
   ]
  },
  {
   "cell_type": "code",
   "execution_count": 4,
   "metadata": {},
   "outputs": [
    {
     "name": "stdout",
     "output_type": "stream",
     "text": [
      "welcome\n",
      "this is fun\n",
      "thanks\n",
      "this is fun\n",
      "this is fun\n",
      "this is fun\n"
     ]
    }
   ],
   "source": [
    "print(\"welcome\")\n",
    "def fun():\n",
    "    print(\"this is fun\")\n",
    "fun()\n",
    "print(\"thanks\")\n",
    "fun()\n",
    "fun()\n",
    "fun()"
   ]
  },
  {
   "cell_type": "code",
   "execution_count": 5,
   "metadata": {},
   "outputs": [
    {
     "name": "stdout",
     "output_type": "stream",
     "text": [
      "welcome\n",
      "this is fun\n",
      "thanks\n"
     ]
    }
   ],
   "source": [
    "print(\"welcome\")\n",
    "def fun(a,b):\n",
    "    #a,b are parameters\n",
    "    print(\"this is fun\")\n",
    "fun(10,20) # 10,20 are arguments\n",
    "print(\"thanks\")"
   ]
  },
  {
   "cell_type": "code",
   "execution_count": 6,
   "metadata": {},
   "outputs": [
    {
     "name": "stdout",
     "output_type": "stream",
     "text": [
      "a=10,b=20\n",
      "30\n",
      "a=100,b=200\n",
      "300\n",
      "a=10.23,b=20\n",
      "30.23\n",
      "a=1,b=2\n",
      "3\n"
     ]
    }
   ],
   "source": [
    "def fun(a,b):\n",
    "    print(\"a=%s,b=%s\"%(a,b))\n",
    "    res=a+b\n",
    "    print(res)\n",
    "fun(10,20) # positional arguments\n",
    "fun(100,200)\n",
    "fun(10.23,20)\n",
    "fun(1,2)"
   ]
  },
  {
   "cell_type": "code",
   "execution_count": 7,
   "metadata": {},
   "outputs": [
    {
     "data": {
      "text/plain": [
       "True"
      ]
     },
     "execution_count": 7,
     "metadata": {},
     "output_type": "execute_result"
    }
   ],
   "source": [
    "# add, mul, sub, div\n",
    "isinstance(10,int)"
   ]
  },
  {
   "cell_type": "code",
   "execution_count": 8,
   "metadata": {},
   "outputs": [
    {
     "data": {
      "text/plain": [
       "False"
      ]
     },
     "execution_count": 8,
     "metadata": {},
     "output_type": "execute_result"
    }
   ],
   "source": [
    "isinstance(10,str)"
   ]
  },
  {
   "cell_type": "code",
   "execution_count": 9,
   "metadata": {},
   "outputs": [
    {
     "name": "stdout",
     "output_type": "stream",
     "text": [
      "a=10,b=20\n",
      "summation= 30\n",
      "a=10,b=20\n",
      "multiplication= 200\n",
      "a=10,b=20\n",
      "substraction= -10\n",
      "a=10,b=20\n",
      "division= 0.5\n"
     ]
    }
   ],
   "source": [
    "def add(a,b):\n",
    "    print(\"a=%s,b=%s\"%(a,b))\n",
    "    res=a+b\n",
    "    print(\"summation=\",res)\n",
    "def sub(a,b):\n",
    "    print(\"a=%s,b=%s\"%(a,b))\n",
    "    res=a-b\n",
    "    print(\"substraction=\",res)\n",
    "def mul(a,b):\n",
    "    print(\"a=%s,b=%s\"%(a,b))\n",
    "    res=a*b\n",
    "    print(\"multiplication=\",res)\n",
    "def div(a,b):\n",
    "    print(\"a=%s,b=%s\"%(a,b))\n",
    "    res=a/b\n",
    "    print(\"division=\",res)\n",
    "add(10,20)\n",
    "mul(10,20)\n",
    "sub(10,20)\n",
    "div(10,20)\n",
    "    "
   ]
  },
  {
   "cell_type": "code",
   "execution_count": 10,
   "metadata": {},
   "outputs": [
    {
     "name": "stdout",
     "output_type": "stream",
     "text": [
      "a=10,b=20\n",
      "summation= 30\n",
      "a=10,b=20\n",
      "multiplication= 200\n",
      "a=10,b=20\n",
      "substraction= -10\n",
      "a=10,b=20\n",
      "division= 0.5\n",
      "a=100,b=200\n",
      "summation= 300\n",
      "a=100,b=200\n",
      "multiplication= 20000\n",
      "a=100,b=200\n",
      "substraction= -100\n",
      "a=100,b=200\n",
      "division= 0.5\n"
     ]
    }
   ],
   "source": [
    "def add(a,b):\n",
    "    print(\"a=%s,b=%s\"%(a,b))\n",
    "    res=a+b\n",
    "    print(\"summation=\",res)\n",
    "def sub(a,b):\n",
    "    print(\"a=%s,b=%s\"%(a,b))\n",
    "    res=a-b\n",
    "    print(\"substraction=\",res)\n",
    "def mul(a,b):\n",
    "    print(\"a=%s,b=%s\"%(a,b))\n",
    "    res=a*b\n",
    "    print(\"multiplication=\",res)\n",
    "def div(a,b):\n",
    "    print(\"a=%s,b=%s\"%(a,b))\n",
    "    res=a/b\n",
    "    print(\"division=\",res)\n",
    "add(10,20)\n",
    "mul(10,20)\n",
    "sub(10,20)\n",
    "div(10,20)\n",
    "add(100,200)\n",
    "mul(100,200)\n",
    "sub(100,200)\n",
    "div(100,200)\n",
    "    "
   ]
  },
  {
   "cell_type": "code",
   "execution_count": 11,
   "metadata": {},
   "outputs": [
    {
     "ename": "TypeError",
     "evalue": "add() missing 3 required positional arguments: 'c', 'd', and 'e'",
     "output_type": "error",
     "traceback": [
      "\u001b[0;31m---------------------------------------------------------------------------\u001b[0m",
      "\u001b[0;31mTypeError\u001b[0m                                 Traceback (most recent call last)",
      "\u001b[0;32m<ipython-input-11-b8f89f5792b1>\u001b[0m in \u001b[0;36m<module>\u001b[0;34m()\u001b[0m\n\u001b[1;32m      2\u001b[0m     \u001b[0mprint\u001b[0m\u001b[0;34m(\u001b[0m\u001b[0;34m\"a=%s,b=%s,c=%s,d=%s,e=%s\"\u001b[0m\u001b[0;34m%\u001b[0m\u001b[0;34m(\u001b[0m\u001b[0ma\u001b[0m\u001b[0;34m,\u001b[0m\u001b[0mb\u001b[0m\u001b[0;34m,\u001b[0m\u001b[0mc\u001b[0m\u001b[0;34m,\u001b[0m\u001b[0md\u001b[0m\u001b[0;34m,\u001b[0m\u001b[0me\u001b[0m\u001b[0;34m)\u001b[0m\u001b[0;34m)\u001b[0m\u001b[0;34m\u001b[0m\u001b[0m\n\u001b[1;32m      3\u001b[0m     \u001b[0mprint\u001b[0m\u001b[0;34m(\u001b[0m\u001b[0ma\u001b[0m\u001b[0;34m+\u001b[0m\u001b[0mb\u001b[0m\u001b[0;34m+\u001b[0m\u001b[0mc\u001b[0m\u001b[0;34m+\u001b[0m\u001b[0md\u001b[0m\u001b[0;34m+\u001b[0m\u001b[0me\u001b[0m\u001b[0;34m)\u001b[0m\u001b[0;34m\u001b[0m\u001b[0m\n\u001b[0;32m----> 4\u001b[0;31m \u001b[0madd\u001b[0m\u001b[0;34m(\u001b[0m\u001b[0;36m100\u001b[0m\u001b[0;34m,\u001b[0m\u001b[0;36m20\u001b[0m\u001b[0;34m)\u001b[0m\u001b[0;34m\u001b[0m\u001b[0m\n\u001b[0m\u001b[1;32m      5\u001b[0m \u001b[0madd\u001b[0m\u001b[0;34m(\u001b[0m\u001b[0;36m100\u001b[0m\u001b[0;34m,\u001b[0m\u001b[0;36m200\u001b[0m\u001b[0;34m,\u001b[0m\u001b[0;36m300\u001b[0m\u001b[0;34m)\u001b[0m\u001b[0;34m\u001b[0m\u001b[0m\n\u001b[1;32m      6\u001b[0m \u001b[0madd\u001b[0m\u001b[0;34m(\u001b[0m\u001b[0;36m1000\u001b[0m\u001b[0;34m,\u001b[0m\u001b[0;36m2000\u001b[0m\u001b[0;34m,\u001b[0m\u001b[0;36m3000\u001b[0m\u001b[0;34m,\u001b[0m\u001b[0;36m4000\u001b[0m\u001b[0;34m)\u001b[0m\u001b[0;34m\u001b[0m\u001b[0m\n",
      "\u001b[0;31mTypeError\u001b[0m: add() missing 3 required positional arguments: 'c', 'd', and 'e'"
     ]
    }
   ],
   "source": [
    "def add(a,b,c,d,e):\n",
    "    print(\"a=%s,b=%s,c=%s,d=%s,e=%s\"%(a,b,c,d,e))\n",
    "    print(a+b+c+d+e)\n",
    "add(100,20)\n",
    "add(100,200,300)\n",
    "add(1000,2000,3000,4000)\n",
    "add(10,20,30,40,50)"
   ]
  },
  {
   "cell_type": "code",
   "execution_count": 12,
   "metadata": {},
   "outputs": [
    {
     "ename": "TypeError",
     "evalue": "add() missing 3 required positional arguments: 'c', 'd', and 'e'",
     "output_type": "error",
     "traceback": [
      "\u001b[0;31m---------------------------------------------------------------------------\u001b[0m",
      "\u001b[0;31mTypeError\u001b[0m                                 Traceback (most recent call last)",
      "\u001b[0;32m<ipython-input-12-2fd0a731ee28>\u001b[0m in \u001b[0;36m<module>\u001b[0;34m()\u001b[0m\n\u001b[1;32m      8\u001b[0m     \u001b[0mprint\u001b[0m\u001b[0;34m(\u001b[0m\u001b[0;34m\"a=%s,b=%s,c=%s,d=%s,e=%s\"\u001b[0m\u001b[0;34m%\u001b[0m\u001b[0;34m(\u001b[0m\u001b[0ma\u001b[0m\u001b[0;34m,\u001b[0m\u001b[0mb\u001b[0m\u001b[0;34m,\u001b[0m\u001b[0mc\u001b[0m\u001b[0;34m,\u001b[0m\u001b[0md\u001b[0m\u001b[0;34m,\u001b[0m\u001b[0me\u001b[0m\u001b[0;34m)\u001b[0m\u001b[0;34m)\u001b[0m\u001b[0;34m\u001b[0m\u001b[0m\n\u001b[1;32m      9\u001b[0m     \u001b[0mprint\u001b[0m\u001b[0;34m(\u001b[0m\u001b[0ma\u001b[0m\u001b[0;34m+\u001b[0m\u001b[0mb\u001b[0m\u001b[0;34m+\u001b[0m\u001b[0mc\u001b[0m\u001b[0;34m+\u001b[0m\u001b[0md\u001b[0m\u001b[0;34m+\u001b[0m\u001b[0me\u001b[0m\u001b[0;34m)\u001b[0m\u001b[0;34m\u001b[0m\u001b[0m\n\u001b[0;32m---> 10\u001b[0;31m \u001b[0madd\u001b[0m\u001b[0;34m(\u001b[0m\u001b[0;36m100\u001b[0m\u001b[0;34m,\u001b[0m\u001b[0;36m20\u001b[0m\u001b[0;34m)\u001b[0m\u001b[0;34m\u001b[0m\u001b[0m\n\u001b[0m\u001b[1;32m     11\u001b[0m \u001b[0madd\u001b[0m\u001b[0;34m(\u001b[0m\u001b[0;36m100\u001b[0m\u001b[0;34m,\u001b[0m\u001b[0;36m200\u001b[0m\u001b[0;34m,\u001b[0m\u001b[0;36m300\u001b[0m\u001b[0;34m)\u001b[0m\u001b[0;34m\u001b[0m\u001b[0m\n\u001b[1;32m     12\u001b[0m \u001b[0;31m#add(1000,2000,3000,4000)\u001b[0m\u001b[0;34m\u001b[0m\u001b[0;34m\u001b[0m\u001b[0m\n",
      "\u001b[0;31mTypeError\u001b[0m: add() missing 3 required positional arguments: 'c', 'd', and 'e'"
     ]
    }
   ],
   "source": [
    "def add(a,b):\n",
    "    print(\"a=%s,b=%s\"%(a,b))\n",
    "    res=a+b\n",
    "def add(a,b,c):\n",
    "    print(\"a=%s,b=%s,c=%s\"%(a,b,c))\n",
    "    res=a+b+c\n",
    "def add(a,b,c,d,e):\n",
    "    print(\"a=%s,b=%s,c=%s,d=%s,e=%s\"%(a,b,c,d,e))\n",
    "    print(a+b+c+d+e)\n",
    "add(100,20)\n",
    "add(100,200,300)\n",
    "#add(1000,2000,3000,4000)\n",
    "add(10,20,30,40,50)"
   ]
  },
  {
   "cell_type": "code",
   "execution_count": 13,
   "metadata": {},
   "outputs": [
    {
     "name": "stdout",
     "output_type": "stream",
     "text": [
      "a=100,b=200,c=0,d=0,e=0\n",
      "300\n",
      "a=100,b=200,c=300,d=0,e=0\n",
      "600\n",
      "a=1000,b=2000,c=3000,d=4000,e=0\n",
      "10000\n",
      "a=10,b=20,c=30,d=40,e=50\n",
      "150\n"
     ]
    }
   ],
   "source": [
    "def add(a,b,c=0,d=0,e=0):\n",
    "    \"\"\"\n",
    "    mandatory parameters: a,b\n",
    "    optional parameters:c,d,e\n",
    "    \"\"\"\n",
    "    print(\"a=%s,b=%s,c=%s,d=%s,e=%s\"%(a,b,c,d,e))\n",
    "    print(a+b+c+d+e)\n",
    "add(100,200)\n",
    "add(100,200,300)\n",
    "add(1000,2000,3000,4000)\n",
    "add(10,20,30,40,50)"
   ]
  },
  {
   "cell_type": "code",
   "execution_count": 14,
   "metadata": {},
   "outputs": [
    {
     "ename": "TypeError",
     "evalue": "add() missing 1 required positional argument: 'b'",
     "output_type": "error",
     "traceback": [
      "\u001b[0;31m---------------------------------------------------------------------------\u001b[0m",
      "\u001b[0;31mTypeError\u001b[0m                                 Traceback (most recent call last)",
      "\u001b[0;32m<ipython-input-14-1302c9c70955>\u001b[0m in \u001b[0;36m<module>\u001b[0;34m()\u001b[0m\n\u001b[1;32m      6\u001b[0m     \u001b[0mprint\u001b[0m\u001b[0;34m(\u001b[0m\u001b[0;34m\"a=%s,b=%s,c=%s,d=%s,e=%s\"\u001b[0m\u001b[0;34m%\u001b[0m\u001b[0;34m(\u001b[0m\u001b[0ma\u001b[0m\u001b[0;34m,\u001b[0m\u001b[0mb\u001b[0m\u001b[0;34m,\u001b[0m\u001b[0mc\u001b[0m\u001b[0;34m,\u001b[0m\u001b[0md\u001b[0m\u001b[0;34m,\u001b[0m\u001b[0me\u001b[0m\u001b[0;34m)\u001b[0m\u001b[0;34m)\u001b[0m\u001b[0;34m\u001b[0m\u001b[0m\n\u001b[1;32m      7\u001b[0m     \u001b[0mprint\u001b[0m\u001b[0;34m(\u001b[0m\u001b[0ma\u001b[0m\u001b[0;34m+\u001b[0m\u001b[0mb\u001b[0m\u001b[0;34m+\u001b[0m\u001b[0mc\u001b[0m\u001b[0;34m+\u001b[0m\u001b[0md\u001b[0m\u001b[0;34m+\u001b[0m\u001b[0me\u001b[0m\u001b[0;34m)\u001b[0m\u001b[0;34m\u001b[0m\u001b[0m\n\u001b[0;32m----> 8\u001b[0;31m \u001b[0madd\u001b[0m\u001b[0;34m(\u001b[0m\u001b[0;36m100\u001b[0m\u001b[0;34m)\u001b[0m\u001b[0;34m\u001b[0m\u001b[0m\n\u001b[0m",
      "\u001b[0;31mTypeError\u001b[0m: add() missing 1 required positional argument: 'b'"
     ]
    }
   ],
   "source": [
    "def add(a,b,c=0,d=0,e=0):\n",
    "    \"\"\"\n",
    "    mandatory parameters: a,b\n",
    "    optional parameters:c,d,e\n",
    "    \"\"\"\n",
    "    print(\"a=%s,b=%s,c=%s,d=%s,e=%s\"%(a,b,c,d,e))\n",
    "    print(a+b+c+d+e)\n",
    "add(100)"
   ]
  },
  {
   "cell_type": "code",
   "execution_count": 15,
   "metadata": {},
   "outputs": [
    {
     "ename": "TypeError",
     "evalue": "add() takes from 2 to 5 positional arguments but 6 were given",
     "output_type": "error",
     "traceback": [
      "\u001b[0;31m---------------------------------------------------------------------------\u001b[0m",
      "\u001b[0;31mTypeError\u001b[0m                                 Traceback (most recent call last)",
      "\u001b[0;32m<ipython-input-15-f427df02afb0>\u001b[0m in \u001b[0;36m<module>\u001b[0;34m()\u001b[0m\n\u001b[1;32m      6\u001b[0m     \u001b[0mprint\u001b[0m\u001b[0;34m(\u001b[0m\u001b[0;34m\"a=%s,b=%s,c=%s,d=%s,e=%s\"\u001b[0m\u001b[0;34m%\u001b[0m\u001b[0;34m(\u001b[0m\u001b[0ma\u001b[0m\u001b[0;34m,\u001b[0m\u001b[0mb\u001b[0m\u001b[0;34m,\u001b[0m\u001b[0mc\u001b[0m\u001b[0;34m,\u001b[0m\u001b[0md\u001b[0m\u001b[0;34m,\u001b[0m\u001b[0me\u001b[0m\u001b[0;34m)\u001b[0m\u001b[0;34m)\u001b[0m\u001b[0;34m\u001b[0m\u001b[0m\n\u001b[1;32m      7\u001b[0m     \u001b[0mprint\u001b[0m\u001b[0;34m(\u001b[0m\u001b[0ma\u001b[0m\u001b[0;34m+\u001b[0m\u001b[0mb\u001b[0m\u001b[0;34m+\u001b[0m\u001b[0mc\u001b[0m\u001b[0;34m+\u001b[0m\u001b[0md\u001b[0m\u001b[0;34m+\u001b[0m\u001b[0me\u001b[0m\u001b[0;34m)\u001b[0m\u001b[0;34m\u001b[0m\u001b[0m\n\u001b[0;32m----> 8\u001b[0;31m \u001b[0madd\u001b[0m\u001b[0;34m(\u001b[0m\u001b[0;36m10\u001b[0m\u001b[0;34m,\u001b[0m\u001b[0;36m20\u001b[0m\u001b[0;34m,\u001b[0m\u001b[0;36m30\u001b[0m\u001b[0;34m,\u001b[0m\u001b[0;36m40\u001b[0m\u001b[0;34m,\u001b[0m\u001b[0;36m50\u001b[0m\u001b[0;34m,\u001b[0m\u001b[0;36m60\u001b[0m\u001b[0;34m)\u001b[0m\u001b[0;34m\u001b[0m\u001b[0m\n\u001b[0m",
      "\u001b[0;31mTypeError\u001b[0m: add() takes from 2 to 5 positional arguments but 6 were given"
     ]
    }
   ],
   "source": [
    "def add(a,b,c=0,d=0,e=0):\n",
    "    \"\"\"\n",
    "    mandatory parameters: a,b\n",
    "    optional parameters:c,d,e\n",
    "    \"\"\"\n",
    "    print(\"a=%s,b=%s,c=%s,d=%s,e=%s\"%(a,b,c,d,e))\n",
    "    print(a+b+c+d+e)\n",
    "add(10,20,30,40,50,60)"
   ]
  },
  {
   "cell_type": "code",
   "execution_count": 16,
   "metadata": {},
   "outputs": [
    {
     "name": "stdout",
     "output_type": "stream",
     "text": [
      "() <class 'tuple'>\n",
      "(10,) <class 'tuple'>\n",
      "(10, 20) <class 'tuple'>\n",
      "(10, 20, 30, 40) <class 'tuple'>\n",
      "(10, 20, 30, 40, 50, 60) <class 'tuple'>\n",
      "(10, 20, 30, 40, 50, 60, 70, 80, 90, 90, 60, 70, 50, 60, 70, 70, 80, 50, 67) <class 'tuple'>\n"
     ]
    }
   ],
   "source": [
    "def add(*k): #*args\n",
    "    print(k,type(k))\n",
    "add()\n",
    "add(10)\n",
    "add(10,20)\n",
    "add(10,20,30,40)\n",
    "add(10,20,30,40,50,60)\n",
    "add(10,20,30,40,50,60,70,80,90,90,60,70,50,60,70,70,80,50,67)"
   ]
  },
  {
   "cell_type": "code",
   "execution_count": 17,
   "metadata": {},
   "outputs": [
    {
     "name": "stdout",
     "output_type": "stream",
     "text": [
      "() <class 'tuple'>\n",
      "0\n",
      "(10,) <class 'tuple'>\n",
      "10\n",
      "(10, 20) <class 'tuple'>\n",
      "30\n",
      "(10, 20, 30, 40) <class 'tuple'>\n",
      "100\n",
      "(10, 20, 30, 40, 50, 60) <class 'tuple'>\n",
      "210\n",
      "(10, 20, 30, 40, 50, 60, 70, 80, 90, 90, 60, 70, 50, 60, 70, 70, 80, 50, 67) <class 'tuple'>\n",
      "1117\n"
     ]
    }
   ],
   "source": [
    "def add(*k): #*args\n",
    "    print(k,type(k))\n",
    "    res=0\n",
    "    for i in k:\n",
    "        res=res+i\n",
    "    print(res)\n",
    "add()\n",
    "add(10)\n",
    "add(10,20)\n",
    "add(10,20,30,40)\n",
    "add(10,20,30,40,50,60)\n",
    "add(10,20,30,40,50,60,70,80,90,90,60,70,50,60,70,70,80,50,67)"
   ]
  },
  {
   "cell_type": "code",
   "execution_count": 18,
   "metadata": {},
   "outputs": [
    {
     "name": "stdout",
     "output_type": "stream",
     "text": [
      "a=10,b=20,c=30,d=0,e=0\n",
      "60\n"
     ]
    }
   ],
   "source": [
    "def add(a,b,c=0,d=0,e=0):\n",
    "    \"\"\"\n",
    "    mandatory parameters: a,b\n",
    "    optional parameters:c,d,e\n",
    "    \"\"\"\n",
    "    print(\"a=%s,b=%s,c=%s,d=%s,e=%s\"%(a,b,c,d,e))\n",
    "    print(a+b+c+d+e)\n",
    "add(10,20,30)"
   ]
  },
  {
   "cell_type": "code",
   "execution_count": 19,
   "metadata": {},
   "outputs": [
    {
     "name": "stdout",
     "output_type": "stream",
     "text": [
      "a=10,b=20,c=0,d=30,e=0\n",
      "60\n"
     ]
    }
   ],
   "source": [
    "def add(a,b,c=0,d=0,e=0):\n",
    "    \"\"\"\n",
    "    mandatory parameters: a,b\n",
    "    optional parameters:c,d,e\n",
    "    \"\"\"\n",
    "    print(\"a=%s,b=%s,c=%s,d=%s,e=%s\"%(a,b,c,d,e))\n",
    "    print(a+b+c+d+e)\n",
    "add(10,20,0,30)"
   ]
  },
  {
   "cell_type": "code",
   "execution_count": 20,
   "metadata": {},
   "outputs": [
    {
     "name": "stdout",
     "output_type": "stream",
     "text": [
      "a=10,b=20,c=0,d=0,e=30\n",
      "60\n"
     ]
    }
   ],
   "source": [
    "def add(a,b,c=0,d=0,e=0):\n",
    "    \"\"\"\n",
    "    mandatory parameters: a,b\n",
    "    optional parameters:c,d,e\n",
    "    \"\"\"\n",
    "    print(\"a=%s,b=%s,c=%s,d=%s,e=%s\"%(a,b,c,d,e))\n",
    "    print(a+b+c+d+e)\n",
    "add(10,20,0,0,30)"
   ]
  },
  {
   "cell_type": "code",
   "execution_count": 21,
   "metadata": {},
   "outputs": [],
   "source": [
    "import pandas as pd"
   ]
  },
  {
   "cell_type": "code",
   "execution_count": 22,
   "metadata": {},
   "outputs": [],
   "source": [
    "pd.read_csv?"
   ]
  },
  {
   "cell_type": "code",
   "execution_count": 23,
   "metadata": {},
   "outputs": [
    {
     "name": "stdout",
     "output_type": "stream",
     "text": [
      "a=10,b=20,c=0,d=30,e=0\n",
      "60\n"
     ]
    }
   ],
   "source": [
    "def add(a,b,c=0,d=0,e=0):\n",
    "    \"\"\"\n",
    "    mandatory parameters: a,b\n",
    "    optional parameters:c,d,e\n",
    "    \"\"\"\n",
    "    print(\"a=%s,b=%s,c=%s,d=%s,e=%s\"%(a,b,c,d,e))\n",
    "    print(a+b+c+d+e)\n",
    "add(10,20,d=30) # 10,20 are positional arguments, d=30 is keyword argument\n"
   ]
  },
  {
   "cell_type": "code",
   "execution_count": 24,
   "metadata": {},
   "outputs": [
    {
     "name": "stdout",
     "output_type": "stream",
     "text": [
      "a=40,b=20,c=10,d=30,e=0\n",
      "100\n"
     ]
    }
   ],
   "source": [
    "def add(a,b,c=0,d=0,e=0):\n",
    "    \"\"\"\n",
    "    mandatory parameters: a,b\n",
    "    optional parameters:c,d,e\n",
    "    \"\"\"\n",
    "    print(\"a=%s,b=%s,c=%s,d=%s,e=%s\"%(a,b,c,d,e))\n",
    "    print(a+b+c+d+e)\n",
    "add(c=10,b=20,d=30,a=40)\n"
   ]
  },
  {
   "cell_type": "code",
   "execution_count": 25,
   "metadata": {},
   "outputs": [
    {
     "ename": "TypeError",
     "evalue": "add() missing 1 required positional argument: 'a'",
     "output_type": "error",
     "traceback": [
      "\u001b[0;31m---------------------------------------------------------------------------\u001b[0m",
      "\u001b[0;31mTypeError\u001b[0m                                 Traceback (most recent call last)",
      "\u001b[0;32m<ipython-input-25-5d3acf438e1c>\u001b[0m in \u001b[0;36m<module>\u001b[0;34m()\u001b[0m\n\u001b[1;32m      6\u001b[0m     \u001b[0mprint\u001b[0m\u001b[0;34m(\u001b[0m\u001b[0;34m\"a=%s,b=%s,c=%s,d=%s,e=%s\"\u001b[0m\u001b[0;34m%\u001b[0m\u001b[0;34m(\u001b[0m\u001b[0ma\u001b[0m\u001b[0;34m,\u001b[0m\u001b[0mb\u001b[0m\u001b[0;34m,\u001b[0m\u001b[0mc\u001b[0m\u001b[0;34m,\u001b[0m\u001b[0md\u001b[0m\u001b[0;34m,\u001b[0m\u001b[0me\u001b[0m\u001b[0;34m)\u001b[0m\u001b[0;34m)\u001b[0m\u001b[0;34m\u001b[0m\u001b[0m\n\u001b[1;32m      7\u001b[0m     \u001b[0mprint\u001b[0m\u001b[0;34m(\u001b[0m\u001b[0ma\u001b[0m\u001b[0;34m+\u001b[0m\u001b[0mb\u001b[0m\u001b[0;34m+\u001b[0m\u001b[0mc\u001b[0m\u001b[0;34m+\u001b[0m\u001b[0md\u001b[0m\u001b[0;34m+\u001b[0m\u001b[0me\u001b[0m\u001b[0;34m)\u001b[0m\u001b[0;34m\u001b[0m\u001b[0m\n\u001b[0;32m----> 8\u001b[0;31m \u001b[0madd\u001b[0m\u001b[0;34m(\u001b[0m\u001b[0mc\u001b[0m\u001b[0;34m=\u001b[0m\u001b[0;36m10\u001b[0m\u001b[0;34m,\u001b[0m\u001b[0mb\u001b[0m\u001b[0;34m=\u001b[0m\u001b[0;36m20\u001b[0m\u001b[0;34m,\u001b[0m\u001b[0md\u001b[0m\u001b[0;34m=\u001b[0m\u001b[0;36m30\u001b[0m\u001b[0;34m)\u001b[0m\u001b[0;34m\u001b[0m\u001b[0m\n\u001b[0m",
      "\u001b[0;31mTypeError\u001b[0m: add() missing 1 required positional argument: 'a'"
     ]
    }
   ],
   "source": [
    "def add(a,b,c=0,d=0,e=0):\n",
    "    \"\"\"\n",
    "    mandatory parameters: a,b\n",
    "    optional parameters:c,d,e\n",
    "    \"\"\"\n",
    "    print(\"a=%s,b=%s,c=%s,d=%s,e=%s\"%(a,b,c,d,e))\n",
    "    print(a+b+c+d+e)\n",
    "add(c=10,b=20,d=30)"
   ]
  },
  {
   "cell_type": "code",
   "execution_count": 26,
   "metadata": {},
   "outputs": [
    {
     "ename": "TypeError",
     "evalue": "add() got an unexpected keyword argument 'f'",
     "output_type": "error",
     "traceback": [
      "\u001b[0;31m---------------------------------------------------------------------------\u001b[0m",
      "\u001b[0;31mTypeError\u001b[0m                                 Traceback (most recent call last)",
      "\u001b[0;32m<ipython-input-26-3d2c7db0a7f0>\u001b[0m in \u001b[0;36m<module>\u001b[0;34m()\u001b[0m\n\u001b[1;32m      6\u001b[0m     \u001b[0mprint\u001b[0m\u001b[0;34m(\u001b[0m\u001b[0;34m\"a=%s,b=%s,c=%s,d=%s,e=%s\"\u001b[0m\u001b[0;34m%\u001b[0m\u001b[0;34m(\u001b[0m\u001b[0ma\u001b[0m\u001b[0;34m,\u001b[0m\u001b[0mb\u001b[0m\u001b[0;34m,\u001b[0m\u001b[0mc\u001b[0m\u001b[0;34m,\u001b[0m\u001b[0md\u001b[0m\u001b[0;34m,\u001b[0m\u001b[0me\u001b[0m\u001b[0;34m)\u001b[0m\u001b[0;34m)\u001b[0m\u001b[0;34m\u001b[0m\u001b[0m\n\u001b[1;32m      7\u001b[0m     \u001b[0mprint\u001b[0m\u001b[0;34m(\u001b[0m\u001b[0ma\u001b[0m\u001b[0;34m+\u001b[0m\u001b[0mb\u001b[0m\u001b[0;34m+\u001b[0m\u001b[0mc\u001b[0m\u001b[0;34m+\u001b[0m\u001b[0md\u001b[0m\u001b[0;34m+\u001b[0m\u001b[0me\u001b[0m\u001b[0;34m)\u001b[0m\u001b[0;34m\u001b[0m\u001b[0m\n\u001b[0;32m----> 8\u001b[0;31m \u001b[0madd\u001b[0m\u001b[0;34m(\u001b[0m\u001b[0ma\u001b[0m\u001b[0;34m=\u001b[0m\u001b[0;36m100\u001b[0m\u001b[0;34m,\u001b[0m\u001b[0mb\u001b[0m\u001b[0;34m=\u001b[0m\u001b[0;36m200\u001b[0m\u001b[0;34m,\u001b[0m\u001b[0mf\u001b[0m\u001b[0;34m=\u001b[0m\u001b[0;36m40\u001b[0m\u001b[0;34m)\u001b[0m\u001b[0;34m\u001b[0m\u001b[0m\n\u001b[0m",
      "\u001b[0;31mTypeError\u001b[0m: add() got an unexpected keyword argument 'f'"
     ]
    }
   ],
   "source": [
    "def add(a,b,c=0,d=0,e=0):\n",
    "    \"\"\"\n",
    "    mandatory parameters: a,b\n",
    "    optional parameters:c,d,e\n",
    "    \"\"\"\n",
    "    print(\"a=%s,b=%s,c=%s,d=%s,e=%s\"%(a,b,c,d,e))\n",
    "    print(a+b+c+d+e)\n",
    "add(a=100,b=200,f=40)"
   ]
  },
  {
   "cell_type": "code",
   "execution_count": 27,
   "metadata": {},
   "outputs": [
    {
     "name": "stdout",
     "output_type": "stream",
     "text": [
      "{} <class 'dict'>\n",
      "{'a': 10, 'b': 20, 'c': 30} <class 'dict'>\n",
      "{'d': 40, 'f': 50, 'e': 60, 'a': 50, 'b': 40} <class 'dict'>\n"
     ]
    }
   ],
   "source": [
    "def add(**kw): #kwargs\n",
    "    print(kw,type(kw)) \n",
    "add()\n",
    "add(a=10,b=20,c=30)\n",
    "add(d=40,f=50,e=60,a=50,b=40)"
   ]
  },
  {
   "cell_type": "code",
   "execution_count": 28,
   "metadata": {},
   "outputs": [],
   "source": [
    "def add(a,b,c=0,d=0,*k,**kw):\n",
    "    pass\n"
   ]
  },
  {
   "cell_type": "code",
   "execution_count": 29,
   "metadata": {},
   "outputs": [],
   "source": [
    "def add(a,b,*k,c=0,d=0,**kw):\n",
    "    pass\n"
   ]
  },
  {
   "cell_type": "code",
   "execution_count": 31,
   "metadata": {},
   "outputs": [
    {
     "ename": "SyntaxError",
     "evalue": "invalid syntax (<ipython-input-31-ecea7986e351>, line 1)",
     "output_type": "error",
     "traceback": [
      "\u001b[0;36m  File \u001b[0;32m\"<ipython-input-31-ecea7986e351>\"\u001b[0;36m, line \u001b[0;32m1\u001b[0m\n\u001b[0;31m    def add(a,b,**kw,*k,c=0,d=0):\u001b[0m\n\u001b[0m                     ^\u001b[0m\n\u001b[0;31mSyntaxError\u001b[0m\u001b[0;31m:\u001b[0m invalid syntax\n"
     ]
    }
   ],
   "source": [
    "def add(a,b,**kw,*k,c=0,d=0):\n",
    "    pass\n"
   ]
  },
  {
   "cell_type": "code",
   "execution_count": 32,
   "metadata": {},
   "outputs": [
    {
     "ename": "SyntaxError",
     "evalue": "invalid syntax (<ipython-input-32-1d04d8579da2>, line 1)",
     "output_type": "error",
     "traceback": [
      "\u001b[0;36m  File \u001b[0;32m\"<ipython-input-32-1d04d8579da2>\"\u001b[0;36m, line \u001b[0;32m1\u001b[0m\n\u001b[0;31m    def add(a,b,c=0,d=0,*k,**kw,e,f):\u001b[0m\n\u001b[0m                                ^\u001b[0m\n\u001b[0;31mSyntaxError\u001b[0m\u001b[0;31m:\u001b[0m invalid syntax\n"
     ]
    }
   ],
   "source": [
    "def add(a,b,c=0,d=0,*k,**kw,e,f):\n",
    "    pass\n"
   ]
  },
  {
   "cell_type": "code",
   "execution_count": 33,
   "metadata": {},
   "outputs": [
    {
     "name": "stdout",
     "output_type": "stream",
     "text": [
      "a=10,b=20,c=0,d=0\n",
      "()\n",
      "{}\n"
     ]
    }
   ],
   "source": [
    "def add(a,b,c=0,d=0,*k,**kw):\n",
    "    print(\"a=%s,b=%s,c=%s,d=%s\"%(a,b,c,d))\n",
    "    print(k)\n",
    "    print(kw)\n",
    "add(10,20)\n"
   ]
  },
  {
   "cell_type": "code",
   "execution_count": 34,
   "metadata": {},
   "outputs": [
    {
     "name": "stdout",
     "output_type": "stream",
     "text": [
      "a=10,b=20,c=100,d=200\n",
      "()\n",
      "{}\n"
     ]
    }
   ],
   "source": [
    "def add(a,b,c=0,d=0,*k,**kw):\n",
    "    print(\"a=%s,b=%s,c=%s,d=%s\"%(a,b,c,d))\n",
    "    print(k)\n",
    "    print(kw)\n",
    "add(10,20,100,200)"
   ]
  },
  {
   "cell_type": "code",
   "execution_count": 35,
   "metadata": {},
   "outputs": [
    {
     "name": "stdout",
     "output_type": "stream",
     "text": [
      "a=10,b=20,c=0,d=0\n",
      "()\n",
      "{'f': 100, 'g': 200}\n"
     ]
    }
   ],
   "source": [
    "def add(a,b,c=0,d=0,*k,**kw):\n",
    "    print(\"a=%s,b=%s,c=%s,d=%s\"%(a,b,c,d))\n",
    "    print(k)\n",
    "    print(kw)\n",
    "add(10,20,f=100,g=200)"
   ]
  },
  {
   "cell_type": "code",
   "execution_count": 36,
   "metadata": {},
   "outputs": [
    {
     "name": "stdout",
     "output_type": "stream",
     "text": [
      "a=10,b=20,c=300,d=0\n",
      "()\n",
      "{'f': 100, 'g': 200}\n"
     ]
    }
   ],
   "source": [
    "def add(a,b,c=0,d=0,*k,**kw):\n",
    "    print(\"a=%s,b=%s,c=%s,d=%s\"%(a,b,c,d))\n",
    "    print(k)\n",
    "    print(kw)\n",
    "add(10,20,f=100,g=200,c=300)"
   ]
  },
  {
   "cell_type": "code",
   "execution_count": 37,
   "metadata": {},
   "outputs": [
    {
     "name": "stdout",
     "output_type": "stream",
     "text": [
      "a=10,b=20,c=30,d=40\n",
      "(50, 70)\n",
      "{}\n"
     ]
    }
   ],
   "source": [
    "def add(a,b,c=0,d=0,*k,**kw):\n",
    "    print(\"a=%s,b=%s,c=%s,d=%s\"%(a,b,c,d))\n",
    "    print(k)\n",
    "    print(kw)\n",
    "add(10,20,30,40,50,70)"
   ]
  },
  {
   "cell_type": "code",
   "execution_count": 38,
   "metadata": {},
   "outputs": [
    {
     "name": "stdout",
     "output_type": "stream",
     "text": [
      "a=10,b=20,c=30,d=40\n",
      "(50, 70)\n",
      "{'f': 40, 'g': 50}\n"
     ]
    }
   ],
   "source": [
    "def add(a,b,c=0,d=0,*k,**kw):\n",
    "    print(\"a=%s,b=%s,c=%s,d=%s\"%(a,b,c,d))\n",
    "    print(k)\n",
    "    print(kw)\n",
    "add(10,20,30,40,50,70,f=40,g=50)"
   ]
  },
  {
   "cell_type": "code",
   "execution_count": 39,
   "metadata": {},
   "outputs": [
    {
     "ename": "SyntaxError",
     "evalue": "positional argument follows keyword argument (<ipython-input-39-ec60537068c7>, line 5)",
     "output_type": "error",
     "traceback": [
      "\u001b[0;36m  File \u001b[0;32m\"<ipython-input-39-ec60537068c7>\"\u001b[0;36m, line \u001b[0;32m5\u001b[0m\n\u001b[0;31m    add(10,20,30,40,50,70,f=40,g=50,300)\u001b[0m\n\u001b[0m                                   ^\u001b[0m\n\u001b[0;31mSyntaxError\u001b[0m\u001b[0;31m:\u001b[0m positional argument follows keyword argument\n"
     ]
    }
   ],
   "source": [
    "def add(a,b,c=0,d=0,*k,**kw):\n",
    "    print(\"a=%s,b=%s,c=%s,d=%s\"%(a,b,c,d))\n",
    "    print(k)\n",
    "    print(kw)\n",
    "add(10,20,30,40,50,70,f=40,g=50,300)"
   ]
  },
  {
   "cell_type": "code",
   "execution_count": 40,
   "metadata": {},
   "outputs": [
    {
     "name": "stdout",
     "output_type": "stream",
     "text": [
      "<function add at 0x7f32ffd00400>\n",
      "139857016914944\n",
      "<class 'function'>\n"
     ]
    }
   ],
   "source": [
    "def add(a,b):\n",
    "    print(\"a=%s,b=%s\"%(a,b))\n",
    "print(add)\n",
    "print(id(add))\n",
    "print(type(add))"
   ]
  },
  {
   "cell_type": "code",
   "execution_count": 41,
   "metadata": {},
   "outputs": [
    {
     "name": "stdout",
     "output_type": "stream",
     "text": [
      "a=10,b=20\n"
     ]
    }
   ],
   "source": [
    "def add(a,b):\n",
    "    print(\"a=%s,b=%s\"%(a,b))\n",
    "a1=add\n",
    "a1(10,20)"
   ]
  },
  {
   "cell_type": "code",
   "execution_count": 42,
   "metadata": {},
   "outputs": [
    {
     "name": "stdout",
     "output_type": "stream",
     "text": [
      "a=10,b=20\n",
      "a=10,b=20\n"
     ]
    }
   ],
   "source": [
    "def add(a,b):\n",
    "    print(\"a=%s,b=%s\"%(a,b))\n",
    "a1=add\n",
    "a1(10,20)\n",
    "add(10,20)"
   ]
  },
  {
   "cell_type": "code",
   "execution_count": 43,
   "metadata": {},
   "outputs": [
    {
     "name": "stdout",
     "output_type": "stream",
     "text": [
      "x= 100\n",
      "a=10,b=20\n"
     ]
    }
   ],
   "source": [
    "x=100\n",
    "def add(a,b):\n",
    "    print(\"x=\",x)\n",
    "    print(\"a=%s,b=%s\"%(a,b))\n",
    "add(10,20)"
   ]
  },
  {
   "cell_type": "code",
   "execution_count": 44,
   "metadata": {},
   "outputs": [
    {
     "name": "stdout",
     "output_type": "stream",
     "text": [
      "x before fun call: 100\n",
      "x inside fun: 200\n",
      "a=10,b=20\n",
      "x after fun call: 100\n"
     ]
    }
   ],
   "source": [
    "x=100\n",
    "print(\"x before fun call:\",x)\n",
    "def add(a,b):\n",
    "    x=200\n",
    "    print(\"x inside fun:\",x)\n",
    "    print(\"a=%s,b=%s\"%(a,b))\n",
    "add(10,20)\n",
    "print(\"x after fun call:\",x)"
   ]
  },
  {
   "cell_type": "code",
   "execution_count": 45,
   "metadata": {},
   "outputs": [
    {
     "name": "stdout",
     "output_type": "stream",
     "text": [
      "x before fun call: 100\n",
      "z inside fun: 300\n",
      "x inside fun: 200\n",
      "a=10,b=20\n",
      "x after fun call: 100\n"
     ]
    },
    {
     "ename": "NameError",
     "evalue": "name 'z' is not defined",
     "output_type": "error",
     "traceback": [
      "\u001b[0;31m---------------------------------------------------------------------------\u001b[0m",
      "\u001b[0;31mNameError\u001b[0m                                 Traceback (most recent call last)",
      "\u001b[0;32m<ipython-input-45-a241264a8509>\u001b[0m in \u001b[0;36m<module>\u001b[0;34m()\u001b[0m\n\u001b[1;32m      9\u001b[0m \u001b[0madd\u001b[0m\u001b[0;34m(\u001b[0m\u001b[0;36m10\u001b[0m\u001b[0;34m,\u001b[0m\u001b[0;36m20\u001b[0m\u001b[0;34m)\u001b[0m\u001b[0;34m\u001b[0m\u001b[0m\n\u001b[1;32m     10\u001b[0m \u001b[0mprint\u001b[0m\u001b[0;34m(\u001b[0m\u001b[0;34m\"x after fun call:\"\u001b[0m\u001b[0;34m,\u001b[0m\u001b[0mx\u001b[0m\u001b[0;34m)\u001b[0m\u001b[0;34m\u001b[0m\u001b[0m\n\u001b[0;32m---> 11\u001b[0;31m \u001b[0mprint\u001b[0m\u001b[0;34m(\u001b[0m\u001b[0;34m\"z outdie fun after call:\"\u001b[0m\u001b[0;34m,\u001b[0m\u001b[0mz\u001b[0m\u001b[0;34m)\u001b[0m\u001b[0;34m\u001b[0m\u001b[0m\n\u001b[0m",
      "\u001b[0;31mNameError\u001b[0m: name 'z' is not defined"
     ]
    }
   ],
   "source": [
    "x=100\n",
    "print(\"x before fun call:\",x)\n",
    "def add(a,b):\n",
    "    x=200\n",
    "    z=300\n",
    "    print(\"z inside fun:\",z)\n",
    "    print(\"x inside fun:\",x)\n",
    "    print(\"a=%s,b=%s\"%(a,b))\n",
    "add(10,20)\n",
    "print(\"x after fun call:\",x)\n",
    "print(\"z outdie fun after call:\",z)"
   ]
  },
  {
   "cell_type": "code",
   "execution_count": 46,
   "metadata": {},
   "outputs": [
    {
     "name": "stdout",
     "output_type": "stream",
     "text": [
      "y before fun call: 300\n",
      "x before fun call: 100\n",
      "z inside fun: 300\n",
      "x inside fun: 200\n",
      "a=10,b=20\n",
      "x after fun call: 100\n",
      "y after fun call: 4000\n"
     ]
    }
   ],
   "source": [
    "x=100\n",
    "y=300\n",
    "print(\"y before fun call:\",y)\n",
    "print(\"x before fun call:\",x)\n",
    "def add(a,b):\n",
    "    x=200\n",
    "    z=300\n",
    "    global y\n",
    "    y=4000\n",
    "    print(\"z inside fun:\",z)\n",
    "    print(\"x inside fun:\",x)\n",
    "    print(\"a=%s,b=%s\"%(a,b))\n",
    "add(10,20)\n",
    "print(\"x after fun call:\",x)\n",
    "print(\"y after fun call:\",y)\n",
    "#print(\"z outdie fun after call:\",z)"
   ]
  },
  {
   "cell_type": "code",
   "execution_count": 47,
   "metadata": {},
   "outputs": [
    {
     "name": "stdout",
     "output_type": "stream",
     "text": [
      "y before fun call: 300\n",
      "x before fun call: 100\n",
      "z inside fun: 300\n",
      "x inside fun: 200\n",
      "a=10,b=20\n",
      "x after fun call: 100\n",
      "y after fun call: 300\n",
      "y1 after fun call: 4000\n"
     ]
    }
   ],
   "source": [
    "x=100\n",
    "y=300\n",
    "print(\"y before fun call:\",y)\n",
    "print(\"x before fun call:\",x)\n",
    "def add(a,b):\n",
    "    x=200\n",
    "    z=300\n",
    "    global y1\n",
    "    y1=4000\n",
    "    print(\"z inside fun:\",z)\n",
    "    print(\"x inside fun:\",x)\n",
    "    print(\"a=%s,b=%s\"%(a,b))\n",
    "add(10,20)\n",
    "print(\"x after fun call:\",x)\n",
    "print(\"y after fun call:\",y)\n",
    "print(\"y1 after fun call:\",y1)\n",
    "#print(\"z outdie fun after call:\",z)"
   ]
  },
  {
   "cell_type": "code",
   "execution_count": 48,
   "metadata": {},
   "outputs": [
    {
     "name": "stdout",
     "output_type": "stream",
     "text": [
      "10 20 30\n"
     ]
    }
   ],
   "source": [
    "def add(a,b):\n",
    "    print(a,b)\n",
    "def add(a,b,c):\n",
    "    print(a,b,c)\n",
    "add(10,20,30)"
   ]
  },
  {
   "cell_type": "code",
   "execution_count": 49,
   "metadata": {},
   "outputs": [
    {
     "ename": "TypeError",
     "evalue": "add() missing 1 required positional argument: 'c'",
     "output_type": "error",
     "traceback": [
      "\u001b[0;31m---------------------------------------------------------------------------\u001b[0m",
      "\u001b[0;31mTypeError\u001b[0m                                 Traceback (most recent call last)",
      "\u001b[0;32m<ipython-input-49-eb1a7010a45a>\u001b[0m in \u001b[0;36m<module>\u001b[0;34m()\u001b[0m\n\u001b[1;32m      3\u001b[0m \u001b[0;32mdef\u001b[0m \u001b[0madd\u001b[0m\u001b[0;34m(\u001b[0m\u001b[0ma\u001b[0m\u001b[0;34m,\u001b[0m\u001b[0mb\u001b[0m\u001b[0;34m,\u001b[0m\u001b[0mc\u001b[0m\u001b[0;34m)\u001b[0m\u001b[0;34m:\u001b[0m\u001b[0;34m\u001b[0m\u001b[0m\n\u001b[1;32m      4\u001b[0m     \u001b[0mprint\u001b[0m\u001b[0;34m(\u001b[0m\u001b[0ma\u001b[0m\u001b[0;34m,\u001b[0m\u001b[0mb\u001b[0m\u001b[0;34m,\u001b[0m\u001b[0mc\u001b[0m\u001b[0;34m)\u001b[0m\u001b[0;34m\u001b[0m\u001b[0m\n\u001b[0;32m----> 5\u001b[0;31m \u001b[0madd\u001b[0m\u001b[0;34m(\u001b[0m\u001b[0;36m10\u001b[0m\u001b[0;34m,\u001b[0m\u001b[0;36m20\u001b[0m\u001b[0;34m)\u001b[0m\u001b[0;34m\u001b[0m\u001b[0m\n\u001b[0m",
      "\u001b[0;31mTypeError\u001b[0m: add() missing 1 required positional argument: 'c'"
     ]
    }
   ],
   "source": [
    "def add(a,b):\n",
    "    print(a,b)\n",
    "def add(a,b,c):\n",
    "    print(a,b,c)\n",
    "add(10,20)"
   ]
  },
  {
   "cell_type": "code",
   "execution_count": 50,
   "metadata": {},
   "outputs": [
    {
     "name": "stdout",
     "output_type": "stream",
     "text": [
      "r2= <function add at 0x7f32ffd00268>\n",
      "a=10,b=20\n",
      "r1= None\n"
     ]
    }
   ],
   "source": [
    "def add(a,b):\n",
    "    print(\"a=%s,b=%s\"%(a,b))\n",
    "    res=a+b\n",
    "r2=add\n",
    "print(\"r2=\",r2)\n",
    "r1=add(10,20)\n",
    "print(\"r1=\",r1)"
   ]
  },
  {
   "cell_type": "code",
   "execution_count": 51,
   "metadata": {},
   "outputs": [
    {
     "name": "stdout",
     "output_type": "stream",
     "text": [
      "r2= <function add at 0x7f32ffd00840>\n",
      "a=10,b=20\n",
      "r1= some value\n"
     ]
    }
   ],
   "source": [
    "def add(a,b):\n",
    "    print(\"a=%s,b=%s\"%(a,b))\n",
    "    c=a+b\n",
    "    d=a-b\n",
    "    e=a*b\n",
    "    f=a/b\n",
    "    return \"some value\"\n",
    "r2=add\n",
    "print(\"r2=\",r2)\n",
    "r1=add(10,20)\n",
    "print(\"r1=\",r1)"
   ]
  },
  {
   "cell_type": "code",
   "execution_count": 52,
   "metadata": {},
   "outputs": [
    {
     "name": "stdout",
     "output_type": "stream",
     "text": [
      "r2= <function add at 0x7f32ffd00268>\n",
      "a=10,b=20\n",
      "r1= 30\n"
     ]
    }
   ],
   "source": [
    "def add(a,b):\n",
    "    print(\"a=%s,b=%s\"%(a,b))\n",
    "    c=a+b\n",
    "    d=a-b\n",
    "    e=a*b\n",
    "    f=a/b\n",
    "    return c\n",
    "r2=add\n",
    "print(\"r2=\",r2)\n",
    "r1=add(10,20)\n",
    "print(\"r1=\",r1)"
   ]
  },
  {
   "cell_type": "code",
   "execution_count": 53,
   "metadata": {},
   "outputs": [
    {
     "name": "stdout",
     "output_type": "stream",
     "text": [
      "r2= <function add at 0x7f32ffd008c8>\n",
      "a=10,b=20\n",
      "r1= (30, -10, 200, 0.5)\n"
     ]
    }
   ],
   "source": [
    "def add(a,b):\n",
    "    print(\"a=%s,b=%s\"%(a,b))\n",
    "    c=a+b\n",
    "    d=a-b\n",
    "    e=a*b\n",
    "    f=a/b\n",
    "    return c,d,e,f\n",
    "r2=add\n",
    "print(\"r2=\",r2)\n",
    "r1=add(10,20)\n",
    "print(\"r1=\",r1)"
   ]
  },
  {
   "cell_type": "code",
   "execution_count": 54,
   "metadata": {},
   "outputs": [
    {
     "name": "stdout",
     "output_type": "stream",
     "text": [
      "r2= <function add at 0x7f32ffd00950>\n",
      "a=10,b=20\n",
      "r1= None\n"
     ]
    }
   ],
   "source": [
    "def add(a,b):\n",
    "    print(\"a=%s,b=%s\"%(a,b))\n",
    "    c=a+b\n",
    "    d=a-b\n",
    "    e=a*b\n",
    "    f=a/b\n",
    "r2=add\n",
    "print(\"r2=\",r2)\n",
    "r1=add(10,20)\n",
    "print(\"r1=\",r1)"
   ]
  },
  {
   "cell_type": "code",
   "execution_count": 55,
   "metadata": {},
   "outputs": [
    {
     "name": "stdout",
     "output_type": "stream",
     "text": [
      "st1\n",
      "r1= 10\n"
     ]
    }
   ],
   "source": [
    "def fun():\n",
    "    print(\"st1\")\n",
    "    return 10\n",
    "    print(\"st2\")\n",
    "    return 20\n",
    "    print(\"st3\")\n",
    "    return 30\n",
    "r1=fun()\n",
    "print(\"r1=\",r1)"
   ]
  },
  {
   "cell_type": "code",
   "execution_count": null,
   "metadata": {},
   "outputs": [],
   "source": [
    "def fun():\n",
    "    print(\"st1\")\n",
    "    yield 10\n",
    "    print(\"st2\")\n",
    "    yield 20\n",
    "    print(\"st3\")\n",
    "    yield 30\n",
    "r1=fun()\n",
    "print(\"r1=\",r1)"
   ]
  },
  {
   "cell_type": "code",
   "execution_count": 56,
   "metadata": {},
   "outputs": [
    {
     "name": "stdout",
     "output_type": "stream",
     "text": [
      "welcome\n",
      "a=10,b=20\n",
      "res= 30\n",
      "some statementes\n",
      "a=100,b=200\n",
      "res= 300\n",
      "some more statements\n",
      "a=1000,b=2000\n",
      "res= 3000\n",
      "thank you\n"
     ]
    }
   ],
   "source": [
    "print(\"welcome\")\n",
    "a=10\n",
    "b=20\n",
    "print(\"a=%s,b=%s\"%(a,b))\n",
    "res=a+b\n",
    "print(\"res=\",res)\n",
    "print(\"some statementes\")\n",
    "a=100\n",
    "b=200\n",
    "print(\"a=%s,b=%s\"%(a,b))\n",
    "res=a+b\n",
    "print(\"res=\",res)\n",
    "print(\"some more statements\")\n",
    "a=1000\n",
    "b=2000\n",
    "print(\"a=%s,b=%s\"%(a,b))\n",
    "res=a+b\n",
    "print(\"res=\",res)\n",
    "print(\"thank you\")"
   ]
  },
  {
   "cell_type": "code",
   "execution_count": 57,
   "metadata": {},
   "outputs": [
    {
     "name": "stdout",
     "output_type": "stream",
     "text": [
      "welcome\n",
      "a=10,b=20\n",
      "summation= 30\n",
      "some statementes\n",
      "a=100,b=200\n",
      "summation= 300\n",
      "some more statements\n",
      "a=1000,b=2000\n",
      "summation= 3000\n",
      "thank you\n"
     ]
    }
   ],
   "source": [
    "print(\"welcome\")\n",
    "a=10\n",
    "b=20\n",
    "print(\"a=%s,b=%s\"%(a,b))\n",
    "res=a+b\n",
    "print(\"summation=\",res)\n",
    "print(\"some statementes\")\n",
    "a=100\n",
    "b=200\n",
    "print(\"a=%s,b=%s\"%(a,b))\n",
    "res=a+b\n",
    "print(\"summation=\",res)\n",
    "print(\"some more statements\")\n",
    "a=1000\n",
    "b=2000\n",
    "print(\"a=%s,b=%s\"%(a,b))\n",
    "res=a+b\n",
    "print(\"summation=\",res)\n",
    "print(\"thank you\")"
   ]
  },
  {
   "cell_type": "code",
   "execution_count": 58,
   "metadata": {},
   "outputs": [
    {
     "name": "stdout",
     "output_type": "stream",
     "text": [
      "welcome\n",
      "a=10,b=20\n",
      "res= 30\n",
      "some statementes\n",
      "a=100,b=200\n",
      "res= 300\n",
      "some more statements\n",
      "a=1000,b=200\n",
      "res= 1200\n",
      "thank you\n"
     ]
    }
   ],
   "source": [
    "print(\"welcome\")\n",
    "def fun(a,b):\n",
    "    print(\"a=%s,b=%s\"%(a,b))\n",
    "    res=a+b\n",
    "    print(\"res=\",res)\n",
    "fun(10,20)\n",
    "print(\"some statementes\")\n",
    "fun(100,200)\n",
    "print(\"some more statements\")\n",
    "fun(1000,200)\n",
    "print(\"thank you\")"
   ]
  },
  {
   "cell_type": "code",
   "execution_count": 59,
   "metadata": {},
   "outputs": [
    {
     "name": "stdout",
     "output_type": "stream",
     "text": [
      "welcome\n",
      "a=10,b=20\n",
      "summation= 30\n",
      "some statementes\n",
      "a=100,b=200\n",
      "summation= 300\n",
      "some more statements\n",
      "a=1000,b=200\n",
      "summation= 1200\n",
      "thank you\n"
     ]
    }
   ],
   "source": [
    "print(\"welcome\")\n",
    "def fun(a,b):\n",
    "    print(\"a=%s,b=%s\"%(a,b))\n",
    "    res=a+b\n",
    "    print(\"summation=\",res)\n",
    "fun(10,20)\n",
    "print(\"some statementes\")\n",
    "fun(100,200)\n",
    "print(\"some more statements\")\n",
    "fun(1000,200)\n",
    "print(\"thank you\")"
   ]
  },
  {
   "cell_type": "code",
   "execution_count": 60,
   "metadata": {},
   "outputs": [
    {
     "name": "stdout",
     "output_type": "stream",
     "text": [
      "r1= <generator object fun at 0x7f33177d3f48>\n"
     ]
    }
   ],
   "source": [
    "def fun():\n",
    "    print(\"st1\")\n",
    "    yield 10\n",
    "    print(\"st2\")\n",
    "    yield 20\n",
    "    print(\"st3\")\n",
    "    yield 30\n",
    "r1=fun()\n",
    "print(\"r1=\",r1)"
   ]
  },
  {
   "cell_type": "code",
   "execution_count": 61,
   "metadata": {},
   "outputs": [
    {
     "name": "stdout",
     "output_type": "stream",
     "text": [
      "r1= <generator object fun at 0x7f32ffcf9408>\n",
      "st1\n",
      "i= 10\n",
      "st2\n",
      "i= 20\n",
      "st3\n",
      "i= 30\n"
     ]
    }
   ],
   "source": [
    "def fun():\n",
    "    print(\"st1\")\n",
    "    yield 10\n",
    "    print(\"st2\")\n",
    "    yield 20\n",
    "    print(\"st3\")\n",
    "    yield 30\n",
    "r1=fun()\n",
    "print(\"r1=\",r1)\n",
    "for i in r1:\n",
    "    print(\"i=\",i)"
   ]
  },
  {
   "cell_type": "code",
   "execution_count": 62,
   "metadata": {},
   "outputs": [
    {
     "name": "stdout",
     "output_type": "stream",
     "text": [
      "r1= <generator object fun at 0x7f32ffcf9228>\n",
      "st1\n",
      "i= 10\n",
      "st2\n",
      "i= 20\n",
      "st3\n",
      "i= 30\n",
      "iterating second time\n"
     ]
    }
   ],
   "source": [
    "def fun():\n",
    "    print(\"st1\")\n",
    "    yield 10\n",
    "    print(\"st2\")\n",
    "    yield 20\n",
    "    print(\"st3\")\n",
    "    yield 30\n",
    "r1=fun()\n",
    "print(\"r1=\",r1)\n",
    "for i in r1:\n",
    "    print(\"i=\",i)\n",
    "print(\"iterating second time\")\n",
    "for i in r1:\n",
    "    print(\"i=\",i)"
   ]
  },
  {
   "cell_type": "code",
   "execution_count": 63,
   "metadata": {},
   "outputs": [
    {
     "name": "stdout",
     "output_type": "stream",
     "text": [
      "i= 10\n",
      "i= 20\n",
      "i= 30\n",
      "i= 40\n"
     ]
    }
   ],
   "source": [
    "def fun():\n",
    "    yield 10\n",
    "    yield 20\n",
    "    yield 30\n",
    "    yield 40\n",
    "r1=fun()\n",
    "#only generator object is there\n",
    "for i in r1:\n",
    "    print(\"i=\",i)"
   ]
  },
  {
   "cell_type": "code",
   "execution_count": 64,
   "metadata": {},
   "outputs": [
    {
     "name": "stdout",
     "output_type": "stream",
     "text": [
      "i= 10\n",
      "i= 20\n",
      "i= 30\n",
      "i= 40\n"
     ]
    }
   ],
   "source": [
    "def fun():\n",
    "    return [10,20,30,40]\n",
    "r1=fun()\n",
    "#\n",
    "for i in r1:\n",
    "    print(\"i=\",i)"
   ]
  },
  {
   "cell_type": "code",
   "execution_count": 65,
   "metadata": {},
   "outputs": [
    {
     "name": "stdout",
     "output_type": "stream",
     "text": [
      "i= 10\n",
      "i= 20\n",
      "i= 30\n",
      "i= 40\n",
      "second time:\n"
     ]
    }
   ],
   "source": [
    "def fun():\n",
    "    yield 10\n",
    "    yield 20\n",
    "    yield 30\n",
    "    yield 40\n",
    "r1=fun()\n",
    "#only generator object is there\n",
    "for i in r1:\n",
    "    print(\"i=\",i)\n",
    "print(\"second time:\")\n",
    "for i in r1:\n",
    "    print(\"i=\",i)\n",
    "    "
   ]
  },
  {
   "cell_type": "code",
   "execution_count": 66,
   "metadata": {},
   "outputs": [
    {
     "name": "stdout",
     "output_type": "stream",
     "text": [
      "i= 10\n",
      "i= 20\n",
      "i= 30\n",
      "i= 40\n",
      "second time:\n",
      "i= 10\n",
      "i= 20\n",
      "i= 30\n",
      "i= 40\n"
     ]
    }
   ],
   "source": [
    "def fun():\n",
    "    yield 10\n",
    "    yield 20\n",
    "    yield 30\n",
    "    yield 40\n",
    "r1=fun()\n",
    "#only generator object is there\n",
    "for i in r1:\n",
    "    print(\"i=\",i)\n",
    "print(\"second time:\")\n",
    "r1=fun()\n",
    "for i in r1:\n",
    "    print(\"i=\",i)\n",
    "    "
   ]
  },
  {
   "cell_type": "code",
   "execution_count": 67,
   "metadata": {},
   "outputs": [
    {
     "name": "stdout",
     "output_type": "stream",
     "text": [
      "i= 10\n",
      "********************\n",
      "i= 20\n"
     ]
    }
   ],
   "source": [
    "def fun():\n",
    "    yield 10\n",
    "    yield 20\n",
    "    yield 30\n",
    "    yield 40\n",
    "r1=fun()\n",
    "for i in r1:\n",
    "    print(\"i=\",i)\n",
    "    break\n",
    "print(\"*\"*20)\n",
    "for i in r1:\n",
    "    print(\"i=\",i)\n",
    "    break"
   ]
  },
  {
   "cell_type": "code",
   "execution_count": 68,
   "metadata": {},
   "outputs": [
    {
     "name": "stdout",
     "output_type": "stream",
     "text": [
      "i= 10\n",
      "********************\n",
      "i= 20\n",
      "********************\n",
      "i= 30\n",
      "i= 40\n"
     ]
    }
   ],
   "source": [
    "def fun():\n",
    "    yield 10\n",
    "    yield 20\n",
    "    yield 30\n",
    "    yield 40\n",
    "r1=fun()\n",
    "for i in r1:\n",
    "    print(\"i=\",i)\n",
    "    break\n",
    "print(\"*\"*20)\n",
    "for i in r1:\n",
    "    print(\"i=\",i)\n",
    "    break\n",
    "print(\"*\"*20)\n",
    "for i in r1:\n",
    "    print(\"i=\",i)"
   ]
  },
  {
   "cell_type": "code",
   "execution_count": 70,
   "metadata": {},
   "outputs": [],
   "source": [
    "s=\"sdfsdf\""
   ]
  },
  {
   "cell_type": "code",
   "execution_count": 71,
   "metadata": {},
   "outputs": [],
   "source": [
    "s.capitalize?"
   ]
  },
  {
   "cell_type": "code",
   "execution_count": 2,
   "metadata": {},
   "outputs": [
    {
     "name": "stdout",
     "output_type": "stream",
     "text": [
      "os Menu:\n",
      "\t1.windows\n",
      "\t2.linux\n",
      "\t3.mac\n",
      "\t4.quit\n"
     ]
    }
   ],
   "source": [
    "print(\"os Menu:\\n\\t1.windows\\n\\t2.linux\\n\\t3.mac\\n\\t4.quit\")"
   ]
  },
  {
   "cell_type": "code",
   "execution_count": 3,
   "metadata": {},
   "outputs": [
    {
     "name": "stdout",
     "output_type": "stream",
     "text": [
      "os Menu:\n",
      "\t1.windows\n",
      "\t2.linux\n",
      "\t3.mac\n",
      "\t4.quit\n",
      "enter an option:1\n",
      "windows selected\n"
     ]
    }
   ],
   "source": [
    "print(\"os Menu:\\n\\t1.windows\\n\\t2.linux\\n\\t3.mac\\n\\t4.quit\")\n",
    "opt=input(\"enter an option:\")\n",
    "if opt==\"1\":\n",
    "    print(\"windows selected\")\n",
    "elif opt==\"2\":\n",
    "    print(\"linux selected\")\n",
    "elif opt==\"3\":\n",
    "    print(\"mac selected.\")\n",
    "else:\n",
    "    print(\"wrong option.\")\n",
    "        "
   ]
  },
  {
   "cell_type": "code",
   "execution_count": 5,
   "metadata": {},
   "outputs": [
    {
     "name": "stdout",
     "output_type": "stream",
     "text": [
      "os Menu:\n",
      "\t1.windows\n",
      "\t2.linux\n",
      "\t3.mac\n",
      "\t4.quit\n",
      "enter an option:1\n",
      "windows selected\n",
      "os Menu:\n",
      "\t1.windows\n",
      "\t2.linux\n",
      "\t3.mac\n",
      "\t4.quit\n",
      "enter an option:2\n",
      "linux selected\n",
      "os Menu:\n",
      "\t1.windows\n",
      "\t2.linux\n",
      "\t3.mac\n",
      "\t4.quit\n",
      "enter an option:3\n",
      "mac selected.\n",
      "os Menu:\n",
      "\t1.windows\n",
      "\t2.linux\n",
      "\t3.mac\n",
      "\t4.quit\n",
      "enter an option:6\n",
      "wrong option.\n",
      "os Menu:\n",
      "\t1.windows\n",
      "\t2.linux\n",
      "\t3.mac\n",
      "\t4.quit\n",
      "enter an option:4\n"
     ]
    }
   ],
   "source": [
    "while True:\n",
    "    print(\"os Menu:\\n\\t1.windows\\n\\t2.linux\\n\\t3.mac\\n\\t4.quit\")\n",
    "    opt=input(\"enter an option:\")\n",
    "    if opt==\"4\":\n",
    "        break\n",
    "    if opt==\"1\":\n",
    "        print(\"windows selected\")\n",
    "    elif opt==\"2\":\n",
    "        print(\"linux selected\")\n",
    "    elif opt==\"3\":\n",
    "        print(\"mac selected.\")\n",
    "    else:\n",
    "        print(\"wrong option.\")\n",
    "        "
   ]
  },
  {
   "cell_type": "code",
   "execution_count": 6,
   "metadata": {},
   "outputs": [
    {
     "name": "stdout",
     "output_type": "stream",
     "text": [
      "Enter string:fdf1fewq321gfsdf3qe4\n",
      "it contains numbers\n"
     ]
    }
   ],
   "source": [
    "s=input(\"Enter string:\")\n",
    "asci_1 = ord(\"1\")\n",
    "asci_9=ord(\"9\")\n",
    "for i in s:\n",
    "    asc_i=ord(i)\n",
    "    if asc_i>=asci_1 or asci_i<=asci_9:\n",
    "        print(\"it contains numbers\")\n",
    "        break\n",
    "else:\n",
    "    print(\"it does not contains numbers\")"
   ]
  },
  {
   "cell_type": "code",
   "execution_count": 9,
   "metadata": {},
   "outputs": [
    {
     "name": "stdout",
     "output_type": "stream",
     "text": [
      "Enter string:sdgsdg\n",
      "it does not contains numbers\n"
     ]
    }
   ],
   "source": [
    "s=input(\"Enter string:\")\n",
    "asci_1=ord(\"1\")\n",
    "asci_9=ord(\"9\")\n",
    "for i in s:\n",
    "    asc_i=ord(i)\n",
    "    if asc_i>=asci_1 and asc_i<=asci_9:\n",
    "        print(\"it contains numbers\")\n",
    "        breaka\n",
    "else:\n",
    "    print(\"it does not contains numbers\")"
   ]
  },
  {
   "cell_type": "code",
   "execution_count": 11,
   "metadata": {},
   "outputs": [
    {
     "name": "stdout",
     "output_type": "stream",
     "text": [
      "Enter string:sdfwe4235\n",
      "it contains numbers\n"
     ]
    }
   ],
   "source": [
    "s=input(\"Enter string:\")\n",
    "asci_1=ord(\"1\")\n",
    "asci_9=ord(\"9\")\n",
    "for i in s:\n",
    "    asc_i=ord(i)\n",
    "    if asc_i>=asci_1 and asc_i<=asci_9:\n",
    "        print(\"it contains numbers\")\n",
    "        break\n",
    "else:\n",
    "    print(\"it does not contains numbers\")"
   ]
  },
  {
   "cell_type": "code",
   "execution_count": 12,
   "metadata": {},
   "outputs": [
    {
     "name": "stdout",
     "output_type": "stream",
     "text": [
      "Enter string:qewrew2.3werwefvewrf\n",
      "it contains numbers\n"
     ]
    }
   ],
   "source": [
    "s=input(\"Enter string:\")\n",
    "asci_1=ord(\"1\")\n",
    "asci_9=ord(\"9\")\n",
    "for i in s:\n",
    "    asc_i=ord(i)\n",
    "    if asc_i>=asci_1 and asc_i<=asci_9:\n",
    "        print(\"it contains numbers\")\n",
    "        break\n",
    "else:\n",
    "    print(\"it does not contains numbers\")"
   ]
  },
  {
   "cell_type": "code",
   "execution_count": 15,
   "metadata": {},
   "outputs": [
    {
     "name": "stdout",
     "output_type": "stream",
     "text": [
      "enter string:samba\n",
      "samba\n"
     ]
    }
   ],
   "source": [
    "s=input(\"enter string:\")\n",
    "asc_A=ord(\"A\")\n",
    "asc_Z=ord(\"Z\")\n",
    "\n",
    "res=\"\"\n",
    "for i in s:\n",
    "    asc_i=ord(i)\n",
    "    if asc_i>=asc_A and asc_i<=asc_Z:\n",
    "        res=res+chr(asc_i+32)\n",
    "    else:\n",
    "        res=res+i\n",
    "print(res)\n",
    "    \n",
    "    "
   ]
  },
  {
   "cell_type": "code",
   "execution_count": 16,
   "metadata": {},
   "outputs": [
    {
     "name": "stdout",
     "output_type": "stream",
     "text": [
      "enter string:PYThon proGRAM\n",
      "python program\n"
     ]
    }
   ],
   "source": [
    "s=input(\"enter string:\")\n",
    "asc_A=ord(\"A\")\n",
    "asc_Z=ord(\"Z\")\n",
    "\n",
    "res=\"\"\n",
    "for i in s:\n",
    "    asc_i=ord(i)\n",
    "    if asc_i>=asc_A and asc_i<=asc_Z:\n",
    "        res=res+chr(asc_i+32)\n",
    "    else:\n",
    "        res=res+i\n",
    "print(res)\n",
    "    \n",
    "    "
   ]
  },
  {
   "cell_type": "code",
   "execution_count": 17,
   "metadata": {},
   "outputs": [
    {
     "name": "stdout",
     "output_type": "stream",
     "text": [
      "enter string:12321werwer!$#$@werwwe ASGRGTEWTR\n",
      "12321werwer!$#$@werwwe asgrgtewtr\n"
     ]
    }
   ],
   "source": [
    "s=input(\"enter string:\")\n",
    "asc_A=ord(\"A\")\n",
    "asc_Z=ord(\"Z\")\n",
    "res=\"\"\n",
    "for i in s:\n",
    "    asc_i=ord(i)\n",
    "    if asc_i>=asc_A and asc_i<=asc_Z:\n",
    "        res=res+chr(asc_i+32)\n",
    "    else:\n",
    "        res=res+i\n",
    "print(res)\n",
    "    \n",
    "    "
   ]
  },
  {
   "cell_type": "code",
   "execution_count": 18,
   "metadata": {},
   "outputs": [
    {
     "data": {
      "text/plain": [
       "'/home/khyaathipython/batch54'"
      ]
     },
     "execution_count": 18,
     "metadata": {},
     "output_type": "execute_result"
    }
   ],
   "source": [
    "pwd"
   ]
  },
  {
   "cell_type": "code",
   "execution_count": null,
   "metadata": {},
   "outputs": [],
   "source": []
  }
 ],
 "metadata": {
  "kernelspec": {
   "display_name": "Python 3",
   "language": "python",
   "name": "python3"
  },
  "language_info": {
   "codemirror_mode": {
    "name": "ipython",
    "version": 3
   },
   "file_extension": ".py",
   "mimetype": "text/x-python",
   "name": "python",
   "nbconvert_exporter": "python",
   "pygments_lexer": "ipython3",
   "version": "3.7.0"
  }
 },
 "nbformat": 4,
 "nbformat_minor": 2
}
