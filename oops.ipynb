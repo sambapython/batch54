{
 "cells": [
  {
   "cell_type": "code",
   "execution_count": 1,
   "metadata": {},
   "outputs": [
    {
     "name": "stdout",
     "output_type": "stream",
     "text": [
      "this is class\n"
     ]
    }
   ],
   "source": [
    "def fun():\n",
    "    print(\"this is fun\")\n",
    "class cls:\n",
    "    print(\"this is class\")"
   ]
  },
  {
   "cell_type": "code",
   "execution_count": 2,
   "metadata": {},
   "outputs": [
    {
     "name": "stdout",
     "output_type": "stream",
     "text": [
      "10 20\n",
      "this is op1: 10\n",
      "None\n"
     ]
    }
   ],
   "source": [
    "class cls:\n",
    "    a=10\n",
    "    b=20\n",
    "    def op1(c):\n",
    "        print(\"this is op1:\",c)\n",
    "    print(a,b)\n",
    "    print(op1(10))"
   ]
  },
  {
   "cell_type": "code",
   "execution_count": 3,
   "metadata": {},
   "outputs": [
    {
     "ename": "NameError",
     "evalue": "name 'a' is not defined",
     "output_type": "error",
     "traceback": [
      "\u001b[0;31m---------------------------------------------------------------------------\u001b[0m",
      "\u001b[0;31mNameError\u001b[0m                                 Traceback (most recent call last)",
      "\u001b[0;32m<ipython-input-3-551661ba6efc>\u001b[0m in \u001b[0;36m<module>\u001b[0;34m()\u001b[0m\n\u001b[1;32m      4\u001b[0m     \u001b[0;32mdef\u001b[0m \u001b[0mop1\u001b[0m\u001b[0;34m(\u001b[0m\u001b[0mc\u001b[0m\u001b[0;34m)\u001b[0m\u001b[0;34m:\u001b[0m\u001b[0;34m\u001b[0m\u001b[0m\n\u001b[1;32m      5\u001b[0m         \u001b[0mprint\u001b[0m\u001b[0;34m(\u001b[0m\u001b[0;34m\"this is op1:\"\u001b[0m\u001b[0;34m,\u001b[0m\u001b[0mc\u001b[0m\u001b[0;34m)\u001b[0m\u001b[0;34m\u001b[0m\u001b[0m\n\u001b[0;32m----> 6\u001b[0;31m \u001b[0mprint\u001b[0m\u001b[0;34m(\u001b[0m\u001b[0ma\u001b[0m\u001b[0;34m,\u001b[0m\u001b[0mb\u001b[0m\u001b[0;34m)\u001b[0m\u001b[0;34m\u001b[0m\u001b[0m\n\u001b[0m\u001b[1;32m      7\u001b[0m \u001b[0mprint\u001b[0m\u001b[0;34m(\u001b[0m\u001b[0mop1\u001b[0m\u001b[0;34m(\u001b[0m\u001b[0;36m10\u001b[0m\u001b[0;34m)\u001b[0m\u001b[0;34m)\u001b[0m\u001b[0;34m\u001b[0m\u001b[0m\n",
      "\u001b[0;31mNameError\u001b[0m: name 'a' is not defined"
     ]
    }
   ],
   "source": [
    "class cls:\n",
    "    a=10\n",
    "    b=20\n",
    "    def op1(c):\n",
    "        print(\"this is op1:\",c)\n",
    "print(a,b)\n",
    "print(op1(10))"
   ]
  },
  {
   "cell_type": "code",
   "execution_count": 4,
   "metadata": {},
   "outputs": [
    {
     "name": "stdout",
     "output_type": "stream",
     "text": [
      "10 20\n",
      "this is op1: 10\n",
      "None\n"
     ]
    }
   ],
   "source": [
    "class cls:\n",
    "    a=10\n",
    "    b=20\n",
    "    def op1(c):\n",
    "        print(\"this is op1:\",c)\n",
    "print(cls.a,cls.b)\n",
    "print(cls.op1(10))"
   ]
  },
  {
   "cell_type": "code",
   "execution_count": 5,
   "metadata": {},
   "outputs": [],
   "source": [
    "a=10"
   ]
  },
  {
   "cell_type": "code",
   "execution_count": 6,
   "metadata": {},
   "outputs": [],
   "source": [
    "b=1.2"
   ]
  },
  {
   "cell_type": "code",
   "execution_count": 7,
   "metadata": {},
   "outputs": [],
   "source": [
    "c=\"sdsfsd\""
   ]
  },
  {
   "cell_type": "code",
   "execution_count": 8,
   "metadata": {},
   "outputs": [],
   "source": [
    "l=[1,2,3,4]"
   ]
  },
  {
   "cell_type": "code",
   "execution_count": 9,
   "metadata": {},
   "outputs": [
    {
     "name": "stdout",
     "output_type": "stream",
     "text": [
      "10 20\n",
      "this is op1: 10\n",
      "None\n"
     ]
    }
   ],
   "source": [
    "class Emp:\n",
    "    a=10\n",
    "    b=20\n",
    "    def op1(c,d):\n",
    "        print(\"this is op1:\",c)\n",
    "ref=Emp()\n",
    "print(Emp.a,Emp.b)\n",
    "print(Emp.op1(10,20))"
   ]
  },
  {
   "cell_type": "code",
   "execution_count": 13,
   "metadata": {},
   "outputs": [
    {
     "name": "stdout",
     "output_type": "stream",
     "text": [
      "10 20\n",
      "this is op1:\n",
      "c= <__main__.Emp object at 0x7f528c5574e0> d= 20\n",
      "None\n"
     ]
    }
   ],
   "source": [
    "class Emp:\n",
    "    a=10\n",
    "    b=20\n",
    "    def op1(c,d):\n",
    "        print(\"this is op1:\")\n",
    "        print(\"c=\",ref,\"d=\",d)\n",
    "print(Emp.a,Emp.b)\n",
    "ref=Emp()\n",
    "print(Emp.op1(ref,20))"
   ]
  },
  {
   "cell_type": "code",
   "execution_count": 14,
   "metadata": {},
   "outputs": [
    {
     "name": "stdout",
     "output_type": "stream",
     "text": [
      "10 20\n",
      "this is op1:\n",
      "c= <__main__.Emp object at 0x7f528c557860> d= 20\n",
      "None\n",
      "10 20\n",
      "this is op1:\n",
      "c= <__main__.Emp object at 0x7f528c557860> d= 2000\n"
     ]
    }
   ],
   "source": [
    "class Emp: \n",
    "    a=10\n",
    "    b=20\n",
    "    def op1(c,d):\n",
    "        print(\"this is op1:\")\n",
    "        print(\"c=\",ref,\"d=\",d)\n",
    "print(Emp.a,Emp.b)\n",
    "ref=Emp()\n",
    "print(Emp.op1(ref,20))\n",
    "print(ref.a,ref.b)\n",
    "ref.op1(2000)"
   ]
  },
  {
   "cell_type": "code",
   "execution_count": 15,
   "metadata": {},
   "outputs": [
    {
     "name": "stdout",
     "output_type": "stream",
     "text": [
      "10 20\n"
     ]
    },
    {
     "ename": "TypeError",
     "evalue": "fun1() missing 1 required positional argument: 'b'",
     "output_type": "error",
     "traceback": [
      "\u001b[0;31m---------------------------------------------------------------------------\u001b[0m",
      "\u001b[0;31mTypeError\u001b[0m                                 Traceback (most recent call last)",
      "\u001b[0;32m<ipython-input-15-200c5aa3d476>\u001b[0m in \u001b[0;36m<module>\u001b[0;34m()\u001b[0m\n\u001b[1;32m      2\u001b[0m     \u001b[0mprint\u001b[0m\u001b[0;34m(\u001b[0m\u001b[0ma\u001b[0m\u001b[0;34m,\u001b[0m\u001b[0mb\u001b[0m\u001b[0;34m)\u001b[0m\u001b[0;34m\u001b[0m\u001b[0m\n\u001b[1;32m      3\u001b[0m \u001b[0mfun1\u001b[0m\u001b[0;34m(\u001b[0m\u001b[0;36m10\u001b[0m\u001b[0;34m,\u001b[0m\u001b[0;36m20\u001b[0m\u001b[0;34m)\u001b[0m\u001b[0;34m\u001b[0m\u001b[0m\n\u001b[0;32m----> 4\u001b[0;31m \u001b[0mfun1\u001b[0m\u001b[0;34m(\u001b[0m\u001b[0;36m100\u001b[0m\u001b[0;34m)\u001b[0m\u001b[0;34m\u001b[0m\u001b[0m\n\u001b[0m",
      "\u001b[0;31mTypeError\u001b[0m: fun1() missing 1 required positional argument: 'b'"
     ]
    }
   ],
   "source": [
    "def fun1(a,b):\n",
    "    print(a,b)\n",
    "fun1(10,20)\n",
    "fun1(100)"
   ]
  },
  {
   "cell_type": "code",
   "execution_count": 16,
   "metadata": {},
   "outputs": [
    {
     "name": "stdout",
     "output_type": "stream",
     "text": [
      "10 20\n",
      "this is op1:\n",
      "c= <__main__.Emp object at 0x7f528c530160> d= 20\n",
      "None\n",
      "10 20\n"
     ]
    },
    {
     "ename": "TypeError",
     "evalue": "op1() takes 2 positional arguments but 3 were given",
     "output_type": "error",
     "traceback": [
      "\u001b[0;31m---------------------------------------------------------------------------\u001b[0m",
      "\u001b[0;31mTypeError\u001b[0m                                 Traceback (most recent call last)",
      "\u001b[0;32m<ipython-input-16-f69ae01e99e2>\u001b[0m in \u001b[0;36m<module>\u001b[0;34m()\u001b[0m\n\u001b[1;32m      9\u001b[0m \u001b[0mprint\u001b[0m\u001b[0;34m(\u001b[0m\u001b[0mEmp\u001b[0m\u001b[0;34m.\u001b[0m\u001b[0mop1\u001b[0m\u001b[0;34m(\u001b[0m\u001b[0mref\u001b[0m\u001b[0;34m,\u001b[0m\u001b[0;36m20\u001b[0m\u001b[0;34m)\u001b[0m\u001b[0;34m)\u001b[0m\u001b[0;34m\u001b[0m\u001b[0m\n\u001b[1;32m     10\u001b[0m \u001b[0mprint\u001b[0m\u001b[0;34m(\u001b[0m\u001b[0mref\u001b[0m\u001b[0;34m.\u001b[0m\u001b[0ma\u001b[0m\u001b[0;34m,\u001b[0m\u001b[0mref\u001b[0m\u001b[0;34m.\u001b[0m\u001b[0mb\u001b[0m\u001b[0;34m)\u001b[0m\u001b[0;34m\u001b[0m\u001b[0m\n\u001b[0;32m---> 11\u001b[0;31m \u001b[0mref\u001b[0m\u001b[0;34m.\u001b[0m\u001b[0mop1\u001b[0m\u001b[0;34m(\u001b[0m\u001b[0;36m1000\u001b[0m\u001b[0;34m,\u001b[0m\u001b[0;36m2000\u001b[0m\u001b[0;34m)\u001b[0m\u001b[0;34m\u001b[0m\u001b[0m\n\u001b[0m",
      "\u001b[0;31mTypeError\u001b[0m: op1() takes 2 positional arguments but 3 were given"
     ]
    }
   ],
   "source": [
    "class Emp: \n",
    "    a=10\n",
    "    b=20\n",
    "    def op1(c,d):\n",
    "        print(\"this is op1:\")\n",
    "        print(\"c=\",ref,\"d=\",d)\n",
    "print(Emp.a,Emp.b)\n",
    "ref=Emp()\n",
    "print(Emp.op1(ref,20))\n",
    "print(ref.a,ref.b)\n",
    "ref.op1(1000,2000)"
   ]
  },
  {
   "cell_type": "code",
   "execution_count": 17,
   "metadata": {},
   "outputs": [
    {
     "name": "stdout",
     "output_type": "stream",
     "text": [
      "sdfsd\n"
     ]
    }
   ],
   "source": [
    "class Emp:\n",
    "    print(\"sdfsd\")"
   ]
  },
  {
   "cell_type": "code",
   "execution_count": 18,
   "metadata": {},
   "outputs": [
    {
     "name": "stdout",
     "output_type": "stream",
     "text": [
      "hello\n"
     ]
    }
   ],
   "source": [
    "class Emp:\n",
    "    print(\"hello\")\n",
    "a=Emp()\n",
    "b=Emp()\n",
    "c=Emp()\n"
   ]
  },
  {
   "cell_type": "code",
   "execution_count": 19,
   "metadata": {},
   "outputs": [
    {
     "name": "stdout",
     "output_type": "stream",
     "text": [
      "Sailaxmi\n",
      "JAYARAM\n"
     ]
    },
    {
     "ename": "AttributeError",
     "evalue": "'Emp' object has no attribute 'doj'",
     "output_type": "error",
     "traceback": [
      "\u001b[0;31m---------------------------------------------------------------------------\u001b[0m",
      "\u001b[0;31mAttributeError\u001b[0m                            Traceback (most recent call last)",
      "\u001b[0;32m<ipython-input-19-8b7373dff3c7>\u001b[0m in \u001b[0;36m<module>\u001b[0;34m()\u001b[0m\n\u001b[1;32m     14\u001b[0m \u001b[0mprint\u001b[0m\u001b[0;34m(\u001b[0m\u001b[0msai\u001b[0m\u001b[0;34m.\u001b[0m\u001b[0mname\u001b[0m\u001b[0;34m)\u001b[0m\u001b[0;34m\u001b[0m\u001b[0m\n\u001b[1;32m     15\u001b[0m \u001b[0mprint\u001b[0m\u001b[0;34m(\u001b[0m\u001b[0mjay\u001b[0m\u001b[0;34m.\u001b[0m\u001b[0mname\u001b[0m\u001b[0;34m)\u001b[0m\u001b[0;34m\u001b[0m\u001b[0m\n\u001b[0;32m---> 16\u001b[0;31m \u001b[0mprint\u001b[0m\u001b[0;34m(\u001b[0m\u001b[0mjay\u001b[0m\u001b[0;34m.\u001b[0m\u001b[0mdoj\u001b[0m\u001b[0;34m)\u001b[0m\u001b[0;34m\u001b[0m\u001b[0m\n\u001b[0m",
      "\u001b[0;31mAttributeError\u001b[0m: 'Emp' object has no attribute 'doj'"
     ]
    }
   ],
   "source": [
    "class Emp:\n",
    "    company_name=\"Khyaathi\"\n",
    "    company_address=\"maithrivanam\"\n",
    "    \n",
    "    def get(x):\n",
    "        print(x)\n",
    "sai=Emp()\n",
    "sai.name=\"Sailaxmi\"\n",
    "sai.id=1\n",
    "sai.doj=\"2018-06-01\"\n",
    "jay=Emp()\n",
    "jay.name=\"JAYARAM\"\n",
    "jay.id=2\n",
    "print(sai.name)\n",
    "print(jay.name)\n",
    "print(jay.doj)"
   ]
  },
  {
   "cell_type": "code",
   "execution_count": 21,
   "metadata": {},
   "outputs": [
    {
     "name": "stdout",
     "output_type": "stream",
     "text": [
      "Sailaxmi\n",
      "JAYARAM\n",
      "COMP\n",
      "Sailaxmi\n"
     ]
    }
   ],
   "source": [
    "class Emp:\n",
    "    company_name=\"Khyaathi\"\n",
    "    company_address=\"maithrivanam\"\n",
    "    name=\"COMP\"\n",
    "    def get(x):\n",
    "        print(x)\n",
    "sai=Emp()\n",
    "sai.name=\"Sailaxmi\"\n",
    "sai.id=1\n",
    "sai.doj=\"2018-06-01\"\n",
    "jay=Emp()\n",
    "jay.name=\"JAYARAM\"\n",
    "jay.id=2\n",
    "print(sai.name)\n",
    "print(jay.name)\n",
    "#print(jay.doj)\n",
    "vedha=Emp()\n",
    "print(vedha.name)\n",
    "print(sai.name)"
   ]
  },
  {
   "cell_type": "code",
   "execution_count": 22,
   "metadata": {},
   "outputs": [
    {
     "name": "stdout",
     "output_type": "stream",
     "text": [
      "Sailaxmi\n",
      "JAYARAM\n",
      "COMP\n",
      "Sailaxmi\n",
      "maithrivanam\n",
      "Khyaathi\n",
      "maithrivanam\n"
     ]
    }
   ],
   "source": [
    "class Emp:\n",
    "    company_name=\"Khyaathi\"\n",
    "    company_address=\"maithrivanam\"\n",
    "    name=\"COMP\"\n",
    "    def get(x):\n",
    "        print(x)\n",
    "sai=Emp()\n",
    "sai.name=\"Sailaxmi\"\n",
    "sai.id=1\n",
    "sai.doj=\"2018-06-01\"\n",
    "jay=Emp()\n",
    "jay.name=\"JAYARAM\"\n",
    "jay.id=2\n",
    "print(sai.name)\n",
    "print(jay.name)\n",
    "#print(jay.doj)\n",
    "vedha=Emp()\n",
    "print(vedha.name)\n",
    "print(sai.name)\n",
    "print(sai.company_address)\n",
    "print(sai.company_name)\n",
    "print(vedha.company_address)"
   ]
  },
  {
   "cell_type": "code",
   "execution_count": 23,
   "metadata": {},
   "outputs": [
    {
     "name": "stdout",
     "output_type": "stream",
     "text": [
      "('JAYARAM', 2, '2018-07-02')\n",
      "('Sailaxmi', 1, '2018-06-01')\n"
     ]
    }
   ],
   "source": [
    "class Emp:\n",
    "    company_name=\"Khyaathi\"\n",
    "    company_address=\"maithrivanam\"\n",
    "    name=\"COMP\"\n",
    "    def get(x):\n",
    "        return x.name,x.id,x.doj\n",
    "sai=Emp()\n",
    "sai.name=\"Sailaxmi\"\n",
    "sai.id=1\n",
    "sai.doj=\"2018-06-01\"\n",
    "jay=Emp()\n",
    "jay.name=\"JAYARAM\"\n",
    "jay.id=2\n",
    "jay.doj=\"2018-07-02\"\n",
    "print(Emp.get(jay))\n",
    "print(Emp.get(sai))\n"
   ]
  },
  {
   "cell_type": "code",
   "execution_count": null,
   "metadata": {},
   "outputs": [],
   "source": [
    "class Emp:\n",
    "    company_name=\"Khyaathi\"\n",
    "    company_address=\"maithrivanam\"\n",
    "    name=\"COMP\"\n",
    "    def get(x):\n",
    "        return x.name,x.id,x.doj\n",
    "sai=Emp()\n",
    "sai.name=\"Sailaxmi\"\n",
    "sai.id=1\n",
    "sai.doj=\"2018-06-01\"\n",
    "jay=Emp()\n",
    "jay.name=\"JAYARAM\"\n",
    "jay.id=2\n",
    "#jay.doj=\"2018-07-02\"\n",
    "print(Emp.get(jay))\n",
    "print(Emp.get(sai))\n"
   ]
  },
  {
   "cell_type": "code",
   "execution_count": 24,
   "metadata": {},
   "outputs": [
    {
     "name": "stdout",
     "output_type": "stream",
     "text": [
      "100\n"
     ]
    }
   ],
   "source": [
    "def fun(x):\n",
    "    print(x)\n",
    "y=100\n",
    "fun(y)"
   ]
  },
  {
   "cell_type": "code",
   "execution_count": 25,
   "metadata": {},
   "outputs": [
    {
     "name": "stdout",
     "output_type": "stream",
     "text": [
      "('JAYARAM', 2, '2018-07-02')\n",
      "('Sailaxmi', 1, '2018-06-01')\n"
     ]
    }
   ],
   "source": [
    "class Emp:\n",
    "    company_name=\"Khyaathi\"\n",
    "    company_address=\"maithrivanam\"\n",
    "    name=\"COMP\"\n",
    "    def get(x):\n",
    "        return x.name,x.id,x.doj\n",
    "sai=Emp()\n",
    "sai.name=\"Sailaxmi\"\n",
    "sai.id=1\n",
    "sai.doj=\"2018-06-01\"\n",
    "jay=Emp()\n",
    "jay.name=\"JAYARAM\"\n",
    "jay.id=2\n",
    "jay.doj=\"2018-07-02\"\n",
    "print(Emp.get(jay))\n",
    "print(Emp.get(sai))\n"
   ]
  },
  {
   "cell_type": "code",
   "execution_count": 26,
   "metadata": {},
   "outputs": [
    {
     "name": "stdout",
     "output_type": "stream",
     "text": [
      "('JAYARAM', 2, '2018-07-02')\n",
      "('Sailaxmi', 1, '2018-06-01')\n"
     ]
    }
   ],
   "source": [
    "class Emp:\n",
    "    company_name=\"Khyaathi\"\n",
    "    company_address=\"maithrivanam\"\n",
    "    name=\"COMP\"\n",
    "    def get(x):\n",
    "        return x.name,x.id,x.doj\n",
    "sai=Emp()\n",
    "sai.name=\"Sailaxmi\"\n",
    "sai.id=1\n",
    "sai.doj=\"2018-06-01\"\n",
    "jay=Emp()\n",
    "jay.name=\"JAYARAM\"\n",
    "jay.id=2\n",
    "jay.doj=\"2018-07-02\"\n",
    "print(jay.get())\n",
    "print(sai.get())\n"
   ]
  },
  {
   "cell_type": "code",
   "execution_count": 28,
   "metadata": {},
   "outputs": [
    {
     "name": "stdout",
     "output_type": "stream",
     "text": [
      "('JAYARAM', 2, '2018-07-02')\n",
      "('sailaxmi', 1, '2018-06-02')\n"
     ]
    }
   ],
   "source": [
    "class Emp:\n",
    "    company_name=\"Khyaathi\"\n",
    "    company_address=\"maithrivanam\"\n",
    "    name=\"COMP\"\n",
    "    def set_data(x,name,e_id,doj):\n",
    "        x.name=name\n",
    "        x.id=e_id\n",
    "        x.doj=doj\n",
    "    def get(x):\n",
    "        return x.name,x.id,x.doj\n",
    "sai=Emp()\n",
    "sai.set_data(\"sailaxmi\",1,\"2018-06-02\")\n",
    "#sai.name=\"Sailaxmi\"\n",
    "#sai.id=1\n",
    "#sai.doj=\"2018-06-01\"\n",
    "jay=Emp()\n",
    "jay.set_data(\"JAYARAM\",2,\"2018-07-02\")\n",
    "#jay.name=\"JAYARAM\"\n",
    "#jay.id=2\n",
    "#jay.doj=\"2018-07-02\"\n",
    "print(jay.get())\n",
    "print(sai.get())\n"
   ]
  },
  {
   "cell_type": "code",
   "execution_count": 29,
   "metadata": {},
   "outputs": [
    {
     "name": "stdout",
     "output_type": "stream",
     "text": [
      "('JAYARAM', 2, '2018-07-02')\n",
      "('sailaxmi', 1, '2018-06-02')\n"
     ]
    }
   ],
   "source": [
    "class Emp:\n",
    "    company_name=\"Khyaathi\"\n",
    "    company_address=\"maithrivanam\"\n",
    "    name=\"COMP\"\n",
    "    def set_data(x,name,e_id,doj):\n",
    "        x.name=name\n",
    "        x.id=e_id\n",
    "        x.doj=doj\n",
    "    def get(x):\n",
    "        return x.name,x.id,x.doj\n",
    "sai=Emp()\n",
    "sai.set_data(\"sailaxmi\",1,\"2018-06-02\")\n",
    "jay=Emp()\n",
    "jay.set_data(\"JAYARAM\",2,\"2018-07-02\")\n",
    "print(jay.get())\n",
    "print(sai.get())"
   ]
  },
  {
   "cell_type": "code",
   "execution_count": 30,
   "metadata": {},
   "outputs": [
    {
     "name": "stdout",
     "output_type": "stream",
     "text": [
      "('JAYARAM', 2, '2018-07-02')\n",
      "('sailaxmi', 1, '2018-06-02')\n"
     ]
    },
    {
     "ename": "AttributeError",
     "evalue": "'Emp' object has no attribute 'name'",
     "output_type": "error",
     "traceback": [
      "\u001b[0;31m---------------------------------------------------------------------------\u001b[0m",
      "\u001b[0;31mAttributeError\u001b[0m                            Traceback (most recent call last)",
      "\u001b[0;32m<ipython-input-30-05c6f000d762>\u001b[0m in \u001b[0;36m<module>\u001b[0;34m()\u001b[0m\n\u001b[1;32m     15\u001b[0m \u001b[0mprint\u001b[0m\u001b[0;34m(\u001b[0m\u001b[0msai\u001b[0m\u001b[0;34m.\u001b[0m\u001b[0mget\u001b[0m\u001b[0;34m(\u001b[0m\u001b[0;34m)\u001b[0m\u001b[0;34m)\u001b[0m\u001b[0;34m\u001b[0m\u001b[0m\n\u001b[1;32m     16\u001b[0m \u001b[0mvedha\u001b[0m\u001b[0;34m=\u001b[0m\u001b[0mEmp\u001b[0m\u001b[0;34m(\u001b[0m\u001b[0;34m)\u001b[0m\u001b[0;34m\u001b[0m\u001b[0m\n\u001b[0;32m---> 17\u001b[0;31m \u001b[0mvedha\u001b[0m\u001b[0;34m.\u001b[0m\u001b[0mget\u001b[0m\u001b[0;34m(\u001b[0m\u001b[0;34m)\u001b[0m\u001b[0;34m\u001b[0m\u001b[0m\n\u001b[0m",
      "\u001b[0;32m<ipython-input-30-05c6f000d762>\u001b[0m in \u001b[0;36mget\u001b[0;34m(x)\u001b[0m\n\u001b[1;32m      7\u001b[0m         \u001b[0mx\u001b[0m\u001b[0;34m.\u001b[0m\u001b[0mdoj\u001b[0m\u001b[0;34m=\u001b[0m\u001b[0mdoj\u001b[0m\u001b[0;34m\u001b[0m\u001b[0m\n\u001b[1;32m      8\u001b[0m     \u001b[0;32mdef\u001b[0m \u001b[0mget\u001b[0m\u001b[0;34m(\u001b[0m\u001b[0mx\u001b[0m\u001b[0;34m)\u001b[0m\u001b[0;34m:\u001b[0m\u001b[0;34m\u001b[0m\u001b[0m\n\u001b[0;32m----> 9\u001b[0;31m         \u001b[0;32mreturn\u001b[0m \u001b[0mx\u001b[0m\u001b[0;34m.\u001b[0m\u001b[0mname\u001b[0m\u001b[0;34m,\u001b[0m\u001b[0mx\u001b[0m\u001b[0;34m.\u001b[0m\u001b[0mid\u001b[0m\u001b[0;34m,\u001b[0m\u001b[0mx\u001b[0m\u001b[0;34m.\u001b[0m\u001b[0mdoj\u001b[0m\u001b[0;34m\u001b[0m\u001b[0m\n\u001b[0m\u001b[1;32m     10\u001b[0m \u001b[0msai\u001b[0m\u001b[0;34m=\u001b[0m\u001b[0mEmp\u001b[0m\u001b[0;34m(\u001b[0m\u001b[0;34m)\u001b[0m\u001b[0;34m\u001b[0m\u001b[0m\n\u001b[1;32m     11\u001b[0m \u001b[0msai\u001b[0m\u001b[0;34m.\u001b[0m\u001b[0mset_data\u001b[0m\u001b[0;34m(\u001b[0m\u001b[0;34m\"sailaxmi\"\u001b[0m\u001b[0;34m,\u001b[0m\u001b[0;36m1\u001b[0m\u001b[0;34m,\u001b[0m\u001b[0;34m\"2018-06-02\"\u001b[0m\u001b[0;34m)\u001b[0m\u001b[0;34m\u001b[0m\u001b[0m\n",
      "\u001b[0;31mAttributeError\u001b[0m: 'Emp' object has no attribute 'name'"
     ]
    }
   ],
   "source": [
    "class Emp:\n",
    "    company_name=\"Khyaathi\"\n",
    "    company_address=\"maithrivanam\"\n",
    "    def set_data(x,name,e_id,doj):\n",
    "        x.name=name\n",
    "        x.id=e_id\n",
    "        x.doj=doj\n",
    "    def get(x):\n",
    "        return x.name,x.id,x.doj\n",
    "sai=Emp()\n",
    "sai.set_data(\"sailaxmi\",1,\"2018-06-02\")\n",
    "jay=Emp()\n",
    "jay.set_data(\"JAYARAM\",2,\"2018-07-02\")\n",
    "print(jay.get())\n",
    "print(sai.get())\n",
    "vedha=Emp()\n",
    "vedha.get()"
   ]
  },
  {
   "cell_type": "code",
   "execution_count": 31,
   "metadata": {},
   "outputs": [
    {
     "name": "stdout",
     "output_type": "stream",
     "text": [
      "this is class\n"
     ]
    }
   ],
   "source": [
    "class Emp:\n",
    "    print(\"this is class\")\n",
    "    def get(x):\n",
    "        print (\"this is get\")\n",
    "    def __init__(x):\n",
    "        print(\"this is init\")"
   ]
  },
  {
   "cell_type": "code",
   "execution_count": 32,
   "metadata": {},
   "outputs": [
    {
     "name": "stdout",
     "output_type": "stream",
     "text": [
      "this is class\n",
      "this is init\n"
     ]
    }
   ],
   "source": [
    "class Emp:\n",
    "    print(\"this is class\")\n",
    "    def get(x):\n",
    "        print (\"this is get\")\n",
    "    def __init__(x):\n",
    "        print(\"this is init\")\n",
    "sai=Emp()"
   ]
  },
  {
   "cell_type": "code",
   "execution_count": 34,
   "metadata": {},
   "outputs": [
    {
     "name": "stdout",
     "output_type": "stream",
     "text": [
      "this is class\n",
      "<__main__.Emp object at 0x7f528c5410b8> 139992518365368\n",
      "this is init\n",
      "<__main__.Emp object at 0x7f528c5410b8> 139992518365368\n"
     ]
    }
   ],
   "source": [
    "class Emp:\n",
    "    print(\"this is class\")\n",
    "    def get(x):\n",
    "        print (\"this is get\")\n",
    "    def __init__(x):\n",
    "        print(x,id(x))\n",
    "        print(\"this is init\")\n",
    "sai=Emp()\n",
    "print(sai,id(sai))"
   ]
  },
  {
   "cell_type": "code",
   "execution_count": 35,
   "metadata": {},
   "outputs": [
    {
     "name": "stdout",
     "output_type": "stream",
     "text": [
      "this is class\n",
      "<__main__.Emp object at 0x7f528c541f98> 139992518369176\n",
      "this is init\n"
     ]
    },
    {
     "data": {
      "text/plain": [
       "<__main__.Emp at 0x7f528c541f98>"
      ]
     },
     "execution_count": 35,
     "metadata": {},
     "output_type": "execute_result"
    }
   ],
   "source": [
    "class Emp:\n",
    "    print(\"this is class\")\n",
    "    def get(x):\n",
    "        print (\"this is get\")\n",
    "    def __init__(x):\n",
    "        print(x,id(x))\n",
    "        print(\"this is init\")\n",
    "Emp()"
   ]
  },
  {
   "cell_type": "code",
   "execution_count": 36,
   "metadata": {},
   "outputs": [
    {
     "name": "stdout",
     "output_type": "stream",
     "text": [
      "this is class\n",
      "this is init\n",
      "this is init\n",
      "this is init\n"
     ]
    }
   ],
   "source": [
    "class Emp:\n",
    "    print(\"this is class\")\n",
    "    def get(x):\n",
    "        print (\"this is get\")\n",
    "    def __init__(x):\n",
    "        print(\"this is init\")\n",
    "sai=Emp()\n",
    "jay=Emp()\n",
    "vedha=Emp()"
   ]
  },
  {
   "cell_type": "code",
   "execution_count": 37,
   "metadata": {},
   "outputs": [
    {
     "name": "stdout",
     "output_type": "stream",
     "text": [
      "this is class\n",
      "this is init\n",
      "this is init\n",
      "this is init\n",
      "this is get\n",
      "this is init\n"
     ]
    }
   ],
   "source": [
    "class Emp:\n",
    "    print(\"this is class\")\n",
    "    def get(x):\n",
    "        print (\"this is get\")\n",
    "    def __init__(x):\n",
    "        #constructor\n",
    "        print(\"this is init\")\n",
    "sai=Emp()\n",
    "jay=Emp()\n",
    "vedha=Emp()\n",
    "vedha.get()\n",
    "vedha.__init__()"
   ]
  },
  {
   "cell_type": "code",
   "execution_count": 38,
   "metadata": {},
   "outputs": [
    {
     "name": "stdout",
     "output_type": "stream",
     "text": [
      "this is class\n",
      "this is init\n",
      "this is init\n",
      "this is init\n",
      "this is get\n"
     ]
    },
    {
     "data": {
      "text/plain": [
       "10"
      ]
     },
     "execution_count": 38,
     "metadata": {},
     "output_type": "execute_result"
    }
   ],
   "source": [
    "class Emp:\n",
    "    print(\"this is class\")\n",
    "    def get(x):\n",
    "        print (\"this is get\")\n",
    "        return 10\n",
    "    def __init__(x):\n",
    "        #constructor\n",
    "        print(\"this is init\")\n",
    "        return None\n",
    "sai=Emp()\n",
    "jay=Emp()\n",
    "vedha=Emp()\n",
    "vedha.get()"
   ]
  },
  {
   "cell_type": "code",
   "execution_count": 39,
   "metadata": {},
   "outputs": [
    {
     "name": "stdout",
     "output_type": "stream",
     "text": [
      "this is class\n",
      "this is init\n"
     ]
    },
    {
     "ename": "TypeError",
     "evalue": "__init__() should return None, not 'str'",
     "output_type": "error",
     "traceback": [
      "\u001b[0;31m---------------------------------------------------------------------------\u001b[0m",
      "\u001b[0;31mTypeError\u001b[0m                                 Traceback (most recent call last)",
      "\u001b[0;32m<ipython-input-39-c8ea581e22ef>\u001b[0m in \u001b[0;36m<module>\u001b[0;34m()\u001b[0m\n\u001b[1;32m      8\u001b[0m         \u001b[0mprint\u001b[0m\u001b[0;34m(\u001b[0m\u001b[0;34m\"this is init\"\u001b[0m\u001b[0;34m)\u001b[0m\u001b[0;34m\u001b[0m\u001b[0m\n\u001b[1;32m      9\u001b[0m         \u001b[0;32mreturn\u001b[0m \u001b[0;34m\"dfdsafd\"\u001b[0m\u001b[0;34m\u001b[0m\u001b[0m\n\u001b[0;32m---> 10\u001b[0;31m \u001b[0msai\u001b[0m\u001b[0;34m=\u001b[0m\u001b[0mEmp\u001b[0m\u001b[0;34m(\u001b[0m\u001b[0;34m)\u001b[0m\u001b[0;34m\u001b[0m\u001b[0m\n\u001b[0m\u001b[1;32m     11\u001b[0m \u001b[0mjay\u001b[0m\u001b[0;34m=\u001b[0m\u001b[0mEmp\u001b[0m\u001b[0;34m(\u001b[0m\u001b[0;34m)\u001b[0m\u001b[0;34m\u001b[0m\u001b[0m\n\u001b[1;32m     12\u001b[0m \u001b[0mvedha\u001b[0m\u001b[0;34m=\u001b[0m\u001b[0mEmp\u001b[0m\u001b[0;34m(\u001b[0m\u001b[0;34m)\u001b[0m\u001b[0;34m\u001b[0m\u001b[0m\n",
      "\u001b[0;31mTypeError\u001b[0m: __init__() should return None, not 'str'"
     ]
    }
   ],
   "source": [
    "class Emp:\n",
    "    print(\"this is class\")\n",
    "    def get(x):\n",
    "        print (\"this is get\")\n",
    "        return 10\n",
    "    def __init__(x):\n",
    "        #constructor\n",
    "        print(\"this is init\")\n",
    "        return \"dfdsafd\"\n",
    "sai=Emp()\n",
    "jay=Emp()\n",
    "vedha=Emp()\n",
    "vedha.get()"
   ]
  },
  {
   "cell_type": "code",
   "execution_count": 41,
   "metadata": {},
   "outputs": [
    {
     "name": "stdout",
     "output_type": "stream",
     "text": [
      "('JAYARAM', 2, '2018-07-02', 'Khyaathi', 'maithrivanam')\n",
      "('sailaxmi', 1, '2018-06-02', 'Khyaathi', 'maithrivanam')\n"
     ]
    }
   ],
   "source": [
    "class Emp:\n",
    "    company_name=\"Khyaathi\"\n",
    "    company_address=\"maithrivanam\"\n",
    "    def get(x):\n",
    "        return x.name,x.id,x.doj, x.company_name,x.company_address\n",
    "    def __init__(x,name,e_id,doj):\n",
    "        x.name=name\n",
    "        x.id=e_id\n",
    "        x.doj=doj\n",
    "sai=Emp(\"sailaxmi\",1,\"2018-06-02\")\n",
    "jay=Emp(\"JAYARAM\",2,\"2018-07-02\")\n",
    "print(jay.get())\n",
    "print(sai.get())"
   ]
  },
  {
   "cell_type": "code",
   "execution_count": 42,
   "metadata": {},
   "outputs": [
    {
     "name": "stdout",
     "output_type": "stream",
     "text": [
      "('JAYARAM', 2, '2018-07-02', 'Khyaathi', 'maithrivanam')\n",
      "('sailaxmi', 1, '2018-06-02', 'Khyaathi', 'maithrivanam')\n"
     ]
    },
    {
     "ename": "AttributeError",
     "evalue": "type object 'Emp' has no attribute 'name'",
     "output_type": "error",
     "traceback": [
      "\u001b[0;31m---------------------------------------------------------------------------\u001b[0m",
      "\u001b[0;31mAttributeError\u001b[0m                            Traceback (most recent call last)",
      "\u001b[0;32m<ipython-input-42-7eb85f530cf5>\u001b[0m in \u001b[0;36m<module>\u001b[0;34m()\u001b[0m\n\u001b[1;32m     12\u001b[0m \u001b[0mprint\u001b[0m\u001b[0;34m(\u001b[0m\u001b[0mjay\u001b[0m\u001b[0;34m.\u001b[0m\u001b[0mget\u001b[0m\u001b[0;34m(\u001b[0m\u001b[0;34m)\u001b[0m\u001b[0;34m)\u001b[0m\u001b[0;34m\u001b[0m\u001b[0m\n\u001b[1;32m     13\u001b[0m \u001b[0mprint\u001b[0m\u001b[0;34m(\u001b[0m\u001b[0msai\u001b[0m\u001b[0;34m.\u001b[0m\u001b[0mget\u001b[0m\u001b[0;34m(\u001b[0m\u001b[0;34m)\u001b[0m\u001b[0;34m)\u001b[0m\u001b[0;34m\u001b[0m\u001b[0m\n\u001b[0;32m---> 14\u001b[0;31m \u001b[0mprint\u001b[0m\u001b[0;34m(\u001b[0m\u001b[0mEmp\u001b[0m\u001b[0;34m.\u001b[0m\u001b[0mname\u001b[0m\u001b[0;34m)\u001b[0m\u001b[0;34m\u001b[0m\u001b[0m\n\u001b[0m",
      "\u001b[0;31mAttributeError\u001b[0m: type object 'Emp' has no attribute 'name'"
     ]
    }
   ],
   "source": [
    "class Emp:\n",
    "    company_name=\"Khyaathi\"\n",
    "    company_address=\"maithrivanam\"\n",
    "    def get(x):\n",
    "        return x.name,x.id,x.doj, x.company_name,x.company_address\n",
    "    def __init__(x,name,e_id,doj):\n",
    "        x.name=name\n",
    "        x.id=e_id\n",
    "        x.doj=doj\n",
    "sai=Emp(\"sailaxmi\",1,\"2018-06-02\")\n",
    "jay=Emp(\"JAYARAM\",2,\"2018-07-02\")\n",
    "print(jay.get())\n",
    "print(sai.get())\n",
    "print(Emp.name)"
   ]
  },
  {
   "cell_type": "code",
   "execution_count": null,
   "metadata": {},
   "outputs": [],
   "source": [
    "\n",
    "# can access class object attributes by using class object or data object. can access data object attribiutes only\n",
    "# using data object but not class object.\n",
    "class Emp:\n",
    "    company_name=\"Khyaathi\"\n",
    "    company_address=\"maithrivanam\"\n",
    "    def get(self):\n",
    "        return self.name,self.id,self.doj, self.company_name,self.company_address\n",
    "    def __init__(self,name,e_id,doj):\n",
    "        self.name=name\n",
    "        self.id=e_id\n",
    "        self.doj=doj\n",
    "    print\n",
    "sai=Emp(\"sailaxmi\",1,\"2018-06-02\")\n",
    "jay=Emp(\"JAYARAM\",2,\"2018-07-02\")\n",
    "print(jay.get())\n",
    "print(sai.get())\n",
    "print(Emp.name)"
   ]
  },
  {
   "cell_type": "code",
   "execution_count": 2,
   "metadata": {},
   "outputs": [
    {
     "name": "stdout",
     "output_type": "stream",
     "text": [
      "10 20\n",
      "this is op1: 10.23\n"
     ]
    },
    {
     "ename": "NameError",
     "evalue": "name 'a' is not defined",
     "output_type": "error",
     "traceback": [
      "\u001b[0;31m---------------------------------------------------------------------------\u001b[0m",
      "\u001b[0;31mNameError\u001b[0m                                 Traceback (most recent call last)",
      "\u001b[0;32m<ipython-input-2-4ac17dfab6fd>\u001b[0m in \u001b[0;36m<module>\u001b[0;34m()\u001b[0m\n\u001b[1;32m      7\u001b[0m \u001b[0mo\u001b[0m\u001b[0;34m=\u001b[0m\u001b[0mcls\u001b[0m\u001b[0;34m(\u001b[0m\u001b[0;34m)\u001b[0m\u001b[0;34m\u001b[0m\u001b[0m\n\u001b[1;32m      8\u001b[0m \u001b[0mprint\u001b[0m\u001b[0;34m(\u001b[0m\u001b[0mcls\u001b[0m\u001b[0;34m.\u001b[0m\u001b[0ma\u001b[0m\u001b[0;34m,\u001b[0m\u001b[0mcls\u001b[0m\u001b[0;34m.\u001b[0m\u001b[0mb\u001b[0m\u001b[0;34m)\u001b[0m\u001b[0;34m\u001b[0m\u001b[0m\n\u001b[0;32m----> 9\u001b[0;31m \u001b[0mprint\u001b[0m\u001b[0;34m(\u001b[0m\u001b[0mcls\u001b[0m\u001b[0;34m.\u001b[0m\u001b[0mop1\u001b[0m\u001b[0;34m(\u001b[0m\u001b[0;34m\"10.23\"\u001b[0m\u001b[0;34m)\u001b[0m\u001b[0;34m)\u001b[0m\u001b[0;34m\u001b[0m\u001b[0m\n\u001b[0m",
      "\u001b[0;32m<ipython-input-2-4ac17dfab6fd>\u001b[0m in \u001b[0;36mop1\u001b[0;34m(c)\u001b[0m\n\u001b[1;32m      4\u001b[0m     \u001b[0;32mdef\u001b[0m \u001b[0mop1\u001b[0m\u001b[0;34m(\u001b[0m\u001b[0mc\u001b[0m\u001b[0;34m)\u001b[0m\u001b[0;34m:\u001b[0m\u001b[0;34m\u001b[0m\u001b[0m\n\u001b[1;32m      5\u001b[0m         \u001b[0mprint\u001b[0m\u001b[0;34m(\u001b[0m\u001b[0;34m\"this is op1:\"\u001b[0m\u001b[0;34m,\u001b[0m\u001b[0mc\u001b[0m\u001b[0;34m)\u001b[0m\u001b[0;34m\u001b[0m\u001b[0m\n\u001b[0;32m----> 6\u001b[0;31m         \u001b[0mprint\u001b[0m\u001b[0;34m(\u001b[0m\u001b[0ma\u001b[0m\u001b[0;34m)\u001b[0m\u001b[0;34m\u001b[0m\u001b[0m\n\u001b[0m\u001b[1;32m      7\u001b[0m \u001b[0mo\u001b[0m\u001b[0;34m=\u001b[0m\u001b[0mcls\u001b[0m\u001b[0;34m(\u001b[0m\u001b[0;34m)\u001b[0m\u001b[0;34m\u001b[0m\u001b[0m\n\u001b[1;32m      8\u001b[0m \u001b[0mprint\u001b[0m\u001b[0;34m(\u001b[0m\u001b[0mcls\u001b[0m\u001b[0;34m.\u001b[0m\u001b[0ma\u001b[0m\u001b[0;34m,\u001b[0m\u001b[0mcls\u001b[0m\u001b[0;34m.\u001b[0m\u001b[0mb\u001b[0m\u001b[0;34m)\u001b[0m\u001b[0;34m\u001b[0m\u001b[0m\n",
      "\u001b[0;31mNameError\u001b[0m: name 'a' is not defined"
     ]
    }
   ],
   "source": [
    "class cls:\n",
    "    a=10\n",
    "    b=20\n",
    "    def op1(c):\n",
    "        print(\"this is op1:\",c)\n",
    "        print(a)\n",
    "o=cls()\n",
    "print(cls.a,cls.b)\n",
    "print(cls.op1(\"10.23\"))"
   ]
  },
  {
   "cell_type": "code",
   "execution_count": 3,
   "metadata": {},
   "outputs": [
    {
     "name": "stdout",
     "output_type": "stream",
     "text": [
      "10 20\n",
      "this is op1: <class '__main__.cls'>\n",
      "10\n",
      "None\n"
     ]
    }
   ],
   "source": [
    "class cls:\n",
    "    a=10\n",
    "    b=20\n",
    "    def op1(c):\n",
    "        print(\"this is op1:\",c)\n",
    "        print(c.a)\n",
    "o=cls()\n",
    "print(cls.a,cls.b)\n",
    "print(cls.op1(cls))"
   ]
  },
  {
   "cell_type": "code",
   "execution_count": 4,
   "metadata": {},
   "outputs": [
    {
     "name": "stdout",
     "output_type": "stream",
     "text": [
      "10 20\n",
      "this is op1: <__main__.cls object at 0x7f52d606a7f0>\n",
      "10\n",
      "None\n"
     ]
    }
   ],
   "source": [
    "class cls:\n",
    "    a=10\n",
    "    b=20\n",
    "    def op1(c):\n",
    "        print(\"this is op1:\",c)\n",
    "        print(c.a)\n",
    "o=cls()\n",
    "print(cls.a,cls.b)\n",
    "print(cls.op1(o))"
   ]
  },
  {
   "cell_type": "code",
   "execution_count": 5,
   "metadata": {},
   "outputs": [
    {
     "name": "stdout",
     "output_type": "stream",
     "text": [
      "10 20\n",
      "this is op1: <__main__.cls object at 0x7f52d606a668>\n",
      "10\n",
      "None\n"
     ]
    }
   ],
   "source": [
    "class cls:\n",
    "    a=10\n",
    "    b=20\n",
    "    def op1(c):\n",
    "        print(\"this is op1:\",c)\n",
    "        print(cls.a)\n",
    "o=cls()\n",
    "print(cls.a,cls.b)\n",
    "print(cls.op1(o))"
   ]
  },
  {
   "cell_type": "code",
   "execution_count": 6,
   "metadata": {},
   "outputs": [],
   "source": [
    "class Emp:\n",
    "    company_name=\"Khyaathi\"\n",
    "    company_address=\"maithrivanam\"\n",
    "    def get(self):\n",
    "        return self.name,self.id,self.doj, self.company_name,self.company_address\n",
    "    def __init__(self,name,e_id,doj):\n",
    "        self.name=name\n",
    "        self.id=e_id\n",
    "        self.doj=doj\n",
    "    print\n",
    "sai=Emp(\"sailaxmi\",1,\"2018-06-02\")\n",
    "jay=Emp(\"JAYARAM\",2,\"2018-07-02\")\n",
    "#Emp.get(10)"
   ]
  },
  {
   "cell_type": "code",
   "execution_count": 7,
   "metadata": {},
   "outputs": [
    {
     "name": "stdout",
     "output_type": "stream",
     "text": [
      "('sailaxmi', 1, '2019-02-21', 'Khyaathi', 'maithrivanam')\n"
     ]
    }
   ],
   "source": [
    "class Emp:\n",
    "    company_name=\"Khyaathi\"\n",
    "    company_address=\"maithrivanam\"\n",
    "    def get(self):\n",
    "        return self.name,self.id,self.doj, self.company_name,self.company_address\n",
    "    def __init__(self,name,e_id,doj):\n",
    "        self.name=name\n",
    "        self.id=e_id\n",
    "        self.doj=doj\n",
    "sai=Emp(\"sailaxmi\",1,\"2018-06-02\")\n",
    "jay=Emp(\"JAYARAM\",2,\"2018-07-02\")\n",
    "sai.doj=\"2019-02-21\"\n",
    "print(sai.get())"
   ]
  },
  {
   "cell_type": "code",
   "execution_count": 11,
   "metadata": {},
   "outputs": [
    {
     "name": "stdout",
     "output_type": "stream",
     "text": [
      "('sailaxmi', 1, '2019-02-21', 'Khyaathi', 'maithrivanam')\n"
     ]
    }
   ],
   "source": [
    "class Emp:\n",
    "    company_name=\"Khyaathi\"\n",
    "    company_address=\"maithrivanam\"\n",
    "    def update_doj(self,doj):\n",
    "        # security cherck\n",
    "        self.__doj=doj\n",
    "    def get(self):\n",
    "        return self.name,self.id,self.__doj, self.company_name,self.company_address\n",
    "    def __init__(self,name,e_id,doj):\n",
    "        self.name=name\n",
    "        self.id=e_id\n",
    "        self.__doj=doj\n",
    "sai=Emp(\"sailaxmi\",1,\"2018-06-02\")\n",
    "jay=Emp(\"JAYARAM\",2,\"2018-07-02\")\n",
    "#sai.__doj=\"2019-02-21\"\n",
    "sai.update_doj(\"2019-02-21\")\n",
    "print(sai.get())"
   ]
  },
  {
   "cell_type": "code",
   "execution_count": 12,
   "metadata": {},
   "outputs": [
    {
     "ename": "AttributeError",
     "evalue": "'Emp' object has no attribute '__update_doj'",
     "output_type": "error",
     "traceback": [
      "\u001b[0;31m---------------------------------------------------------------------------\u001b[0m",
      "\u001b[0;31mAttributeError\u001b[0m                            Traceback (most recent call last)",
      "\u001b[0;32m<ipython-input-12-831053bcae93>\u001b[0m in \u001b[0;36m<module>\u001b[0;34m()\u001b[0m\n\u001b[1;32m     14\u001b[0m \u001b[0mjay\u001b[0m\u001b[0;34m=\u001b[0m\u001b[0mEmp\u001b[0m\u001b[0;34m(\u001b[0m\u001b[0;34m\"JAYARAM\"\u001b[0m\u001b[0;34m,\u001b[0m\u001b[0;36m2\u001b[0m\u001b[0;34m,\u001b[0m\u001b[0;34m\"2018-07-02\"\u001b[0m\u001b[0;34m)\u001b[0m\u001b[0;34m\u001b[0m\u001b[0m\n\u001b[1;32m     15\u001b[0m \u001b[0;31m#sai.__doj=\"2019-02-21\"\u001b[0m\u001b[0;34m\u001b[0m\u001b[0;34m\u001b[0m\u001b[0m\n\u001b[0;32m---> 16\u001b[0;31m \u001b[0msai\u001b[0m\u001b[0;34m.\u001b[0m\u001b[0m__update_doj\u001b[0m\u001b[0;34m(\u001b[0m\u001b[0;34m\"2019-02-21\"\u001b[0m\u001b[0;34m)\u001b[0m\u001b[0;34m\u001b[0m\u001b[0m\n\u001b[0m\u001b[1;32m     17\u001b[0m \u001b[0mprint\u001b[0m\u001b[0;34m(\u001b[0m\u001b[0msai\u001b[0m\u001b[0;34m.\u001b[0m\u001b[0mget\u001b[0m\u001b[0;34m(\u001b[0m\u001b[0;34m)\u001b[0m\u001b[0;34m)\u001b[0m\u001b[0;34m\u001b[0m\u001b[0m\n",
      "\u001b[0;31mAttributeError\u001b[0m: 'Emp' object has no attribute '__update_doj'"
     ]
    }
   ],
   "source": [
    "class Emp:\n",
    "    company_name=\"Khyaathi\"\n",
    "    company_address=\"maithrivanam\"\n",
    "    def __update_doj(self,doj): # __update_doj is a secured method\n",
    "        # security cherck\n",
    "        self.__doj=doj\n",
    "    def get(self):\n",
    "        return self.name,self.id,self.__doj, self.company_name,self.company_address\n",
    "    def __init__(self,name,e_id,doj):\n",
    "        self.name=name\n",
    "        self.id=e_id\n",
    "        self.__doj=doj #__doj is secured attribute of data object\n",
    "sai=Emp(\"sailaxmi\",1,\"2018-06-02\")\n",
    "jay=Emp(\"JAYARAM\",2,\"2018-07-02\")\n",
    "#sai.__doj=\"2019-02-21\"\n",
    "sai.__update_doj(\"2019-02-21\")\n",
    "print(sai.get())"
   ]
  },
  {
   "cell_type": "code",
   "execution_count": 13,
   "metadata": {},
   "outputs": [
    {
     "name": "stdout",
     "output_type": "stream",
     "text": [
      "('sailaxmi', 1, '2018-06-02', 'Khyaathi', 'maithrivanam', '12345')\n"
     ]
    }
   ],
   "source": [
    "class Emp:\n",
    "    company_name=\"Khyaathi\"\n",
    "    company_address=\"maithrivanam\"\n",
    "    __company_reg=\"12345\"\n",
    "    def __update_doj(self,doj): # __update_doj is a secured method\n",
    "        # security cherck\n",
    "        self.__doj=doj\n",
    "    def get(self):\n",
    "        return self.name,self.id,self.__doj, self.company_name,self.company_address,self.__company_reg\n",
    "    def __init__(self,name,e_id,doj):\n",
    "        self.name=name\n",
    "        self.id=e_id\n",
    "        self.doj=doj #__doj is secured attribute of data object\n",
    "        \n",
    "sai=Emp(\"sailaxmi\",1,\"2018-06-02\")\n",
    "jay=Emp(\"JAYARAM\",2,\"2018-07-02\")\n",
    "#sai.__doj=\"2019-02-21\"\n",
    "#sai.__update_doj(\"2019-02-21\")\n",
    "sai.__company_reg=\"6789\"\n",
    "print(sai.get())"
   ]
  },
  {
   "cell_type": "code",
   "execution_count": 15,
   "metadata": {},
   "outputs": [
    {
     "name": "stdout",
     "output_type": "stream",
     "text": [
      "('sailaxmi', 1, 'sailaxmi1', 'Khyaathi', 'maithrivanam', '12345')\n"
     ]
    }
   ],
   "source": [
    "class Emp:\n",
    "    company_name=\"Khyaathi\"\n",
    "    company_address=\"maithrivanam\"\n",
    "    __company_reg=\"12345\"\n",
    "    def __update_doj(self,doj): \n",
    "        self.__doj=doj\n",
    "    def get(self):\n",
    "        return self.name,self.id,self.doj, self.company_name,self.company_address,self.__company_reg\n",
    "    def __init__(self,name,e_id,doj):\n",
    "        self.name=name\n",
    "        self.id=e_id\n",
    "        self.doj=name+str(e_id)\n",
    "        \n",
    "sai=Emp(\"sailaxmi\",1,\"2018-06-02\")\n",
    "jay=Emp(\"JAYARAM\",2,\"2018-07-02\")\n",
    "print(sai.get())"
   ]
  },
  {
   "cell_type": "code",
   "execution_count": 16,
   "metadata": {},
   "outputs": [
    {
     "name": "stdout",
     "output_type": "stream",
     "text": [
      "('some thing', 1, 'sailaxmi1', 'Khyaathi', 'maithrivanam', '12345')\n"
     ]
    }
   ],
   "source": [
    "class Emp:\n",
    "    company_name=\"Khyaathi\"\n",
    "    company_address=\"maithrivanam\"\n",
    "    __company_reg=\"12345\"\n",
    "    def __update_doj(self,doj): \n",
    "        self.__doj=doj\n",
    "    def get(self):\n",
    "        return self.name,self.id,self.doj, self.company_name,self.company_address,self.__company_reg\n",
    "    def __init__(self,name,e_id,doj):\n",
    "        self.name=name\n",
    "        self.id=e_id\n",
    "        self.doj=name+str(e_id)\n",
    "        \n",
    "sai=Emp(\"sailaxmi\",1,\"2018-06-02\")\n",
    "jay=Emp(\"JAYARAM\",2,\"2018-07-02\")\n",
    "sai.name=\"some thing\"\n",
    "print(sai.get())"
   ]
  },
  {
   "cell_type": "code",
   "execution_count": 17,
   "metadata": {},
   "outputs": [
    {
     "name": "stdout",
     "output_type": "stream",
     "text": [
      "('some thing', 1, 'sailaxmi1', 'Khyaathi', 'maithrivanam', '12345')\n"
     ]
    }
   ],
   "source": [
    "class Emp:\n",
    "    company_name=\"Khyaathi\"\n",
    "    company_address=\"maithrivanam\"\n",
    "    __company_reg=\"12345\"\n",
    "    def __update_doj(self,doj): \n",
    "        self.__doj=doj\n",
    "    def get(self):\n",
    "        return self.name,self.id,self.doj, self.company_name,self.company_address,self.__company_reg\n",
    "    def __init__(self,name,e_id,doj):\n",
    "        self.name=name\n",
    "        self.id=e_id\n",
    "        self.doj=self.name+str(e_id)\n",
    "        \n",
    "sai=Emp(\"sailaxmi\",1,\"2018-06-02\")\n",
    "#\n",
    "jay=Emp(\"JAYARAM\",2,\"2018-07-02\")\n",
    "sai.name=\"some thing\"\n",
    "print(sai.get())"
   ]
  },
  {
   "cell_type": "code",
   "execution_count": 18,
   "metadata": {},
   "outputs": [
    {
     "name": "stdout",
     "output_type": "stream",
     "text": [
      "10\n"
     ]
    }
   ],
   "source": [
    "a=10\n",
    "c=a\n",
    "a=1000\n",
    "print(c)"
   ]
  },
  {
   "cell_type": "code",
   "execution_count": 19,
   "metadata": {},
   "outputs": [
    {
     "name": "stdout",
     "output_type": "stream",
     "text": [
      "1000\n"
     ]
    }
   ],
   "source": [
    "a=10\n",
    "c=a\n",
    "a=1000\n",
    "c=a\n",
    "print(c)"
   ]
  },
  {
   "cell_type": "code",
   "execution_count": 20,
   "metadata": {},
   "outputs": [
    {
     "name": "stdout",
     "output_type": "stream",
     "text": [
      "1000\n"
     ]
    }
   ],
   "source": [
    "class Emp:\n",
    "    def __init__(self,a):\n",
    "        self.a=a\n",
    "        self.b=self.a\n",
    "c=Emp(1000)\n",
    "c.a=2\n",
    "print(c.b)"
   ]
  },
  {
   "cell_type": "code",
   "execution_count": 21,
   "metadata": {},
   "outputs": [
    {
     "name": "stdout",
     "output_type": "stream",
     "text": [
      "10 20\n"
     ]
    }
   ],
   "source": [
    "def __abc(x,y):\n",
    "    print(x,y)\n",
    "\n",
    "__abc(10,20)"
   ]
  },
  {
   "cell_type": "code",
   "execution_count": 22,
   "metadata": {},
   "outputs": [
    {
     "name": "stdout",
     "output_type": "stream",
     "text": [
      "10 20\n"
     ]
    }
   ],
   "source": [
    "def __abc(__x,__y):\n",
    "    print(__x,__y)\n",
    "\n",
    "__abc(10,20)"
   ]
  },
  {
   "cell_type": "code",
   "execution_count": 2,
   "metadata": {},
   "outputs": [
    {
     "name": "stdout",
     "output_type": "stream",
     "text": [
      "this is op1\n",
      "this is op2\n"
     ]
    }
   ],
   "source": [
    "class c1:\n",
    "    def op1(self):\n",
    "        print(\"this is op1\")\n",
    "    def op2(self):\n",
    "        print(\"this is op2\")\n",
    "    def operations(self):\n",
    "        self.op1()\n",
    "        self.op2()\n",
    "o=c1()\n",
    "o.operations()"
   ]
  },
  {
   "cell_type": "code",
   "execution_count": 3,
   "metadata": {},
   "outputs": [
    {
     "name": "stdout",
     "output_type": "stream",
     "text": [
      "this is op3 in c2\n"
     ]
    }
   ],
   "source": [
    "class c1:\n",
    "    def op1(self):\n",
    "        print(\"this is op1 in c1\")\n",
    "    def op2(self):\n",
    "        print(\"this is op2 in c1\")\n",
    "    def operations(self):\n",
    "        self.op1()\n",
    "        self.op2()\n",
    "class c2:\n",
    "    def op3(self):\n",
    "        print(\"this is op3 in c2\")\n",
    "    def operations(self):\n",
    "        self.op3()\n",
    "o=c2()\n",
    "o.operations()"
   ]
  },
  {
   "cell_type": "code",
   "execution_count": 4,
   "metadata": {},
   "outputs": [
    {
     "name": "stdout",
     "output_type": "stream",
     "text": [
      "this is op3 in c2\n"
     ]
    },
    {
     "ename": "AttributeError",
     "evalue": "'c2' object has no attribute 'op1'",
     "output_type": "error",
     "traceback": [
      "\u001b[0;31m---------------------------------------------------------------------------\u001b[0m",
      "\u001b[0;31mAttributeError\u001b[0m                            Traceback (most recent call last)",
      "\u001b[0;32m<ipython-input-4-1908697b70f2>\u001b[0m in \u001b[0;36m<module>\u001b[0;34m()\u001b[0m\n\u001b[1;32m     16\u001b[0m         \u001b[0mself\u001b[0m\u001b[0;34m.\u001b[0m\u001b[0mop2\u001b[0m\u001b[0;34m(\u001b[0m\u001b[0;34m)\u001b[0m\u001b[0;34m\u001b[0m\u001b[0m\n\u001b[1;32m     17\u001b[0m \u001b[0mo\u001b[0m\u001b[0;34m=\u001b[0m\u001b[0mc2\u001b[0m\u001b[0;34m(\u001b[0m\u001b[0;34m)\u001b[0m\u001b[0;34m\u001b[0m\u001b[0m\n\u001b[0;32m---> 18\u001b[0;31m \u001b[0mo\u001b[0m\u001b[0;34m.\u001b[0m\u001b[0moperations\u001b[0m\u001b[0;34m(\u001b[0m\u001b[0;34m)\u001b[0m\u001b[0;34m\u001b[0m\u001b[0m\n\u001b[0m",
      "\u001b[0;32m<ipython-input-4-1908697b70f2>\u001b[0m in \u001b[0;36moperations\u001b[0;34m(self)\u001b[0m\n\u001b[1;32m     13\u001b[0m         \u001b[0mself\u001b[0m\u001b[0;34m.\u001b[0m\u001b[0mop3\u001b[0m\u001b[0;34m(\u001b[0m\u001b[0;34m)\u001b[0m\u001b[0;34m\u001b[0m\u001b[0m\n\u001b[1;32m     14\u001b[0m         \u001b[0;31m# call op1 and op2 belongs to c1 here..\u001b[0m\u001b[0;34m\u001b[0m\u001b[0;34m\u001b[0m\u001b[0m\n\u001b[0;32m---> 15\u001b[0;31m         \u001b[0mself\u001b[0m\u001b[0;34m.\u001b[0m\u001b[0mop1\u001b[0m\u001b[0;34m(\u001b[0m\u001b[0;34m)\u001b[0m\u001b[0;34m\u001b[0m\u001b[0m\n\u001b[0m\u001b[1;32m     16\u001b[0m         \u001b[0mself\u001b[0m\u001b[0;34m.\u001b[0m\u001b[0mop2\u001b[0m\u001b[0;34m(\u001b[0m\u001b[0;34m)\u001b[0m\u001b[0;34m\u001b[0m\u001b[0m\n\u001b[1;32m     17\u001b[0m \u001b[0mo\u001b[0m\u001b[0;34m=\u001b[0m\u001b[0mc2\u001b[0m\u001b[0;34m(\u001b[0m\u001b[0;34m)\u001b[0m\u001b[0;34m\u001b[0m\u001b[0m\n",
      "\u001b[0;31mAttributeError\u001b[0m: 'c2' object has no attribute 'op1'"
     ]
    }
   ],
   "source": [
    "class c1:\n",
    "    def op1(self):\n",
    "        print(\"this is op1 in c1\")\n",
    "    def op2(self):\n",
    "        print(\"this is op2 in c1\")\n",
    "    def operations(self):\n",
    "        self.op1()\n",
    "        self.op2()\n",
    "class c2:\n",
    "    def op3(self):\n",
    "        print(\"this is op3 in c2\")\n",
    "    def operations(self):\n",
    "        self.op3()\n",
    "        # call op1 and op2 belongs to c1 here..\n",
    "        self.op1()\n",
    "        self.op2()\n",
    "o=c2()\n",
    "o.operations()"
   ]
  },
  {
   "cell_type": "code",
   "execution_count": 6,
   "metadata": {},
   "outputs": [
    {
     "name": "stdout",
     "output_type": "stream",
     "text": [
      "this is op3 in c2\n",
      "this is op1 in c1\n",
      "this is op2 in c1\n"
     ]
    }
   ],
   "source": [
    "class c1:\n",
    "    def op1(self):\n",
    "        print(\"this is op1 in c1\")\n",
    "    def op2(self):\n",
    "        print(\"this is op2 in c1\")\n",
    "    def operations(self):\n",
    "        self.op1()\n",
    "        self.op2()\n",
    "class c2:\n",
    "    def op3(self):\n",
    "        print(\"this is op3 in c2\")\n",
    "    def operations(self):\n",
    "        self.op3()\n",
    "        o1=c1()\n",
    "        o1.op1()\n",
    "        o1.op2()\n",
    "o=c2()\n",
    "o.operations()"
   ]
  },
  {
   "cell_type": "code",
   "execution_count": 7,
   "metadata": {},
   "outputs": [
    {
     "name": "stdout",
     "output_type": "stream",
     "text": [
      "this is op3 in c2\n"
     ]
    },
    {
     "ename": "AttributeError",
     "evalue": "'c2' object has no attribute 'op1'",
     "output_type": "error",
     "traceback": [
      "\u001b[0;31m---------------------------------------------------------------------------\u001b[0m",
      "\u001b[0;31mAttributeError\u001b[0m                            Traceback (most recent call last)",
      "\u001b[0;32m<ipython-input-7-16da497e6361>\u001b[0m in \u001b[0;36m<module>\u001b[0;34m()\u001b[0m\n\u001b[1;32m     16\u001b[0m         \u001b[0mself\u001b[0m\u001b[0;34m.\u001b[0m\u001b[0mop2\u001b[0m\u001b[0;34m(\u001b[0m\u001b[0;34m)\u001b[0m\u001b[0;34m\u001b[0m\u001b[0m\n\u001b[1;32m     17\u001b[0m \u001b[0mo\u001b[0m\u001b[0;34m=\u001b[0m\u001b[0mc2\u001b[0m\u001b[0;34m(\u001b[0m\u001b[0;34m)\u001b[0m\u001b[0;34m\u001b[0m\u001b[0m\n\u001b[0;32m---> 18\u001b[0;31m \u001b[0mo\u001b[0m\u001b[0;34m.\u001b[0m\u001b[0moperations\u001b[0m\u001b[0;34m(\u001b[0m\u001b[0;34m)\u001b[0m\u001b[0;34m\u001b[0m\u001b[0m\n\u001b[0m",
      "\u001b[0;32m<ipython-input-7-16da497e6361>\u001b[0m in \u001b[0;36moperations\u001b[0;34m(self)\u001b[0m\n\u001b[1;32m     13\u001b[0m         \u001b[0mself\u001b[0m\u001b[0;34m.\u001b[0m\u001b[0mop3\u001b[0m\u001b[0;34m(\u001b[0m\u001b[0;34m)\u001b[0m\u001b[0;34m\u001b[0m\u001b[0m\n\u001b[1;32m     14\u001b[0m         \u001b[0;31m#o1=c1()\u001b[0m\u001b[0;34m\u001b[0m\u001b[0;34m\u001b[0m\u001b[0m\n\u001b[0;32m---> 15\u001b[0;31m         \u001b[0mself\u001b[0m\u001b[0;34m.\u001b[0m\u001b[0mop1\u001b[0m\u001b[0;34m(\u001b[0m\u001b[0;34m)\u001b[0m\u001b[0;34m\u001b[0m\u001b[0m\n\u001b[0m\u001b[1;32m     16\u001b[0m         \u001b[0mself\u001b[0m\u001b[0;34m.\u001b[0m\u001b[0mop2\u001b[0m\u001b[0;34m(\u001b[0m\u001b[0;34m)\u001b[0m\u001b[0;34m\u001b[0m\u001b[0m\n\u001b[1;32m     17\u001b[0m \u001b[0mo\u001b[0m\u001b[0;34m=\u001b[0m\u001b[0mc2\u001b[0m\u001b[0;34m(\u001b[0m\u001b[0;34m)\u001b[0m\u001b[0;34m\u001b[0m\u001b[0m\n",
      "\u001b[0;31mAttributeError\u001b[0m: 'c2' object has no attribute 'op1'"
     ]
    }
   ],
   "source": [
    "class c1:\n",
    "    def op1(self):\n",
    "        print(\"this is op1 in c1\")\n",
    "    def op2(self):\n",
    "        print(\"this is op2 in c1\")\n",
    "    def operations(self):\n",
    "        self.op1()\n",
    "        self.op2()\n",
    "class c2:\n",
    "    def op3(self):\n",
    "        print(\"this is op3 in c2\")\n",
    "    def operations(self):\n",
    "        self.op3()\n",
    "        #o1=c1()\n",
    "        self.op1()\n",
    "        self.op2()\n",
    "o=c2()\n",
    "o.operations()"
   ]
  },
  {
   "cell_type": "code",
   "execution_count": 8,
   "metadata": {},
   "outputs": [
    {
     "name": "stdout",
     "output_type": "stream",
     "text": [
      "this is op3 in c2\n",
      "this is op1 in c1\n",
      "this is op2 in c1\n"
     ]
    }
   ],
   "source": [
    "class c1:\n",
    "    def op1(self):\n",
    "        print(\"this is op1 in c1\")\n",
    "    def op2(self):\n",
    "        print(\"this is op2 in c1\")\n",
    "    def operations(self):\n",
    "        self.op1()\n",
    "        self.op2()\n",
    "class c2(c1): # c2 inherited from c1: c1 is parent class c2 is child class.\n",
    "    def op3(self):\n",
    "        print(\"this is op3 in c2\")\n",
    "    def operations(self):\n",
    "        self.op3()\n",
    "        #o1=c1()\n",
    "        self.op1()\n",
    "        self.op2()\n",
    "o=c2()\n",
    "o.operations()"
   ]
  },
  {
   "cell_type": "code",
   "execution_count": 9,
   "metadata": {},
   "outputs": [
    {
     "name": "stdout",
     "output_type": "stream",
     "text": [
      "this is op3 in c2\n",
      "this is op1 in c2\n",
      "this is op2 in c1\n"
     ]
    }
   ],
   "source": [
    "class c1:\n",
    "    def op1(self):\n",
    "        print(\"this is op1 in c1\")\n",
    "    def op2(self):\n",
    "        print(\"this is op2 in c1\")\n",
    "    def operations(self):\n",
    "        self.op1()\n",
    "        self.op2()\n",
    "class c2(c1): # c2 inherited from c1: c1 is parent class c2 is child class.\n",
    "    def op3(self):\n",
    "        print(\"this is op3 in c2\")\n",
    "    def operations(self):\n",
    "        self.op3()\n",
    "        #o1=c1()\n",
    "        self.op1()\n",
    "        self.op2()\n",
    "    def op1(self):\n",
    "        print(\"this is op1 in c2\")\n",
    "o=c2()\n",
    "o.operations()"
   ]
  },
  {
   "cell_type": "code",
   "execution_count": 10,
   "metadata": {},
   "outputs": [
    {
     "name": "stdout",
     "output_type": "stream",
     "text": [
      "this is op3 in c2\n",
      "this is op1 in c1\n",
      "this is op2 in c1\n"
     ]
    }
   ],
   "source": [
    "class c1:\n",
    "    def op1(self):\n",
    "        print(\"this is op1 in c1\")\n",
    "    def op2(self):\n",
    "        print(\"this is op2 in c1\")\n",
    "    def operations(self):\n",
    "        self.op1()\n",
    "        self.op2()\n",
    "class c2(c1): # c2 inherited from c1: c1 is parent class c2 is child class.\n",
    "    def op3(self):\n",
    "        print(\"this is op3 in c2\")\n",
    "    def operations(self):\n",
    "        self.op3()\n",
    "        #o1=c1()\n",
    "        c1.op1(self)\n",
    "        self.op2()\n",
    "    def op1(self):\n",
    "        print(\"this is op1 in c2\")\n",
    "o=c2()\n",
    "o.operations()"
   ]
  },
  {
   "cell_type": "code",
   "execution_count": 11,
   "metadata": {},
   "outputs": [
    {
     "name": "stdout",
     "output_type": "stream",
     "text": [
      "this is init in c2\n"
     ]
    }
   ],
   "source": [
    "class c1:\n",
    "    def __init__(self,a):\n",
    "        print(\"this is init in c1\")\n",
    "        self.a=a\n",
    "class c2(c1): # c2 inherited from c1: c1 is parent class c2 is child class.\n",
    "    def __init__(self,b):\n",
    "        print(\"this is init in c2\")\n",
    "        self.b=b\n",
    "o=c2(20)"
   ]
  },
  {
   "cell_type": "code",
   "execution_count": 12,
   "metadata": {},
   "outputs": [
    {
     "name": "stdout",
     "output_type": "stream",
     "text": [
      "this is init in c1\n"
     ]
    }
   ],
   "source": [
    "class c1:\n",
    "    def __init__(self,a):\n",
    "        print(\"this is init in c1\")\n",
    "        self.a=a\n",
    "class c2(c1): # c2 inherited from c1: c1 is parent class c2 is child class.\n",
    "    pass\n",
    "o=c2(20)"
   ]
  },
  {
   "cell_type": "code",
   "execution_count": 13,
   "metadata": {},
   "outputs": [
    {
     "name": "stdout",
     "output_type": "stream",
     "text": [
      "this is init in c1\n",
      "20\n"
     ]
    }
   ],
   "source": [
    "class c1:\n",
    "    def __init__(self,a):\n",
    "        print(\"this is init in c1\")\n",
    "        self.a=a\n",
    "class c2(c1): # c2 inherited from c1: c1 is parent class c2 is child class.\n",
    "    def get(self):\n",
    "        return self.a\n",
    "o=c2(20)\n",
    "print(o.get())"
   ]
  },
  {
   "cell_type": "code",
   "execution_count": 14,
   "metadata": {},
   "outputs": [
    {
     "name": "stdout",
     "output_type": "stream",
     "text": [
      "this is init in c2\n"
     ]
    },
    {
     "ename": "AttributeError",
     "evalue": "'c2' object has no attribute 'a'",
     "output_type": "error",
     "traceback": [
      "\u001b[0;31m---------------------------------------------------------------------------\u001b[0m",
      "\u001b[0;31mAttributeError\u001b[0m                            Traceback (most recent call last)",
      "\u001b[0;32m<ipython-input-14-f2c6065ea8ab>\u001b[0m in \u001b[0;36m<module>\u001b[0;34m()\u001b[0m\n\u001b[1;32m     10\u001b[0m         \u001b[0;32mreturn\u001b[0m \u001b[0mself\u001b[0m\u001b[0;34m.\u001b[0m\u001b[0ma\u001b[0m\u001b[0;34m,\u001b[0m\u001b[0mself\u001b[0m\u001b[0;34m.\u001b[0m\u001b[0mb\u001b[0m\u001b[0;34m\u001b[0m\u001b[0m\n\u001b[1;32m     11\u001b[0m \u001b[0mo\u001b[0m\u001b[0;34m=\u001b[0m\u001b[0mc2\u001b[0m\u001b[0;34m(\u001b[0m\u001b[0;36m20\u001b[0m\u001b[0;34m)\u001b[0m\u001b[0;34m\u001b[0m\u001b[0m\n\u001b[0;32m---> 12\u001b[0;31m \u001b[0mprint\u001b[0m\u001b[0;34m(\u001b[0m\u001b[0mo\u001b[0m\u001b[0;34m.\u001b[0m\u001b[0mget\u001b[0m\u001b[0;34m(\u001b[0m\u001b[0;34m)\u001b[0m\u001b[0;34m)\u001b[0m\u001b[0;34m\u001b[0m\u001b[0m\n\u001b[0m",
      "\u001b[0;32m<ipython-input-14-f2c6065ea8ab>\u001b[0m in \u001b[0;36mget\u001b[0;34m(self)\u001b[0m\n\u001b[1;32m      8\u001b[0m         \u001b[0mself\u001b[0m\u001b[0;34m.\u001b[0m\u001b[0mb\u001b[0m\u001b[0;34m=\u001b[0m\u001b[0mb\u001b[0m\u001b[0;34m\u001b[0m\u001b[0m\n\u001b[1;32m      9\u001b[0m     \u001b[0;32mdef\u001b[0m \u001b[0mget\u001b[0m\u001b[0;34m(\u001b[0m\u001b[0mself\u001b[0m\u001b[0;34m)\u001b[0m\u001b[0;34m:\u001b[0m\u001b[0;34m\u001b[0m\u001b[0m\n\u001b[0;32m---> 10\u001b[0;31m         \u001b[0;32mreturn\u001b[0m \u001b[0mself\u001b[0m\u001b[0;34m.\u001b[0m\u001b[0ma\u001b[0m\u001b[0;34m,\u001b[0m\u001b[0mself\u001b[0m\u001b[0;34m.\u001b[0m\u001b[0mb\u001b[0m\u001b[0;34m\u001b[0m\u001b[0m\n\u001b[0m\u001b[1;32m     11\u001b[0m \u001b[0mo\u001b[0m\u001b[0;34m=\u001b[0m\u001b[0mc2\u001b[0m\u001b[0;34m(\u001b[0m\u001b[0;36m20\u001b[0m\u001b[0;34m)\u001b[0m\u001b[0;34m\u001b[0m\u001b[0m\n\u001b[1;32m     12\u001b[0m \u001b[0mprint\u001b[0m\u001b[0;34m(\u001b[0m\u001b[0mo\u001b[0m\u001b[0;34m.\u001b[0m\u001b[0mget\u001b[0m\u001b[0;34m(\u001b[0m\u001b[0;34m)\u001b[0m\u001b[0;34m)\u001b[0m\u001b[0;34m\u001b[0m\u001b[0m\n",
      "\u001b[0;31mAttributeError\u001b[0m: 'c2' object has no attribute 'a'"
     ]
    }
   ],
   "source": [
    "class c1:\n",
    "    def __init__(self,a):\n",
    "        print(\"this is init in c1\")\n",
    "        self.a=a\n",
    "class c2(c1): # c2 inherited from c1: c1 is parent class c2 is child class.\n",
    "    def __init__(self,b):\n",
    "        print(\"this is init in c2\")\n",
    "        self.b=b\n",
    "    def get(self):\n",
    "        return self.a,self.b\n",
    "o=c2(20)\n",
    "print(o.get())"
   ]
  },
  {
   "cell_type": "code",
   "execution_count": 15,
   "metadata": {},
   "outputs": [
    {
     "name": "stdout",
     "output_type": "stream",
     "text": [
      "this is init in c2\n",
      "(30, 20)\n"
     ]
    }
   ],
   "source": [
    "class c1:\n",
    "    def __init__(self,a):\n",
    "        print(\"this is init in c1\")\n",
    "        self.a=a\n",
    "class c2(c1): # c2 inherited from c1: c1 is parent class c2 is child class.\n",
    "    def __init__(self,b,a):\n",
    "        print(\"this is init in c2\")\n",
    "        self.b=b\n",
    "        self.a=a\n",
    "    def get(self):\n",
    "        return self.a,self.b\n",
    "o=c2(20,30)\n",
    "print(o.get())"
   ]
  },
  {
   "cell_type": "code",
   "execution_count": 16,
   "metadata": {},
   "outputs": [
    {
     "name": "stdout",
     "output_type": "stream",
     "text": [
      "this is init in c2\n"
     ]
    },
    {
     "ename": "TypeError",
     "evalue": "__init__() missing 1 required positional argument: 'a'",
     "output_type": "error",
     "traceback": [
      "\u001b[0;31m---------------------------------------------------------------------------\u001b[0m",
      "\u001b[0;31mTypeError\u001b[0m                                 Traceback (most recent call last)",
      "\u001b[0;32m<ipython-input-16-3a0046c88880>\u001b[0m in \u001b[0;36m<module>\u001b[0;34m()\u001b[0m\n\u001b[1;32m     11\u001b[0m     \u001b[0;32mdef\u001b[0m \u001b[0mget\u001b[0m\u001b[0;34m(\u001b[0m\u001b[0mself\u001b[0m\u001b[0;34m)\u001b[0m\u001b[0;34m:\u001b[0m\u001b[0;34m\u001b[0m\u001b[0m\n\u001b[1;32m     12\u001b[0m         \u001b[0;32mreturn\u001b[0m \u001b[0mself\u001b[0m\u001b[0;34m.\u001b[0m\u001b[0ma\u001b[0m\u001b[0;34m,\u001b[0m\u001b[0mself\u001b[0m\u001b[0;34m.\u001b[0m\u001b[0mb\u001b[0m\u001b[0;34m\u001b[0m\u001b[0m\n\u001b[0;32m---> 13\u001b[0;31m \u001b[0mo\u001b[0m\u001b[0;34m=\u001b[0m\u001b[0mc2\u001b[0m\u001b[0;34m(\u001b[0m\u001b[0;36m20\u001b[0m\u001b[0;34m,\u001b[0m\u001b[0;36m30\u001b[0m\u001b[0;34m)\u001b[0m\u001b[0;34m\u001b[0m\u001b[0m\n\u001b[0m\u001b[1;32m     14\u001b[0m \u001b[0mprint\u001b[0m\u001b[0;34m(\u001b[0m\u001b[0mo\u001b[0m\u001b[0;34m.\u001b[0m\u001b[0mget\u001b[0m\u001b[0;34m(\u001b[0m\u001b[0;34m)\u001b[0m\u001b[0;34m)\u001b[0m\u001b[0;34m\u001b[0m\u001b[0m\n",
      "\u001b[0;32m<ipython-input-16-3a0046c88880>\u001b[0m in \u001b[0;36m__init__\u001b[0;34m(self, b, a)\u001b[0m\n\u001b[1;32m      8\u001b[0m         \u001b[0mself\u001b[0m\u001b[0;34m.\u001b[0m\u001b[0mb\u001b[0m\u001b[0;34m=\u001b[0m\u001b[0mb\u001b[0m\u001b[0;34m\u001b[0m\u001b[0m\n\u001b[1;32m      9\u001b[0m         \u001b[0;31m#self.a=a\u001b[0m\u001b[0;34m\u001b[0m\u001b[0;34m\u001b[0m\u001b[0m\n\u001b[0;32m---> 10\u001b[0;31m         \u001b[0mself\u001b[0m\u001b[0;34m.\u001b[0m\u001b[0m__init__\u001b[0m\u001b[0;34m(\u001b[0m\u001b[0ma\u001b[0m\u001b[0;34m)\u001b[0m\u001b[0;34m\u001b[0m\u001b[0m\n\u001b[0m\u001b[1;32m     11\u001b[0m     \u001b[0;32mdef\u001b[0m \u001b[0mget\u001b[0m\u001b[0;34m(\u001b[0m\u001b[0mself\u001b[0m\u001b[0;34m)\u001b[0m\u001b[0;34m:\u001b[0m\u001b[0;34m\u001b[0m\u001b[0m\n\u001b[1;32m     12\u001b[0m         \u001b[0;32mreturn\u001b[0m \u001b[0mself\u001b[0m\u001b[0;34m.\u001b[0m\u001b[0ma\u001b[0m\u001b[0;34m,\u001b[0m\u001b[0mself\u001b[0m\u001b[0;34m.\u001b[0m\u001b[0mb\u001b[0m\u001b[0;34m\u001b[0m\u001b[0m\n",
      "\u001b[0;31mTypeError\u001b[0m: __init__() missing 1 required positional argument: 'a'"
     ]
    }
   ],
   "source": [
    "class c1:\n",
    "    def __init__(self,a):\n",
    "        print(\"this is init in c1\")\n",
    "        self.a=a\n",
    "class c2(c1): # c2 inherited from c1: c1 is parent class c2 is child class.\n",
    "    def __init__(self,b,a):\n",
    "        print(\"this is init in c2\")\n",
    "        self.b=b\n",
    "        #self.a=a\n",
    "        self.__init__(a)\n",
    "    def get(self):\n",
    "        return self.a,self.b\n",
    "o=c2(20,30)\n",
    "print(o.get())"
   ]
  },
  {
   "cell_type": "code",
   "execution_count": 17,
   "metadata": {},
   "outputs": [
    {
     "name": "stdout",
     "output_type": "stream",
     "text": [
      "this is init in c2\n",
      "this is init in c1\n",
      "(30, 20)\n"
     ]
    }
   ],
   "source": [
    "class c1:\n",
    "    def __init__(self,a):\n",
    "        print(\"this is init in c1\")\n",
    "        self.a=a\n",
    "class c2(c1): # c2 inherited from c1: c1 is parent class c2 is child class.\n",
    "    def __init__(self,b,a):\n",
    "        print(\"this is init in c2\")\n",
    "        self.b=b\n",
    "        #self.a=a\n",
    "        c1.__init__(self,a)\n",
    "    def get(self):\n",
    "        return self.a,self.b\n",
    "o=c2(20,30)\n",
    "print(o.get())"
   ]
  },
  {
   "cell_type": "code",
   "execution_count": 19,
   "metadata": {},
   "outputs": [
    {
     "name": "stdout",
     "output_type": "stream",
     "text": [
      "1000\n",
      "100 200\n"
     ]
    }
   ],
   "source": [
    "class c1:\n",
    "    a=1000\n",
    "    def op1(x,y):\n",
    "        print(x,y)\n",
    "print(c1.a)\n",
    "c1.op1(100,200)\n"
   ]
  },
  {
   "cell_type": "code",
   "execution_count": 21,
   "metadata": {},
   "outputs": [
    {
     "name": "stdout",
     "output_type": "stream",
     "text": [
      "1000\n"
     ]
    }
   ],
   "source": [
    "class c1:\n",
    "    a=1000\n",
    "    def __init__(x,y):\n",
    "        x.b=y\n",
    "print(c1.a)\n",
    "o=c1(200)"
   ]
  },
  {
   "cell_type": "code",
   "execution_count": 22,
   "metadata": {},
   "outputs": [
    {
     "name": "stdout",
     "output_type": "stream",
     "text": [
      "1000\n",
      "200\n"
     ]
    }
   ],
   "source": [
    "class c1:\n",
    "    a=1000\n",
    "    def __init__(x,y):\n",
    "        x.b=y\n",
    "    def get(x):\n",
    "        return x.b\n",
    "print(c1.a)\n",
    "o=c1(200)\n",
    "print(o.get())"
   ]
  },
  {
   "cell_type": "code",
   "execution_count": 24,
   "metadata": {},
   "outputs": [
    {
     "name": "stdout",
     "output_type": "stream",
     "text": [
      "1000\n",
      "200\n"
     ]
    }
   ],
   "source": [
    "class c1:\n",
    "    a=1000\n",
    "    def __init__(self,y):\n",
    "        self.b=y\n",
    "    def get(self):\n",
    "        return self.b\n",
    "print(c1.a)\n",
    "o=c1(200)\n",
    "print(o.get())"
   ]
  },
  {
   "cell_type": "code",
   "execution_count": 25,
   "metadata": {},
   "outputs": [
    {
     "name": "stdout",
     "output_type": "stream",
     "text": [
      "1000\n",
      "200\n"
     ]
    }
   ],
   "source": [
    "class c1:\n",
    "    a=1000\n",
    "    def __init__(self,y):\n",
    "        self.b=y\n",
    "    def get(self):\n",
    "        return self.b\n",
    "print(c1.a)\n",
    "o=c1(200)\n",
    "#print(o.get())\n",
    "print(c1.get(o))"
   ]
  },
  {
   "cell_type": "code",
   "execution_count": 26,
   "metadata": {},
   "outputs": [
    {
     "ename": "NameError",
     "evalue": "name 'company_name' is not defined",
     "output_type": "error",
     "traceback": [
      "\u001b[0;31m---------------------------------------------------------------------------\u001b[0m",
      "\u001b[0;31mNameError\u001b[0m                                 Traceback (most recent call last)",
      "\u001b[0;32m<ipython-input-26-cbba91323948>\u001b[0m in \u001b[0;36m<module>\u001b[0;34m()\u001b[0m\n\u001b[1;32m      3\u001b[0m     \u001b[0;32mdef\u001b[0m \u001b[0mget\u001b[0m\u001b[0;34m(\u001b[0m\u001b[0mx\u001b[0m\u001b[0;34m)\u001b[0m\u001b[0;34m:\u001b[0m\u001b[0;34m\u001b[0m\u001b[0m\n\u001b[1;32m      4\u001b[0m         \u001b[0;32mreturn\u001b[0m \u001b[0mx\u001b[0m\u001b[0;34m\u001b[0m\u001b[0m\n\u001b[0;32m----> 5\u001b[0;31m \u001b[0mprint\u001b[0m\u001b[0;34m(\u001b[0m\u001b[0mcompany_name\u001b[0m\u001b[0;34m)\u001b[0m\u001b[0;34m\u001b[0m\u001b[0m\n\u001b[0m",
      "\u001b[0;31mNameError\u001b[0m: name 'company_name' is not defined"
     ]
    }
   ],
   "source": [
    "class Emp:\n",
    "    company_name=\"Khyaathi\"\n",
    "    def get(x):\n",
    "        return x\n",
    "print(company_name)"
   ]
  },
  {
   "cell_type": "code",
   "execution_count": 27,
   "metadata": {},
   "outputs": [
    {
     "name": "stdout",
     "output_type": "stream",
     "text": [
      "Khyaathi\n"
     ]
    }
   ],
   "source": [
    "class Emp:\n",
    "    company_name=\"Khyaathi\"\n",
    "    def get(x):\n",
    "        return x\n",
    "print(Emp.company_name)"
   ]
  },
  {
   "cell_type": "code",
   "execution_count": 28,
   "metadata": {},
   "outputs": [
    {
     "name": "stdout",
     "output_type": "stream",
     "text": [
      "Khyaathi\n",
      "20\n"
     ]
    }
   ],
   "source": [
    "class Emp:\n",
    "    company_name=\"Khyaathi\"\n",
    "    def get(x):\n",
    "        return x\n",
    "print(Emp.company_name)\n",
    "print(Emp.get(20))"
   ]
  },
  {
   "cell_type": "code",
   "execution_count": 29,
   "metadata": {},
   "outputs": [
    {
     "name": "stdout",
     "output_type": "stream",
     "text": [
      "Khyaathi\n",
      "sai\n"
     ]
    }
   ],
   "source": [
    "class Emp:\n",
    "    company_name=\"Khyaathi\"\n",
    "    def get(x):\n",
    "        return x.name\n",
    "print(Emp.company_name)\n",
    "o=Emp()\n",
    "o.name=\"sai\"\n",
    "print(Emp.get(o))"
   ]
  },
  {
   "cell_type": "code",
   "execution_count": 31,
   "metadata": {},
   "outputs": [
    {
     "name": "stdout",
     "output_type": "stream",
     "text": [
      "Khyaathi\n",
      "('sai', 2, '2018-05-02')\n"
     ]
    }
   ],
   "source": [
    "class Emp:\n",
    "    company_name=\"Khyaathi\"\n",
    "    def get(x):\n",
    "        return x.name,o.id,o.doj\n",
    "print(Emp.company_name)\n",
    "o=Emp()\n",
    "o.name=\"sai\"\n",
    "o.id=2\n",
    "o.doj=\"2018-05-02\"\n",
    "print(Emp.get(o))"
   ]
  },
  {
   "cell_type": "code",
   "execution_count": 32,
   "metadata": {},
   "outputs": [
    {
     "name": "stdout",
     "output_type": "stream",
     "text": [
      "Khyaathi\n",
      "('sai', 2, '2018-05-02')\n"
     ]
    }
   ],
   "source": [
    "class Emp:\n",
    "    company_name=\"Khyaathi\"\n",
    "    def __init__(x, name,e_id, doj):\n",
    "        x.name=name\n",
    "        x.id=e_id\n",
    "        x.doj=doj\n",
    "        \n",
    "    def get(y):\n",
    "        return y.name,y.id,y.doj\n",
    "print(Emp.company_name)\n",
    "o=Emp(\"sai\",2,\"2018-05-02\")\n",
    "print(Emp.get(o))"
   ]
  },
  {
   "cell_type": "code",
   "execution_count": 33,
   "metadata": {},
   "outputs": [
    {
     "name": "stdout",
     "output_type": "stream",
     "text": [
      "Khyaathi\n",
      "('sai', 2, '2018-05-02')\n"
     ]
    }
   ],
   "source": [
    "class Emp:\n",
    "    company_name=\"Khyaathi\"\n",
    "    def __init__(x, name,e_id, doj):\n",
    "        x.name=name\n",
    "        x.id=e_id\n",
    "        x.doj=doj\n",
    "        \n",
    "    def get(y):\n",
    "        return y.name,y.id,y.doj\n",
    "print(Emp.company_name)\n",
    "o=Emp(\"sai\",2,\"2018-05-02\")\n",
    "#print(Emp.get(o))\n",
    "print(o.get())"
   ]
  },
  {
   "cell_type": "code",
   "execution_count": 34,
   "metadata": {},
   "outputs": [
    {
     "name": "stdout",
     "output_type": "stream",
     "text": [
      "Khyaathi\n",
      "('sai', 2, '2018-05-02')\n"
     ]
    }
   ],
   "source": [
    "class Emp:\n",
    "    company_name=\"Khyaathi\"\n",
    "    def __init__(self, name,e_id, doj):\n",
    "        self.name=name\n",
    "        self.id=e_id\n",
    "        self.doj=doj\n",
    "        \n",
    "    def get(self):\n",
    "        return self.name,self.id,self.doj\n",
    "print(Emp.company_name)\n",
    "o=Emp(\"sai\",2,\"2018-05-02\")\n",
    "#print(Emp.get(o))\n",
    "print(o.get())"
   ]
  },
  {
   "cell_type": "code",
   "execution_count": 1,
   "metadata": {},
   "outputs": [
    {
     "data": {
      "text/plain": [
       "'/home/khyaathipython/batch54'"
      ]
     },
     "execution_count": 1,
     "metadata": {},
     "output_type": "execute_result"
    }
   ],
   "source": [
    "pwd"
   ]
  },
  {
   "cell_type": "code",
   "execution_count": 2,
   "metadata": {},
   "outputs": [
    {
     "name": "stdout",
     "output_type": "stream",
     "text": [
      "this is op1 in c1\n",
      "this is op2 in c2\n",
      "this is op3 in c3\n"
     ]
    }
   ],
   "source": [
    "class c1:\n",
    "    def op1(self):\n",
    "        print(\"this is op1 in c1\")\n",
    "class c2:\n",
    "    def op2(self):\n",
    "        print(\"this is op2 in c2\")\n",
    "class c3(c1,c2):\n",
    "    def op3(self):\n",
    "        print(\"this is op3 in c3\")\n",
    "    def operations(self):\n",
    "        self.op1()\n",
    "        self.op2()\n",
    "        self.op3()\n",
    "o3=c3()\n",
    "o3.operations()"
   ]
  },
  {
   "cell_type": "code",
   "execution_count": 3,
   "metadata": {},
   "outputs": [
    {
     "name": "stdout",
     "output_type": "stream",
     "text": [
      "this is op1 in c1\n",
      "this is op2 in c1\n",
      "this is op3 in c3\n"
     ]
    }
   ],
   "source": [
    "# mulitple inheritance\n",
    "class c1:\n",
    "    def op1(self):\n",
    "        print(\"this is op1 in c1\")\n",
    "    def op2(self):\n",
    "        print(\"this is op2 in c1\")\n",
    "class c2:\n",
    "    def op2(self):\n",
    "        print(\"this is op2 in c2\")\n",
    "class c3(c1,c2):\n",
    "    def op3(self):\n",
    "        print(\"this is op3 in c3\")\n",
    "    def operations(self):\n",
    "        self.op1()\n",
    "        self.op2()\n",
    "        self.op3()\n",
    "o3=c3()\n",
    "o3.operations()"
   ]
  },
  {
   "cell_type": "code",
   "execution_count": 4,
   "metadata": {},
   "outputs": [
    {
     "name": "stdout",
     "output_type": "stream",
     "text": [
      "this is op1 in c1\n",
      "this is op2 in c2\n",
      "this is op3 in c3\n"
     ]
    }
   ],
   "source": [
    "# mulilevel inheritance\n",
    "class c1:\n",
    "    def op1(self):\n",
    "        print(\"this is op1 in c1\")\n",
    "    def op2(self):\n",
    "        print(\"this is op2 in c1\")\n",
    "class c2(c1):\n",
    "    def op2(self):\n",
    "        print(\"this is op2 in c2\")\n",
    "class c3(c2):\n",
    "    def op3(self):\n",
    "        print(\"this is op3 in c3\")\n",
    "    def operations(self):\n",
    "        self.op1()\n",
    "        self.op2()\n",
    "        self.op3()\n",
    "o3=c3()\n",
    "o3.operations()"
   ]
  },
  {
   "cell_type": "code",
   "execution_count": 6,
   "metadata": {},
   "outputs": [
    {
     "name": "stdout",
     "output_type": "stream",
     "text": [
      "this is will inserts the {'name': 'sai', 'id': 2}\n"
     ]
    }
   ],
   "source": [
    "class Model:\n",
    "    def insert(self):\n",
    "        print(\"this is will inserts the %s\"%self.data)\n",
    "    def update(self,data):\n",
    "        print(\"this will updated the %s\"%self.data)\n",
    "    def delete(self,data):\n",
    "        print(\"this will delete the%s\"%self.data)\n",
    "class Customer(Model):\n",
    "    table_name=\"Customer table\"\n",
    "    def __init__(self,data):\n",
    "        self.data=data\n",
    "c1=Customer({\"name\":\"sai\",\"id\":2})\n",
    "c1.insert()"
   ]
  },
  {
   "cell_type": "code",
   "execution_count": 7,
   "metadata": {},
   "outputs": [
    {
     "name": "stdout",
     "output_type": "stream",
     "text": [
      "this is will inserts the {'name': 'sai', 'id': 2}\n",
      "this is will inserts the {'name': 'samba', 'id': 1}\n"
     ]
    }
   ],
   "source": [
    "class Model:\n",
    "    def insert(self):\n",
    "        print(\"this is will inserts the %s\"%self.data)\n",
    "    def update(self,data):\n",
    "        print(\"this will updated the %s\"%self.data)\n",
    "    def delete(self,data):\n",
    "        print(\"this will delete the%s\"%self.data)\n",
    "class Customer(Model):\n",
    "    table_name=\"Customer table\"\n",
    "    def __init__(self,data):\n",
    "        self.data=data\n",
    "class Supplier(Model):\n",
    "    table_name=\"Supplier\"\n",
    "    def __init__(self,data):\n",
    "        self.data=data\n",
    "        \n",
    "c1=Customer({\"name\":\"sai\",\"id\":2})\n",
    "c1.insert()\n",
    "s1=Supplier({\"name\":\"samba\",\"id\":1})\n",
    "s1.insert()"
   ]
  },
  {
   "cell_type": "code",
   "execution_count": 8,
   "metadata": {},
   "outputs": [
    {
     "name": "stdout",
     "output_type": "stream",
     "text": [
      "this is will inserts the {'name': 'sai', 'id': 2}\n",
      "this is will inserts the {'name': 'samba', 'id': 1}\n",
      "this is will inserts the {'name': 'vedha123', 'id': 1}\n"
     ]
    }
   ],
   "source": [
    "class Model:\n",
    "    def insert(self):\n",
    "        print(\"this is will inserts the %s\"%self.data)\n",
    "    def update(self,data):\n",
    "        print(\"this will updated the %s\"%self.data)\n",
    "    def delete(self,data):\n",
    "        print(\"this will delete the%s\"%self.data)\n",
    "class Customer(Model):\n",
    "    table_name=\"Customer table\"\n",
    "    def __init__(self,data):\n",
    "        self.data=data\n",
    "class Supplier(Model):\n",
    "    table_name=\"Supplier\"\n",
    "    def __init__(self,data):\n",
    "        self.data=data\n",
    "        \n",
    "c1=Customer({\"name\":\"sai\",\"id\":2})\n",
    "c1.insert()\n",
    "s1=Supplier({\"name\":\"samba\",\"id\":1})\n",
    "s1.insert()\n",
    "s1=Supplier({\"name\":\"vedha123\",\"id\":1})\n",
    "s1.insert()"
   ]
  },
  {
   "cell_type": "code",
   "execution_count": 11,
   "metadata": {},
   "outputs": [
    {
     "name": "stdout",
     "output_type": "stream",
     "text": [
      "this is will inserts the {'name': 'sai', 'id': 2}\n",
      "this is will inserts the {'name': 'samba', 'id': 1}\n",
      "Not a valid name\n"
     ]
    }
   ],
   "source": [
    "class Model:\n",
    "    def insert(self):\n",
    "        print(\"this is will inserts the %s\"%self.data)\n",
    "    def update(self,data):\n",
    "        print(\"this will updated the %s\"%self.data)\n",
    "    def delete(self,data):\n",
    "        print(\"this will delete the%s\"%self.data)\n",
    "class Customer(Model):\n",
    "    table_name=\"Customer table\"\n",
    "    def __init__(self,data):\n",
    "        self.data=data\n",
    "class Supplier(Model):\n",
    "    table_name=\"Supplier\"\n",
    "    def __init__(self,data):\n",
    "        self.data=data\n",
    "    def verify_insert(self):\n",
    "        if self.data.get('name').isalpha():\n",
    "            print(\"this is will inserts the %s\"%self.data)\n",
    "        else:\n",
    "            print(\"Not a valid name\")\n",
    "        \n",
    "c1=Customer({\"name\":\"sai\",\"id\":2})\n",
    "c1.insert()\n",
    "s1=Supplier({\"name\":\"samba\",\"id\":1})\n",
    "s1.verify_insert()\n",
    "s1=Supplier({\"name\":\"vedha123\",\"id\":1})\n",
    "s1.verify_insert()"
   ]
  },
  {
   "cell_type": "code",
   "execution_count": 12,
   "metadata": {},
   "outputs": [
    {
     "name": "stdout",
     "output_type": "stream",
     "text": [
      "this is will inserts the {'name': 'sai', 'id': 2}\n",
      "this is will inserts the {'name': 'samba', 'id': 1}\n",
      "Not a valid name\n",
      "this is will inserts the {'name': 'samba', 'id': 1}\n"
     ]
    }
   ],
   "source": [
    "class Model:\n",
    "    def insert(self):\n",
    "        print(\"this is will inserts the %s\"%self.data)\n",
    "    def update(self,data):\n",
    "        print(\"this will updated the %s\"%self.data)\n",
    "    def delete(self,data):\n",
    "        print(\"this will delete the%s\"%self.data)\n",
    "class Customer(Model):\n",
    "    table_name=\"Customer table\"\n",
    "    def __init__(self,data):\n",
    "        self.data=data\n",
    "class Supplier(Model):\n",
    "    table_name=\"Supplier\"\n",
    "    def __init__(self,data):\n",
    "        self.data=data\n",
    "    def verify_insert(self):\n",
    "        if self.data.get('name').isalpha():\n",
    "            print(\"this is will inserts the %s\"%self.data)\n",
    "        else:\n",
    "            print(\"Not a valid name\")\n",
    "        \n",
    "c1=Customer({\"name\":\"sai\",\"id\":2})\n",
    "c1.insert()\n",
    "s1=Supplier({\"name\":\"samba\",\"id\":1})\n",
    "s1.verify_insert()\n",
    "s1=Supplier({\"name\":\"vedha123\",\"id\":1})\n",
    "s1.verify_insert()\n",
    "s1=Supplier({\"name\":\"samba\",\"id\":1})\n",
    "s1.insert()"
   ]
  },
  {
   "cell_type": "code",
   "execution_count": 13,
   "metadata": {},
   "outputs": [
    {
     "name": "stdout",
     "output_type": "stream",
     "text": [
      "this is will inserts the {'name': 'sai', 'id': 2}\n",
      "this is will inserts the {'name': 'samba', 'id': 1}\n",
      "Not a valid name\n",
      "this is will inserts the {'name': 'samba', 'id': 1}\n"
     ]
    }
   ],
   "source": [
    "class Model:\n",
    "    def insert(self):\n",
    "        print(\"this is will inserts the %s\"%self.data)\n",
    "    def update(self,data):\n",
    "        print(\"this will updated the %s\"%self.data)\n",
    "    def delete(self,data):\n",
    "        print(\"this will delete the%s\"%self.data)\n",
    "class Customer(Model):\n",
    "    table_name=\"Customer table\"\n",
    "    def __init__(self,data):\n",
    "        self.data=data\n",
    "class Supplier(Model):\n",
    "    table_name=\"Supplier\"\n",
    "    def __init__(self,data):\n",
    "        self.data=data\n",
    "    def insert(self):\n",
    "        if self.data.get('name').isalpha():\n",
    "            print(\"this is will inserts the %s\"%self.data)\n",
    "        else:\n",
    "            print(\"Not a valid name\")\n",
    "        \n",
    "c1=Customer({\"name\":\"sai\",\"id\":2})\n",
    "c1.insert()\n",
    "s1=Supplier({\"name\":\"samba\",\"id\":1})\n",
    "s1.insert()\n",
    "s1=Supplier({\"name\":\"vedha123\",\"id\":1})\n",
    "s1.insert()\n",
    "s1=Supplier({\"name\":\"samba\",\"id\":1})\n",
    "s1.insert()"
   ]
  },
  {
   "cell_type": "code",
   "execution_count": 14,
   "metadata": {},
   "outputs": [
    {
     "name": "stdout",
     "output_type": "stream",
     "text": [
      "this is will inserts the {'name': 'sai', 'id': 2}\n",
      "this is will inserts the {'name': 'samba', 'id': 1}\n",
      "Not a valid name\n",
      "this is will inserts the {'name': 'samba', 'id': 1}\n"
     ]
    }
   ],
   "source": [
    "#method overriding.\n",
    "class Model:\n",
    "    def insert(self):\n",
    "        print(\"this is will inserts the %s\"%self.data)\n",
    "    def update(self,data):\n",
    "        print(\"this will updated the %s\"%self.data)\n",
    "    def delete(self,data):\n",
    "        print(\"this will delete the%s\"%self.data)\n",
    "class Customer(Model):\n",
    "    table_name=\"Customer table\"\n",
    "    def __init__(self,data):\n",
    "        self.data=data\n",
    "class Supplier(Model):\n",
    "    table_name=\"Supplier\"\n",
    "    def __init__(self,data):\n",
    "        self.data=data\n",
    "    def insert(self):\n",
    "        if self.data.get('name').isalpha():\n",
    "            #print(\"this is will inserts the %s\"%self.data)\n",
    "            Model.insert(self)\n",
    "        else:\n",
    "            print(\"Not a valid name\")\n",
    "        \n",
    "c1=Customer({\"name\":\"sai\",\"id\":2})\n",
    "c1.insert()\n",
    "s1=Supplier({\"name\":\"samba\",\"id\":1})\n",
    "s1.insert()\n",
    "s1=Supplier({\"name\":\"vedha123\",\"id\":1})\n",
    "s1.insert()\n",
    "s1=Supplier({\"name\":\"samba\",\"id\":1})\n",
    "s1.insert()"
   ]
  },
  {
   "cell_type": "code",
   "execution_count": 15,
   "metadata": {},
   "outputs": [
    {
     "name": "stdout",
     "output_type": "stream",
     "text": [
      "30\n",
      "str1str2\n",
      "[1, 2, 3, 4]\n",
      "(4+6j)\n"
     ]
    }
   ],
   "source": [
    "#operator oveloading..\n",
    "print(10+20)\n",
    "print(\"str1\"+\"str2\")\n",
    "print([1,2]+[3,4])\n",
    "print(1+2j+3+4j)"
   ]
  },
  {
   "cell_type": "code",
   "execution_count": 17,
   "metadata": {},
   "outputs": [
    {
     "data": {
      "text/plain": [
       "[1, 2, 3, 4, 5, 6, 7, 8]"
      ]
     },
     "execution_count": 17,
     "metadata": {},
     "output_type": "execute_result"
    }
   ],
   "source": [
    "class Emp:\n",
    "    def __init__(self,name,e_id):\n",
    "        self.name=name\n",
    "        self.id=e_id\n",
    "    def sal_cal(self):\n",
    "        pass\n",
    "    def it_cal(self):\n",
    "        pass\n",
    "    def payslip_gen(self):\n",
    "        pass\n",
    "    def leave_cal(self):\n",
    "        pass\n",
    "sai=Emp(\"sailaxmi\",2)\n",
    "samba=Emp(\"Sambasiva\",3)\n",
    "#sai+samba\n",
    "'''\n",
    "int\n",
    "a=10\n",
    "s=\"str1\"\n",
    "l=[1,2,3]\n",
    "t=(1,2,3,4)\n",
    "s={1,2,4}\n",
    "b=20\n",
    "c=a+b\n",
    "\n",
    "'''\n",
    "l1=[1,2,3,4]\n",
    "l2=[5,6,7,8]\n",
    "l1+l2"
   ]
  },
  {
   "cell_type": "code",
   "execution_count": 18,
   "metadata": {},
   "outputs": [
    {
     "ename": "TypeError",
     "evalue": "unsupported operand type(s) for +: 'Emp' and 'Emp'",
     "output_type": "error",
     "traceback": [
      "\u001b[0;31m---------------------------------------------------------------------------\u001b[0m",
      "\u001b[0;31mTypeError\u001b[0m                                 Traceback (most recent call last)",
      "\u001b[0;32m<ipython-input-18-4cb40a15d9b9>\u001b[0m in \u001b[0;36m<module>\u001b[0;34m()\u001b[0m\n\u001b[1;32m     13\u001b[0m \u001b[0msai\u001b[0m\u001b[0;34m=\u001b[0m\u001b[0mEmp\u001b[0m\u001b[0;34m(\u001b[0m\u001b[0;34m\"sailaxmi\"\u001b[0m\u001b[0;34m,\u001b[0m\u001b[0;36m2\u001b[0m\u001b[0;34m)\u001b[0m\u001b[0;34m\u001b[0m\u001b[0m\n\u001b[1;32m     14\u001b[0m \u001b[0msamba\u001b[0m\u001b[0;34m=\u001b[0m\u001b[0mEmp\u001b[0m\u001b[0;34m(\u001b[0m\u001b[0;34m\"Sambasiva\"\u001b[0m\u001b[0;34m,\u001b[0m\u001b[0;36m3\u001b[0m\u001b[0;34m)\u001b[0m\u001b[0;34m\u001b[0m\u001b[0m\n\u001b[0;32m---> 15\u001b[0;31m \u001b[0msai\u001b[0m\u001b[0;34m+\u001b[0m\u001b[0msamba\u001b[0m\u001b[0;34m\u001b[0m\u001b[0m\n\u001b[0m",
      "\u001b[0;31mTypeError\u001b[0m: unsupported operand type(s) for +: 'Emp' and 'Emp'"
     ]
    }
   ],
   "source": [
    "class Emp:\n",
    "    def __init__(self,name,e_id):\n",
    "        self.name=name\n",
    "        self.id=e_id\n",
    "    def sal_cal(self):\n",
    "        pass\n",
    "    def it_cal(self):\n",
    "        pass\n",
    "    def payslip_gen(self):\n",
    "        pass\n",
    "    def leave_cal(self):\n",
    "        pass\n",
    "sai=Emp(\"sailaxmi\",2)\n",
    "samba=Emp(\"Sambasiva\",3)\n",
    "sai+samba"
   ]
  },
  {
   "cell_type": "code",
   "execution_count": 19,
   "metadata": {},
   "outputs": [
    {
     "ename": "TypeError",
     "evalue": "unsupported operand type(s) for +: 'dict' and 'dict'",
     "output_type": "error",
     "traceback": [
      "\u001b[0;31m---------------------------------------------------------------------------\u001b[0m",
      "\u001b[0;31mTypeError\u001b[0m                                 Traceback (most recent call last)",
      "\u001b[0;32m<ipython-input-19-e67189ef2c84>\u001b[0m in \u001b[0;36m<module>\u001b[0;34m()\u001b[0m\n\u001b[1;32m      1\u001b[0m \u001b[0md1\u001b[0m\u001b[0;34m=\u001b[0m\u001b[0;34m{\u001b[0m\u001b[0;36m1\u001b[0m\u001b[0;34m:\u001b[0m\u001b[0;36m2\u001b[0m\u001b[0;34m,\u001b[0m\u001b[0;36m3\u001b[0m\u001b[0;34m:\u001b[0m\u001b[0;36m4\u001b[0m\u001b[0;34m}\u001b[0m\u001b[0;34m\u001b[0m\u001b[0m\n\u001b[1;32m      2\u001b[0m \u001b[0md2\u001b[0m\u001b[0;34m=\u001b[0m\u001b[0;34m{\u001b[0m\u001b[0;36m5\u001b[0m\u001b[0;34m:\u001b[0m\u001b[0;36m6\u001b[0m\u001b[0;34m,\u001b[0m\u001b[0;36m7\u001b[0m\u001b[0;34m:\u001b[0m\u001b[0;36m8\u001b[0m\u001b[0;34m}\u001b[0m\u001b[0;34m\u001b[0m\u001b[0m\n\u001b[0;32m----> 3\u001b[0;31m \u001b[0md1\u001b[0m\u001b[0;34m+\u001b[0m\u001b[0md2\u001b[0m\u001b[0;34m\u001b[0m\u001b[0m\n\u001b[0m",
      "\u001b[0;31mTypeError\u001b[0m: unsupported operand type(s) for +: 'dict' and 'dict'"
     ]
    }
   ],
   "source": [
    "d1={1:2,3:4}\n",
    "d2={5:6,7:8}\n",
    "d1+d2"
   ]
  },
  {
   "cell_type": "code",
   "execution_count": 20,
   "metadata": {},
   "outputs": [
    {
     "data": {
      "text/plain": [
       "10"
      ]
     },
     "execution_count": 20,
     "metadata": {},
     "output_type": "execute_result"
    }
   ],
   "source": [
    "class Emp:\n",
    "    def __init__(self,name,e_id):\n",
    "        self.name=name\n",
    "        self.id=e_id\n",
    "    def sal_cal(self):\n",
    "        pass\n",
    "    def it_cal(self):\n",
    "        pass\n",
    "    def payslip_gen(self):\n",
    "        pass\n",
    "    def leave_cal(self):\n",
    "        pass\n",
    "    def __add__(self1,self2):\n",
    "        return 10\n",
    "        \n",
    "sai=Emp(\"sailaxmi\",2)\n",
    "samba=Emp(\"Sambasiva\",3)\n",
    "sai+samba"
   ]
  },
  {
   "cell_type": "code",
   "execution_count": 22,
   "metadata": {},
   "outputs": [
    {
     "data": {
      "text/plain": [
       "[('sailaxmi', 'Sambasiva'), (2, 3)]"
      ]
     },
     "execution_count": 22,
     "metadata": {},
     "output_type": "execute_result"
    }
   ],
   "source": [
    "class Emp:\n",
    "    def __init__(self,name,e_id):\n",
    "        self.name=name\n",
    "        self.id=e_id\n",
    "    def sal_cal(self):\n",
    "        pass\n",
    "    def it_cal(self):\n",
    "        pass\n",
    "    def payslip_gen(self):\n",
    "        pass\n",
    "    def leave_cal(self):\n",
    "        pass\n",
    "    def __add__(self1,self2):\n",
    "        return [(self1.name,self2.name),(self1.id,self2.id)]\n",
    "        \n",
    "sai=Emp(\"sailaxmi\",2)\n",
    "samba=Emp(\"Sambasiva\",3)\n",
    "sai+samba"
   ]
  },
  {
   "cell_type": "code",
   "execution_count": 23,
   "metadata": {},
   "outputs": [
    {
     "data": {
      "text/plain": [
       "[{'name': 'sailaxmi', 'id': 2}, {'name': 'Sambasiva', 'id': 3}]"
      ]
     },
     "execution_count": 23,
     "metadata": {},
     "output_type": "execute_result"
    }
   ],
   "source": [
    "class Emp:\n",
    "    def __init__(self,name,e_id):\n",
    "        self.name=name\n",
    "        self.id=e_id\n",
    "    def sal_cal(self):\n",
    "        pass\n",
    "    def it_cal(self):\n",
    "        pass\n",
    "    def payslip_gen(self):\n",
    "        pass\n",
    "    def leave_cal(self):\n",
    "        pass\n",
    "    def __add__(self1,self2):\n",
    "        return [self1.__dict__,self2.__dict__]\n",
    "        \n",
    "sai=Emp(\"sailaxmi\",2)\n",
    "samba=Emp(\"Sambasiva\",3)\n",
    "sai+samba"
   ]
  },
  {
   "cell_type": "code",
   "execution_count": 24,
   "metadata": {},
   "outputs": [
    {
     "name": "stdout",
     "output_type": "stream",
     "text": [
      "[{'name': 'sailaxmi', 'id': 2}, {'name': 'Sambasiva', 'id': 3}]\n",
      "[{'name': 'sailaxmi', 'id': 2}, {'name': 'Sambasiva', 'id': 3}]\n"
     ]
    }
   ],
   "source": [
    "class Emp:\n",
    "    def __init__(self,name,e_id):\n",
    "        self.name=name\n",
    "        self.id=e_id\n",
    "    def sal_cal(self):\n",
    "        pass\n",
    "    def it_cal(self):\n",
    "        pass\n",
    "    def payslip_gen(self):\n",
    "        pass\n",
    "    def leave_cal(self):\n",
    "        pass\n",
    "    def __add__(self1,self2):\n",
    "        return [self1.__dict__,self2.__dict__]\n",
    "    def __sub__(self1,self2):\n",
    "        return [self1.__dict__,self2.__dict__]\n",
    "        \n",
    "sai=Emp(\"sailaxmi\",2)\n",
    "samba=Emp(\"Sambasiva\",3)\n",
    "print(sai+samba)\n",
    "print(sai-samba)"
   ]
  },
  {
   "cell_type": "code",
   "execution_count": 25,
   "metadata": {},
   "outputs": [
    {
     "name": "stdout",
     "output_type": "stream",
     "text": [
      "[{'name': 'sailaxmi', 'id': 2}, {'name': 'Sambasiva', 'id': 3}]\n",
      "[{'name': 'sailaxmi', 'id': 2}, {'name': 'Sambasiva', 'id': 3}]\n",
      "10\n"
     ]
    }
   ],
   "source": [
    "class Emp:\n",
    "    def __init__(self,name,e_id):\n",
    "        self.name=name\n",
    "        self.id=e_id\n",
    "    def sal_cal(self):\n",
    "        pass\n",
    "    def it_cal(self):\n",
    "        pass\n",
    "    def payslip_gen(self):\n",
    "        pass\n",
    "    def leave_cal(self):\n",
    "        pass\n",
    "    def __add__(self1,self2):\n",
    "        return [self1.__dict__,self2.__dict__]\n",
    "    def __sub__(self1,self2):\n",
    "        return [self1.__dict__,self2.__dict__]\n",
    "    def __len__(self):\n",
    "        return 10\n",
    "        \n",
    "sai=Emp(\"sailaxmi\",2)\n",
    "samba=Emp(\"Sambasiva\",3)\n",
    "print(sai+samba)\n",
    "print(sai-samba)\n",
    "print(len(sai))"
   ]
  },
  {
   "cell_type": "code",
   "execution_count": 26,
   "metadata": {},
   "outputs": [
    {
     "name": "stdout",
     "output_type": "stream",
     "text": [
      "[{'name': 'sailaxmi', 'id': 2}, {'name': 'Sambasiva', 'id': 3}]\n",
      "[{'name': 'sailaxmi', 'id': 2}, {'name': 'Sambasiva', 'id': 3}]\n",
      "10\n"
     ]
    },
    {
     "ename": "TypeError",
     "evalue": "'Emp' object is not iterable",
     "output_type": "error",
     "traceback": [
      "\u001b[0;31m---------------------------------------------------------------------------\u001b[0m",
      "\u001b[0;31mTypeError\u001b[0m                                 Traceback (most recent call last)",
      "\u001b[0;32m<ipython-input-26-d87ef59f5b10>\u001b[0m in \u001b[0;36m<module>\u001b[0;34m()\u001b[0m\n\u001b[1;32m     23\u001b[0m \u001b[0mprint\u001b[0m\u001b[0;34m(\u001b[0m\u001b[0msai\u001b[0m\u001b[0;34m-\u001b[0m\u001b[0msamba\u001b[0m\u001b[0;34m)\u001b[0m\u001b[0;34m\u001b[0m\u001b[0m\n\u001b[1;32m     24\u001b[0m \u001b[0mprint\u001b[0m\u001b[0;34m(\u001b[0m\u001b[0mlen\u001b[0m\u001b[0;34m(\u001b[0m\u001b[0msai\u001b[0m\u001b[0;34m)\u001b[0m\u001b[0;34m)\u001b[0m\u001b[0;34m\u001b[0m\u001b[0m\n\u001b[0;32m---> 25\u001b[0;31m \u001b[0;32mfor\u001b[0m \u001b[0mi\u001b[0m \u001b[0;32min\u001b[0m \u001b[0msai\u001b[0m\u001b[0;34m:\u001b[0m\u001b[0;34m\u001b[0m\u001b[0m\n\u001b[0m\u001b[1;32m     26\u001b[0m     \u001b[0mprint\u001b[0m\u001b[0;34m(\u001b[0m\u001b[0mi\u001b[0m\u001b[0;34m)\u001b[0m\u001b[0;34m\u001b[0m\u001b[0m\n",
      "\u001b[0;31mTypeError\u001b[0m: 'Emp' object is not iterable"
     ]
    }
   ],
   "source": [
    "class Emp:\n",
    "    def __init__(self,name,e_id):\n",
    "        self.name=name\n",
    "        self.id=e_id\n",
    "    def sal_cal(self):\n",
    "        pass\n",
    "    def it_cal(self):\n",
    "        pass\n",
    "    def payslip_gen(self):\n",
    "        pass\n",
    "    def leave_cal(self):\n",
    "        pass\n",
    "    def __add__(self1,self2):\n",
    "        return [self1.__dict__,self2.__dict__]\n",
    "    def __sub__(self1,self2):\n",
    "        return [self1.__dict__,self2.__dict__]\n",
    "    def __len__(self):\n",
    "        return 10\n",
    "        \n",
    "sai=Emp(\"sailaxmi\",2)\n",
    "samba=Emp(\"Sambasiva\",3)\n",
    "print(sai+samba)\n",
    "print(sai-samba)\n",
    "print(len(sai))\n",
    "for i in sai:\n",
    "    print(i)"
   ]
  },
  {
   "cell_type": "code",
   "execution_count": 27,
   "metadata": {},
   "outputs": [
    {
     "ename": "TypeError",
     "evalue": "'int' object is not iterable",
     "output_type": "error",
     "traceback": [
      "\u001b[0;31m---------------------------------------------------------------------------\u001b[0m",
      "\u001b[0;31mTypeError\u001b[0m                                 Traceback (most recent call last)",
      "\u001b[0;32m<ipython-input-27-bcddcd506fd8>\u001b[0m in \u001b[0;36m<module>\u001b[0;34m()\u001b[0m\n\u001b[0;32m----> 1\u001b[0;31m \u001b[0;32mfor\u001b[0m \u001b[0mi\u001b[0m \u001b[0;32min\u001b[0m \u001b[0;36m100\u001b[0m\u001b[0;34m:\u001b[0m\u001b[0;34m\u001b[0m\u001b[0m\n\u001b[0m\u001b[1;32m      2\u001b[0m     \u001b[0mprint\u001b[0m\u001b[0;34m(\u001b[0m\u001b[0mi\u001b[0m\u001b[0;34m)\u001b[0m\u001b[0;34m\u001b[0m\u001b[0m\n",
      "\u001b[0;31mTypeError\u001b[0m: 'int' object is not iterable"
     ]
    }
   ],
   "source": [
    "for i in 100:\n",
    "    print(i)"
   ]
  },
  {
   "cell_type": "code",
   "execution_count": 28,
   "metadata": {},
   "outputs": [
    {
     "name": "stdout",
     "output_type": "stream",
     "text": [
      "[{'name': 'sailaxmi', 'id': 2}, {'name': 'Sambasiva', 'id': 3}]\n",
      "[{'name': 'sailaxmi', 'id': 2}, {'name': 'Sambasiva', 'id': 3}]\n",
      "10\n",
      "1\n",
      "2\n",
      "3\n"
     ]
    }
   ],
   "source": [
    "class Emp:\n",
    "    def __init__(self,name,e_id):\n",
    "        self.name=name\n",
    "        self.id=e_id\n",
    "    def sal_cal(self):\n",
    "        pass\n",
    "    def it_cal(self):\n",
    "        pass\n",
    "    def payslip_gen(self):\n",
    "        pass\n",
    "    def leave_cal(self):\n",
    "        pass\n",
    "    def __add__(self1,self2):\n",
    "        return [self1.__dict__,self2.__dict__]\n",
    "    def __sub__(self1,self2):\n",
    "        return [self1.__dict__,self2.__dict__]\n",
    "    def __len__(self):\n",
    "        return 10\n",
    "    def __iter__(self):\n",
    "        yield 1\n",
    "        yield 2\n",
    "        yield 3\n",
    "        \n",
    "sai=Emp(\"sailaxmi\",2)\n",
    "samba=Emp(\"Sambasiva\",3)\n",
    "print(sai+samba)\n",
    "print(sai-samba)\n",
    "print(len(sai))\n",
    "for i in sai:\n",
    "    print(i)"
   ]
  },
  {
   "cell_type": "code",
   "execution_count": 30,
   "metadata": {},
   "outputs": [
    {
     "name": "stdout",
     "output_type": "stream",
     "text": [
      "[{'name': 'sailaxmi', 'id': 2}, {'name': 'Sambasiva', 'id': 3}]\n",
      "[{'name': 'sailaxmi', 'id': 2}, {'name': 'Sambasiva', 'id': 3}]\n",
      "10\n",
      "('name', 'sailaxmi')\n",
      "('id', 2)\n"
     ]
    }
   ],
   "source": [
    "class Emp:\n",
    "    def __init__(self,name,e_id):\n",
    "        self.name=name\n",
    "        self.id=e_id\n",
    "    def sal_cal(self):\n",
    "        pass\n",
    "    def it_cal(self):\n",
    "        pass\n",
    "    def payslip_gen(self):\n",
    "        pass\n",
    "    def leave_cal(self):\n",
    "        pass\n",
    "    def __add__(self1,self2):\n",
    "        return [self1.__dict__,self2.__dict__]\n",
    "    def __sub__(self1,self2):\n",
    "        return [self1.__dict__,self2.__dict__]\n",
    "    def __len__(self):\n",
    "        return 10\n",
    "    def __iter__(self):\n",
    "        for i in self.__dict__.items():\n",
    "            yield i\n",
    "        \n",
    "sai=Emp(\"sailaxmi\",2)\n",
    "samba=Emp(\"Sambasiva\",3)\n",
    "print(sai+samba)\n",
    "print(sai-samba)\n",
    "print(len(sai))\n",
    "for i in sai:\n",
    "    print(i)"
   ]
  },
  {
   "cell_type": "code",
   "execution_count": 34,
   "metadata": {},
   "outputs": [],
   "source": [
    "s=10"
   ]
  },
  {
   "cell_type": "code",
   "execution_count": 36,
   "metadata": {},
   "outputs": [
    {
     "name": "stdout",
     "output_type": "stream",
     "text": [
      "[{'name': 'sailaxmi', 'id': 2}, {'name': 'Sambasiva', 'id': 3}]\n",
      "[{'name': 'sailaxmi', 'id': 2}, {'name': 'Sambasiva', 'id': 3}]\n",
      "10\n",
      "('name', 'sailaxmi')\n",
      "('id', 2)\n",
      "<__main__.Emp object at 0x7f38583d4518>\n"
     ]
    }
   ],
   "source": [
    "class Emp:\n",
    "    def __init__(self,name,e_id):\n",
    "        self.name=name\n",
    "        self.id=e_id\n",
    "    def sal_cal(self):\n",
    "        pass\n",
    "    def it_cal(self):\n",
    "        pass\n",
    "    def payslip_gen(self):\n",
    "        pass\n",
    "    def leave_cal(self):\n",
    "        pass\n",
    "    def __add__(self1,self2):\n",
    "        return [self1.__dict__,self2.__dict__]\n",
    "    def __sub__(self1,self2):\n",
    "        return [self1.__dict__,self2.__dict__]\n",
    "    def __len__(self):\n",
    "        return 10\n",
    "    def __iter__(self):\n",
    "        for i in self.__dict__.items():\n",
    "            yield i\n",
    "        \n",
    "sai=Emp(\"sailaxmi\",2)\n",
    "samba=Emp(\"Sambasiva\",3)\n",
    "print(sai+samba)\n",
    "print(sai-samba)\n",
    "print(len(sai))\n",
    "for i in sai:\n",
    "    print(i)\n",
    "print(sai)"
   ]
  },
  {
   "cell_type": "code",
   "execution_count": 37,
   "metadata": {},
   "outputs": [
    {
     "name": "stdout",
     "output_type": "stream",
     "text": [
      "[{'name': 'sailaxmi', 'id': 2}, {'name': 'Sambasiva', 'id': 3}]\n",
      "[{'name': 'sailaxmi', 'id': 2}, {'name': 'Sambasiva', 'id': 3}]\n",
      "10\n",
      "('name', 'sailaxmi')\n",
      "('id', 2)\n",
      "sailaxmi\n"
     ]
    }
   ],
   "source": [
    "class Emp:\n",
    "    def __init__(self,name,e_id):\n",
    "        self.name=name\n",
    "        self.id=e_id\n",
    "    def sal_cal(self):\n",
    "        pass\n",
    "    def it_cal(self):\n",
    "        pass\n",
    "    def payslip_gen(self):\n",
    "        pass\n",
    "    def leave_cal(self):\n",
    "        pass\n",
    "    def __add__(self1,self2):\n",
    "        return [self1.__dict__,self2.__dict__]\n",
    "    def __sub__(self1,self2):\n",
    "        return [self1.__dict__,self2.__dict__]\n",
    "    def __len__(self):\n",
    "        return 10\n",
    "    def __iter__(self):\n",
    "        for i in self.__dict__.items():\n",
    "            yield i\n",
    "    def __str__(self):\n",
    "        return self.name\n",
    "        \n",
    "sai=Emp(\"sailaxmi\",2)\n",
    "samba=Emp(\"Sambasiva\",3)\n",
    "print(sai+samba)\n",
    "print(sai-samba)\n",
    "print(len(sai))\n",
    "for i in sai:\n",
    "    print(i)\n",
    "print(sai)"
   ]
  },
  {
   "cell_type": "code",
   "execution_count": 38,
   "metadata": {},
   "outputs": [
    {
     "name": "stdout",
     "output_type": "stream",
     "text": [
      "10\n"
     ]
    }
   ],
   "source": [
    "a=10\n",
    "print(a)"
   ]
  },
  {
   "cell_type": "code",
   "execution_count": 2,
   "metadata": {},
   "outputs": [
    {
     "ename": "TypeError",
     "evalue": "op1() missing 1 required positional argument: 'b'",
     "output_type": "error",
     "traceback": [
      "\u001b[0;31m---------------------------------------------------------------------------\u001b[0m",
      "\u001b[0;31mTypeError\u001b[0m                                 Traceback (most recent call last)",
      "\u001b[0;32m<ipython-input-2-ab65a8cacd5c>\u001b[0m in \u001b[0;36m<module>\u001b[0;34m()\u001b[0m\n\u001b[1;32m      5\u001b[0m         \u001b[0mprint\u001b[0m\u001b[0;34m(\u001b[0m\u001b[0ma\u001b[0m\u001b[0;34m,\u001b[0m\u001b[0mb\u001b[0m\u001b[0;34m)\u001b[0m\u001b[0;34m\u001b[0m\u001b[0m\n\u001b[1;32m      6\u001b[0m \u001b[0mo\u001b[0m\u001b[0;34m=\u001b[0m\u001b[0mEmp\u001b[0m\u001b[0;34m(\u001b[0m\u001b[0;34m)\u001b[0m\u001b[0;34m\u001b[0m\u001b[0m\n\u001b[0;32m----> 7\u001b[0;31m \u001b[0mo\u001b[0m\u001b[0;34m.\u001b[0m\u001b[0mop1\u001b[0m\u001b[0;34m(\u001b[0m\u001b[0;36m10\u001b[0m\u001b[0;34m)\u001b[0m\u001b[0;34m\u001b[0m\u001b[0m\n\u001b[0m",
      "\u001b[0;31mTypeError\u001b[0m: op1() missing 1 required positional argument: 'b'"
     ]
    }
   ],
   "source": [
    "class Emp:\n",
    "    def op1(self,a):\n",
    "        print(a)\n",
    "    def op1(self,a,b):\n",
    "        print(a,b)\n",
    "o=Emp()\n",
    "o.op1(10)"
   ]
  },
  {
   "cell_type": "code",
   "execution_count": 3,
   "metadata": {},
   "outputs": [
    {
     "name": "stdout",
     "output_type": "stream",
     "text": [
      "10 20\n"
     ]
    }
   ],
   "source": [
    "class Emp:\n",
    "    def op1(self,a):\n",
    "        print(a)\n",
    "    def op1(self,a,b):\n",
    "        print(a,b)\n",
    "o=Emp()\n",
    "o.op1(10,20)"
   ]
  },
  {
   "cell_type": "code",
   "execution_count": 5,
   "metadata": {},
   "outputs": [
    {
     "name": "stdout",
     "output_type": "stream",
     "text": [
      "10 20 (30, 40, 50) {}\n"
     ]
    }
   ],
   "source": [
    "class Emp:\n",
    "    def op1(self,a,b=0,*args,**kwargs):\n",
    "        print(a,b,args,kwargs)\n",
    "    \n",
    "o=Emp()\n",
    "o.op1(10,20,30,40,50)"
   ]
  },
  {
   "cell_type": "code",
   "execution_count": 6,
   "metadata": {},
   "outputs": [
    {
     "name": "stdout",
     "output_type": "stream",
     "text": [
      "10 20 (30, 40, 50) {'k': 'sdf', 'k1': 'dfsdf'}\n"
     ]
    }
   ],
   "source": [
    "class Emp:\n",
    "    def op1(self,a,b=0,*args,**kwargs):\n",
    "        print(a,b,args,kwargs)\n",
    "    \n",
    "o=Emp()\n",
    "o.op1(10,20,30,40,50,k=\"sdf\",k1=\"dfsdf\")"
   ]
  },
  {
   "cell_type": "code",
   "execution_count": null,
   "metadata": {},
   "outputs": [],
   "source": [
    "#classmethod,statticmethod,instancemethod,propery.abstract.singleton."
   ]
  }
 ],
 "metadata": {
  "kernelspec": {
   "display_name": "Python 3",
   "language": "python",
   "name": "python3"
  },
  "language_info": {
   "codemirror_mode": {
    "name": "ipython",
    "version": 3
   },
   "file_extension": ".py",
   "mimetype": "text/x-python",
   "name": "python",
   "nbconvert_exporter": "python",
   "pygments_lexer": "ipython3",
   "version": "3.7.0"
  }
 },
 "nbformat": 4,
 "nbformat_minor": 2
}
