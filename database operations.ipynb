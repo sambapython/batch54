{
 "cells": [
  {
   "cell_type": "code",
   "execution_count": 1,
   "metadata": {},
   "outputs": [],
   "source": [
    "import sqlite3"
   ]
  },
  {
   "cell_type": "code",
   "execution_count": 3,
   "metadata": {},
   "outputs": [],
   "source": [
    "con = sqlite3.connect(\"db1.sqlite3\")"
   ]
  },
  {
   "cell_type": "code",
   "execution_count": 4,
   "metadata": {},
   "outputs": [],
   "source": [
    "cur = con.cursor()"
   ]
  },
  {
   "cell_type": "code",
   "execution_count": 5,
   "metadata": {},
   "outputs": [
    {
     "data": {
      "text/plain": [
       "<sqlite3.Cursor at 0x7fcb989449d0>"
      ]
     },
     "execution_count": 5,
     "metadata": {},
     "output_type": "execute_result"
    }
   ],
   "source": [
    "q=\"create table customer(id int,name varchar(250))\"\n",
    "cur.execute(q)"
   ]
  },
  {
   "cell_type": "code",
   "execution_count": 6,
   "metadata": {},
   "outputs": [
    {
     "data": {
      "text/plain": [
       "<sqlite3.Cursor at 0x7fcb989449d0>"
      ]
     },
     "execution_count": 6,
     "metadata": {},
     "output_type": "execute_result"
    }
   ],
   "source": [
    "q=\"insert into customer(id,name) values(1,'jay')\"\n",
    "cur.execute(q)"
   ]
  },
  {
   "cell_type": "code",
   "execution_count": 7,
   "metadata": {},
   "outputs": [],
   "source": [
    "con.commit()"
   ]
  },
  {
   "cell_type": "code",
   "execution_count": 9,
   "metadata": {},
   "outputs": [
    {
     "name": "stdout",
     "output_type": "stream",
     "text": [
      "Enter id:2\n",
      "Enter name:sai\n",
      "insert into customer(id,name) values(2,'sai')\n"
     ]
    }
   ],
   "source": [
    "c_id=input(\"Enter id:\")\n",
    "c_name=input(\"Enter name:\")\n",
    "q=\"insert into customer(id,name) values(%s,'%s')\"%(c_id,c_name)\n",
    "print(q)"
   ]
  },
  {
   "cell_type": "code",
   "execution_count": 10,
   "metadata": {},
   "outputs": [],
   "source": [
    "cur.execute(q)\n",
    "con.commit()"
   ]
  },
  {
   "cell_type": "code",
   "execution_count": 11,
   "metadata": {},
   "outputs": [],
   "source": [
    "# insert bulk dummy data in to customer minimi 1000 rows.\n",
    "import random\n",
    "names=[\"samba\",\"abhi\",\"aneel\",\"nithin\",\"mohan\",\"anand\"]\n",
    "for i in range(3,1003):\n",
    "    q=\"insert into customer(id,name) values(%s,'%s')\"%(i,random.choice(names))\n",
    "    cur.execute(q)\n",
    "con.commit()"
   ]
  },
  {
   "cell_type": "code",
   "execution_count": 12,
   "metadata": {},
   "outputs": [
    {
     "data": {
      "text/plain": [
       "<sqlite3.Cursor at 0x7fcb989449d0>"
      ]
     },
     "execution_count": 12,
     "metadata": {},
     "output_type": "execute_result"
    }
   ],
   "source": [
    "q=\"select * from customer\"\n",
    "cur.execute(q)"
   ]
  },
  {
   "cell_type": "code",
   "execution_count": 13,
   "metadata": {},
   "outputs": [],
   "source": [
    "data=cur.fetchall()"
   ]
  },
  {
   "cell_type": "code",
   "execution_count": 14,
   "metadata": {},
   "outputs": [
    {
     "name": "stdout",
     "output_type": "stream",
     "text": [
      "[(1, 'jay'), (2, 'sai'), (3, 'mohan'), (4, 'samba'), (5, 'nithin'), (6, 'mohan'), (7, 'anand'), (8, 'samba'), (9, 'nithin'), (10, 'aneel'), (11, 'samba'), (12, 'nithin'), (13, 'nithin'), (14, 'nithin'), (15, 'mohan'), (16, 'abhi'), (17, 'samba'), (18, 'abhi'), (19, 'anand'), (20, 'anand'), (21, 'samba'), (22, 'anand'), (23, 'aneel'), (24, 'aneel'), (25, 'abhi'), (26, 'abhi'), (27, 'samba'), (28, 'anand'), (29, 'nithin'), (30, 'anand'), (31, 'aneel'), (32, 'nithin'), (33, 'aneel'), (34, 'aneel'), (35, 'mohan'), (36, 'anand'), (37, 'samba'), (38, 'abhi'), (39, 'anand'), (40, 'abhi'), (41, 'mohan'), (42, 'abhi'), (43, 'samba'), (44, 'samba'), (45, 'mohan'), (46, 'abhi'), (47, 'anand'), (48, 'nithin'), (49, 'samba'), (50, 'samba'), (51, 'anand'), (52, 'samba'), (53, 'samba'), (54, 'anand'), (55, 'samba'), (56, 'mohan'), (57, 'nithin'), (58, 'nithin'), (59, 'abhi'), (60, 'nithin'), (61, 'abhi'), (62, 'samba'), (63, 'mohan'), (64, 'mohan'), (65, 'anand'), (66, 'mohan'), (67, 'mohan'), (68, 'abhi'), (69, 'nithin'), (70, 'mohan'), (71, 'nithin'), (72, 'abhi'), (73, 'nithin'), (74, 'anand'), (75, 'mohan'), (76, 'abhi'), (77, 'abhi'), (78, 'abhi'), (79, 'samba'), (80, 'abhi'), (81, 'nithin'), (82, 'aneel'), (83, 'samba'), (84, 'abhi'), (85, 'aneel'), (86, 'mohan'), (87, 'abhi'), (88, 'aneel'), (89, 'samba'), (90, 'abhi'), (91, 'nithin'), (92, 'mohan'), (93, 'nithin'), (94, 'nithin'), (95, 'abhi'), (96, 'aneel'), (97, 'anand'), (98, 'mohan'), (99, 'nithin'), (100, 'mohan'), (101, 'nithin'), (102, 'mohan'), (103, 'nithin'), (104, 'nithin'), (105, 'nithin'), (106, 'samba'), (107, 'anand'), (108, 'anand'), (109, 'anand'), (110, 'nithin'), (111, 'nithin'), (112, 'aneel'), (113, 'abhi'), (114, 'mohan'), (115, 'abhi'), (116, 'abhi'), (117, 'abhi'), (118, 'anand'), (119, 'anand'), (120, 'aneel'), (121, 'samba'), (122, 'samba'), (123, 'anand'), (124, 'mohan'), (125, 'samba'), (126, 'anand'), (127, 'mohan'), (128, 'abhi'), (129, 'abhi'), (130, 'abhi'), (131, 'mohan'), (132, 'aneel'), (133, 'mohan'), (134, 'nithin'), (135, 'abhi'), (136, 'aneel'), (137, 'anand'), (138, 'aneel'), (139, 'samba'), (140, 'samba'), (141, 'abhi'), (142, 'samba'), (143, 'aneel'), (144, 'mohan'), (145, 'aneel'), (146, 'nithin'), (147, 'abhi'), (148, 'aneel'), (149, 'aneel'), (150, 'samba'), (151, 'abhi'), (152, 'anand'), (153, 'nithin'), (154, 'aneel'), (155, 'aneel'), (156, 'samba'), (157, 'aneel'), (158, 'samba'), (159, 'mohan'), (160, 'mohan'), (161, 'abhi'), (162, 'mohan'), (163, 'anand'), (164, 'samba'), (165, 'nithin'), (166, 'samba'), (167, 'anand'), (168, 'abhi'), (169, 'nithin'), (170, 'samba'), (171, 'mohan'), (172, 'mohan'), (173, 'aneel'), (174, 'aneel'), (175, 'aneel'), (176, 'aneel'), (177, 'aneel'), (178, 'samba'), (179, 'anand'), (180, 'anand'), (181, 'samba'), (182, 'samba'), (183, 'samba'), (184, 'samba'), (185, 'abhi'), (186, 'samba'), (187, 'samba'), (188, 'anand'), (189, 'anand'), (190, 'anand'), (191, 'mohan'), (192, 'nithin'), (193, 'samba'), (194, 'samba'), (195, 'abhi'), (196, 'aneel'), (197, 'samba'), (198, 'samba'), (199, 'nithin'), (200, 'anand'), (201, 'mohan'), (202, 'abhi'), (203, 'nithin'), (204, 'abhi'), (205, 'nithin'), (206, 'mohan'), (207, 'samba'), (208, 'samba'), (209, 'mohan'), (210, 'nithin'), (211, 'mohan'), (212, 'samba'), (213, 'mohan'), (214, 'anand'), (215, 'samba'), (216, 'aneel'), (217, 'samba'), (218, 'samba'), (219, 'aneel'), (220, 'samba'), (221, 'abhi'), (222, 'anand'), (223, 'nithin'), (224, 'abhi'), (225, 'abhi'), (226, 'aneel'), (227, 'abhi'), (228, 'samba'), (229, 'abhi'), (230, 'mohan'), (231, 'nithin'), (232, 'samba'), (233, 'samba'), (234, 'aneel'), (235, 'anand'), (236, 'nithin'), (237, 'nithin'), (238, 'aneel'), (239, 'nithin'), (240, 'aneel'), (241, 'abhi'), (242, 'mohan'), (243, 'anand'), (244, 'samba'), (245, 'abhi'), (246, 'aneel'), (247, 'nithin'), (248, 'anand'), (249, 'samba'), (250, 'anand'), (251, 'abhi'), (252, 'mohan'), (253, 'mohan'), (254, 'abhi'), (255, 'samba'), (256, 'mohan'), (257, 'samba'), (258, 'abhi'), (259, 'nithin'), (260, 'aneel'), (261, 'mohan'), (262, 'anand'), (263, 'aneel'), (264, 'aneel'), (265, 'mohan'), (266, 'nithin'), (267, 'anand'), (268, 'mohan'), (269, 'mohan'), (270, 'mohan'), (271, 'nithin'), (272, 'samba'), (273, 'anand'), (274, 'samba'), (275, 'mohan'), (276, 'aneel'), (277, 'aneel'), (278, 'nithin'), (279, 'mohan'), (280, 'abhi'), (281, 'abhi'), (282, 'samba'), (283, 'nithin'), (284, 'abhi'), (285, 'abhi'), (286, 'nithin'), (287, 'samba'), (288, 'anand'), (289, 'anand'), (290, 'nithin'), (291, 'aneel'), (292, 'samba'), (293, 'mohan'), (294, 'samba'), (295, 'anand'), (296, 'mohan'), (297, 'aneel'), (298, 'abhi'), (299, 'samba'), (300, 'samba'), (301, 'abhi'), (302, 'samba'), (303, 'anand'), (304, 'abhi'), (305, 'nithin'), (306, 'nithin'), (307, 'nithin'), (308, 'nithin'), (309, 'samba'), (310, 'nithin'), (311, 'nithin'), (312, 'abhi'), (313, 'samba'), (314, 'anand'), (315, 'anand'), (316, 'mohan'), (317, 'samba'), (318, 'samba'), (319, 'abhi'), (320, 'anand'), (321, 'nithin'), (322, 'mohan'), (323, 'samba'), (324, 'abhi'), (325, 'nithin'), (326, 'aneel'), (327, 'mohan'), (328, 'aneel'), (329, 'samba'), (330, 'abhi'), (331, 'samba'), (332, 'mohan'), (333, 'aneel'), (334, 'aneel'), (335, 'nithin'), (336, 'nithin'), (337, 'aneel'), (338, 'samba'), (339, 'anand'), (340, 'samba'), (341, 'mohan'), (342, 'nithin'), (343, 'abhi'), (344, 'anand'), (345, 'samba'), (346, 'anand'), (347, 'aneel'), (348, 'mohan'), (349, 'anand'), (350, 'aneel'), (351, 'nithin'), (352, 'nithin'), (353, 'samba'), (354, 'nithin'), (355, 'nithin'), (356, 'mohan'), (357, 'aneel'), (358, 'aneel'), (359, 'anand'), (360, 'abhi'), (361, 'aneel'), (362, 'abhi'), (363, 'nithin'), (364, 'abhi'), (365, 'aneel'), (366, 'abhi'), (367, 'aneel'), (368, 'samba'), (369, 'aneel'), (370, 'samba'), (371, 'samba'), (372, 'aneel'), (373, 'aneel'), (374, 'nithin'), (375, 'aneel'), (376, 'nithin'), (377, 'nithin'), (378, 'aneel'), (379, 'aneel'), (380, 'anand'), (381, 'nithin'), (382, 'samba'), (383, 'nithin'), (384, 'mohan'), (385, 'abhi'), (386, 'mohan'), (387, 'mohan'), (388, 'samba'), (389, 'abhi'), (390, 'samba'), (391, 'mohan'), (392, 'nithin'), (393, 'anand'), (394, 'nithin'), (395, 'mohan'), (396, 'aneel'), (397, 'anand'), (398, 'mohan'), (399, 'aneel'), (400, 'abhi'), (401, 'anand'), (402, 'anand'), (403, 'mohan'), (404, 'samba'), (405, 'mohan'), (406, 'anand'), (407, 'samba'), (408, 'abhi'), (409, 'aneel'), (410, 'mohan'), (411, 'nithin'), (412, 'anand'), (413, 'nithin'), (414, 'aneel'), (415, 'abhi'), (416, 'abhi'), (417, 'nithin'), (418, 'nithin'), (419, 'nithin'), (420, 'aneel'), (421, 'mohan'), (422, 'abhi'), (423, 'nithin'), (424, 'nithin'), (425, 'samba'), (426, 'nithin'), (427, 'abhi'), (428, 'abhi'), (429, 'mohan'), (430, 'nithin'), (431, 'samba'), (432, 'nithin'), (433, 'abhi'), (434, 'samba'), (435, 'abhi'), (436, 'nithin'), (437, 'samba'), (438, 'abhi'), (439, 'abhi'), (440, 'nithin'), (441, 'anand'), (442, 'mohan'), (443, 'nithin'), (444, 'mohan'), (445, 'mohan'), (446, 'anand'), (447, 'mohan'), (448, 'samba'), (449, 'nithin'), (450, 'anand'), (451, 'aneel'), (452, 'samba'), (453, 'samba'), (454, 'samba'), (455, 'aneel'), (456, 'nithin'), (457, 'abhi'), (458, 'anand'), (459, 'nithin'), (460, 'nithin'), (461, 'nithin'), (462, 'anand'), (463, 'nithin'), (464, 'abhi'), (465, 'aneel'), (466, 'samba'), (467, 'mohan'), (468, 'aneel'), (469, 'nithin'), (470, 'abhi'), (471, 'aneel'), (472, 'aneel'), (473, 'anand'), (474, 'anand'), (475, 'samba'), (476, 'nithin'), (477, 'nithin'), (478, 'anand'), (479, 'anand'), (480, 'mohan'), (481, 'samba'), (482, 'anand'), (483, 'anand'), (484, 'anand'), (485, 'anand'), (486, 'mohan'), (487, 'aneel'), (488, 'mohan'), (489, 'samba'), (490, 'mohan'), (491, 'anand'), (492, 'aneel'), (493, 'aneel'), (494, 'samba'), (495, 'samba'), (496, 'nithin'), (497, 'nithin'), (498, 'mohan'), (499, 'abhi'), (500, 'aneel'), (501, 'anand'), (502, 'abhi'), (503, 'samba'), (504, 'abhi'), (505, 'mohan'), (506, 'anand'), (507, 'aneel'), (508, 'abhi'), (509, 'samba'), (510, 'mohan'), (511, 'samba'), (512, 'nithin'), (513, 'samba'), (514, 'samba'), (515, 'abhi'), (516, 'anand'), (517, 'anand'), (518, 'mohan'), (519, 'aneel'), (520, 'anand'), (521, 'anand'), (522, 'abhi'), (523, 'anand'), (524, 'abhi'), (525, 'abhi'), (526, 'samba'), (527, 'aneel'), (528, 'aneel'), (529, 'samba'), (530, 'mohan'), (531, 'abhi'), (532, 'abhi'), (533, 'mohan'), (534, 'samba'), (535, 'aneel'), (536, 'nithin'), (537, 'aneel'), (538, 'mohan'), (539, 'nithin'), (540, 'abhi'), (541, 'abhi'), (542, 'abhi'), (543, 'nithin'), (544, 'samba'), (545, 'mohan'), (546, 'samba'), (547, 'nithin'), (548, 'samba'), (549, 'mohan'), (550, 'nithin'), (551, 'abhi'), (552, 'abhi'), (553, 'samba'), (554, 'mohan'), (555, 'samba'), (556, 'samba'), (557, 'anand'), (558, 'anand'), (559, 'mohan'), (560, 'samba'), (561, 'nithin'), (562, 'abhi'), (563, 'nithin'), (564, 'anand'), (565, 'nithin'), (566, 'mohan'), (567, 'samba'), (568, 'abhi'), (569, 'abhi'), (570, 'nithin'), (571, 'aneel'), (572, 'nithin'), (573, 'nithin'), (574, 'aneel'), (575, 'mohan'), (576, 'samba'), (577, 'anand'), (578, 'abhi'), (579, 'aneel'), (580, 'aneel'), (581, 'samba'), (582, 'mohan'), (583, 'aneel'), (584, 'abhi'), (585, 'aneel'), (586, 'aneel'), (587, 'mohan'), (588, 'abhi'), (589, 'anand'), (590, 'abhi'), (591, 'abhi'), (592, 'samba'), (593, 'mohan'), (594, 'abhi'), (595, 'abhi'), (596, 'abhi'), (597, 'abhi'), (598, 'abhi'), (599, 'anand'), (600, 'anand'), (601, 'aneel'), (602, 'nithin'), (603, 'anand'), (604, 'anand'), (605, 'nithin'), (606, 'anand'), (607, 'aneel'), (608, 'nithin'), (609, 'aneel'), (610, 'aneel'), (611, 'abhi'), (612, 'anand'), (613, 'anand'), (614, 'samba'), (615, 'nithin'), (616, 'abhi'), (617, 'aneel'), (618, 'mohan'), (619, 'aneel'), (620, 'aneel'), (621, 'samba'), (622, 'nithin'), (623, 'anand'), (624, 'mohan'), (625, 'nithin'), (626, 'mohan'), (627, 'mohan'), (628, 'mohan'), (629, 'anand'), (630, 'aneel'), (631, 'anand'), (632, 'aneel'), (633, 'samba'), (634, 'nithin'), (635, 'abhi'), (636, 'abhi'), (637, 'samba'), (638, 'abhi'), (639, 'anand'), (640, 'aneel'), (641, 'abhi'), (642, 'mohan'), (643, 'anand'), (644, 'aneel'), (645, 'aneel'), (646, 'nithin'), (647, 'samba'), (648, 'anand'), (649, 'anand'), (650, 'abhi'), (651, 'mohan'), (652, 'anand'), (653, 'nithin'), (654, 'nithin'), (655, 'anand'), (656, 'anand'), (657, 'abhi'), (658, 'mohan'), (659, 'abhi'), (660, 'mohan'), (661, 'aneel'), (662, 'nithin'), (663, 'mohan'), (664, 'abhi'), (665, 'anand'), (666, 'anand'), (667, 'samba'), (668, 'nithin'), (669, 'mohan'), (670, 'mohan'), (671, 'samba'), (672, 'mohan'), (673, 'anand'), (674, 'abhi'), (675, 'aneel'), (676, 'aneel'), (677, 'mohan'), (678, 'mohan'), (679, 'mohan'), (680, 'mohan'), (681, 'samba'), (682, 'samba'), (683, 'aneel'), (684, 'nithin'), (685, 'mohan'), (686, 'samba'), (687, 'abhi'), (688, 'samba'), (689, 'mohan'), (690, 'nithin'), (691, 'anand'), (692, 'mohan'), (693, 'samba'), (694, 'samba'), (695, 'mohan'), (696, 'anand'), (697, 'samba'), (698, 'nithin'), (699, 'nithin'), (700, 'aneel'), (701, 'anand'), (702, 'anand'), (703, 'samba'), (704, 'abhi'), (705, 'nithin'), (706, 'nithin'), (707, 'mohan'), (708, 'aneel'), (709, 'abhi'), (710, 'abhi'), (711, 'abhi'), (712, 'anand'), (713, 'anand'), (714, 'anand'), (715, 'samba'), (716, 'samba'), (717, 'mohan'), (718, 'mohan'), (719, 'mohan'), (720, 'abhi'), (721, 'anand'), (722, 'mohan'), (723, 'samba'), (724, 'samba'), (725, 'samba'), (726, 'aneel'), (727, 'abhi'), (728, 'nithin'), (729, 'anand'), (730, 'aneel'), (731, 'abhi'), (732, 'abhi'), (733, 'aneel'), (734, 'samba'), (735, 'aneel'), (736, 'samba'), (737, 'samba'), (738, 'mohan'), (739, 'samba'), (740, 'aneel'), (741, 'abhi'), (742, 'samba'), (743, 'samba'), (744, 'samba'), (745, 'mohan'), (746, 'mohan'), (747, 'anand'), (748, 'anand'), (749, 'anand'), (750, 'abhi'), (751, 'abhi'), (752, 'aneel'), (753, 'nithin'), (754, 'mohan'), (755, 'abhi'), (756, 'abhi'), (757, 'anand'), (758, 'nithin'), (759, 'aneel'), (760, 'anand'), (761, 'anand'), (762, 'abhi'), (763, 'aneel'), (764, 'mohan'), (765, 'anand'), (766, 'anand'), (767, 'mohan'), (768, 'aneel'), (769, 'anand'), (770, 'mohan'), (771, 'mohan'), (772, 'aneel'), (773, 'nithin'), (774, 'abhi'), (775, 'mohan'), (776, 'anand'), (777, 'abhi'), (778, 'anand'), (779, 'anand'), (780, 'anand'), (781, 'aneel'), (782, 'aneel'), (783, 'aneel'), (784, 'samba'), (785, 'anand'), (786, 'abhi'), (787, 'mohan'), (788, 'anand'), (789, 'abhi'), (790, 'anand'), (791, 'anand'), (792, 'nithin'), (793, 'mohan'), (794, 'aneel'), (795, 'anand'), (796, 'mohan'), (797, 'anand'), (798, 'mohan'), (799, 'abhi'), (800, 'anand'), (801, 'samba'), (802, 'nithin'), (803, 'mohan'), (804, 'samba'), (805, 'mohan'), (806, 'nithin'), (807, 'samba'), (808, 'samba'), (809, 'abhi'), (810, 'anand'), (811, 'aneel'), (812, 'mohan'), (813, 'aneel'), (814, 'mohan'), (815, 'mohan'), (816, 'nithin'), (817, 'aneel'), (818, 'aneel'), (819, 'aneel'), (820, 'mohan'), (821, 'aneel'), (822, 'samba'), (823, 'samba'), (824, 'anand'), (825, 'mohan'), (826, 'abhi'), (827, 'samba'), (828, 'aneel'), (829, 'mohan'), (830, 'mohan'), (831, 'aneel'), (832, 'nithin'), (833, 'samba'), (834, 'samba'), (835, 'samba'), (836, 'abhi'), (837, 'abhi'), (838, 'mohan'), (839, 'nithin'), (840, 'aneel'), (841, 'nithin'), (842, 'aneel'), (843, 'mohan'), (844, 'samba'), (845, 'anand'), (846, 'abhi'), (847, 'nithin'), (848, 'mohan'), (849, 'anand'), (850, 'samba'), (851, 'aneel'), (852, 'nithin'), (853, 'anand'), (854, 'abhi'), (855, 'samba'), (856, 'mohan'), (857, 'mohan'), (858, 'abhi'), (859, 'anand'), (860, 'aneel'), (861, 'abhi'), (862, 'abhi'), (863, 'samba'), (864, 'nithin'), (865, 'aneel'), (866, 'mohan'), (867, 'abhi'), (868, 'aneel'), (869, 'aneel'), (870, 'samba'), (871, 'mohan'), (872, 'mohan'), (873, 'aneel'), (874, 'aneel'), (875, 'abhi'), (876, 'mohan'), (877, 'nithin'), (878, 'nithin'), (879, 'abhi'), (880, 'nithin'), (881, 'mohan'), (882, 'mohan'), (883, 'samba'), (884, 'aneel'), (885, 'abhi'), (886, 'samba'), (887, 'aneel'), (888, 'nithin'), (889, 'aneel'), (890, 'aneel'), (891, 'anand'), (892, 'anand'), (893, 'samba'), (894, 'abhi'), (895, 'anand'), (896, 'samba'), (897, 'nithin'), (898, 'abhi'), (899, 'aneel'), (900, 'aneel'), (901, 'anand'), (902, 'mohan'), (903, 'samba'), (904, 'abhi'), (905, 'anand'), (906, 'samba'), (907, 'mohan'), (908, 'nithin'), (909, 'samba'), (910, 'nithin'), (911, 'nithin'), (912, 'samba'), (913, 'mohan'), (914, 'nithin'), (915, 'anand'), (916, 'nithin'), (917, 'nithin'), (918, 'abhi'), (919, 'mohan'), (920, 'aneel'), (921, 'anand'), (922, 'samba'), (923, 'anand'), (924, 'abhi'), (925, 'samba'), (926, 'anand'), (927, 'nithin'), (928, 'samba'), (929, 'mohan'), (930, 'anand'), (931, 'aneel'), (932, 'anand'), (933, 'abhi'), (934, 'aneel'), (935, 'mohan'), (936, 'abhi'), (937, 'samba'), (938, 'samba'), (939, 'samba'), (940, 'nithin'), (941, 'anand'), (942, 'samba'), (943, 'nithin'), (944, 'aneel'), (945, 'samba'), (946, 'samba'), (947, 'nithin'), (948, 'anand'), (949, 'aneel'), (950, 'abhi'), (951, 'abhi'), (952, 'abhi'), (953, 'abhi'), (954, 'anand'), (955, 'nithin'), (956, 'samba'), (957, 'abhi'), (958, 'samba'), (959, 'aneel'), (960, 'aneel'), (961, 'aneel'), (962, 'mohan'), (963, 'mohan'), (964, 'aneel'), (965, 'samba'), (966, 'samba'), (967, 'abhi'), (968, 'samba'), (969, 'nithin'), (970, 'samba'), (971, 'samba'), (972, 'abhi'), (973, 'nithin'), (974, 'aneel'), (975, 'samba'), (976, 'aneel'), (977, 'samba'), (978, 'mohan'), (979, 'anand'), (980, 'abhi'), (981, 'mohan'), (982, 'samba'), (983, 'anand'), (984, 'aneel'), (985, 'nithin'), (986, 'abhi'), (987, 'abhi'), (988, 'abhi'), (989, 'nithin'), (990, 'mohan'), (991, 'anand'), (992, 'abhi'), (993, 'abhi'), (994, 'anand'), (995, 'nithin'), (996, 'abhi'), (997, 'nithin'), (998, 'anand'), (999, 'anand'), (1000, 'mohan'), (1001, 'anand'), (1002, 'mohan')]\n"
     ]
    }
   ],
   "source": [
    "print(data)"
   ]
  },
  {
   "cell_type": "code",
   "execution_count": 18,
   "metadata": {},
   "outputs": [
    {
     "data": {
      "text/plain": [
       "<sqlite3.Cursor at 0x7fcb989449d0>"
      ]
     },
     "execution_count": 18,
     "metadata": {},
     "output_type": "execute_result"
    }
   ],
   "source": [
    "q=\"select name,count(*) from customer group by name\"\n",
    "cur.execute(q)"
   ]
  },
  {
   "cell_type": "code",
   "execution_count": 19,
   "metadata": {},
   "outputs": [
    {
     "data": {
      "text/plain": [
       "[('abhi', 172),\n",
       " ('anand', 161),\n",
       " ('aneel', 155),\n",
       " ('jay', 1),\n",
       " ('mohan', 164),\n",
       " ('nithin', 161),\n",
       " ('sai', 1),\n",
       " ('samba', 187)]"
      ]
     },
     "execution_count": 19,
     "metadata": {},
     "output_type": "execute_result"
    }
   ],
   "source": [
    "cur.fetchall()"
   ]
  },
  {
   "cell_type": "code",
   "execution_count": 22,
   "metadata": {},
   "outputs": [],
   "source": [
    "# sort the list of tuples by\n",
    "q=\"select name,count(*) as c from customer group by name order by c\"\n",
    "cur.execute(q)\n",
    "data=cur.fetchall()"
   ]
  },
  {
   "cell_type": "code",
   "execution_count": 23,
   "metadata": {},
   "outputs": [
    {
     "data": {
      "text/plain": [
       "[('jay', 1),\n",
       " ('sai', 1),\n",
       " ('aneel', 155),\n",
       " ('anand', 161),\n",
       " ('nithin', 161),\n",
       " ('mohan', 164),\n",
       " ('abhi', 172),\n",
       " ('samba', 187)]"
      ]
     },
     "execution_count": 23,
     "metadata": {},
     "output_type": "execute_result"
    }
   ],
   "source": [
    "data"
   ]
  },
  {
   "cell_type": "code",
   "execution_count": 24,
   "metadata": {},
   "outputs": [
    {
     "name": "stdout",
     "output_type": "stream",
     "text": [
      "('samba', 187)\n"
     ]
    }
   ],
   "source": [
    "# sort the list of tuples by\n",
    "q=\"select name,count(*) as c from customer group by name order by c\"\n",
    "cur.execute(q)\n",
    "data=cur.fetchall()\n",
    "print(data[-1])"
   ]
  },
  {
   "cell_type": "code",
   "execution_count": 25,
   "metadata": {},
   "outputs": [],
   "source": [
    "q=\"update customer set name='sai' where id=20\"\n",
    "cur.execute(q)\n",
    "con.commit()"
   ]
  },
  {
   "cell_type": "code",
   "execution_count": 26,
   "metadata": {},
   "outputs": [],
   "source": [
    "q=\"delete from customer where id=20\"\n",
    "cur.execute(q)\n",
    "con.commit()"
   ]
  },
  {
   "cell_type": "code",
   "execution_count": 1,
   "metadata": {},
   "outputs": [],
   "source": [
    "import psycopg2"
   ]
  },
  {
   "cell_type": "code",
   "execution_count": 2,
   "metadata": {},
   "outputs": [],
   "source": [
    "con=psycopg2.connect(host=\"localhost\",user=\"postgres\",password=\"root\",port=5432,database=\"batch54\")"
   ]
  },
  {
   "cell_type": "code",
   "execution_count": 3,
   "metadata": {},
   "outputs": [],
   "source": [
    "cur=con.cursor()"
   ]
  },
  {
   "cell_type": "code",
   "execution_count": 4,
   "metadata": {},
   "outputs": [],
   "source": [
    "q=\"create table customer(id int,name varchar(250))\"\n",
    "cur.execute(q)\n",
    "import random\n",
    "names=[\"samba\",\"abhi\",\"aneel\",\"nithin\",\"mohan\",\"anand\"]\n",
    "for i in range(1,1001):\n",
    "    q=\"insert into customer(id,name) values(%s,'%s')\"%(i,random.choice(names))\n",
    "    cur.execute(q)\n",
    "con.commit()"
   ]
  },
  {
   "cell_type": "code",
   "execution_count": null,
   "metadata": {},
   "outputs": [],
   "source": [
    "\"\"\"\n",
    "1.login\n",
    "2.register\n",
    "\n",
    "1.createcustomer\n",
    "2.updatecustomer\n",
    "3.delete customer\n",
    "4. reports\n",
    "\"\"\""
   ]
  }
 ],
 "metadata": {
  "kernelspec": {
   "display_name": "Python 3",
   "language": "python",
   "name": "python3"
  },
  "language_info": {
   "codemirror_mode": {
    "name": "ipython",
    "version": 3
   },
   "file_extension": ".py",
   "mimetype": "text/x-python",
   "name": "python",
   "nbconvert_exporter": "python",
   "pygments_lexer": "ipython3",
   "version": "3.7.0"
  }
 },
 "nbformat": 4,
 "nbformat_minor": 2
}
